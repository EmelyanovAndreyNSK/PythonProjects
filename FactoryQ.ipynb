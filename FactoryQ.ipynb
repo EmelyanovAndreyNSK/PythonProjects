{
  "nbformat": 4,
  "nbformat_minor": 0,
  "metadata": {
    "colab": {
      "name": "FactoryQ.ipynb",
      "provenance": [],
      "authorship_tag": "ABX9TyNNDYbJBnxLrvr81Bwp1lJV",
      "include_colab_link": true
    },
    "kernelspec": {
      "name": "python3",
      "display_name": "Python 3"
    }
  },
  "cells": [
    {
      "cell_type": "markdown",
      "metadata": {
        "id": "view-in-github",
        "colab_type": "text"
      },
      "source": [
        "<a href=\"https://colab.research.google.com/github/EmelyanovAndreyNSK/PythonTasks/blob/master/FactoryQ.ipynb\" target=\"_parent\"><img src=\"https://colab.research.google.com/assets/colab-badge.svg\" alt=\"Open In Colab\"/></a>"
      ]
    },
    {
      "cell_type": "markdown",
      "metadata": {
        "id": "ffoTJj0j8qKk"
      },
      "source": [
        "Распределительная задача. \n",
        "\n",
        "Завод может производить $Y$ видов продукции. На продукцию есть покупатель, которому требуется определенное количество каждого вида: $m_i$ \n",
        "\n",
        "Для каждого вида продукции он либо покупает требуемое количество, либо не покупает совсем, если мы произвели недостаточно. При этом известна цена контракта на каждый вид продукции: $c_i$ \n",
        "\n",
        "Завод одновременно может выпускать только один вид продукции со скоростью: $p_i$\n",
        "\n",
        "Требуется написать математическую модель и найти оптимальный план производства на $S$ суток, если известно, что переход от одной продукции к другой происходит мгновенно, а его стоимость $R$ рублей.\n",
        "\n",
        "\n",
        "Запишем математическую модель.\n",
        "\n",
        "Введем переменные:\n",
        "\n",
        "$ x_{i} = \\left\\{\n",
        "\\begin{array}{ll}\n",
        "          1, & \\mbox { если выполняем контракт на $i$ вид продукции,}\\\\\n",
        "          0, & \\mbox { в противном случае. } \\\\\n",
        "\\end{array} \\right. $\n",
        "\n",
        "Договоримся о входных данных:\n",
        "\n",
        "$Y$ - множество видов продукции;\n",
        "\n",
        "$m_i$ - необходимый объем $i$ продукции для выполнения контракта;\n",
        "\n",
        "$p_i$ - скорость производства $i$ продукции;\n",
        "\n",
        "$c_i$ - стоимость контракта на $i$ продукцию.\n",
        "\n",
        "Математическая модель:\n",
        "\n",
        "Целевая функция:\n",
        "\n",
        "$$\\sum\\limits_{i = 0}^{I} c_i x_i - R((\\sum\\limits_{i = 0}^{I} x_i)-1) \\to \\max_{x}$$\n",
        "\n",
        "Ограничения:\n",
        "\n",
        "$$x_i \\in \\mathbb B, \\forall i \\in I $$\n",
        "\n",
        "$$\\sum\\limits_{i = 0}^{I} (m_i /p_i) x_i \\leqslant S $$\n"
      ]
    },
    {
      "cell_type": "code",
      "metadata": {
        "id": "r6YttkjL8whC",
        "outputId": "cae75f3b-63c2-4038-b4f6-991ad9112f4b",
        "colab": {
          "base_uri": "https://localhost:8080/",
          "height": 406
        }
      },
      "source": [
        "!pip install pulp\n",
        "!pip install cplex"
      ],
      "execution_count": 1,
      "outputs": [
        {
          "output_type": "stream",
          "text": [
            "Collecting pulp\n",
            "\u001b[?25l  Downloading https://files.pythonhosted.org/packages/c3/22/5743d7b5d69f84fb63a0b4925862522dbf80e82defcd0c447afb694f3fd0/PuLP-2.3-py3-none-any.whl (40.6MB)\n",
            "\u001b[K     |████████████████████████████████| 40.6MB 100kB/s \n",
            "\u001b[?25hCollecting amply>=0.1.2\n",
            "  Downloading https://files.pythonhosted.org/packages/7f/11/33cb09557ac838d9488779b79e05a2a3c1f3ce9747cd242ba68332736778/amply-0.1.2.tar.gz\n",
            "  Installing build dependencies ... \u001b[?25l\u001b[?25hdone\n",
            "  Getting requirements to build wheel ... \u001b[?25l\u001b[?25hdone\n",
            "    Preparing wheel metadata ... \u001b[?25l\u001b[?25hdone\n",
            "Requirement already satisfied: pyparsing in /usr/local/lib/python3.6/dist-packages (from amply>=0.1.2->pulp) (2.4.7)\n",
            "Requirement already satisfied: docutils>=0.3 in /usr/local/lib/python3.6/dist-packages (from amply>=0.1.2->pulp) (0.15.2)\n",
            "Building wheels for collected packages: amply\n",
            "  Building wheel for amply (PEP 517) ... \u001b[?25l\u001b[?25hdone\n",
            "  Created wheel for amply: filename=amply-0.1.2-cp36-none-any.whl size=16573 sha256=97ad464485ba4451ec0d37c262c241fb34ff095bf853378602874f23077053be\n",
            "  Stored in directory: /root/.cache/pip/wheels/84/18/f7/e5c3ed13ed5bb721763f77d4a924331d59ef115ce61c9d26eb\n",
            "Successfully built amply\n",
            "Installing collected packages: amply, pulp\n",
            "Successfully installed amply-0.1.2 pulp-2.3\n",
            "Collecting cplex\n",
            "\u001b[?25l  Downloading https://files.pythonhosted.org/packages/69/65/75bc076bec7a29ac65c9a8049d66effbf84db40d6f4f8e8137e9c9eaeb15/cplex-12.10.0.3-cp36-cp36m-manylinux1_x86_64.whl (31.0MB)\n",
            "\u001b[K     |████████████████████████████████| 31.0MB 103kB/s \n",
            "\u001b[?25hInstalling collected packages: cplex\n",
            "Successfully installed cplex-12.10.0.3\n"
          ],
          "name": "stdout"
        }
      ]
    },
    {
      "cell_type": "code",
      "metadata": {
        "id": "XPWyWfbM82vB"
      },
      "source": [
        "import numpy as np\n",
        "import time\n",
        "from random import randrange\n",
        "import pulp as plp"
      ],
      "execution_count": 2,
      "outputs": []
    },
    {
      "cell_type": "code",
      "metadata": {
        "id": "W60jiybu844e"
      },
      "source": [
        "Y = 3 \n",
        "R = 1 \n",
        "S = 10\n",
        "m = [10, 20, 30]\n",
        "p = [25, 30, 35]\n",
        "c = [15, 20, 25]"
      ],
      "execution_count": 12,
      "outputs": []
    },
    {
      "cell_type": "code",
      "metadata": {
        "id": "aXRSZ5XF88ma",
        "outputId": "e6c95199-fdbe-4cc4-9dec-a59bdaf97cb7",
        "colab": {
          "base_uri": "https://localhost:8080/",
          "height": 202
        }
      },
      "source": [
        "def signum (a):\n",
        "  if a >=1:\n",
        "    return 1\n",
        "  else: \n",
        "    return 0\n",
        "\n",
        "problem = plp.LpProblem(name='FactoryProblem', sense=plp.LpMaximize)\n",
        "x  = {i : plp.LpVariable(cat=plp.LpInteger, name=\"x\"+str(i)) for i in range(Y)}\n",
        "\n",
        "problem.addConstraint(plp.LpConstraint(e=plp.lpSum((m[i]/p[i]) * x[i] for i in range(Y)),\n",
        "                     sense=plp.LpConstraintLE,\n",
        "                     rhs=S ,\n",
        "                     name=\"constraint_{1}\"))\n",
        "\n",
        "problem.setObjective(plp.lpSum(c[i] * x[i] for i in range(Y))-R*(plp.lpSum(signum(x[i]) for i in range(Y))-1))\n",
        "print(problem)"
      ],
      "execution_count": 31,
      "outputs": [
        {
          "output_type": "stream",
          "text": [
            "FactoryProblem:\n",
            "MAXIMIZE\n",
            "15*x0 + 20*x1 + 25*x2 + -2\n",
            "SUBJECT TO\n",
            "constraint_{1}: 0.4 x0 + 0.666666666667 x1 + 0.857142857143 x2 <= 10\n",
            "\n",
            "VARIABLES\n",
            "x0 free Integer\n",
            "x1 free Integer\n",
            "x2 free Integer\n",
            "\n"
          ],
          "name": "stdout"
        }
      ]
    },
    {
      "cell_type": "code",
      "metadata": {
        "id": "pZ9-H5C18_ru",
        "outputId": "2d5acf69-5c77-4e28-ac37-188d907bbed8",
        "colab": {
          "base_uri": "https://localhost:8080/",
          "height": 54
        }
      },
      "source": [
        "solver_list = plp.list_solvers()\n",
        "print(solver_list)"
      ],
      "execution_count": 32,
      "outputs": [
        {
          "output_type": "stream",
          "text": [
            "['GLPK_CMD', 'PYGLPK', 'CPLEX_CMD', 'CPLEX_PY', 'CPLEX_DLL', 'GUROBI', 'GUROBI_CMD', 'MOSEK', 'XPRESS', 'PULP_CBC_CMD', 'COIN_CMD', 'COINMP_DLL', 'CHOCO_CMD', 'PULP_CHOCO_CMD', 'MIPCL_CMD', 'SCIP_CMD']\n"
          ],
          "name": "stdout"
        }
      ]
    },
    {
      "cell_type": "code",
      "metadata": {
        "id": "4dxklZWV9Cki",
        "outputId": "af605fe6-f271-4cec-a217-106bb0f169af",
        "colab": {
          "base_uri": "https://localhost:8080/",
          "height": 34
        }
      },
      "source": [
        "def experiment(name, solver):\n",
        "    start = time.time()\n",
        "    problem.solve(solver)\n",
        "    answer = plp.value(problem.objective)\n",
        "    print(f\"{name} solved {time.time() - start}  answer : {answer}\")\n",
        "    \n",
        "#experiment('Gurobi', plp.get_solver('GUROBI', msg=False))\n",
        "#experiment('CPLEX', plp.get_solver('CPLEX_PY', msg=False))\n",
        "#experiment('GLPK', plp.get_solver('GLPK_CMD', path=\"C:\\GRB\\winglpk-4.65\\glpk-4.65\\w64\\glpsol.exe\", msg=False))\n",
        "experiment('PULP', plp.get_solver('PULP_CBC_CMD', msg=False))"
      ],
      "execution_count": 33,
      "outputs": [
        {
          "output_type": "stream",
          "text": [
            "PULP solved 0.0169980525970459  answer : 373.0\n"
          ],
          "name": "stdout"
        }
      ]
    },
    {
      "cell_type": "code",
      "metadata": {
        "id": "2g4fkAL59FKC",
        "outputId": "d05b6897-817c-47f7-8649-77d47210fae6",
        "colab": {
          "base_uri": "https://localhost:8080/",
          "height": 67
        }
      },
      "source": [
        "for v in problem.variables():\n",
        "            print(v.name, \"=\", v.varValue)"
      ],
      "execution_count": 34,
      "outputs": [
        {
          "output_type": "stream",
          "text": [
            "x0 = 25.0\n",
            "x1 = 0.0\n",
            "x2 = 0.0\n"
          ],
          "name": "stdout"
        }
      ]
    },
    {
      "cell_type": "code",
      "metadata": {
        "id": "jdjTDqk79HA8",
        "outputId": "6f5bcb63-d417-4f2f-a70c-745980ef53cf",
        "colab": {
          "base_uri": "https://localhost:8080/",
          "height": 34
        }
      },
      "source": [
        "def experiment(name, solver, timeLimit):\n",
        "    times = []\n",
        "    start = time.time()\n",
        "    current = start\n",
        "    while current - start <= timeLimit:\n",
        "        problem.solve(solver)\n",
        "        startIter, current = current, time.time()\n",
        "        times.append(current - startIter)\n",
        "    \n",
        "    answer = plp.value(problem.objective)\n",
        "    print(f\"{name} solved {len(times) - 1} instances \"\n",
        "          f\"in {timeLimit} seconds answer : {answer}\")\n",
        "\n",
        "    \n",
        "#experiment('Gurobi', plp.get_solver('GUROBI', msg=False), 120)\n",
        "#experiment('CPLEX', plp.get_solver('CPLEX_PY', msg=False), 120)\n",
        "#experiment('GLPK', plp.get_solver('GLPK_CMD', path=\"C:\\GRB\\winglpk-4.65\\glpk-4.65\\w64\\glpsol.exe\", msg=False), 120)\n",
        "experiment('PULP', plp.get_solver('PULP_CBC_CMD', msg=False), 120)"
      ],
      "execution_count": 35,
      "outputs": [
        {
          "output_type": "stream",
          "text": [
            "PULP solved 12590 instances in 120 seconds answer : 373.0\n"
          ],
          "name": "stdout"
        }
      ]
    },
    {
      "cell_type": "code",
      "metadata": {
        "id": "V6elpyAN9JoP"
      },
      "source": [
        ""
      ],
      "execution_count": null,
      "outputs": []
    }
  ]
}