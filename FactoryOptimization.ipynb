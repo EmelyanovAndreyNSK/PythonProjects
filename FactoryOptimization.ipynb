{
  "nbformat": 4,
  "nbformat_minor": 0,
  "metadata": {
    "colab": {
      "name": "FactoryOptimization.ipynb",
      "provenance": [],
      "authorship_tag": "ABX9TyPYF3VX00krfkEoUWIaVY3+",
      "include_colab_link": true
    },
    "kernelspec": {
      "name": "python3",
      "display_name": "Python 3"
    }
  },
  "cells": [
    {
      "cell_type": "markdown",
      "metadata": {
        "id": "view-in-github",
        "colab_type": "text"
      },
      "source": [
        "<a href=\"https://colab.research.google.com/github/EmelyanovAndreyNSK/PythonTasks/blob/master/FactoryOptimization.ipynb\" target=\"_parent\"><img src=\"https://colab.research.google.com/assets/colab-badge.svg\" alt=\"Open In Colab\"/></a>"
      ]
    },
    {
      "cell_type": "markdown",
      "metadata": {
        "id": "KPHh2OUBImY6",
        "colab_type": "text"
      },
      "source": [
        "Распределительная задача. \n",
        "\n",
        "Завод может производить $Y$ видов продукции. На продукцию есть покупатель, которому требуется определенное количество каждого вида: $m_i$ \n",
        "\n",
        "Для каждого вида продукции он либо покупает требуемое количество, либо не покупает совсем, если мы произвели недостаточно. При этом известна цена контракта на каждый вид продукции: $c_i$ \n",
        "\n",
        "Завод одновременно может выпускать только один вид продукции со скоростью: $p_i$\n",
        "\n",
        "Требуется написать математическую модель и найти оптимальный план производства на $S$ суток, если известно, что переход от одной продукции к другой происходит мгновенно, а его стоимость $R$ рублей.\n",
        "\n",
        "\n",
        "Запишем математическую модель.\n",
        "\n",
        "Введем переменные:\n",
        "\n",
        "$ x_{i} = \\left\\{\n",
        "\\begin{array}{ll}\n",
        "          1, & \\mbox { если выполняем контракт на $i$ вид продукции,}\\\\\n",
        "          0, & \\mbox { в противном случае. } \\\\\n",
        "\\end{array} \\right. $\n",
        "\n",
        "Договоримся о входных данных:\n",
        "\n",
        "$Y$ - множество видов продукции;\n",
        "\n",
        "$m_i$ - необходимый объем $i$ продукции для выполнения контракта;\n",
        "\n",
        "$p_i$ - скорость производства $i$ продукции;\n",
        "\n",
        "$c_i$ - стоимость контракта на $i$ продукцию.\n",
        "\n",
        "Математическая модель:\n",
        "\n",
        "Целевая функция:\n",
        "\n",
        "$$\\sum\\limits_{i = 0}^{I} c_i x_i - R((\\sum\\limits_{i = 0}^{I} x_i)-1) \\to \\max_{x}$$\n",
        "\n",
        "Ограничения:\n",
        "\n",
        "$$x_i \\in \\mathbb B, \\forall i \\in I $$\n",
        "\n",
        "$$\\sum\\limits_{i = 0}^{I} (m_i /p_i) x_i \\leqslant S $$"
      ]
    },
    {
      "cell_type": "code",
      "metadata": {
        "id": "9YgKLVtHItOG",
        "colab_type": "code",
        "colab": {
          "base_uri": "https://localhost:8080/",
          "height": 101
        },
        "outputId": "f43d1995-675a-4b02-aa06-5bada988149a"
      },
      "source": [
        "!pip install pulp\n",
        "!pip install cplex"
      ],
      "execution_count": 35,
      "outputs": [
        {
          "output_type": "stream",
          "text": [
            "Requirement already satisfied: pulp in /usr/local/lib/python3.6/dist-packages (2.3)\n",
            "Requirement already satisfied: amply>=0.1.2 in /usr/local/lib/python3.6/dist-packages (from pulp) (0.1.2)\n",
            "Requirement already satisfied: docutils>=0.3 in /usr/local/lib/python3.6/dist-packages (from amply>=0.1.2->pulp) (0.15.2)\n",
            "Requirement already satisfied: pyparsing in /usr/local/lib/python3.6/dist-packages (from amply>=0.1.2->pulp) (2.4.7)\n",
            "Requirement already satisfied: cplex in /usr/local/lib/python3.6/dist-packages (12.10.0.3)\n"
          ],
          "name": "stdout"
        }
      ]
    },
    {
      "cell_type": "code",
      "metadata": {
        "id": "8yoydxkOIw4k",
        "colab_type": "code",
        "colab": {}
      },
      "source": [
        "import numpy as np\n",
        "import time\n",
        "from random import randrange\n",
        "import pulp as plp"
      ],
      "execution_count": 36,
      "outputs": []
    },
    {
      "cell_type": "code",
      "metadata": {
        "id": "tPzXYwb5Izyk",
        "colab_type": "code",
        "colab": {}
      },
      "source": [
        "Y = 10 \n",
        "R = 49 \n",
        "S = 17\n",
        "m = [51, 42, 67, 25, 54, 20, 31, 57, 52, 52]\n",
        "p = [27, 19, 23, 24, 23, 25, 19, 16, 15, 27]\n",
        "c = [412, 405, 436, 677, 643, 686, 685, 602, 525, 458]"
      ],
      "execution_count": 48,
      "outputs": []
    },
    {
      "cell_type": "code",
      "metadata": {
        "id": "HFUkWI50I18x",
        "colab_type": "code",
        "colab": {
          "base_uri": "https://localhost:8080/",
          "height": 353
        },
        "outputId": "4396530b-e021-4f1f-af51-642c57a35139"
      },
      "source": [
        "problem = plp.LpProblem(name='FactoryProblem', sense=plp.LpMaximize)\n",
        "x  = {i : plp.LpVariable(cat=plp.LpBinary, name=\"x\"+str(i)) for i in range(Y)}\n",
        "\n",
        "problem.addConstraint(plp.LpConstraint(\n",
        "                     e=plp.lpSum((m[i]/p[i]) * x[i] for i in range(Y)),\n",
        "                     sense=plp.LpConstraintLE,\n",
        "                     rhs=S ,\n",
        "                     name=\"constraint_{1}\"))\n",
        "\n",
        "problem.setObjective(plp.lpSum(c[i] * x[i] for i in range(Y))-R*(plp.lpSum(x[i] for i in range(Y))-1))\n",
        "print(problem)"
      ],
      "execution_count": 49,
      "outputs": [
        {
          "output_type": "stream",
          "text": [
            "FactoryProblem:\n",
            "MAXIMIZE\n",
            "363*x0 + 356*x1 + 387*x2 + 628*x3 + 594*x4 + 637*x5 + 636*x6 + 553*x7 + 476*x8 + 409*x9 + 49\n",
            "SUBJECT TO\n",
            "constraint_{1}: 1.88888888889 x0 + 2.21052631579 x1 + 2.91304347826 x2\n",
            " + 1.04166666667 x3 + 2.34782608696 x4 + 0.8 x5 + 1.63157894737 x6 + 3.5625 x7\n",
            " + 3.46666666667 x8 + 1.92592592593 x9 <= 17\n",
            "\n",
            "VARIABLES\n",
            "0 <= x0 <= 1 Integer\n",
            "0 <= x1 <= 1 Integer\n",
            "0 <= x2 <= 1 Integer\n",
            "0 <= x3 <= 1 Integer\n",
            "0 <= x4 <= 1 Integer\n",
            "0 <= x5 <= 1 Integer\n",
            "0 <= x6 <= 1 Integer\n",
            "0 <= x7 <= 1 Integer\n",
            "0 <= x8 <= 1 Integer\n",
            "0 <= x9 <= 1 Integer\n",
            "\n"
          ],
          "name": "stdout"
        }
      ]
    },
    {
      "cell_type": "code",
      "metadata": {
        "id": "2rGK5Q78I4iY",
        "colab_type": "code",
        "colab": {
          "base_uri": "https://localhost:8080/",
          "height": 54
        },
        "outputId": "2c53fa33-00c9-41cb-965b-f79bf8fae2c8"
      },
      "source": [
        "solver_list = plp.list_solvers()\n",
        "print(solver_list)"
      ],
      "execution_count": 50,
      "outputs": [
        {
          "output_type": "stream",
          "text": [
            "['GLPK_CMD', 'PYGLPK', 'CPLEX_CMD', 'CPLEX_PY', 'CPLEX_DLL', 'GUROBI', 'GUROBI_CMD', 'MOSEK', 'XPRESS', 'PULP_CBC_CMD', 'COIN_CMD', 'COINMP_DLL', 'CHOCO_CMD', 'PULP_CHOCO_CMD', 'MIPCL_CMD', 'SCIP_CMD']\n"
          ],
          "name": "stdout"
        }
      ]
    },
    {
      "cell_type": "code",
      "metadata": {
        "id": "sfcOAgCsI8_5",
        "colab_type": "code",
        "colab": {
          "base_uri": "https://localhost:8080/",
          "height": 50
        },
        "outputId": "e7082daa-53bf-4b3d-e95a-b77702051c24"
      },
      "source": [
        "def experiment(name, solver):\n",
        "    start = time.time()\n",
        "    problem.solve(solver)\n",
        "    answer = plp.value(problem.objective)\n",
        "    print(f\"{name} solved {time.time() - start}  answer : {answer}\")\n",
        "    \n",
        "#experiment('Gurobi', plp.get_solver('GUROBI', msg=False))\n",
        "experiment('CPLEX', plp.get_solver('CPLEX_PY', msg=False))\n",
        "#experiment('GLPK', plp.get_solver('GLPK_CMD', path=\"C:\\GRB\\winglpk-4.65\\glpk-4.65\\w64\\glpsol.exe\", msg=False))\n",
        "experiment('PULP', plp.get_solver('PULP_CBC_CMD', msg=False))"
      ],
      "execution_count": 51,
      "outputs": [
        {
          "output_type": "stream",
          "text": [
            "CPLEX solved 0.020369768142700195  answer : 4345.0\n",
            "PULP solved 0.025779247283935547  answer : 4345.0\n"
          ],
          "name": "stdout"
        }
      ]
    },
    {
      "cell_type": "code",
      "metadata": {
        "id": "l2fWxHMvI_Kk",
        "colab_type": "code",
        "colab": {
          "base_uri": "https://localhost:8080/",
          "height": 185
        },
        "outputId": "4d256133-813a-48e0-f6b6-d91d394e3f77"
      },
      "source": [
        "for v in problem.variables():\n",
        "            print(v.name, \"=\", v.varValue)"
      ],
      "execution_count": 52,
      "outputs": [
        {
          "output_type": "stream",
          "text": [
            "x0 = 1.0\n",
            "x1 = 0.0\n",
            "x2 = 0.0\n",
            "x3 = 1.0\n",
            "x4 = 1.0\n",
            "x5 = 1.0\n",
            "x6 = 1.0\n",
            "x7 = 1.0\n",
            "x8 = 1.0\n",
            "x9 = 1.0\n"
          ],
          "name": "stdout"
        }
      ]
    },
    {
      "cell_type": "code",
      "metadata": {
        "id": "6gqNhNA5JBaH",
        "colab_type": "code",
        "colab": {
          "base_uri": "https://localhost:8080/",
          "height": 50
        },
        "outputId": "c6b169b7-d097-48df-f670-631c17ebd50a"
      },
      "source": [
        "def experiment(name, solver, timeLimit):\n",
        "    times = []\n",
        "    start = time.time()\n",
        "    current = start\n",
        "    while current - start <= timeLimit:\n",
        "        problem.solve(solver)\n",
        "        startIter, current = current, time.time()\n",
        "        times.append(current - startIter)\n",
        "    \n",
        "    answer = plp.value(problem.objective)\n",
        "    print(f\"{name} solved {len(times) - 1} instances \"\n",
        "          f\"in {timeLimit} seconds answer : {answer}\")\n",
        "\n",
        "    \n",
        "#experiment('Gurobi', plp.get_solver('GUROBI', msg=False), 120)\n",
        "experiment('CPLEX', plp.get_solver('CPLEX_PY', msg=False), 120)\n",
        "#experiment('GLPK', plp.get_solver('GLPK_CMD', path=\"C:\\GRB\\winglpk-4.65\\glpk-4.65\\w64\\glpsol.exe\", msg=False), 120)\n",
        "experiment('PULP', plp.get_solver('PULP_CBC_CMD', msg=False), 120)"
      ],
      "execution_count": 53,
      "outputs": [
        {
          "output_type": "stream",
          "text": [
            "CPLEX solved 12979 instances in 120 seconds answer : 4345.0\n",
            "PULP solved 6687 instances in 120 seconds answer : 4345.0\n"
          ],
          "name": "stdout"
        }
      ]
    }
  ]
}