{
  "nbformat": 4,
  "nbformat_minor": 0,
  "metadata": {
    "kernelspec": {
      "display_name": "Python 3",
      "language": "python",
      "name": "python3"
    },
    "language_info": {
      "codemirror_mode": {
        "name": "ipython",
        "version": 3
      },
      "file_extension": ".py",
      "mimetype": "text/x-python",
      "name": "python",
      "nbconvert_exporter": "python",
      "pygments_lexer": "ipython3",
      "version": "3.7.3"
    },
    "colab": {
      "name": "BAG_PULP.ipynb",
      "provenance": [],
      "include_colab_link": true
    }
  },
  "cells": [
    {
      "cell_type": "markdown",
      "metadata": {
        "id": "view-in-github",
        "colab_type": "text"
      },
      "source": [
        "<a href=\"https://colab.research.google.com/github/EmelyanovAndreyNSK/PythonTasks/blob/master/BAG_PULP_1.ipynb\" target=\"_parent\"><img src=\"https://colab.research.google.com/assets/colab-badge.svg\" alt=\"Open In Colab\"/></a>"
      ]
    },
    {
      "cell_type": "markdown",
      "metadata": {
        "id": "cyfbwDvVJHpz",
        "colab_type": "text"
      },
      "source": [
        "Задача о ранце. \n",
        "\n",
        "Есть некоторый рюкзак с объемом $B$, есть предметы $i \\in SUBJECT$ с различной стоимостью $c_i$ и весом $b_i$. Требуется найти оптимальное с точки зрения максимизации итоговой стоимости рюкзака решение, какие предметы взять.\n",
        "\n",
        "Запишем математическую модель.\n",
        "\n",
        "Введем переменные:\n",
        "\n",
        "$ x_{i} = \\left\\{\n",
        "\\begin{array}{ll}\n",
        "          1, & \\mbox { если берем $i$ предмет в рюкзак,}\\\\\n",
        "          0, & \\mbox { в противном случае. } \\\\\n",
        "\\end{array} \\right. $\n",
        "\n",
        "Договоримся о входных данных:\n",
        "\n",
        "$I$ - множество предметов;\n",
        "\n",
        "$b_i$ - вес $i$ предмета;\n",
        "\n",
        "$c_i$ - стоимость $i$ предмета.\n",
        "\n",
        "Математическая модель:\n",
        "\n",
        "Целевая функция:\n",
        "\n",
        "$$\\sum\\limits_{i = 0}^{I} c_i x_i \\to \\max_{x}$$\n",
        "\n",
        "Ограничения:\n",
        "\n",
        "$$x_i \\in \\mathbb B, \\forall i \\in I $$\n",
        "\n",
        "$$\\sum\\limits_{i = 0}^{I} b_i x_i \\leqslant B $$"
      ]
    },
    {
      "cell_type": "code",
      "metadata": {
        "id": "dNGfs33uJ0Vf",
        "colab_type": "code",
        "colab": {}
      },
      "source": [
        "!pip install pulp\n",
        "!pip install cplex"
      ],
      "execution_count": null,
      "outputs": []
    },
    {
      "cell_type": "code",
      "metadata": {
        "id": "Wq2l37mGJHp3",
        "colab_type": "code",
        "colab": {}
      },
      "source": [
        "#import gurobipy as gp\n",
        "#from gurobipy import GRB\n",
        "import numpy as np\n",
        "import time\n",
        "from random import randrange\n",
        "import pulp as plp"
      ],
      "execution_count": null,
      "outputs": []
    },
    {
      "cell_type": "code",
      "metadata": {
        "id": "Xt0QMLI5JHqG",
        "colab_type": "code",
        "colab": {}
      },
      "source": [
        "I = 50\n",
        "B = 100\n",
        "c = np.random.randint(50, 70, I)\n",
        "b = np.random.randint(1, 10, I)"
      ],
      "execution_count": null,
      "outputs": []
    },
    {
      "cell_type": "code",
      "metadata": {
        "id": "nWvlA8oWJHqT",
        "colab_type": "code",
        "colab": {}
      },
      "source": [
        "problem = plp.LpProblem(name='BagProblem', sense=plp.LpMaximize)\n",
        "x  = {i : plp.LpVariable(cat=plp.LpBinary, name=\"x\"+str(i)) for i in range(I)}\n",
        "\n",
        "problem.addConstraint(plp.LpConstraint(\n",
        "                     e=plp.lpSum(b[i] * x[i] for i in range(I)),\n",
        "                     sense=plp.LpConstraintLE,\n",
        "                     rhs=B ,\n",
        "                     name=\"constraint_{1}\"))\n",
        "\n",
        "problem.setObjective(plp.lpSum(c[i] * x[i] for i in range(I)))\n",
        "print(problem)"
      ],
      "execution_count": null,
      "outputs": []
    },
    {
      "cell_type": "code",
      "metadata": {
        "id": "vfl0D0s-JHqb",
        "colab_type": "code",
        "colab": {}
      },
      "source": [
        "solver_list = plp.list_solvers()\n",
        "print(solver_list)"
      ],
      "execution_count": null,
      "outputs": []
    },
    {
      "cell_type": "code",
      "metadata": {
        "id": "o3i2rtRsJHql",
        "colab_type": "code",
        "colab": {}
      },
      "source": [
        "def experiment(name, solver):\n",
        "    start = time.time()\n",
        "    problem.solve(solver)\n",
        "    answer = plp.value(problem.objective)\n",
        "    print(f\"{name} solved {time.time() - start}  answer : {answer}\")\n",
        "    \n",
        "#experiment('Gurobi', plp.get_solver('GUROBI', msg=False))\n",
        "experiment('CPLEX', plp.get_solver('CPLEX_PY', msg=False))\n",
        "#experiment('GLPK', plp.get_solver('GLPK_CMD', path=\"C:\\GRB\\winglpk-4.65\\glpk-4.65\\w64\\glpsol.exe\", msg=False))\n",
        "experiment('PULP', plp.get_solver('PULP_CBC_CMD', msg=False))"
      ],
      "execution_count": null,
      "outputs": []
    },
    {
      "cell_type": "code",
      "metadata": {
        "id": "gf_3gEg9LXcV",
        "colab_type": "code",
        "colab": {}
      },
      "source": [
        " for v in problem.variables():\n",
        "            print(v.name, \"=\", v.varValue)"
      ],
      "execution_count": null,
      "outputs": []
    },
    {
      "cell_type": "code",
      "metadata": {
        "id": "jsSBb_caJHqs",
        "colab_type": "code",
        "colab": {}
      },
      "source": [
        "def experiment(name, solver, timeLimit):\n",
        "    times = []\n",
        "    start = time.time()\n",
        "    current = start\n",
        "    while current - start <= timeLimit:\n",
        "        problem.solve(solver)\n",
        "        startIter, current = current, time.time()\n",
        "        times.append(current - startIter)\n",
        "    \n",
        "    answer = plp.value(problem.objective)\n",
        "    print(f\"{name} solved {len(times) - 1} instances \"\n",
        "          f\"in {timeLimit} seconds answer : {answer}\")\n",
        "\n",
        "    \n",
        "experiment('Gurobi', plp.get_solver('GUROBI', msg=False), 120)\n",
        "experiment('CPLEX', plp.get_solver('CPLEX_PY', msg=False), 120)\n",
        "experiment('GLPK', plp.get_solver('GLPK_CMD', path=\"C:\\GRB\\winglpk-4.65\\glpk-4.65\\w64\\glpsol.exe\", msg=False), 120)\n",
        "experiment('PULP', plp.get_solver('PULP_CBC_CMD', msg=False), 120)"
      ],
      "execution_count": null,
      "outputs": []
    },
    {
      "cell_type": "code",
      "metadata": {
        "id": "Bd7poInMJHq2",
        "colab_type": "code",
        "colab": {}
      },
      "source": [
        ""
      ],
      "execution_count": null,
      "outputs": []
    }
  ]
}