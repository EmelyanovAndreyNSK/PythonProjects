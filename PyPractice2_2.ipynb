{
  "nbformat": 4,
  "nbformat_minor": 0,
  "metadata": {
    "colab": {
      "name": "PyPractice2_2.ipynb",
      "provenance": [],
      "collapsed_sections": [],
      "authorship_tag": "ABX9TyNz5KMsqg9sz0TeqL2ObH06",
      "include_colab_link": true
    },
    "kernelspec": {
      "name": "python3",
      "display_name": "Python 3"
    }
  },
  "cells": [
    {
      "cell_type": "markdown",
      "metadata": {
        "id": "view-in-github",
        "colab_type": "text"
      },
      "source": [
        "<a href=\"https://colab.research.google.com/github/EmelyanovAndreyNSK/PythonTasks/blob/master/PyPractice2_2.ipynb\" target=\"_parent\"><img src=\"https://colab.research.google.com/assets/colab-badge.svg\" alt=\"Open In Colab\"/></a>"
      ]
    },
    {
      "cell_type": "code",
      "metadata": {
        "id": "3dBEoDGBE7CN",
        "colab_type": "code",
        "colab": {
          "base_uri": "https://localhost:8080/",
          "height": 34
        },
        "outputId": "507552e6-3fbc-4814-be5b-14bf0a4599bb"
      },
      "source": [
        "keys = ['Ten', 'Twenty', 'Thirty']\n",
        "values = ['10','20','30']\n",
        "dictionary = {}\n",
        "\n",
        "dictionary = dict(zip(keys, values)) #Below are the two lists convert it into the dictionary\n",
        "\n",
        "print(dictionary)\n"
      ],
      "execution_count": 15,
      "outputs": [
        {
          "output_type": "stream",
          "text": [
            "{'Ten': '10', 'Twenty': '20', 'Thirty': '30'}\n"
          ],
          "name": "stdout"
        }
      ]
    },
    {
      "cell_type": "code",
      "metadata": {
        "id": "MiUZQ72iXF4q",
        "colab_type": "code",
        "colab": {
          "base_uri": "https://localhost:8080/",
          "height": 34
        },
        "outputId": "ab4aab7d-1fcf-49c8-ad70-7c4f959cb9dc"
      },
      "source": [
        "def merge_dicts(*dict_args): #Given any number of dicts, shallow copy and merge into a new dict, precedence goes to key value pairs in latter dicts.\n",
        "  result = {}\n",
        "\n",
        "  for dictionary in dict_args:\n",
        "      result.update(dictionary)\n",
        "  return result\n",
        "\n",
        "a = {'Ten': '10', 'Twenty': '20', 'Thirty': '30'}\n",
        "b = {'Thirty': '30', 'Fourty': '40', 'Fifty': '50' }\n",
        "\n",
        "z = merge_dicts(a, b) \n",
        "print (z)\n",
        "\n"
      ],
      "execution_count": 17,
      "outputs": [
        {
          "output_type": "stream",
          "text": [
            "{'Ten': '10', 'Twenty': '20', 'Thirty': '30', 'Fourty': '40', 'Fifty': '50'}\n"
          ],
          "name": "stdout"
        }
      ]
    },
    {
      "cell_type": "code",
      "metadata": {
        "id": "9b677ezTigZE",
        "colab_type": "code",
        "colab": {
          "base_uri": "https://localhost:8080/",
          "height": 34
        },
        "outputId": "b487962e-a2d0-40c2-9398-a247f680c216"
      },
      "source": [
        "sampleDict = { \n",
        "   \"class\":{ \n",
        "      \"student\":{ \n",
        "         \"name\":\"Mike\",\n",
        "         \"marks\":{ \n",
        "            \"physics\":70,\n",
        "            \"history\":80\n",
        "         }\n",
        "      }\n",
        "   }\n",
        "}\n",
        "print(sampleDict['class']['student']['marks']['history']) #Access the value of key ‘history’"
      ],
      "execution_count": 10,
      "outputs": [
        {
          "output_type": "stream",
          "text": [
            "80\n"
          ],
          "name": "stdout"
        }
      ]
    },
    {
      "cell_type": "code",
      "metadata": {
        "id": "p2LGxVNunRnq",
        "colab_type": "code",
        "colab": {
          "base_uri": "https://localhost:8080/",
          "height": 34
        },
        "outputId": "627dec5f-322c-41e9-aebf-0c6a94c8a8d1"
      },
      "source": [
        "emploees = ['Kelly', 'Emma', 'John']\n",
        "defaults = {'Application developer', 8000}\n",
        "\n",
        "d = dict((x, defaults) for x in emploees) #Initialize dictionary with default values\n",
        "print (d)"
      ],
      "execution_count": 13,
      "outputs": [
        {
          "output_type": "stream",
          "text": [
            "{'Kelly': {8000, 'Application developer'}, 'Emma': {8000, 'Application developer'}, 'John': {8000, 'Application developer'}}\n"
          ],
          "name": "stdout"
        }
      ]
    },
    {
      "cell_type": "code",
      "metadata": {
        "id": "AxbWteS_q99g",
        "colab_type": "code",
        "colab": {
          "base_uri": "https://localhost:8080/",
          "height": 34
        },
        "outputId": "0f6e8680-82b0-448e-8d8d-3fa6341e1b43"
      },
      "source": [
        "sampleDict = {\n",
        "    \"name\": \"Kelly\",\n",
        "    \"age\": 25,\n",
        "    \"salary\": 8000,\n",
        "    \"city\": \"New York\"\n",
        "}\n",
        "\n",
        "keys = [\"name\", \"salary\"]\n",
        "d = {}\n",
        "\n",
        "for i in keys: #Create a new dictionary by extracting following keys from a given dictionary\n",
        "  d[i] = sampleDict[i]\n",
        "print(d)"
      ],
      "execution_count": 18,
      "outputs": [
        {
          "output_type": "stream",
          "text": [
            "{'name': 'Kelly', 'salary': 8000}\n"
          ],
          "name": "stdout"
        }
      ]
    },
    {
      "cell_type": "code",
      "metadata": {
        "id": "4fYwTVH3swJK",
        "colab_type": "code",
        "colab": {
          "base_uri": "https://localhost:8080/",
          "height": 34
        },
        "outputId": "254e7aea-7b28-4dc6-c722-8c52da51f03e"
      },
      "source": [
        "sampleDict = {\n",
        "    \"name\": \"Kelly\",\n",
        "    \"age\": 25,\n",
        "    \"salary\": 8000,\n",
        "    \"city\": \"New York\"\n",
        "}\n",
        "\n",
        "keys = [\"name\", \"salary\"]\n",
        "\n",
        "\n",
        "for i in keys: #Delete set of keys from Python Dictionary\n",
        "  del sampleDict[i]\n",
        "print(sampleDict)"
      ],
      "execution_count": 19,
      "outputs": [
        {
          "output_type": "stream",
          "text": [
            "{'age': 25, 'city': 'New York'}\n"
          ],
          "name": "stdout"
        }
      ]
    },
    {
      "cell_type": "code",
      "metadata": {
        "id": "h7v4jcyDtGep",
        "colab_type": "code",
        "colab": {
          "base_uri": "https://localhost:8080/",
          "height": 34
        },
        "outputId": "6b208938-7546-4ec1-aad6-4eddd88d31f8"
      },
      "source": [
        "sampleDict = {\"a\": 1, \"b\": 2, \"c\": 200}\n",
        "\n",
        "if 200 in sampleDict.values():\n",
        "  print(\"True\")\n",
        "else:\n",
        "  print(\"False\")"
      ],
      "execution_count": 27,
      "outputs": [
        {
          "output_type": "stream",
          "text": [
            "True\n"
          ],
          "name": "stdout"
        }
      ]
    },
    {
      "cell_type": "code",
      "metadata": {
        "id": "JlYKtxqFuwO9",
        "colab_type": "code",
        "colab": {
          "base_uri": "https://localhost:8080/",
          "height": 34
        },
        "outputId": "850a0066-73c9-4b3e-a196-6ee53d6b4b00"
      },
      "source": [
        "sampleDict = {\n",
        "    \"name\": \"Kelly\",\n",
        "    \"age\": 25,\n",
        "    \"salary\": 8000,\n",
        "    \"city\": \"New York\"\n",
        "}\n",
        "sampleDict[\"location\"] = sampleDict[\"city\"] #Rename key ‘city’ to ‘location’ in the following dictionary\n",
        "del sampleDict[\"city\"]\n",
        "print(sampleDict)"
      ],
      "execution_count": 28,
      "outputs": [
        {
          "output_type": "stream",
          "text": [
            "{'name': 'Kelly', 'age': 25, 'salary': 8000, 'location': 'New York'}\n"
          ],
          "name": "stdout"
        }
      ]
    },
    {
      "cell_type": "code",
      "metadata": {
        "id": "fHSVABnSxfGw",
        "colab_type": "code",
        "colab": {
          "base_uri": "https://localhost:8080/",
          "height": 34
        },
        "outputId": "e1abc32e-42c7-45cf-fa47-54c5beee5b4f"
      },
      "source": [
        "sampleDict = {\n",
        "    \"phisics\": 82,\n",
        "    \"math\": 65,\n",
        "    \"history\": 75\n",
        "}\n",
        "m = ((min(sampleDict.values()))) #Get the key corresponding to the minimum value from the following dictionary\n",
        "for i in sampleDict.keys():\n",
        "  if sampleDict[i] == m:\n",
        "    print(i)\n",
        "    break"
      ],
      "execution_count": 35,
      "outputs": [
        {
          "output_type": "stream",
          "text": [
            "math\n"
          ],
          "name": "stdout"
        }
      ]
    },
    {
      "cell_type": "code",
      "metadata": {
        "id": "0ba3KEtjy6N1",
        "colab_type": "code",
        "colab": {}
      },
      "source": [
        ""
      ],
      "execution_count": 0,
      "outputs": []
    }
  ]
}