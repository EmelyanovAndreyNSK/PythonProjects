{
  "nbformat": 4,
  "nbformat_minor": 0,
  "metadata": {
    "colab": {
      "name": "PS-2.2.ipynb",
      "provenance": [],
      "collapsed_sections": [],
      "authorship_tag": "ABX9TyONsFAxN7PDlpKmzKUiRZEr",
      "include_colab_link": true
    },
    "kernelspec": {
      "name": "python3",
      "display_name": "Python 3"
    },
    "language_info": {
      "name": "python"
    }
  },
  "cells": [
    {
      "cell_type": "markdown",
      "metadata": {
        "id": "view-in-github",
        "colab_type": "text"
      },
      "source": [
        "<a href=\"https://colab.research.google.com/github/EmelyanovAndreyNSK/PythonTasks/blob/master/PS_2_2.ipynb\" target=\"_parent\"><img src=\"https://colab.research.google.com/assets/colab-badge.svg\" alt=\"Open In Colab\"/></a>"
      ]
    },
    {
      "cell_type": "markdown",
      "source": [
        "Mean-Variance Frontier with 2 risky assets"
      ],
      "metadata": {
        "id": "_x1Vvlhu0-Tp"
      }
    },
    {
      "cell_type": "code",
      "source": [
        "!pip install yfinance"
      ],
      "metadata": {
        "colab": {
          "base_uri": "https://localhost:8080/"
        },
        "id": "Xg1aNwz7IoRP",
        "outputId": "424cf70b-7404-4488-874b-19a119994163"
      },
      "execution_count": 760,
      "outputs": [
        {
          "output_type": "stream",
          "name": "stdout",
          "text": [
            "Requirement already satisfied: yfinance in /usr/local/lib/python3.7/dist-packages (0.1.70)\n",
            "Requirement already satisfied: numpy>=1.15 in /usr/local/lib/python3.7/dist-packages (from yfinance) (1.21.5)\n",
            "Requirement already satisfied: multitasking>=0.0.7 in /usr/local/lib/python3.7/dist-packages (from yfinance) (0.0.10)\n",
            "Requirement already satisfied: lxml>=4.5.1 in /usr/local/lib/python3.7/dist-packages (from yfinance) (4.8.0)\n",
            "Requirement already satisfied: requests>=2.26 in /usr/local/lib/python3.7/dist-packages (from yfinance) (2.27.1)\n",
            "Requirement already satisfied: pandas>=0.24.0 in /usr/local/lib/python3.7/dist-packages (from yfinance) (1.3.5)\n",
            "Requirement already satisfied: pytz>=2017.3 in /usr/local/lib/python3.7/dist-packages (from pandas>=0.24.0->yfinance) (2018.9)\n",
            "Requirement already satisfied: python-dateutil>=2.7.3 in /usr/local/lib/python3.7/dist-packages (from pandas>=0.24.0->yfinance) (2.8.2)\n",
            "Requirement already satisfied: six>=1.5 in /usr/local/lib/python3.7/dist-packages (from python-dateutil>=2.7.3->pandas>=0.24.0->yfinance) (1.15.0)\n",
            "Requirement already satisfied: charset-normalizer~=2.0.0 in /usr/local/lib/python3.7/dist-packages (from requests>=2.26->yfinance) (2.0.12)\n",
            "Requirement already satisfied: urllib3<1.27,>=1.21.1 in /usr/local/lib/python3.7/dist-packages (from requests>=2.26->yfinance) (1.24.3)\n",
            "Requirement already satisfied: idna<4,>=2.5 in /usr/local/lib/python3.7/dist-packages (from requests>=2.26->yfinance) (2.10)\n",
            "Requirement already satisfied: certifi>=2017.4.17 in /usr/local/lib/python3.7/dist-packages (from requests>=2.26->yfinance) (2021.10.8)\n"
          ]
        }
      ]
    },
    {
      "cell_type": "code",
      "source": [
        "import yfinance as yf\n",
        "from pandas_datareader import data as pdr\n",
        "import pandas as pd\n",
        "import matplotlib.pyplot as plt\n",
        "import numpy as np\n",
        "from scipy.stats import norm\n",
        "from math import *\n",
        "import plotly.graph_objs as go"
      ],
      "metadata": {
        "id": "rur6CfqGIzTV"
      },
      "execution_count": 761,
      "outputs": []
    },
    {
      "cell_type": "code",
      "source": [
        "yf.pdr_override()\n",
        "\n",
        "appleDataW = pdr.get_data_yahoo(\"AAPL\", start=\"2010-01-01\", end=\"2021-12-31\", interval = \"1wk\")\n",
        "pgDataW = pdr.get_data_yahoo(\"PG\", start=\"2010-01-01\", end=\"2021-12-31\", interval = \"1wk\")"
      ],
      "metadata": {
        "colab": {
          "base_uri": "https://localhost:8080/"
        },
        "id": "p7k97LBZIrXf",
        "outputId": "c85cca40-e57f-481f-e3fb-01bf551ffe1f"
      },
      "execution_count": 762,
      "outputs": [
        {
          "output_type": "stream",
          "name": "stdout",
          "text": [
            "[*********************100%***********************]  1 of 1 completed\n",
            "[*********************100%***********************]  1 of 1 completed\n"
          ]
        }
      ]
    },
    {
      "cell_type": "code",
      "source": [
        "aapWeeklylReturns = appleDataW['Adj Close'].pct_change()[1 :]\n",
        "pgWeeklyReturns = pgDataW['Adj Close'].pct_change()[1 :]\n",
        "\n",
        "frame = {'AAPL': aapWeeklylReturns,\n",
        "         'PG': pgWeeklyReturns}\n",
        "\n",
        "weeklyReturns = pd.DataFrame(frame)"
      ],
      "metadata": {
        "id": "GlCPZIY0OGhd"
      },
      "execution_count": 763,
      "outputs": []
    },
    {
      "cell_type": "code",
      "source": [
        "weeklyReturns = weeklyReturns.dropna()\n",
        "weeklyReturns\n"
      ],
      "metadata": {
        "colab": {
          "base_uri": "https://localhost:8080/",
          "height": 455
        },
        "id": "GILnsDiWSmQy",
        "outputId": "a90dd864-29f6-4ac2-96bb-5fca19943bf6"
      },
      "execution_count": 764,
      "outputs": [
        {
          "output_type": "execute_result",
          "data": {
            "text/plain": [
              "                AAPL        PG\n",
              "Date                          \n",
              "2010-01-08 -0.005461  0.017515\n",
              "2010-01-15 -0.006494 -0.028256\n",
              "2010-01-22 -0.042197  0.038150\n",
              "2010-01-29 -0.036329 -0.004540\n",
              "2010-02-05  0.034470  0.009121\n",
              "...              ...       ...\n",
              "2021-11-26  0.011239 -0.009418\n",
              "2021-12-03  0.065950  0.041152\n",
              "2021-12-10 -0.013176  0.050809\n",
              "2021-12-17  0.023337 -0.006269\n",
              "2021-12-24  0.010892  0.016677\n",
              "\n",
              "[625 rows x 2 columns]"
            ],
            "text/html": [
              "\n",
              "  <div id=\"df-dddc1191-a23b-4de7-b5ed-9775a14966eb\">\n",
              "    <div class=\"colab-df-container\">\n",
              "      <div>\n",
              "<style scoped>\n",
              "    .dataframe tbody tr th:only-of-type {\n",
              "        vertical-align: middle;\n",
              "    }\n",
              "\n",
              "    .dataframe tbody tr th {\n",
              "        vertical-align: top;\n",
              "    }\n",
              "\n",
              "    .dataframe thead th {\n",
              "        text-align: right;\n",
              "    }\n",
              "</style>\n",
              "<table border=\"1\" class=\"dataframe\">\n",
              "  <thead>\n",
              "    <tr style=\"text-align: right;\">\n",
              "      <th></th>\n",
              "      <th>AAPL</th>\n",
              "      <th>PG</th>\n",
              "    </tr>\n",
              "    <tr>\n",
              "      <th>Date</th>\n",
              "      <th></th>\n",
              "      <th></th>\n",
              "    </tr>\n",
              "  </thead>\n",
              "  <tbody>\n",
              "    <tr>\n",
              "      <th>2010-01-08</th>\n",
              "      <td>-0.005461</td>\n",
              "      <td>0.017515</td>\n",
              "    </tr>\n",
              "    <tr>\n",
              "      <th>2010-01-15</th>\n",
              "      <td>-0.006494</td>\n",
              "      <td>-0.028256</td>\n",
              "    </tr>\n",
              "    <tr>\n",
              "      <th>2010-01-22</th>\n",
              "      <td>-0.042197</td>\n",
              "      <td>0.038150</td>\n",
              "    </tr>\n",
              "    <tr>\n",
              "      <th>2010-01-29</th>\n",
              "      <td>-0.036329</td>\n",
              "      <td>-0.004540</td>\n",
              "    </tr>\n",
              "    <tr>\n",
              "      <th>2010-02-05</th>\n",
              "      <td>0.034470</td>\n",
              "      <td>0.009121</td>\n",
              "    </tr>\n",
              "    <tr>\n",
              "      <th>...</th>\n",
              "      <td>...</td>\n",
              "      <td>...</td>\n",
              "    </tr>\n",
              "    <tr>\n",
              "      <th>2021-11-26</th>\n",
              "      <td>0.011239</td>\n",
              "      <td>-0.009418</td>\n",
              "    </tr>\n",
              "    <tr>\n",
              "      <th>2021-12-03</th>\n",
              "      <td>0.065950</td>\n",
              "      <td>0.041152</td>\n",
              "    </tr>\n",
              "    <tr>\n",
              "      <th>2021-12-10</th>\n",
              "      <td>-0.013176</td>\n",
              "      <td>0.050809</td>\n",
              "    </tr>\n",
              "    <tr>\n",
              "      <th>2021-12-17</th>\n",
              "      <td>0.023337</td>\n",
              "      <td>-0.006269</td>\n",
              "    </tr>\n",
              "    <tr>\n",
              "      <th>2021-12-24</th>\n",
              "      <td>0.010892</td>\n",
              "      <td>0.016677</td>\n",
              "    </tr>\n",
              "  </tbody>\n",
              "</table>\n",
              "<p>625 rows × 2 columns</p>\n",
              "</div>\n",
              "      <button class=\"colab-df-convert\" onclick=\"convertToInteractive('df-dddc1191-a23b-4de7-b5ed-9775a14966eb')\"\n",
              "              title=\"Convert this dataframe to an interactive table.\"\n",
              "              style=\"display:none;\">\n",
              "        \n",
              "  <svg xmlns=\"http://www.w3.org/2000/svg\" height=\"24px\"viewBox=\"0 0 24 24\"\n",
              "       width=\"24px\">\n",
              "    <path d=\"M0 0h24v24H0V0z\" fill=\"none\"/>\n",
              "    <path d=\"M18.56 5.44l.94 2.06.94-2.06 2.06-.94-2.06-.94-.94-2.06-.94 2.06-2.06.94zm-11 1L8.5 8.5l.94-2.06 2.06-.94-2.06-.94L8.5 2.5l-.94 2.06-2.06.94zm10 10l.94 2.06.94-2.06 2.06-.94-2.06-.94-.94-2.06-.94 2.06-2.06.94z\"/><path d=\"M17.41 7.96l-1.37-1.37c-.4-.4-.92-.59-1.43-.59-.52 0-1.04.2-1.43.59L10.3 9.45l-7.72 7.72c-.78.78-.78 2.05 0 2.83L4 21.41c.39.39.9.59 1.41.59.51 0 1.02-.2 1.41-.59l7.78-7.78 2.81-2.81c.8-.78.8-2.07 0-2.86zM5.41 20L4 18.59l7.72-7.72 1.47 1.35L5.41 20z\"/>\n",
              "  </svg>\n",
              "      </button>\n",
              "      \n",
              "  <style>\n",
              "    .colab-df-container {\n",
              "      display:flex;\n",
              "      flex-wrap:wrap;\n",
              "      gap: 12px;\n",
              "    }\n",
              "\n",
              "    .colab-df-convert {\n",
              "      background-color: #E8F0FE;\n",
              "      border: none;\n",
              "      border-radius: 50%;\n",
              "      cursor: pointer;\n",
              "      display: none;\n",
              "      fill: #1967D2;\n",
              "      height: 32px;\n",
              "      padding: 0 0 0 0;\n",
              "      width: 32px;\n",
              "    }\n",
              "\n",
              "    .colab-df-convert:hover {\n",
              "      background-color: #E2EBFA;\n",
              "      box-shadow: 0px 1px 2px rgba(60, 64, 67, 0.3), 0px 1px 3px 1px rgba(60, 64, 67, 0.15);\n",
              "      fill: #174EA6;\n",
              "    }\n",
              "\n",
              "    [theme=dark] .colab-df-convert {\n",
              "      background-color: #3B4455;\n",
              "      fill: #D2E3FC;\n",
              "    }\n",
              "\n",
              "    [theme=dark] .colab-df-convert:hover {\n",
              "      background-color: #434B5C;\n",
              "      box-shadow: 0px 1px 3px 1px rgba(0, 0, 0, 0.15);\n",
              "      filter: drop-shadow(0px 1px 2px rgba(0, 0, 0, 0.3));\n",
              "      fill: #FFFFFF;\n",
              "    }\n",
              "  </style>\n",
              "\n",
              "      <script>\n",
              "        const buttonEl =\n",
              "          document.querySelector('#df-dddc1191-a23b-4de7-b5ed-9775a14966eb button.colab-df-convert');\n",
              "        buttonEl.style.display =\n",
              "          google.colab.kernel.accessAllowed ? 'block' : 'none';\n",
              "\n",
              "        async function convertToInteractive(key) {\n",
              "          const element = document.querySelector('#df-dddc1191-a23b-4de7-b5ed-9775a14966eb');\n",
              "          const dataTable =\n",
              "            await google.colab.kernel.invokeFunction('convertToInteractive',\n",
              "                                                     [key], {});\n",
              "          if (!dataTable) return;\n",
              "\n",
              "          const docLinkHtml = 'Like what you see? Visit the ' +\n",
              "            '<a target=\"_blank\" href=https://colab.research.google.com/notebooks/data_table.ipynb>data table notebook</a>'\n",
              "            + ' to learn more about interactive tables.';\n",
              "          element.innerHTML = '';\n",
              "          dataTable['output_type'] = 'display_data';\n",
              "          await google.colab.output.renderOutput(dataTable, element);\n",
              "          const docLink = document.createElement('div');\n",
              "          docLink.innerHTML = docLinkHtml;\n",
              "          element.appendChild(docLink);\n",
              "        }\n",
              "      </script>\n",
              "    </div>\n",
              "  </div>\n",
              "  "
            ]
          },
          "metadata": {},
          "execution_count": 764
        }
      ]
    },
    {
      "cell_type": "code",
      "source": [
        "brs = 0.015"
      ],
      "metadata": {
        "id": "wWwAg7q_4wIq"
      },
      "execution_count": 765,
      "outputs": []
    },
    {
      "cell_type": "code",
      "source": [
        "mus = (weeklyReturns.mean())\n",
        "cov = weeklyReturns.cov()"
      ],
      "metadata": {
        "id": "wmG8rQklMnbC"
      },
      "execution_count": 766,
      "outputs": []
    },
    {
      "cell_type": "markdown",
      "source": [
        "Ожидаемая доходность:"
      ],
      "metadata": {
        "id": "-RGNlA4F-Gyb"
      }
    },
    {
      "cell_type": "code",
      "source": [
        "mus"
      ],
      "metadata": {
        "colab": {
          "base_uri": "https://localhost:8080/"
        },
        "id": "QUZLJmnBM0Oc",
        "outputId": "3613c936-ee10-476f-b6bd-447f97f86e5c"
      },
      "execution_count": 767,
      "outputs": [
        {
          "output_type": "execute_result",
          "data": {
            "text/plain": [
              "AAPL    0.005989\n",
              "PG      0.002396\n",
              "dtype: float64"
            ]
          },
          "metadata": {},
          "execution_count": 767
        }
      ]
    },
    {
      "cell_type": "markdown",
      "source": [
        "Матрица ковариций, элементы на главной диагонали - дисперсия"
      ],
      "metadata": {
        "id": "s-pLnguG-euf"
      }
    },
    {
      "cell_type": "code",
      "source": [
        "cov"
      ],
      "metadata": {
        "colab": {
          "base_uri": "https://localhost:8080/",
          "height": 112
        },
        "id": "HKjBEHCLM1bz",
        "outputId": "f644a0b2-f5f5-4e68-d721-11e0530e558d"
      },
      "execution_count": 768,
      "outputs": [
        {
          "output_type": "execute_result",
          "data": {
            "text/plain": [
              "          AAPL        PG\n",
              "AAPL  0.001329  0.000199\n",
              "PG    0.000199  0.000454"
            ],
            "text/html": [
              "\n",
              "  <div id=\"df-60398a9a-f3a9-41df-8d90-9b6cb8b4d1c7\">\n",
              "    <div class=\"colab-df-container\">\n",
              "      <div>\n",
              "<style scoped>\n",
              "    .dataframe tbody tr th:only-of-type {\n",
              "        vertical-align: middle;\n",
              "    }\n",
              "\n",
              "    .dataframe tbody tr th {\n",
              "        vertical-align: top;\n",
              "    }\n",
              "\n",
              "    .dataframe thead th {\n",
              "        text-align: right;\n",
              "    }\n",
              "</style>\n",
              "<table border=\"1\" class=\"dataframe\">\n",
              "  <thead>\n",
              "    <tr style=\"text-align: right;\">\n",
              "      <th></th>\n",
              "      <th>AAPL</th>\n",
              "      <th>PG</th>\n",
              "    </tr>\n",
              "  </thead>\n",
              "  <tbody>\n",
              "    <tr>\n",
              "      <th>AAPL</th>\n",
              "      <td>0.001329</td>\n",
              "      <td>0.000199</td>\n",
              "    </tr>\n",
              "    <tr>\n",
              "      <th>PG</th>\n",
              "      <td>0.000199</td>\n",
              "      <td>0.000454</td>\n",
              "    </tr>\n",
              "  </tbody>\n",
              "</table>\n",
              "</div>\n",
              "      <button class=\"colab-df-convert\" onclick=\"convertToInteractive('df-60398a9a-f3a9-41df-8d90-9b6cb8b4d1c7')\"\n",
              "              title=\"Convert this dataframe to an interactive table.\"\n",
              "              style=\"display:none;\">\n",
              "        \n",
              "  <svg xmlns=\"http://www.w3.org/2000/svg\" height=\"24px\"viewBox=\"0 0 24 24\"\n",
              "       width=\"24px\">\n",
              "    <path d=\"M0 0h24v24H0V0z\" fill=\"none\"/>\n",
              "    <path d=\"M18.56 5.44l.94 2.06.94-2.06 2.06-.94-2.06-.94-.94-2.06-.94 2.06-2.06.94zm-11 1L8.5 8.5l.94-2.06 2.06-.94-2.06-.94L8.5 2.5l-.94 2.06-2.06.94zm10 10l.94 2.06.94-2.06 2.06-.94-2.06-.94-.94-2.06-.94 2.06-2.06.94z\"/><path d=\"M17.41 7.96l-1.37-1.37c-.4-.4-.92-.59-1.43-.59-.52 0-1.04.2-1.43.59L10.3 9.45l-7.72 7.72c-.78.78-.78 2.05 0 2.83L4 21.41c.39.39.9.59 1.41.59.51 0 1.02-.2 1.41-.59l7.78-7.78 2.81-2.81c.8-.78.8-2.07 0-2.86zM5.41 20L4 18.59l7.72-7.72 1.47 1.35L5.41 20z\"/>\n",
              "  </svg>\n",
              "      </button>\n",
              "      \n",
              "  <style>\n",
              "    .colab-df-container {\n",
              "      display:flex;\n",
              "      flex-wrap:wrap;\n",
              "      gap: 12px;\n",
              "    }\n",
              "\n",
              "    .colab-df-convert {\n",
              "      background-color: #E8F0FE;\n",
              "      border: none;\n",
              "      border-radius: 50%;\n",
              "      cursor: pointer;\n",
              "      display: none;\n",
              "      fill: #1967D2;\n",
              "      height: 32px;\n",
              "      padding: 0 0 0 0;\n",
              "      width: 32px;\n",
              "    }\n",
              "\n",
              "    .colab-df-convert:hover {\n",
              "      background-color: #E2EBFA;\n",
              "      box-shadow: 0px 1px 2px rgba(60, 64, 67, 0.3), 0px 1px 3px 1px rgba(60, 64, 67, 0.15);\n",
              "      fill: #174EA6;\n",
              "    }\n",
              "\n",
              "    [theme=dark] .colab-df-convert {\n",
              "      background-color: #3B4455;\n",
              "      fill: #D2E3FC;\n",
              "    }\n",
              "\n",
              "    [theme=dark] .colab-df-convert:hover {\n",
              "      background-color: #434B5C;\n",
              "      box-shadow: 0px 1px 3px 1px rgba(0, 0, 0, 0.15);\n",
              "      filter: drop-shadow(0px 1px 2px rgba(0, 0, 0, 0.3));\n",
              "      fill: #FFFFFF;\n",
              "    }\n",
              "  </style>\n",
              "\n",
              "      <script>\n",
              "        const buttonEl =\n",
              "          document.querySelector('#df-60398a9a-f3a9-41df-8d90-9b6cb8b4d1c7 button.colab-df-convert');\n",
              "        buttonEl.style.display =\n",
              "          google.colab.kernel.accessAllowed ? 'block' : 'none';\n",
              "\n",
              "        async function convertToInteractive(key) {\n",
              "          const element = document.querySelector('#df-60398a9a-f3a9-41df-8d90-9b6cb8b4d1c7');\n",
              "          const dataTable =\n",
              "            await google.colab.kernel.invokeFunction('convertToInteractive',\n",
              "                                                     [key], {});\n",
              "          if (!dataTable) return;\n",
              "\n",
              "          const docLinkHtml = 'Like what you see? Visit the ' +\n",
              "            '<a target=\"_blank\" href=https://colab.research.google.com/notebooks/data_table.ipynb>data table notebook</a>'\n",
              "            + ' to learn more about interactive tables.';\n",
              "          element.innerHTML = '';\n",
              "          dataTable['output_type'] = 'display_data';\n",
              "          await google.colab.output.renderOutput(dataTable, element);\n",
              "          const docLink = document.createElement('div');\n",
              "          docLink.innerHTML = docLinkHtml;\n",
              "          element.appendChild(docLink);\n",
              "        }\n",
              "      </script>\n",
              "    </div>\n",
              "  </div>\n",
              "  "
            ]
          },
          "metadata": {},
          "execution_count": 768
        }
      ]
    },
    {
      "cell_type": "code",
      "source": [
        "#print('Ожидаемая доходность ' , '(AAPL) : ', cov['AAPL']['AAPL'])\n",
        "#print('Ожидаемая доходность ' , '(PG) : ', cov['PG']['PG'])"
      ],
      "metadata": {
        "id": "kymhXQWl-4Sj"
      },
      "execution_count": 769,
      "outputs": []
    },
    {
      "cell_type": "markdown",
      "source": [
        "Построим границу среднего стандартного отклонения для пары активов:"
      ],
      "metadata": {
        "id": "CMP9poEY_gtz"
      }
    },
    {
      "cell_type": "code",
      "source": [
        "#- How many assests to include in each portfolio\n",
        "n_assets = 2\n",
        "#-- How many portfolios to generate\n",
        "n_portfolios = 1000\n",
        "\n",
        "#-- Initialize empty list to store mean-variance pairs for plotting\n",
        "mean_variance_pairs = []\n",
        "\n",
        "min_portfolio_variance = 1000\n",
        "min_weights = []\n",
        "min_asset = []\n",
        "\n",
        "np.random.seed(75)\n",
        "#-- Loop through and generate lots of random portfolios\n",
        "for i in range(n_portfolios):\n",
        "    #- Choose assets randomly without replacement\n",
        "    assets = np.random.choice(list(weeklyReturns.columns), n_assets, replace=False)\n",
        "    #- Choose weights randomly\n",
        "    weights = np.random.rand(n_assets)\n",
        "    #- Ensure weights sum to 1\n",
        "    weights = weights/sum(weights)\n",
        "\n",
        "    #-- Loop over asset pairs and compute portfolio return and variance\n",
        "   \n",
        "    portfolio_E_Variance = 0\n",
        "    portfolio_E_Return = 0\n",
        "    for i in range(len(assets)):\n",
        "        portfolio_E_Return += weights[i] * mus.loc[assets[i]]\n",
        "        for j in range(len(assets)):\n",
        "            #-- Add variance/covariance for each asset pair\n",
        "            #- Note that when i==j this adds the variance\n",
        "            portfolio_E_Variance += weights[i] * weights[j] * cov.loc[assets[i], assets[j]]\n",
        "            \n",
        "    #-- Add the mean/variance pairs to a list for plotting\n",
        "    mean_variance_pairs.append([portfolio_E_Return, portfolio_E_Variance])\n",
        "    if(portfolio_E_Variance < min_portfolio_variance):\n",
        "      min_portfolio_variance = portfolio_E_Variance\n",
        "      min_weights = weights\n",
        "      min_asset = assets"
      ],
      "metadata": {
        "id": "J_8TFStoLSkS"
      },
      "execution_count": 770,
      "outputs": []
    },
    {
      "cell_type": "code",
      "source": [
        "#-- Plot the risk vs. return of randomly generated portfolios\n",
        "#- Convert the list from before into an array for easy plotting\n",
        "mean_variance_pairs = np.array(mean_variance_pairs)\n",
        "risk_free_rate=0 #-- Include risk free rate here for sharpe ratio\n",
        "\n",
        "#-- Create Plot\n",
        "fig = go.Figure()\n",
        "fig.add_trace(go.Scatter(x=mean_variance_pairs[:,1]**0.5, \n",
        "                         y=mean_variance_pairs[:,0], \n",
        "                      #- Add color scale for sharpe ratio   \n",
        "                      marker=dict(color=(mean_variance_pairs[:,0]-risk_free_rate)/(mean_variance_pairs[:,1]**0.5), \n",
        "                                  showscale=True, \n",
        "                                  size=7,\n",
        "                                  line=dict(width=1),\n",
        "                                  colorscale=\"RdBu\",\n",
        "                                  colorbar=dict(title=\"Sharpe<br>Ratio\")\n",
        "                                 ), \n",
        "                      mode='markers'))\n",
        "#- Add title/labels\n",
        "fig.update_layout(template='plotly_white',\n",
        "                  xaxis=dict(title='Annualised Risk (Volatility)'),\n",
        "                  yaxis=dict(title='Annualised Return'),\n",
        "                  title='Sample of Random Portfolios',\n",
        "                  coloraxis_colorbar=dict(title=\"Sharpe Ratio\"))"
      ],
      "metadata": {
        "colab": {
          "base_uri": "https://localhost:8080/",
          "height": 541
        },
        "id": "W61tQIdoOq1G",
        "outputId": "9376bcd5-03dd-45b8-ab8c-8ec827f17364"
      },
      "execution_count": 771,
      "outputs": [
        {
          "output_type": "display_data",
          "data": {
            "text/html": [
              "<html>\n",
              "<head><meta charset=\"utf-8\" /></head>\n",
              "<body>\n",
              "    <div>            <script src=\"https://cdnjs.cloudflare.com/ajax/libs/mathjax/2.7.5/MathJax.js?config=TeX-AMS-MML_SVG\"></script><script type=\"text/javascript\">if (window.MathJax) {MathJax.Hub.Config({SVG: {font: \"STIX-Web\"}});}</script>                <script type=\"text/javascript\">window.PlotlyConfig = {MathJaxConfig: 'local'};</script>\n",
              "        <script src=\"https://cdn.plot.ly/plotly-2.8.3.min.js\"></script>                <div id=\"ea167152-a4cf-444f-9977-70f346e2796a\" class=\"plotly-graph-div\" style=\"height:525px; width:100%;\"></div>            <script type=\"text/javascript\">                                    window.PLOTLYENV=window.PLOTLYENV || {};                                    if (document.getElementById(\"ea167152-a4cf-444f-9977-70f346e2796a\")) {                    Plotly.newPlot(                        \"ea167152-a4cf-444f-9977-70f346e2796a\",                        [{\"marker\":{\"color\":[0.17964143341226724,0.1775660784631221,0.17779946217329345,0.1758626909924615,0.17965268381014068,0.1630866434684899,0.1796711896629805,0.15470772169854838,0.1787056000112857,0.16496657236706286,0.17964121924347487,0.16745109781130774,0.17460931937657334,0.1663507474480613,0.1796340644016604,0.17798273369178796,0.16535142891648302,0.15783802905660643,0.17717944079431158,0.16080735491478665,0.17908784166977595,0.17928950473180258,0.17610738162498787,0.17932545037311567,0.1790633874796233,0.17798714355241566,0.16427702019226806,0.17819110391991885,0.15435001544534357,0.173178116419345,0.1773109874128966,0.14613736850442546,0.15555365407611219,0.17928976948237135,0.14580987084037164,0.17785834924833474,0.17813383114098283,0.17913727187139003,0.17656764948832085,0.16977392825651166,0.1768610607916026,0.1752851280469992,0.13936652975104064,0.16629541767038894,0.1677259352645214,0.17713411857291456,0.17565750046013454,0.17902779162457289,0.17903017128344093,0.15466271365856646,0.17953617446134287,0.15690240565108332,0.17843255381779602,0.1796701595424107,0.17931843169346223,0.17639165229639706,0.1665737074176486,0.17926863867798845,0.17927480297879803,0.17943351603493068,0.17380494779906872,0.1795301623935821,0.17562806014928706,0.1490555080094545,0.17633778039399098,0.17934884573696347,0.15913911009066917,0.17803949997364438,0.12910732966030775,0.17951302083160742,0.1319919808568679,0.16994829821167257,0.1764163190601045,0.15417721321908123,0.17543695180335236,0.13283346854890643,0.1793520524344463,0.17787847842001223,0.17804680164660103,0.17967484739934672,0.16276458688609932,0.1766069022072442,0.17433475429247655,0.1738954243256175,0.16517191453184107,0.1707780804205255,0.17950052392575946,0.13621009814664964,0.17429544077216935,0.17963439821792324,0.17910678610952957,0.17210876693917357,0.17031995822063625,0.17967525252816666,0.16076350412655693,0.17927623955726704,0.1307466560455488,0.12714598546562125,0.17840808874937633,0.16406986349109512,0.17017716565270422,0.1765556718222387,0.1590583938834131,0.17475035464238386,0.17896853197582127,0.17925392395020337,0.15615584253847867,0.13530723749523396,0.15289582113162226,0.1780360655655884,0.1794041825586049,0.16451637473118183,0.17768344869444874,0.17617649035503005,0.17699274000231086,0.15410759845772828,0.1796735826756274,0.17536285483929118,0.1779010064848292,0.17829780221819358,0.17899886851206986,0.17733969082467677,0.17198037219078954,0.12899395568415384,0.1673906844367618,0.17733323386629227,0.17888119012720377,0.1720865584840759,0.1796238000412612,0.17945877307303904,0.145535466289365,0.1752498020939747,0.17678313760006822,0.1771230204838782,0.1347555327489141,0.17928785665498417,0.17669320468118999,0.17087641595684386,0.17960977501132885,0.1484022519040281,0.17851858217410496,0.17842890624010146,0.17881389311907217,0.17848169996066995,0.16463279395024077,0.1727795517223338,0.17482205276513327,0.17571058612728377,0.1706188140159355,0.16562997387606776,0.17839439746249827,0.17934932790901173,0.17956705248978747,0.1569696083249981,0.1791601678571029,0.1796220070622611,0.1787480646510736,0.17947954708691602,0.16648558678544995,0.17220239347763003,0.1646460640803115,0.17469066218650411,0.1746614993796752,0.1796300512509527,0.17314689951569223,0.17082189325421981,0.1782192867504837,0.17914540823252062,0.1734428420946236,0.15881514139410105,0.17396564896320602,0.16538282284003145,0.15232738379545022,0.17290558368853923,0.17769319624574673,0.1791517753933338,0.17829807173283013,0.17337896008168652,0.17691679035848576,0.16805653461805026,0.15726278407289154,0.17928419913319596,0.170612125668164,0.17025595222644893,0.17854378264350546,0.1746799826714834,0.17440884750425578,0.14898797045247866,0.17933938241531722,0.13754733620533274,0.1640313370664826,0.17963948257988838,0.1781236602438511,0.17967477593242404,0.15849077878984666,0.17771925182920542,0.13175922685453345,0.17650676032227156,0.17961663568485828,0.16013891305720937,0.1714679786930444,0.17921533736520642,0.17931946141061708,0.17627387851642826,0.17944323162328032,0.11890452674368303,0.17318337116147214,0.173934294636573,0.17946828090934333,0.17964940927856735,0.1794684058629179,0.17931682420531694,0.17932488752632078,0.17754412256818553,0.17354457314301705,0.14061987090087863,0.17966934535144274,0.17945644471560207,0.17944430938379427,0.1796156154259245,0.16715478744514176,0.1582013247106909,0.17188219812762479,0.17932990726574294,0.1796749029568703,0.1785673259297697,0.17967190073688966,0.13920870875328814,0.17917852158233924,0.1683141604753364,0.17470573085337918,0.1670485562997515,0.148103369158808,0.1759996943997225,0.14555132352562455,0.17787048192873411,0.1742159957481124,0.1657332609605184,0.17688636350555495,0.17663452147339034,0.12835738202011848,0.17390958998209002,0.17193878229534357,0.17760143064461792,0.1796137569144902,0.1796582882582786,0.17058981884640734,0.17475717061663862,0.17118842177687793,0.15144704022952762,0.1790997919424583,0.13757998845816835,0.17689964548995746,0.16848988228167966,0.17840216608498566,0.17867510148988242,0.139275858040598,0.17956489880453086,0.1683674004744988,0.17410889043140948,0.17547321890651008,0.12106997691649346,0.17528350549744684,0.14718156187342787,0.17966554453725536,0.1664916443812443,0.1765475050453989,0.15515473079641792,0.16508558239691892,0.16734839300141677,0.16576879684571919,0.17943399530595647,0.1516881864822917,0.11849326246777733,0.1743479498026721,0.12561587005928437,0.17935375179828125,0.1744279354862494,0.17762345795275664,0.1679901129966184,0.1796452309365726,0.17482464031128053,0.14639239778648094,0.1701461814172508,0.17928960091357946,0.1701428107913696,0.17924746538874078,0.1795799993479498,0.17963746759096078,0.13837769957346738,0.17964063426102733,0.17626230745564475,0.15641240032528708,0.1487840020827826,0.11472994621000387,0.17715053144708376,0.17411603862861616,0.15523184691246728,0.1732940534106961,0.17881404564301365,0.17666775689799905,0.17780639539694337,0.16655428610900425,0.1774084807619093,0.16892364653560454,0.15508605955745758,0.15917006158122204,0.1750321317410453,0.1795606292500256,0.16532879195505631,0.17629422594448832,0.178638341838894,0.17787001543029615,0.17249291744878087,0.17857070714438336,0.17838878409345782,0.17966555817391347,0.17846258312053132,0.16956355876973567,0.17265985645939885,0.11703107691250657,0.17717179889414536,0.16570656200975684,0.17213911893686917,0.1796730871119032,0.17871959379171304,0.1720616047688627,0.13614252078879038,0.17921462253688225,0.1570487348740189,0.17707928533512535,0.17914532391375879,0.17421403469610433,0.1760661934517015,0.16606240081020163,0.13209444384379992,0.1770919260079377,0.1604620809854447,0.17138546738392216,0.17923107057322182,0.12813811220215893,0.17954244238165223,0.17011952287418666,0.1795475365697946,0.17961170392865455,0.17955379770478613,0.17608564367021265,0.17928763076659363,0.15173633143149728,0.17729850912914202,0.1673500232184061,0.13011374784864999,0.1789212528766115,0.17433689774999717,0.17943594518210687,0.1795947502458839,0.15336022553778772,0.15333853527125857,0.17350882413640847,0.1784540174319586,0.16890846574326623,0.17937520336665866,0.17952105149806666,0.16984253790051332,0.17524448558706807,0.17262629006938324,0.17527342081060984,0.17964215613298826,0.12108414616033322,0.16509304272238048,0.1729852589941049,0.17699116005249757,0.1657668765356058,0.1754097111280261,0.17704044174376096,0.16332115564193928,0.17839591130901186,0.17110515121472722,0.12963153564438903,0.16598340522285626,0.17962621569284898,0.17403917718264988,0.1775212598440005,0.1796671067129244,0.17965550697612842,0.17442523746417582,0.169148959963146,0.1742739728392568,0.1669634727643293,0.12174596613309739,0.1681964858149232,0.14936278535323103,0.17966628808424395,0.17951624833634447,0.17795834265234187,0.1300850543780142,0.16512407379563157,0.17909446734820758,0.17480616004286195,0.17961755246131725,0.16674755303589334,0.17561974700852773,0.17056058655829376,0.1783164920177748,0.1715673330859828,0.17931838704540776,0.17657050505554567,0.17954902427204225,0.1728938591014942,0.17965690826165479,0.17916892473019289,0.16978754717009276,0.1473875975627004,0.1786463541972643,0.1714605536514388,0.16485331127154643,0.17465112859210583,0.1534343528721599,0.17639422663506835,0.17056073471918207,0.17263711535275103,0.17522900040873815,0.17507794762876144,0.1796130983359643,0.1711467141831055,0.17893592746549336,0.15722055729281556,0.1796753541675894,0.17544957293930233,0.17809670202099978,0.16285202014775643,0.1593764527502908,0.16182931300957973,0.17420063676972034,0.17787721624014574,0.1794754351547676,0.16710061423620326,0.17431075001388027,0.1781030506361759,0.17843471481431894,0.17959391940400593,0.17582986343346635,0.17652835700667777,0.14020866773598822,0.1760673946408605,0.17170887790870756,0.16682309540752477,0.1791240578815026,0.17967132031109811,0.15448713013106655,0.15387704875439376,0.15646613410289112,0.14458495361983947,0.16440911630354832,0.1764810750229788,0.1777805364143718,0.1728804598006766,0.17196613280339665,0.1772614166640249,0.1796672896530132,0.17918663271639676,0.17916956339558732,0.17900816387386556,0.17325951645518065,0.17904550976559236,0.17927648178284625,0.17706722273164108,0.1745240557425479,0.1786736702323849,0.17720754976294,0.1671660791796276,0.12732947005955078,0.1788858335340658,0.17667515444369947,0.17311375193278722,0.17903167036972745,0.1788521162680996,0.1679464675432236,0.17866706539330265,0.17945633950887793,0.16663832069391368,0.14273481935649024,0.17453839205272864,0.1792063797523716,0.17967533779956693,0.1770999582152733,0.16957448964116406,0.16819837881605254,0.17277625153194645,0.17305351842923067,0.17601220162592227,0.14004730712397645,0.1777562896676305,0.17557998576979636,0.17189634418130545,0.11246047629906249,0.1746093236034595,0.1694201698849132,0.1760058164636908,0.16836645063903588,0.17967507939711558,0.1710257477758591,0.17021869078012808,0.17934426344381535,0.167311002504261,0.17598987948624326,0.17632481674804792,0.16916987307776413,0.17935834889286217,0.16564848768326945,0.17961200319397377,0.17779415961062028,0.17916794593616928,0.142682713947891,0.17863978807793182,0.17753243204991878,0.16426081358193606,0.17236124793302662,0.1744526879742469,0.17943247470105456,0.1773744101482444,0.1796727207682047,0.17300439616589483,0.1675424410005087,0.1785612696779209,0.11644755669000975,0.1662148187198394,0.17964742001188252,0.15822512102322372,0.11576292971108985,0.1372518515300693,0.17367376909976334,0.17915288701730067,0.1725202419669289,0.17966435346964335,0.17882515101016552,0.15812835960433005,0.16227141602734854,0.17877138265435236,0.17916713100752518,0.1796419115018367,0.16958111577923052,0.16577075569179572,0.1796701069958626,0.17789048065967328,0.14597925239480272,0.17261408346726068,0.17517272689964938,0.17892197540265242,0.16787324289369898,0.16755805340536606,0.17893683404748467,0.17331499003604914,0.16648384515327175,0.17890861556240262,0.14937044530406465,0.1737562783171666,0.17932783883208842,0.16343938366682373,0.17965831514295438,0.17155262555360537,0.17008063673478802,0.1761620044648434,0.1746028674008726,0.17892874196906838,0.17489075170530485,0.177018895602889,0.13628518431358005,0.17878692337855592,0.1708774594173297,0.16846487872282997,0.17921514426974203,0.1794918760814541,0.17277735801404961,0.17721018721136197,0.17074695396421985,0.1706375395591372,0.13842967121850436,0.17678839066222626,0.16442331759515993,0.16687208136916168,0.1296855749715599,0.17849251402439129,0.17598704672488208,0.17876695652481744,0.1740892604427777,0.1609651563370173,0.17544324167484826,0.17780700208459668,0.1763225746296602,0.17448329397678372,0.15523035988079825,0.1777724447162727,0.15867283589497752,0.1780764594490682,0.13918309289240507,0.13415645516391653,0.17955349632857645,0.17680053242587385,0.17695059187053716,0.12743289275042907,0.15740391962381436,0.1666934064139449,0.1796369789209032,0.16792173991180961,0.17072243968857448,0.17814689279267276,0.17129078700177464,0.17957753869405296,0.17916834107495794,0.17899233629430478,0.17086184644165622,0.16804076099321075,0.1784769797054291,0.1695728200501927,0.17289583383982068,0.17774205032110593,0.15900313323276055,0.16730626570361068,0.17918861063242478,0.1657172180799554,0.17713042626872597,0.17960239752787222,0.1736764903760219,0.17274366473434427,0.17028156121502028,0.17326725917590777,0.17004004794393304,0.17030541175042516,0.17770407000157531,0.1796313316121152,0.17578658946438355,0.1453772340499725,0.17246674731627454,0.17821474491786807,0.17788391787587113,0.17955078733380725,0.17490837033454742,0.17685688049651474,0.17953123535812987,0.17852105429024476,0.17946341629880058,0.17966988315340568,0.17728855245646782,0.17883745788395122,0.17944464856573616,0.14154234189217563,0.17929012561749727,0.17274348201794748,0.1704968101015719,0.16310040578775672,0.17684613530387122,0.17279252582164284,0.16404950538926474,0.17611013367974016,0.17004081564309945,0.17825153062751345,0.13899328441133602,0.1657288815168324,0.1795328361247736,0.17942978142111513,0.17948518318448461,0.17522700904537974,0.17754415432960502,0.176383687917331,0.17268141996678532,0.17942035157660866,0.17959873809067417,0.17893598982283823,0.1661461123570177,0.15489648361559177,0.16958582614459883,0.17360972170872538,0.1688609614672272,0.1727303363938825,0.1715859495769761,0.17246970305703874,0.17287821849118795,0.17471941185791492,0.17615100823834837,0.12378608304754353,0.17772460960371866,0.17827313351442914,0.12968320797434518,0.17961043881506128,0.17523976697387592,0.17735021286396405,0.12274194322344019,0.1731133319113613,0.17952088658739562,0.17824703956779644,0.1682293720852629,0.16841511718345137,0.17533830383604435,0.17764036704339412,0.17960779501964116,0.17864579068931777,0.17964496676276792,0.1796557533612918,0.17586143390104314,0.11265691393590437,0.16713064631193483,0.17531145670087248,0.13569947408292937,0.17616103079416517,0.1769446621866174,0.17595290558863158,0.17588004035635826,0.15900111623291527,0.1730699480260483,0.17563927869272442,0.17958619280722637,0.1782315467245543,0.17728354756042644,0.17342511473526115,0.12967548603033566,0.1787756308363326,0.14609565966743393,0.15473754899560355,0.16788248696763952,0.1301269709464642,0.17953583384547994,0.13206343962114006,0.1796473666762195,0.179654572086681,0.1726514001108555,0.17732700242318658,0.16959733213435846,0.1793924115651507,0.17519007171298384,0.1796650122281633,0.14728347669421035,0.13762394473022738,0.17769795406056121,0.16521998641472158,0.17045539238212368,0.1657423770015959,0.1695734739147496,0.17965125655402941,0.1795962535446718,0.15672293226605818,0.16437855393034362,0.17762251221204925,0.17844283129325075,0.13074999028846018,0.17076906271173622,0.175778663262492,0.17963253768447,0.15527812327858306,0.1201907039752836,0.17412461805465038,0.16669999769621133,0.1795511339969092,0.1768004359194036,0.16448176463774913,0.1688314515664575,0.17898347981740606,0.17240810980196258,0.17958117935297752,0.15282491809350482,0.17905668218378834,0.17733573359198568,0.1791618666356704,0.17962031355810862,0.1781574418590912,0.15088952913174375,0.166623922419806,0.1733043242157327,0.11439745715287737,0.17019464098024267,0.17833112998730852,0.1271496448647337,0.17902052554960998,0.16926117984011935,0.17102429940222158,0.1786961654635035,0.17912760035265196,0.1635994849745621,0.11407782858019384,0.1452398529407284,0.17523334898627474,0.16672275077779325,0.15428862508426783,0.17924000379994406,0.1676912285628837,0.16808884571920146,0.17544515971516225,0.16480237213105675,0.16442863277597003,0.17911523540309723,0.13127771056378784,0.174313658357354,0.1796443976075713,0.16289365360211044,0.1345253990735053,0.1684599283850874,0.17412499668885473,0.1794241835571124,0.1418639202698392,0.14265353476795684,0.15263989659247437,0.1786417739011475,0.17406578501468098,0.15180590781964542,0.1700676881713456,0.17566394392369453,0.17950846462680703,0.17138062457400083,0.15252918925083442,0.17712392226201226,0.16652623858547153,0.17956877601885496,0.1786440376591619,0.17871571932581087,0.17733886864012086,0.14268127331708946,0.17878400991333626,0.17771759308854856,0.13066697696720986,0.17726420028232542,0.17688986729226985,0.1257244389765316,0.1764754872413665,0.13434498036992742,0.17638691967617248,0.17043827983483092,0.16061538726682886,0.17827063992856176,0.14858050979723475,0.13035541172495466,0.16766709406416247,0.16512951020303196,0.16258672961539103,0.16418994549827112,0.1760140181459926,0.1769587063433037,0.1702040281987738,0.12823447182445707,0.17035141538244541,0.14521248696441938,0.1742967916228918,0.17094128266003009,0.15546547559216536,0.11592821964556162,0.17424537890370376,0.17966531011626596,0.17966878913987833,0.17894475161586956,0.16524732455473168,0.14765028581672748,0.1534681035119908,0.17940737983634528,0.17894916379721382,0.1676004649525115,0.17150924631846856,0.1680169252029494,0.17835750061260078,0.1645936808992601,0.17802564686117392,0.17967307876864794,0.17743604914349326,0.1643470367583192,0.1754248373692307,0.1505296505165577,0.1155547664559616,0.167348561951723,0.17642406489964174,0.1666552898920019,0.1794673257450468,0.17847106516214395,0.17962622584423787,0.1792526273873077,0.17911558454247745,0.17955140577416479,0.1542665166283099,0.17151489586076757,0.1743928214365967,0.16306762760274296,0.17965345487196074,0.17811808544865199,0.1733067763242407,0.1796579865587521,0.17859154750301895,0.1721149789474094,0.175718682211045,0.17910557304140004,0.1700891890285703,0.17865814966925797,0.17953915666763423,0.1393723877268059,0.15062426322517813,0.17009287011896848,0.17944482670420736,0.17880424537002465,0.15133180733928575,0.11783759589021091,0.13943240047054403,0.1768870255321109,0.17743971229454086,0.1751395235106385,0.1791314955634043,0.11742274085805075,0.17874093317576376,0.1793824794885525,0.17930236936756197,0.1158071316142681,0.17841220945373187,0.17950173297260963,0.178717961412055,0.1542820065691969,0.17836024438199807,0.17577154469635975,0.17950385019852744,0.17366437822718264,0.17965881916972007,0.17750474998715285,0.1788843429687562,0.17503811863979762,0.16979097071546156,0.17956794792201977,0.17967440055950062,0.16528807391491457,0.14673219507457677,0.16568604265772754,0.17935656407316608,0.17756829248791547,0.1795158627008462,0.11475464798920462,0.15952083883859414,0.1659070039078469,0.1789372377928829,0.17962760050250365,0.17963968873590724,0.17732271973496774,0.16973434780863836,0.17062282263962217,0.17748112903962385,0.17739617299192034,0.12648923344866925,0.1650170723622919,0.13969883826079724,0.1786314706389332,0.17966098638263056,0.17965128834785993,0.17842266300116255,0.16104000662226073,0.1777488605361757,0.1637623058672813,0.17062983091486345,0.1727985550126527,0.17034072155354815,0.17955678819742213,0.17316608037513997,0.1790628750512607,0.156263866200191,0.17906350522295514,0.17611982340134086,0.17963810184251383,0.12341688109089494,0.17877740527693867,0.16817679336369534,0.17836336239240988,0.15995837539232022,0.17884030731942438,0.17168535758224876,0.1551701281307814,0.12795507718212154,0.1770970714239335,0.17706014966231004,0.1745933302654927,0.17124034018399945,0.16749769247777824,0.17321173506564322,0.17714056879866508,0.16099516984997156,0.11681959714410681,0.17566764541229596,0.179316695270768,0.1794233429031401,0.15476863131061525,0.17685567588230883,0.17559127669450877,0.17366233414836854,0.1770137775109722,0.17762899755906977,0.1701845342856616,0.16422944546306373,0.17747470938882567,0.17222978388194626,0.17892222409611894,0.1762375837012436,0.12554914480846166,0.16780731303385577,0.17964028339352106,0.17472075169645462,0.1795635959711018,0.17264760392844666,0.16828381596544303,0.17962769539205048,0.1775774535863731],\"colorbar\":{\"title\":{\"text\":\"Sharpe<br>Ratio\"}},\"colorscale\":[[0.0,\"rgb(103,0,31)\"],[0.1,\"rgb(178,24,43)\"],[0.2,\"rgb(214,96,77)\"],[0.3,\"rgb(244,165,130)\"],[0.4,\"rgb(253,219,199)\"],[0.5,\"rgb(247,247,247)\"],[0.6,\"rgb(209,229,240)\"],[0.7,\"rgb(146,197,222)\"],[0.8,\"rgb(67,147,195)\"],[0.9,\"rgb(33,102,172)\"],[1.0,\"rgb(5,48,97)\"]],\"line\":{\"width\":1},\"showscale\":true,\"size\":7},\"mode\":\"markers\",\"x\":[0.02363868064910508,0.022039638202385664,0.02665383896532751,0.028210133888718018,0.024175014128180412,0.020360578990133143,0.02403221015931083,0.020188712432928767,0.025770435338823446,0.020438142407011903,0.024232837844196088,0.03413843604927067,0.021323646007521783,0.03493176116835567,0.024264278943705156,0.02219864698912617,0.020456403550230397,0.020225599377967023,0.021911672248316593,0.02028893465416699,0.022826104880498802,0.02301559632579312,0.028025791886926558,0.02305529481775585,0.02280602365696942,0.022200473754900984,0.020407531410247516,0.022288914874885213,0.020186189678556843,0.021105457949015468,0.027073564588619436,0.020205948687634066,0.020195995839728486,0.0250252230119366,0.020209428948094108,0.022148464754630073,0.022263260599703304,0.025247165037569293,0.02767188874659681,0.0324995713252547,0.02744032381286098,0.028637049397447878,0.020312613410327557,0.03497200573989915,0.020590337786108394,0.021897677943815527,0.0283630141003055,0.022777665293012155,0.025388368566528045,0.02018837711323268,0.024562234474624217,0.020211639544122986,0.02240528761069165,0.024044564189308764,0.023047359855459054,0.027808435428937742,0.03476994678998214,0.02299355439087903,0.025048398815796822,0.024779645049521987,0.021194617122731293,0.024576595174564803,0.021517228002251917,0.020183367366061737,0.027849915554900177,0.023082444074620793,0.020249595248841765,0.02643634259999195,0.020594224170219406,0.023316500658061217,0.020501903165204626,0.03237799801017853,0.027789394638169877,0.020185086479479735,0.02852580914749779,0.020476834013895134,0.024924540694311364,0.026583202686213652,0.026429582799171812,0.02396424075010227,0.02034906831699117,0.02174765450066448,0.02127755057579515,0.021208256481456,0.020447777479651656,0.03180118200055982,0.024643852650736014,0.020385040237644276,0.021271132897288356,0.02361105868771526,0.022842019973287397,0.020971973122869084,0.032119330272839426,0.02394508138215996,0.020287767915074927,0.023001503728789743,0.02054055929898159,0.020662488995913792,0.02608199975923635,0.02039884041556289,0.020776754664869584,0.027681233993440735,0.020247943488939272,0.02902432117151562,0.02273254194300769,0.025080152979863258,0.020202349938572905,0.020408175942366803,0.020179176332539246,0.02222097024059308,0.02315156556117216,0.036286526273023444,0.026756019128343772,0.021639768489515085,0.02185522365057203,0.020184663070031646,0.023995669257162403,0.021462999732334787,0.02656289874778131,0.026191096776971356,0.02275533184895209,0.027049595932314773,0.02095731496860565,0.020598050678794114,0.020568985497672786,0.027054994458321987,0.02557080812453632,0.020969418337730118,0.024305210803719387,0.02322831639310971,0.020212485557842733,0.028662842891221865,0.021795378414842664,0.0218942803569614,0.020422825704343377,0.025028205150763642,0.027573437346778803,0.03173296869309106,0.02435541581682281,0.020187060358802123,0.02245046748916591,0.026061065071634776,0.022625089200912215,0.02243082986199029,0.03619920510535711,0.03041311838785691,0.02136097908882085,0.02153473013629236,0.031911713685777415,0.03545890255646324,0.022385924569199425,0.024929103664730758,0.024483635353656892,0.02021255476858399,0.02288870038653752,0.024311955434146063,0.022583114074872398,0.023260419645885457,0.020515534822917916,0.030813981166248894,0.036189263989169065,0.021337747966506414,0.021332667943840818,0.024280793590816127,0.0211012462849882,0.02083631846668333,0.02626705856679705,0.025236012951723768,0.02995024781059853,0.020243099182858354,0.029582743857505298,0.020457931840663728,0.020177790083362263,0.030325388518288133,0.022085523927246054,0.022881171221142336,0.026190833688736533,0.029994968798493997,0.02183312909637195,0.033707128490576194,0.020216703819494558,0.025033890702105856,0.02081637861685833,0.02078376522129282,0.025943374481244362,0.021335884479703974,0.029268559311681326,0.02018371132060954,0.023071328645819296,0.020352723810830302,0.020397249016463493,0.02363073977628974,0.02635785558903693,0.023887753239039952,0.02023694677252831,0.0267246702757162,0.02050898776871645,0.02172150526691779,0.02355096074194915,0.020271947432923307,0.020901402577347097,0.025137220875502807,0.02497813069360726,0.021663189318240107,0.023205432602482225,0.020995676958513582,0.021106168921458154,0.02960486989333457,0.023242781396115283,0.023673957958322424,0.02471131295729892,0.02498237681291405,0.02496935335706441,0.02203192063353514,0.021156484170746472,0.020287656764383752,0.024053502173696013,0.023224829562472214,0.024758986463503614,0.023547826744996055,0.020554478923473504,0.020231746917661955,0.031035960113395718,0.023060382453280057,0.023962232127480235,0.022477075107305854,0.02402278605923184,0.020315912972700825,0.022905431052116794,0.033524589392890436,0.02134038357592575,0.034427164559015885,0.020189018947528125,0.028107210219156017,0.0202123054585122,0.02659039171077894,0.021258298156237598,0.03538297074406292,0.02742009962047994,0.021754986872858213,0.020619809434565924,0.029622294920546768,0.020952624321337918,0.02682724462499205,0.023542190813281877,0.024141584665338663,0.020814290756551813,0.029019424523996893,0.020872536796470734,0.020177072540570575,0.02283610663574759,0.02035196432159952,0.02740946607854493,0.020642419496725562,0.022389834809641504,0.02580375036957354,0.020314504840071114,0.023418118738973447,0.03348693563596776,0.02948150190003603,0.028499140160984357,0.020901043909404476,0.02144734124915718,0.02019609614379763,0.023769870457560467,0.034829438472865515,0.021732063244338656,0.02019232678956922,0.035861394906920495,0.03421194729532992,0.03535687750526789,0.023192246739230555,0.0201770998189195,0.02101421023964474,0.0293119015929972,0.02071875170537358,0.024921686565602105,0.02129294105184698,0.02680819418110235,0.033754283494114405,0.02421383627009625,0.02897090358772901,0.02020336629117807,0.03224020291541524,0.025025486055605475,0.03224254860518167,0.022971868514788905,0.023452524324981076,0.023622773759781588,0.02033385525663772,0.02423551846018971,0.027907793671889336,0.02020536284902769,0.02018480336040403,0.021192039894907314,0.021902723546396784,0.021242399197138936,0.020193003104342872,0.030054355216946972,0.022625188827160022,0.027593465738851835,0.02664767606664038,0.034784019409114394,0.026991835717972246,0.020674265984958678,0.020191737707603262,0.020250234542648276,0.02882108346287228,0.024500738209728624,0.02045530522602389,0.02166815225224063,0.025843438697091024,0.02215306486790083,0.03061235514722802,0.025915219383802875,0.026101312453511147,0.024088902120372346,0.026026952512727502,0.032646452083427056,0.030496361935968146,0.021081542656712703,0.02718875006303921,0.035402585645781665,0.03085786284635607,0.02385061752400253,0.022565559441028296,0.020966557464816387,0.02038673551826176,0.02513825963013708,0.02021364943448565,0.02726441104431709,0.02523612886409855,0.021257983581685187,0.02805698875198142,0.020492503797795457,0.020498804974481016,0.027254113194342348,0.020279948587569534,0.020892767068791306,0.022955515472248156,0.020627411429090206,0.023371442626580436,0.03225875646869318,0.024534319178705365,0.023536070334397575,0.02339444864862795,0.021618402252604977,0.0250285569201217,0.020177120411441717,0.027083960862429778,0.02056645500570315,0.020560907267511332,0.02269822369616499,0.029319761291307443,0.023195005950331565,0.023489146429626247,0.020180864286159877,0.020180774131667502,0.02990401882630768,0.022416357215652362,0.03310552344494051,0.023114436917741014,0.02333090311403056,0.03245171782082862,0.028666721950403342,0.0210339093389798,0.021445369067627847,0.024228499057396873,0.020900441101939077,0.03585585260945164,0.030269880630311417,0.02733586454794992,0.035358287143434995,0.021472365418992063,0.021869350421175143,0.020369270453989063,0.026094193391632024,0.020864149993374822,0.020576724210237183,0.03519962851813607,0.02429594857165275,0.0212303583647628,0.022023946665598298,0.02407541193265983,0.024158740733780285,0.02925688399638018,0.03293667258854154,0.029364474595145882,0.03448840553272638,0.02087252402388004,0.020621833328300223,0.020181914178136792,0.023775844484738778,0.0233222398928669,0.02218860377635063,0.02056184086472703,0.02044551074913362,0.022831634533864192,0.028984202863310778,0.02355380187356391,0.03464416646499714,0.021515482007950826,0.03195214176753231,0.022347577896086483,0.02091193268610497,0.024979862063517554,0.02173807211064807,0.02338463851557211,0.030333553610881782,0.02371280491700824,0.02289663674558683,0.03249007058472594,0.020194380281009793,0.025834830078986366,0.02090062144438065,0.036034329538704446,0.021330867957664233,0.020181180844478206,0.021692904914746194,0.020811577813670542,0.021035256085052707,0.021436729386313053,0.02878787189322487,0.023540215635622894,0.03154556856480385,0.022708725913494935,0.020216090433289362,0.0239193163876995,0.02148040417810714,0.026383135373462728,0.020352145313613106,0.02025458189663785,0.020318306590388698,0.02125583727026377,0.02658433803626607,0.024696961119210516,0.0343897320372458,0.02933834876725236,0.026377194066003355,0.022406396235385755,0.02348699122169952,0.028234691535109338,0.021727087787368055,0.020295598401164332,0.028056079938838407,0.031156056638294585,0.02053477751662655,0.022856817315283797,0.023825556716176192,0.020187118358786293,0.020183346278571337,0.020206017460592415,0.0202240461649753,0.020413192878299607,0.021714905737871444,0.02211831464159307,0.021066116290266692,0.03097778859768897,0.027114781390010292,0.0237843041626436,0.02291294484663008,0.025202503502412724,0.025416239534002103,0.02111653749531149,0.0253687301328193,0.023001758539371732,0.02187736854207646,0.029186396334085107,0.022537950660159532,0.021920449536452963,0.03434269907563187,0.020655918000499034,0.02556532436876561,0.027587647553801466,0.030180278861184254,0.025386457097657453,0.02265042014515421,0.033785290080153726,0.025812469345093885,0.023224672511359033,0.0347231587002693,0.020250729704050098,0.029176156298178716,0.022931559946908774,0.023937207230901824,0.021887256196286096,0.020725430550422266,0.03360655628518946,0.030415414489257542,0.021088769197418523,0.028097778059777284,0.02029878088776554,0.02669206858382271,0.021507173479206016,0.02094786656561974,0.021306420796672755,0.02912543830767203,0.03274670759194345,0.02159999636328175,0.020633667512562386,0.023954918598274158,0.03162941974515331,0.032189753493909276,0.02307703848319848,0.03423873565505802,0.02811460767169887,0.02785987620906902,0.03292200777346857,0.02309379836608839,0.035445282141220474,0.02353695584432649,0.026658547946818604,0.02520476665983884,0.02025155872246765,0.025841886536683362,0.026886561306323623,0.020406843269084828,0.030703767510665777,0.021297072402137532,0.023190103855625813,0.02702050037601015,0.023844775247870067,0.021082277838706524,0.03407314374347967,0.022473727204081854,0.02110903903329715,0.02050066164582068,0.0236646792217309,0.020232164212984537,0.021141753571828972,0.02035966143312534,0.029788273134224115,0.025225703078236,0.030593377136458964,0.02376076671029242,0.022632473463408288,0.02023047867602996,0.020332365418533487,0.022597754840491233,0.022895004316300493,0.0242296374760678,0.020725973489231733,0.02047731274165913,0.02381152298462353,0.026572394763817127,0.020207606045072084,0.03052817772829006,0.02142589346801815,0.02269873773781291,0.020600001803003365,0.020579535416112942,0.02550429258797666,0.021124169903091024,0.02051543757214009,0.022689283041090507,0.020181880305219873,0.029730270729204672,0.024964555850310963,0.0203737532982371,0.023720965007286834,0.03126431169237976,0.020768262920946357,0.021636330929292878,0.029130058406827104,0.02551407753151826,0.02892326868439654,0.021862945233307875,0.02038316353854382,0.025679743938550652,0.0317322449845078,0.03341805399244677,0.025137501535956026,0.024662512049724267,0.02105290257246429,0.027157149146778227,0.0318227786222116,0.03189871443347988,0.02033270534943313,0.021796835960475887,0.03635646432866021,0.03455427239629772,0.020574938239789647,0.022436544960116846,0.021595717313692957,0.02570227417849047,0.02123818622895546,0.020293195470413722,0.028521186635743778,0.022128467187250096,0.027861598129986533,0.029215491951161403,0.020192989914578588,0.022115231086551494,0.020240357150846006,0.02223822228591814,0.020316451795323365,0.020439167653163923,0.02339382304005558,0.02180021291678394,0.021842903008076876,0.02065223090043929,0.02021879288417894,0.02052728928729464,0.023620875843609095,0.02060322197555694,0.031839789225448424,0.0222690519881963,0.02088297819543297,0.024454698028579823,0.025204214041545027,0.02543607033223077,0.031743073861427336,0.033718323234119295,0.02601227406681707,0.03263998076040273,0.030332178442980536,0.022103732829318254,0.020246825440015315,0.020563745877625588,0.02517563460604852,0.03539475588147126,0.02722267102834436,0.023509576894317256,0.02978636127399861,0.0304380837416441,0.020786059536893282,0.030073083928283107,0.03231408682118666,0.03212944372825413,0.026737982956890373,0.023599810453105018,0.028267004922406316,0.020214305846699736,0.021014310749309314,0.022299705583493045,0.02215857474699496,0.023388237594445336,0.02891055842762055,0.027443660935386437,0.023349783954121038,0.025966965726048386,0.023235334270379188,0.024047670119429536,0.027092246102352845,0.025621895267140666,0.0247583306571122,0.020270733234268125,0.023016262959956457,0.02104860582373196,0.03199643463475715,0.020361081762351175,0.027452233460742544,0.030404091140502548,0.02039799852310421,0.021624117413677472,0.02076479074573291,0.022316739555262036,0.02032047274842801,0.035386187572446035,0.024570241788962693,0.02478670113251894,0.023269459955933214,0.021436343862074703,0.026876521262914642,0.021690267507629892,0.030481370360757657,0.023173289124475575,0.02349966261439171,0.022708770821818422,0.035080783620515886,0.02019017545340586,0.03263089355560048,0.029833248445772155,0.03313892338130585,0.030447354182553996,0.031241224529170802,0.021014669639742047,0.030344444634768777,0.02904653922829694,0.027992670188036646,0.02078942965251378,0.02209719422176233,0.02232688522657153,0.020575016396872398,0.02353235145823908,0.028670164156943324,0.02704079029877122,0.02083139661537531,0.030180571932674233,0.024598245292483695,0.022314643723965483,0.03358460382870562,0.03345320776319046,0.02145812803937692,0.02679353169329393,0.023524703860916256,0.025835436277354237,0.024215123039983043,0.024157269487427423,0.021567543146409785,0.021296308633832604,0.020553017869245353,0.02861780385284026,0.020397996225402233,0.027985049447275853,0.02737333502604413,0.02158798061750928,0.028197139297368567,0.020246784827547746,0.02109095134310367,0.021519589117116208,0.02346749575273689,0.026255284588402466,0.021944568091256243,0.021139522031000307,0.02057527141682635,0.02260044849475218,0.020206381706904118,0.020188937512297722,0.03383077384910799,0.020560477351843808,0.023358553443123684,0.020499741123864653,0.023664435294652373,0.024164245366493763,0.02103703655687209,0.027060200748767114,0.03262285523972564,0.024854957915123814,0.021429220470576486,0.023765735365560207,0.02019523785894788,0.020350944153955282,0.02208728277303972,0.03576166059838318,0.03202520638877837,0.020475863394410144,0.03263952389043548,0.024182872261461593,0.02349307685383257,0.02020926005986842,0.02041187464941074,0.026809013272416273,0.02604699730418731,0.020540453348000254,0.031807438551297494,0.02827291639038039,0.024270646627934243,0.02019341649247836,0.020938869476377492,0.021243753087640295,0.034678540270035155,0.02452525214930207,0.02180018603135764,0.03631252326670994,0.03315967968689038,0.022743692719208508,0.021007223139266232,0.023455334875107054,0.020178962954028025,0.022800604687714006,0.02196146857160236,0.022890233518109367,0.023562507608314555,0.022273754625968856,0.02017748711195075,0.03473358080468614,0.030047174598805602,0.021208462239747407,0.03220648410073792,0.022354666120902728,0.020662357574678325,0.022771996890080227,0.02070027418055918,0.03163042386756829,0.025780779769466283,0.02285988738584766,0.02037993365212739,0.02122435788113396,0.020215920283116282,0.021437571794857172,0.02052897324214563,0.020185789202508533,0.022964380051452588,0.033966961536168246,0.03368420364298155,0.021479510930057646,0.03607235505791709,0.03635246628188469,0.022849223686261275,0.02052384956482285,0.029336281853328573,0.024217877476039228,0.02035362298959648,0.02042905019445686,0.03342155024845588,0.029470101083663016,0.023178553315799568,0.0202651282793231,0.020252024793061957,0.020178460754235062,0.022519260877187114,0.029511996786283953,0.020177159130250602,0.03229484059481773,0.021524800216704467,0.023308506633471598,0.03138347830147941,0.02017819778388765,0.021894556004692516,0.02051781067128553,0.024478969041331032,0.022520574698013236,0.025759300811195644,0.021962492895844715,0.0202515817026351,0.025683042603600884,0.022094575707163937,0.02054309512265035,0.021938373409934802,0.021825410869436818,0.02071467380417873,0.02774359524988821,0.0204339765096335,0.027812085159678562,0.032037095687603066,0.020283882009973126,0.022325708645737657,0.020185972078342693,0.02055308241204725,0.03398417086862799,0.020445767654884504,0.020342917713342016,0.020403850617786618,0.028096407637983833,0.02736203383783873,0.02077913684122206,0.020624063941144154,0.03209746233077524,0.02021624563688051,0.029348266972455544,0.0316879837444627,0.020195148275413338,0.021133810449857637,0.02126302441951732,0.024090964212732335,0.02405927242727124,0.025494680182809294,0.03574140396200658,0.020192303838968438,0.020181329318071074,0.024828105145230688,0.022718312728978805,0.020582243386136838,0.03129436521603979,0.03373524392529975,0.026132409366582076,0.03622852060000815,0.02644914256240608,0.02400476964928901,0.02696855781615079,0.03641388750659565,0.0285347089975301,0.02017810240323228,0.021151797570379837,0.03421182628285864,0.02170040978254877,0.020525110941011195,0.023241311358269536,0.02242524340031412,0.024295909206042313,0.022977095104917817,0.025276574814645375,0.02338950673929497,0.02018564729081545,0.031290451151977386,0.029279971187557527,0.02035988577540176,0.024170670575971755,0.02636309431910897,0.021123035583305135,0.024143507455712216,0.022490587981116347,0.02097268919442076,0.021536463946093386,0.02529000186160327,0.020769010977662372,0.02582211449343894,0.02455500895004103,0.02031249160641057,0.02017791455207559,0.02076933321326648,0.024757986062122816,0.025660051249589654,0.020177103871777076,0.02104412548646202,0.020311246533720854,0.021824599613742196,0.026965459027504315,0.028743157564395917,0.02525504248184538,0.021063286826188868,0.025731376123077816,0.02487244699822695,0.025005426871520093,0.021139626625099387,0.022394914117311183,0.024641212070796673,0.02256456335061403,0.020185746590804233,0.026129691642790626,0.028278223644372092,0.02463656855120882,0.021173828128367305,0.02372397311870543,0.02201822740055558,0.022672370351570256,0.02881674638496848,0.020743409202071256,0.023424847423789457,0.02397759530178434,0.03571122849495809,0.020200101349245714,0.035417666690146496,0.023091650803267093,0.022040419733104524,0.0246097316161868,0.021190824415849737,0.020257711298426302,0.03525554459430423,0.022709670086266186,0.023586672577086378,0.024239806574368264,0.02195722755746351,0.0325271885926599,0.020817382019619152,0.022010100734265403,0.02700220369432536,0.020686318223877495,0.020440489282930574,0.020305779752386312,0.02251330504307896,0.024123604019395867,0.02418269966637966,0.02240023006612214,0.02029525080396994,0.02669862217334356,0.020386350413599603,0.03190406564304693,0.021055602363001007,0.032104895904171996,0.023400703441481187,0.0301437568702933,0.022805608233532657,0.020203595925158854,0.02534545641168598,0.028016354237432022,0.02424688473452427,0.02080413393100485,0.025690506253019673,0.020620478231650377,0.026126600994103764,0.02026764618272148,0.025618596545534764,0.02092463243895808,0.020192460573228127,0.020633799032073446,0.02188638036807231,0.027279976552498208,0.029136881856747926,0.03148068301829312,0.020575705621910044,0.02111001670779837,0.021899657864583966,0.020294016955695278,0.021091466741027257,0.02835548903916783,0.0230454110072054,0.02317739452210362,0.020189174492417958,0.027444622360283354,0.028412054282011136,0.02979630603913608,0.027317581411923603,0.026803394304299136,0.03221351567601382,0.02040551534458716,0.026935784744904108,0.020986039327024166,0.022698914743382384,0.027926695973790966,0.020721264405283418,0.020595654845436275,0.02363397120997594,0.02904557756184295,0.023415274865051218,0.02103656302400155,0.03354606082071733,0.023586999787259692,0.022043659984543423],\"y\":[0.00424648647578006,0.003913492126343636,0.004739038232888804,0.004961110058927583,0.00434310616927568,0.00332053848657587,0.004317895789554143,0.0031233497045255673,0.004605321109776485,0.003371610298434665,0.004353216536060804,0.005716518594011497,0.0037233073160003642,0.005810924580033129,0.0043586910464333845,0.003950975875383653,0.0033824955575228128,0.00319236874230684,0.00388229783582497,0.0032626099157755453,0.004087877856776469,0.004126454866358544,0.004935548827173464,0.004134401126679028,0.0040837238509573714,0.0039513989091451976,0.0033524884495555757,0.003971686346732896,0.003115738688667884,0.0036550034537781912,0.0048004404699949444,0.002952844169346292,0.0031415609505757256,0.004486766465055048,0.00294673422467927,0.003939289379643428,0.003965839904315245,0.004522708267316903,0.004885960352888916,0.005517579890541175,0.004853124778007666,0.005019648870519892,0.0028308984411718023,0.005815684301287769,0.0034535336625874454,0.003878825881371315,0.004982176162375215,0.004077835115771646,0.004545283973072643,0.0031223891886950628,0.004409809613796544,0.0031712548666254616,0.003997832687397936,0.00432009068402084,0.004132816423955778,0.0049051758730879955,0.005791758943521695,0.004122023194021168,0.004490546762636333,0.004446298837333294,0.00368372932263756,0.004412240122770946,0.003779029013825423,0.0030084420760897778,0.004910992293111181,0.004139809701571251,0.0032225025675969208,0.00470671321763452,0.0026588652890427947,0.004185615468350732,0.0027060868101110485,0.005502585661330762,0.004902502710974534,0.003112080381992341,0.005004481004561198,0.002720008886965917,0.004470267529510622,0.004728579645354466,0.004705702686246562,0.004305771299815832,0.0033121076981320803,0.0038407858916357862,0.0037094165515769908,0.003688018760049318,0.003377398554235128,0.005430944817159373,0.004423584462356331,0.002776648331492929,0.003707461484056266,0.004241358318655799,0.004091160785665188,0.0036094604344584875,0.005470562990144828,0.004302338544147093,0.0032615326609337775,0.004123623092659881,0.002685609441647145,0.002627152525558014,0.004653239727807051,0.003346834962358038,0.003535729220329106,0.00488727886458052,0.0032206053707927924,0.005072010417976805,0.00406840965961887,0.004495715834911875,0.003154714975915035,0.0027613739090783453,0.0030853117351233856,0.003956134114685218,0.00415348769445404,0.0059697277540256,0.00475410175205876,0.003812418464578138,0.0038682159172780508,0.003110609951400974,0.00431138786413378,0.0037638129064771703,0.0047255664223849045,0.004669814993018006,0.00407317865357909,0.0047969669795691365,0.003604246828420404,0.002657024036440323,0.0034430565606252753,0.004797749659528854,0.004574136589831428,0.0036085550351528475,0.004365794325367992,0.004168525160459828,0.002941633510527698,0.0050231575441373215,0.0038530553813566877,0.0038779810681458466,0.002752088758027009,0.004487253257401649,0.004872039008878355,0.005422415957946131,0.004374470755166905,0.0029958052165687723,0.004007825625311737,0.0046500473361839045,0.0040456802821813905,0.004003492645296587,0.0059595762752727615,0.005254764961532184,0.003734370213380747,0.003783880054340812,0.005444738742283441,0.005873057104101038,0.003993523525163268,0.004471017987643542,0.004396454234690923,0.0031727568052722015,0.004100743403282998,0.0043669622306895615,0.004036687934677862,0.004174769583095125,0.0034155408532108213,0.005306241309402673,0.005958419877780039,0.003727505321837737,0.00372599576883997,0.0043615601971321045,0.003653615370162726,0.0035592993689267088,0.004681296442807753,0.004520915842397732,0.005194656101708487,0.003214910658980461,0.0051463812332832055,0.003383390517277928,0.0030736299741723526,0.005243429002336335,0.003924447337394268,0.004099202447346505,0.0046697751437769705,0.005200496497965524,0.0038626471232125915,0.0056647032060515865,0.0031793351274307744,0.004488181045715009,0.003551526604535515,0.0035385597386021614,0.00463202821441836,0.003726951931195462,0.005104695697660294,0.003007130185856333,0.0041375978308420495,0.0027994629447025566,0.003345788028648504,0.004245013866392676,0.004694957713698105,0.00429202671075354,0.003207369454306686,0.0047494884067824875,0.002702248371975163,0.003833992523986817,0.00423014433561508,0.003246327627461224,0.003583921251787295,0.004504975519626945,0.004479064943021657,0.0038186544021618428,0.0041640578174056385,0.002496481032415308,0.0036552374861216156,0.0051493021627046645,0.004171342020712477,0.004253012562498262,0.004434899943226105,0.0044797604711922945,0.004477626482360535,0.0039116380173728985,0.0036715930146191938,0.0028528476750889803,0.004321676988957468,0.004167845342407076,0.004442859226986117,0.004229557392745511,0.0034357795554988595,0.0032006891635855588,0.005334529045291743,0.004135416246859278,0.004305411732135011,0.0040136711966341975,0.0043162196322578394,0.002828152012073857,0.0041041612721244925,0.005642663118944721,0.0037282873093235575,0.005751008137077574,0.0029900617261399273,0.004946860409000216,0.0029419278109906566,0.004729645788270067,0.0037035355811991947,0.005864135123884168,0.004850241708826745,0.003842681695947199,0.002646704756774622,0.005151601163960837,0.003602568711702641,0.004764557025651725,0.004228501337971355,0.004337235776817052,0.0035507060895766246,0.005071352522736792,0.0035731366326676364,0.003055757916765889,0.004089941947238184,0.002800023016466716,0.0048487248323636125,0.003478038831012339,0.003994395028325057,0.004610487716103143,0.0028293200922707854,0.0042050721215562544,0.005638108302884749,0.005132991584066764,0.005000835860115721,0.002530488903642216,0.0037593651577522607,0.002972492974190049,0.00427062671933762,0.0057988104842227545,0.0038367415452768066,0.00313293502718891,0.005920199263774872,0.005725314401322629,0.005861067044269731,0.0041614774925416795,0.0030606276800040754,0.002490042329479278,0.00511046994755674,0.002602604022012784,0.00446979798668156,0.003714083748104077,0.004761764151916368,0.00567038589829617,0.0043499002086017985,0.005064827799217511,0.0029576192347241202,0.00548554741417522,0.004486809407577853,0.005485837846762962,0.004117649206519329,0.004211604302987879,0.004243535255681364,0.0028137521138733848,0.004353683907833316,0.004919092108603255,0.003160369302659802,0.0030031758252149106,0.0024313615972229724,0.0038800791163827453,0.003698642399173528,0.003134597166596329,0.005208241038189641,0.004045701547621594,0.0048748756971247415,0.004738127227114724,0.005793427520686796,0.004788580567700496,0.003492372399626232,0.0031314570366899213,0.003223231079187516,0.005044615677593123,0.0043993679700290176,0.00338185090209048,0.0038199701289560834,0.004616629036263448,0.003940365989881872,0.005280414449323565,0.00462769905116751,0.004656181391825282,0.004327946045253465,0.0046448371761767535,0.005535648596471543,0.005265497474398135,0.0024671956400920325,0.004817079758351965,0.005866440753618447,0.005311845322646483,0.004285314080062792,0.004032907616983332,0.003607539523874885,0.0027755015641105227,0.004505143710849162,0.003174528070872899,0.004827962422810769,0.0045209344796882924,0.0037034390892689193,0.004939887209278573,0.003403034379274088,0.0027077782425665893,0.004826483397224433,0.0032541627526392375,0.003580716649028215,0.004114341613651195,0.002643157560140856,0.004196165891158909,0.005487844258968666,0.004405076569953615,0.004227353696545807,0.004200562100070751,0.0038066902757715225,0.004487310671715451,0.0030616022300837494,0.004801945882220831,0.003441796722724727,0.0026752567037444447,0.0040611946217914315,0.005111516226296991,0.004162017816202337,0.004218527386517721,0.003094941898472964,0.0030944903459899998,0.0051886111435056675,0.004000289001323038,0.005591803172712632,0.004146156822825597,0.004188388259430284,0.005511682113920848,0.005023684941665946,0.0036310057348438356,0.0037588031970291714,0.004352459810536848,0.0025307120652026272,0.005919551806699578,0.0052362431405550604,0.004838206377379598,0.005861232819416287,0.0037664614153808153,0.0038717594592139522,0.003326732790128703,0.00465509740997379,0.0035699635395831488,0.002667392357904124,0.005842554204019787,0.004364189298594063,0.003694914101096106,0.003909718758814084,0.004325559604862807,0.004340250814432142,0.005103138938530458,0.005571203912998462,0.0051174636480335,0.005758303957848504,0.002541145602923561,0.0034685198968811585,0.0030144269154063754,0.00427171772464126,0.004186721008367695,0.003948647153808852,0.0026747881870000908,0.0033760460257293186,0.004089019425531349,0.005066617204438681,0.004230676243688339,0.005776829985006429,0.0037785435070028543,0.005449776041664068,0.003984941695524106,0.003587804520628622,0.0044793485738467385,0.0038383023715110017,0.004198689028425391,0.005244485144047416,0.004260169217601466,0.0041023657856446155,0.005516409391963798,0.002976401193885604,0.004615298204916736,0.0035836321245126413,0.005940378543905524,0.003725460162655246,0.003096486423068543,0.0038265031859047284,0.0035496380025650765,0.003631465931229902,0.0037563366623962592,0.005040121527665517,0.00422813106581094,0.005398920406904043,0.004063406932890899,0.003178385004203711,0.004297711643406533,0.0037687277396125035,0.004698749398987291,0.0033143879786625883,0.003228103414626398,0.0032880975970406194,0.0037027803875535024,0.004728748045478031,0.004432497843870684,0.005746545346842212,0.0051139895777885585,0.004697858730377634,0.003998078922277687,0.004218120808512498,0.004964501956704323,0.003835447109643937,0.0028456188127319038,0.004939760898666991,0.005349771525421702,0.0034256751488284855,0.004094205867769826,0.004280769232342328,0.0031186499808650604,0.0031057537593345338,0.003161557437674412,0.002924092776768446,0.003356115002055124,0.0038322699086422033,0.00393220584156427,0.003641919870475829,0.005327130507945728,0.004806404561728562,0.004273261465185055,0.00410569343268416,0.004515521549003048,0.004549714371560069,0.0036586410756453604,0.004542157218736375,0.004123674345757104,0.003873764888422051,0.005093728260733964,0.0040269383639671055,0.0038844691520570035,0.005740934352919201,0.002630107092597078,0.004573274359275401,0.004874051892306222,0.005224621308037393,0.0045449798189630365,0.004051075577322426,0.005674120123884932,0.004611838148442509,0.0041678147151809515,0.005786208855001134,0.002890484246144702,0.005092359406563204,0.004109481840160008,0.004300925795190522,0.0038762321578092495,0.003514504308181246,0.005652568284759288,0.005255061304244369,0.0036494857089552583,0.004945551777097934,0.002842789601231204,0.004744683075014249,0.003776229213427534,0.0036008616810278317,0.0023961302310220685,0.005085573082556901,0.005547952763398637,0.0038017249955321565,0.003474017362756113,0.00430410190109635,0.005409445163631369,0.005479297696268291,0.004138734469233813,0.005728517186926143,0.004947886415945294,0.004912387567187395,0.005569411876502842,0.004142065544606292,0.0058714573821999705,0.004227519788287589,0.0047397341286440405,0.004515886270243767,0.002889547360196769,0.004616389134447075,0.004773236618170874,0.0033520446780189294,0.005292139684383872,0.003715331526535044,0.004161057723389407,0.004792745316105216,0.004284255644891158,0.0036473267472870484,0.0057086976753437935,0.004012937263956087,0.0024580960195014984,0.0034075137590968488,0.00425129856759276,0.003201236631161214,0.00244743133270482,0.002794401228221797,0.005173441670193923,0.004519257533507188,0.005277976826167411,0.004268962788947712,0.004047255484827551,0.0031990124070509964,0.0032993617276509224,0.004039831877718701,0.004102032237756465,0.004352658391197358,0.0035147337099146686,0.0033945396077220717,0.004278218882381751,0.004726976076814014,0.0029498912231483193,0.005269593418494429,0.0037532321850541252,0.00406130299519622,0.0034581891062862207,0.0034482668943106747,0.004563657370313273,0.00366113529627403,0.003415488932011784,0.004059308216985003,0.0030145764482640246,0.005165821195268399,0.004476839848039234,0.0033298736820437888,0.0042616686067741315,0.005363474756954032,0.003532279381470045,0.0038114994257689213,0.005086191725386907,0.0045652017952158355,0.005058412201988615,0.0038701544198266064,0.002777923199744289,0.0045912024119225915,0.005422325404560996,0.005629768412990528,0.004505020964347221,0.004426720556686477,0.0036374648849975687,0.004812523484427449,0.005433642516420323,0.005443118146028544,0.0028146497165047533,0.003853427550981073,0.005977850480948401,0.005766143354967171,0.0026682726956314554,0.0040047553159525415,0.0038005665119422273,0.004594717330655144,0.0036973401337448424,0.003266497381472796,0.005003849439788248,0.003934596411292307,0.004912628715576152,0.005097615270790854,0.0031345650915093636,0.003931478695721571,0.003211594868651923,0.003960103889117666,0.0028277065974725616,0.002742046278849459,0.004200442719333987,0.0038542892506848126,0.00386511461544994,0.002631773525392777,0.003182517250031852,0.0034217637757436225,0.004243182776011678,0.0034597288819247524,0.005435766495738542,0.003967162417135663,0.003577061770036613,0.004391514481478674,0.004515797217921783,0.004552861654912238,0.005423680211697349,0.005666052695676466,0.00464259211071537,0.005534853583925524,0.005244307284077354,0.0039287627928329665,0.003219308682979201,0.0034404435316635557,0.004511186986847427,0.005865520479296556,0.004821963323423933,0.0042223763750852475,0.005173190687140331,0.005257986133022464,0.0035394826694505497,0.005210680827220655,0.005494688872338995,0.005471818143452435,0.004751448395072175,0.00423926537748477,0.0049689603896827484,0.0029386998722333952,0.0036242698220268015,0.003974136342305771,0.003941654090540803,0.00419937647443281,0.0050566986600368265,0.004853600262436509,0.0041920155586287885,0.004635650098132809,0.004169892467006848,0.00432064208046955,0.004803145094280518,0.004582154615744278,0.00444274994383979,0.0028691670538498657,0.004126588677335943,0.003636009461614706,0.005455290039849547,0.0033209006977171695,0.004854821392991937,0.005253599703478869,0.0033462815686461983,0.003808226208429137,0.0035308619550627075,0.003977992984341032,0.002824409248095057,0.005864513287526316,0.004411165192643903,0.00444747236635838,0.004176523282794702,0.0037562264198196344,0.004771769238945828,0.0038258093749092155,0.0052635663164291155,0.00415775968189981,0.004220509751101344,0.004063416384662067,0.005828535816986459,0.0031273871813144037,0.005533737041462974,0.005179341960337768,0.005595870464156082,0.0052591817302562365,0.00536055517678529,0.003624393832608078,0.005245893529563313,0.0050749942504758954,0.004930937076906212,0.002573442065477135,0.003927215216400258,0.003980283790957922,0.0026682341304711654,0.004226655971764568,0.005024152885965518,0.00479568991549689,0.0025568861006293603,0.005224659366255749,0.004415898803400904,0.003977519182806956,0.005649916813835463,0.005634025905600066,0.0037624317739210125,0.004759612804385547,0.004225220188949208,0.004615391941571432,0.00435012497367409,0.004339992448915521,0.0037928990634502405,0.0023991764089141368,0.0034350391601477214,0.005017028881021267,0.0027679973601326614,0.004929875157457797,0.00484356551910448,0.0037984679154418185,0.004959313997555039,0.0032192613877077446,0.003650209852770866,0.003779685110294093,0.0042144382169537736,0.004679519981884325,0.003890410880899243,0.003666124033674809,0.00266810832118303,0.004040409436833365,0.0029520646649621265,0.003123986707478347,0.005679594449828031,0.002675472639008814,0.004193697369835417,0.0027072663241605017,0.004251253484564085,0.004341217161115001,0.003632073815727217,0.0047985042837485415,0.005532749215262846,0.004458790839744391,0.0037541866709936357,0.0042698711350646675,0.002974424844532385,0.0028007772134518855,0.003924864959526237,0.0059085410782327525,0.005458869121117711,0.003393718270149503,0.0055347974530246076,0.004344483388857158,0.004219268587185374,0.003167254495509913,0.003355274437877577,0.00476188428737275,0.004647899945646853,0.0026856640757716025,0.005431726468666218,0.004969775449633266,0.004359797845018852,0.003135595815534827,0.0025166574628123885,0.003699060392432666,0.005780912583122832,0.004403536834967321,0.003854282393468124,0.005972747905357774,0.005598396855016479,0.004070745266781741,0.0036218156336289414,0.004212136698990748,0.0030838483606612007,0.004082600627166201,0.0038945531399024427,0.004101056964830863,0.0042323050048207805,0.00396823514475971,0.0030445715293840768,0.005787445473362086,0.005207305288438134,0.0024261941503499218,0.005481370998760984,0.003986532869829586,0.0026272114276884896,0.004076654851076247,0.0035037528308154062,0.005409571081746175,0.004606926487462691,0.00409483677175875,0.003334146649303787,0.002421228660088686,0.002936157288981297,0.003756577499746527,0.003422646889574232,0.0031144376622959007,0.004116135567685721,0.005695961510548269,0.00566193890931929,0.003768476225727537,0.005944809681898459,0.00597738632876485,0.004092644079342713,0.002694323982825537,0.0051137146124561605,0.004350606010517037,0.0033154760128152804,0.0027482261301019803,0.005630191961373477,0.005131481253613037,0.004158793004722338,0.0028748905424759563,0.0028890229229385877,0.0030800381629217423,0.004022880710043417,0.005137028887955259,0.00306301195898914,0.005492308879822775,0.0037811312982359013,0.004184074238518233,0.005378520112612144,0.003077764148519367,0.003878049635736431,0.003416753835098028,0.004395658508955257,0.004023166394457845,0.004603591973802773,0.0038948036426657935,0.002889521464017047,0.004591717343446818,0.003926594814989891,0.0026843041372265545,0.0038888882180071254,0.0038606940322939427,0.0026043407426122266,0.004896064489551283,0.002745202173066271,0.004905688031087091,0.005460347479898947,0.003257903564306497,0.003980018367134276,0.0029992420221529037,0.0026792055200393437,0.00569802717372282,0.0033761995985760714,0.0033074884618472873,0.0033501071208892506,0.004945361603829292,0.004841950110865643,0.0035366927928695393,0.002644715946366451,0.005467848138232288,0.0029356513060150116,0.005115308772991082,0.005416784586188638,0.0031396483312914327,0.0024500050197787614,0.0037049837466175007,0.00432831055628042,0.004322700344594285,0.004562139212838841,0.005906171380551473,0.0029813994331218934,0.0030971903367953066,0.00445434529040712,0.004065423065734356,0.003449593561282289,0.005367272992217883,0.0056680919553003415,0.004660911219608897,0.005962985559090013,0.0047086257135957495,0.004313010868019954,0.004785194349995671,0.005984514508559776,0.005005696685270042,0.003037402702845868,0.002444191028369018,0.0057252999301785545,0.0038284745038252048,0.003420618313939721,0.004171055996276615,0.0040022570761744,0.004364182474135655,0.004118704667284565,0.00452742847315687,0.004199618815404713,0.0031139694934417803,0.005366778470767836,0.005106216786980416,0.003320038271657598,0.004342344475545371,0.004695743886621923,0.0036607652031248406,0.0043375739379594765,0.004016628911800367,0.0036097139591682896,0.003784359064093212,0.004529580275640528,0.0035325842341160664,0.00461333119594553,0.004408585598856578,0.0028310004558661445,0.003039283512826986,0.0035327154967017133,0.00444269251846281,0.004588126099839036,0.003053437595788525,0.0024797891549365996,0.002832045860745715,0.0038604885091041135,0.0047847432917305956,0.005034062920019506,0.004523973530290273,0.00247330887061037,0.004599250180135495,0.0044616812134895545,0.004483532285110855,0.002448119522849371,0.00399552610819606,0.00442314026925359,0.004032692762174909,0.0031142974881266028,0.004660498187034389,0.004970507051240406,0.00442235891062194,0.0036771396966021382,0.004262220996520799,0.003908339949895897,0.004055732073884953,0.005044029072545073,0.003522043584367717,0.004206351782276284,0.0043081600627064,0.005902640175067037,0.0029640052117037435,0.005868213034060788,0.004141639146851351,0.003913679697724328,0.004417837201916064,0.0024317455964418793,0.0032315270992750297,0.005849141774780503,0.004063605636424132,0.00423681739886023,0.004354431308038113,0.0038935153083290122,0.005520981141823709,0.003551920480154738,0.003906377528593278,0.004790087597721612,0.0026165965350135015,0.003373029699122007,0.0028366938413879866,0.004021584788788106,0.004334070493228653,0.004344453150794469,0.0039967087002362196,0.0032683473238717614,0.004745649669197692,0.003338515751949475,0.005443785326169802,0.0036383776632475696,0.005468771133718211,0.004201755151512725,0.0052198762250098875,0.00408363777758906,0.0031570920104117472,0.004538446266552114,0.004934235360645935,0.004355664349304165,0.002567581323561878,0.004592882048165825,0.0034678859066248433,0.004660028401193226,0.003241979756414488,0.004581637679295781,0.00359245300255964,0.0031332666944235603,0.0026401993477093424,0.0038760138672558776,0.0048301967311696415,0.005087105236921833,0.005390762869277168,0.0034463832127719814,0.003656502621222473,0.0038793178506285626,0.003267238706720364,0.0024638966478651315,0.004981141994024779,0.0041324269429686535,0.004158565604940759,0.0031246509034827128,0.004853737236862638,0.00498890888489202,0.0051744960557555016,0.004835588278188114,0.004761060061453136,0.005482242163026271,0.003351186469429587,0.004780420569761821,0.0036144210178313974,0.004061340310454161,0.004921733419180168,0.00260153702543335,0.0034561014997853733,0.004245613285874396,0.005074865145062876,0.004204530955420352,0.0036319122009836257,0.005645259125519154,0.004236878412998244,0.00391445700777905],\"type\":\"scatter\"}],                        {\"template\":{\"data\":{\"barpolar\":[{\"marker\":{\"line\":{\"color\":\"white\",\"width\":0.5},\"pattern\":{\"fillmode\":\"overlay\",\"size\":10,\"solidity\":0.2}},\"type\":\"barpolar\"}],\"bar\":[{\"error_x\":{\"color\":\"#2a3f5f\"},\"error_y\":{\"color\":\"#2a3f5f\"},\"marker\":{\"line\":{\"color\":\"white\",\"width\":0.5},\"pattern\":{\"fillmode\":\"overlay\",\"size\":10,\"solidity\":0.2}},\"type\":\"bar\"}],\"carpet\":[{\"aaxis\":{\"endlinecolor\":\"#2a3f5f\",\"gridcolor\":\"#C8D4E3\",\"linecolor\":\"#C8D4E3\",\"minorgridcolor\":\"#C8D4E3\",\"startlinecolor\":\"#2a3f5f\"},\"baxis\":{\"endlinecolor\":\"#2a3f5f\",\"gridcolor\":\"#C8D4E3\",\"linecolor\":\"#C8D4E3\",\"minorgridcolor\":\"#C8D4E3\",\"startlinecolor\":\"#2a3f5f\"},\"type\":\"carpet\"}],\"choropleth\":[{\"colorbar\":{\"outlinewidth\":0,\"ticks\":\"\"},\"type\":\"choropleth\"}],\"contourcarpet\":[{\"colorbar\":{\"outlinewidth\":0,\"ticks\":\"\"},\"type\":\"contourcarpet\"}],\"contour\":[{\"colorbar\":{\"outlinewidth\":0,\"ticks\":\"\"},\"colorscale\":[[0.0,\"#0d0887\"],[0.1111111111111111,\"#46039f\"],[0.2222222222222222,\"#7201a8\"],[0.3333333333333333,\"#9c179e\"],[0.4444444444444444,\"#bd3786\"],[0.5555555555555556,\"#d8576b\"],[0.6666666666666666,\"#ed7953\"],[0.7777777777777778,\"#fb9f3a\"],[0.8888888888888888,\"#fdca26\"],[1.0,\"#f0f921\"]],\"type\":\"contour\"}],\"heatmapgl\":[{\"colorbar\":{\"outlinewidth\":0,\"ticks\":\"\"},\"colorscale\":[[0.0,\"#0d0887\"],[0.1111111111111111,\"#46039f\"],[0.2222222222222222,\"#7201a8\"],[0.3333333333333333,\"#9c179e\"],[0.4444444444444444,\"#bd3786\"],[0.5555555555555556,\"#d8576b\"],[0.6666666666666666,\"#ed7953\"],[0.7777777777777778,\"#fb9f3a\"],[0.8888888888888888,\"#fdca26\"],[1.0,\"#f0f921\"]],\"type\":\"heatmapgl\"}],\"heatmap\":[{\"colorbar\":{\"outlinewidth\":0,\"ticks\":\"\"},\"colorscale\":[[0.0,\"#0d0887\"],[0.1111111111111111,\"#46039f\"],[0.2222222222222222,\"#7201a8\"],[0.3333333333333333,\"#9c179e\"],[0.4444444444444444,\"#bd3786\"],[0.5555555555555556,\"#d8576b\"],[0.6666666666666666,\"#ed7953\"],[0.7777777777777778,\"#fb9f3a\"],[0.8888888888888888,\"#fdca26\"],[1.0,\"#f0f921\"]],\"type\":\"heatmap\"}],\"histogram2dcontour\":[{\"colorbar\":{\"outlinewidth\":0,\"ticks\":\"\"},\"colorscale\":[[0.0,\"#0d0887\"],[0.1111111111111111,\"#46039f\"],[0.2222222222222222,\"#7201a8\"],[0.3333333333333333,\"#9c179e\"],[0.4444444444444444,\"#bd3786\"],[0.5555555555555556,\"#d8576b\"],[0.6666666666666666,\"#ed7953\"],[0.7777777777777778,\"#fb9f3a\"],[0.8888888888888888,\"#fdca26\"],[1.0,\"#f0f921\"]],\"type\":\"histogram2dcontour\"}],\"histogram2d\":[{\"colorbar\":{\"outlinewidth\":0,\"ticks\":\"\"},\"colorscale\":[[0.0,\"#0d0887\"],[0.1111111111111111,\"#46039f\"],[0.2222222222222222,\"#7201a8\"],[0.3333333333333333,\"#9c179e\"],[0.4444444444444444,\"#bd3786\"],[0.5555555555555556,\"#d8576b\"],[0.6666666666666666,\"#ed7953\"],[0.7777777777777778,\"#fb9f3a\"],[0.8888888888888888,\"#fdca26\"],[1.0,\"#f0f921\"]],\"type\":\"histogram2d\"}],\"histogram\":[{\"marker\":{\"pattern\":{\"fillmode\":\"overlay\",\"size\":10,\"solidity\":0.2}},\"type\":\"histogram\"}],\"mesh3d\":[{\"colorbar\":{\"outlinewidth\":0,\"ticks\":\"\"},\"type\":\"mesh3d\"}],\"parcoords\":[{\"line\":{\"colorbar\":{\"outlinewidth\":0,\"ticks\":\"\"}},\"type\":\"parcoords\"}],\"pie\":[{\"automargin\":true,\"type\":\"pie\"}],\"scatter3d\":[{\"line\":{\"colorbar\":{\"outlinewidth\":0,\"ticks\":\"\"}},\"marker\":{\"colorbar\":{\"outlinewidth\":0,\"ticks\":\"\"}},\"type\":\"scatter3d\"}],\"scattercarpet\":[{\"marker\":{\"colorbar\":{\"outlinewidth\":0,\"ticks\":\"\"}},\"type\":\"scattercarpet\"}],\"scattergeo\":[{\"marker\":{\"colorbar\":{\"outlinewidth\":0,\"ticks\":\"\"}},\"type\":\"scattergeo\"}],\"scattergl\":[{\"marker\":{\"colorbar\":{\"outlinewidth\":0,\"ticks\":\"\"}},\"type\":\"scattergl\"}],\"scattermapbox\":[{\"marker\":{\"colorbar\":{\"outlinewidth\":0,\"ticks\":\"\"}},\"type\":\"scattermapbox\"}],\"scatterpolargl\":[{\"marker\":{\"colorbar\":{\"outlinewidth\":0,\"ticks\":\"\"}},\"type\":\"scatterpolargl\"}],\"scatterpolar\":[{\"marker\":{\"colorbar\":{\"outlinewidth\":0,\"ticks\":\"\"}},\"type\":\"scatterpolar\"}],\"scatter\":[{\"marker\":{\"colorbar\":{\"outlinewidth\":0,\"ticks\":\"\"}},\"type\":\"scatter\"}],\"scatterternary\":[{\"marker\":{\"colorbar\":{\"outlinewidth\":0,\"ticks\":\"\"}},\"type\":\"scatterternary\"}],\"surface\":[{\"colorbar\":{\"outlinewidth\":0,\"ticks\":\"\"},\"colorscale\":[[0.0,\"#0d0887\"],[0.1111111111111111,\"#46039f\"],[0.2222222222222222,\"#7201a8\"],[0.3333333333333333,\"#9c179e\"],[0.4444444444444444,\"#bd3786\"],[0.5555555555555556,\"#d8576b\"],[0.6666666666666666,\"#ed7953\"],[0.7777777777777778,\"#fb9f3a\"],[0.8888888888888888,\"#fdca26\"],[1.0,\"#f0f921\"]],\"type\":\"surface\"}],\"table\":[{\"cells\":{\"fill\":{\"color\":\"#EBF0F8\"},\"line\":{\"color\":\"white\"}},\"header\":{\"fill\":{\"color\":\"#C8D4E3\"},\"line\":{\"color\":\"white\"}},\"type\":\"table\"}]},\"layout\":{\"annotationdefaults\":{\"arrowcolor\":\"#2a3f5f\",\"arrowhead\":0,\"arrowwidth\":1},\"autotypenumbers\":\"strict\",\"coloraxis\":{\"colorbar\":{\"outlinewidth\":0,\"ticks\":\"\"}},\"colorscale\":{\"diverging\":[[0,\"#8e0152\"],[0.1,\"#c51b7d\"],[0.2,\"#de77ae\"],[0.3,\"#f1b6da\"],[0.4,\"#fde0ef\"],[0.5,\"#f7f7f7\"],[0.6,\"#e6f5d0\"],[0.7,\"#b8e186\"],[0.8,\"#7fbc41\"],[0.9,\"#4d9221\"],[1,\"#276419\"]],\"sequential\":[[0.0,\"#0d0887\"],[0.1111111111111111,\"#46039f\"],[0.2222222222222222,\"#7201a8\"],[0.3333333333333333,\"#9c179e\"],[0.4444444444444444,\"#bd3786\"],[0.5555555555555556,\"#d8576b\"],[0.6666666666666666,\"#ed7953\"],[0.7777777777777778,\"#fb9f3a\"],[0.8888888888888888,\"#fdca26\"],[1.0,\"#f0f921\"]],\"sequentialminus\":[[0.0,\"#0d0887\"],[0.1111111111111111,\"#46039f\"],[0.2222222222222222,\"#7201a8\"],[0.3333333333333333,\"#9c179e\"],[0.4444444444444444,\"#bd3786\"],[0.5555555555555556,\"#d8576b\"],[0.6666666666666666,\"#ed7953\"],[0.7777777777777778,\"#fb9f3a\"],[0.8888888888888888,\"#fdca26\"],[1.0,\"#f0f921\"]]},\"colorway\":[\"#636efa\",\"#EF553B\",\"#00cc96\",\"#ab63fa\",\"#FFA15A\",\"#19d3f3\",\"#FF6692\",\"#B6E880\",\"#FF97FF\",\"#FECB52\"],\"font\":{\"color\":\"#2a3f5f\"},\"geo\":{\"bgcolor\":\"white\",\"lakecolor\":\"white\",\"landcolor\":\"white\",\"showlakes\":true,\"showland\":true,\"subunitcolor\":\"#C8D4E3\"},\"hoverlabel\":{\"align\":\"left\"},\"hovermode\":\"closest\",\"mapbox\":{\"style\":\"light\"},\"paper_bgcolor\":\"white\",\"plot_bgcolor\":\"white\",\"polar\":{\"angularaxis\":{\"gridcolor\":\"#EBF0F8\",\"linecolor\":\"#EBF0F8\",\"ticks\":\"\"},\"bgcolor\":\"white\",\"radialaxis\":{\"gridcolor\":\"#EBF0F8\",\"linecolor\":\"#EBF0F8\",\"ticks\":\"\"}},\"scene\":{\"xaxis\":{\"backgroundcolor\":\"white\",\"gridcolor\":\"#DFE8F3\",\"gridwidth\":2,\"linecolor\":\"#EBF0F8\",\"showbackground\":true,\"ticks\":\"\",\"zerolinecolor\":\"#EBF0F8\"},\"yaxis\":{\"backgroundcolor\":\"white\",\"gridcolor\":\"#DFE8F3\",\"gridwidth\":2,\"linecolor\":\"#EBF0F8\",\"showbackground\":true,\"ticks\":\"\",\"zerolinecolor\":\"#EBF0F8\"},\"zaxis\":{\"backgroundcolor\":\"white\",\"gridcolor\":\"#DFE8F3\",\"gridwidth\":2,\"linecolor\":\"#EBF0F8\",\"showbackground\":true,\"ticks\":\"\",\"zerolinecolor\":\"#EBF0F8\"}},\"shapedefaults\":{\"line\":{\"color\":\"#2a3f5f\"}},\"ternary\":{\"aaxis\":{\"gridcolor\":\"#DFE8F3\",\"linecolor\":\"#A2B1C6\",\"ticks\":\"\"},\"baxis\":{\"gridcolor\":\"#DFE8F3\",\"linecolor\":\"#A2B1C6\",\"ticks\":\"\"},\"bgcolor\":\"white\",\"caxis\":{\"gridcolor\":\"#DFE8F3\",\"linecolor\":\"#A2B1C6\",\"ticks\":\"\"}},\"title\":{\"x\":0.05},\"xaxis\":{\"automargin\":true,\"gridcolor\":\"#EBF0F8\",\"linecolor\":\"#EBF0F8\",\"ticks\":\"\",\"title\":{\"standoff\":15},\"zerolinecolor\":\"#EBF0F8\",\"zerolinewidth\":2},\"yaxis\":{\"automargin\":true,\"gridcolor\":\"#EBF0F8\",\"linecolor\":\"#EBF0F8\",\"ticks\":\"\",\"title\":{\"standoff\":15},\"zerolinecolor\":\"#EBF0F8\",\"zerolinewidth\":2}}},\"xaxis\":{\"title\":{\"text\":\"Annualised Risk (Volatility)\"}},\"yaxis\":{\"title\":{\"text\":\"Annualised Return\"}},\"title\":{\"text\":\"Sample of Random Portfolios\"},\"coloraxis\":{\"colorbar\":{\"title\":{\"text\":\"Sharpe Ratio\"}}}},                        {\"responsive\": true}                    ).then(function(){\n",
              "                            \n",
              "var gd = document.getElementById('ea167152-a4cf-444f-9977-70f346e2796a');\n",
              "var x = new MutationObserver(function (mutations, observer) {{\n",
              "        var display = window.getComputedStyle(gd).display;\n",
              "        if (!display || display === 'none') {{\n",
              "            console.log([gd, 'removed!']);\n",
              "            Plotly.purge(gd);\n",
              "            observer.disconnect();\n",
              "        }}\n",
              "}});\n",
              "\n",
              "// Listen for the removal of the full notebook cells\n",
              "var notebookContainer = gd.closest('#notebook-container');\n",
              "if (notebookContainer) {{\n",
              "    x.observe(notebookContainer, {childList: true});\n",
              "}}\n",
              "\n",
              "// Listen for the clearing of the current output cell\n",
              "var outputEl = gd.closest('.output');\n",
              "if (outputEl) {{\n",
              "    x.observe(outputEl, {childList: true});\n",
              "}}\n",
              "\n",
              "                        })                };                            </script>        </div>\n",
              "</body>\n",
              "</html>"
            ]
          },
          "metadata": {}
        }
      ]
    },
    {
      "cell_type": "code",
      "source": [
        "print(min_asset[0], ' : ', min_weights[0])\n",
        "print(min_asset[1], ' : ', min_weights[1])"
      ],
      "metadata": {
        "colab": {
          "base_uri": "https://localhost:8080/"
        },
        "id": "X-Toe5E-ZbeA",
        "outputId": "bc8290cf-9a86-437b-d5b8-3186f04e3956"
      },
      "execution_count": 772,
      "outputs": [
        {
          "output_type": "stream",
          "name": "stdout",
          "text": [
            "AAPL  :  0.18361998981543495\n",
            "PG  :  0.8163800101845651\n"
          ]
        }
      ]
    },
    {
      "cell_type": "code",
      "source": [
        "portfolio_min_variance_return = min_weights[0]*mus['PG'] + min_weights[1]*mus['AAPL']\n",
        "portfolio_min_variance_return_std = sqrt(min_portfolio_variance)\n",
        "print('Ожидаемая доходность : ', portfolio_min_variance_return)\n",
        "print('Cтандартное отклонение : ', portfolio_min_variance_return_std)\n",
        "temp = weeklyReturns['AAPL']*(min_weights[1]) + min_weights[0]*weeklyReturns['PG'] - brs\n",
        "\n",
        "sharp = (temp.mean())/portfolio_min_variance_return_std\n",
        "print('Коэффициент Шарпа : ', sharp)"
      ],
      "metadata": {
        "colab": {
          "base_uri": "https://localhost:8080/"
        },
        "id": "4wJG3lFmaphY",
        "outputId": "9fd47cd2-45e7-4c41-b335-b1d6fe111e7c"
      },
      "execution_count": 773,
      "outputs": [
        {
          "output_type": "stream",
          "name": "stdout",
          "text": [
            "Ожидаемая доходность :  0.005329305195947049\n",
            "Cтандартное отклонение :  0.020177072540570575\n",
            "Коэффициент Шарпа :  -0.4792912740244072\n"
          ]
        }
      ]
    },
    {
      "cell_type": "code",
      "source": [
        "weeklyReturns[\"NR\"] = np.full(weeklyReturns.shape[0], brs)\n",
        "weeklyReturns"
      ],
      "metadata": {
        "colab": {
          "base_uri": "https://localhost:8080/",
          "height": 455
        },
        "id": "5SGNvWM-eufD",
        "outputId": "a1f23477-b79e-4d73-c844-d436ffdbeee8"
      },
      "execution_count": 774,
      "outputs": [
        {
          "output_type": "execute_result",
          "data": {
            "text/plain": [
              "                AAPL        PG     NR\n",
              "Date                                 \n",
              "2010-01-08 -0.005461  0.017515  0.015\n",
              "2010-01-15 -0.006494 -0.028256  0.015\n",
              "2010-01-22 -0.042197  0.038150  0.015\n",
              "2010-01-29 -0.036329 -0.004540  0.015\n",
              "2010-02-05  0.034470  0.009121  0.015\n",
              "...              ...       ...    ...\n",
              "2021-11-26  0.011239 -0.009418  0.015\n",
              "2021-12-03  0.065950  0.041152  0.015\n",
              "2021-12-10 -0.013176  0.050809  0.015\n",
              "2021-12-17  0.023337 -0.006269  0.015\n",
              "2021-12-24  0.010892  0.016677  0.015\n",
              "\n",
              "[625 rows x 3 columns]"
            ],
            "text/html": [
              "\n",
              "  <div id=\"df-db29fedd-2791-4110-9a8c-d00fbb71a638\">\n",
              "    <div class=\"colab-df-container\">\n",
              "      <div>\n",
              "<style scoped>\n",
              "    .dataframe tbody tr th:only-of-type {\n",
              "        vertical-align: middle;\n",
              "    }\n",
              "\n",
              "    .dataframe tbody tr th {\n",
              "        vertical-align: top;\n",
              "    }\n",
              "\n",
              "    .dataframe thead th {\n",
              "        text-align: right;\n",
              "    }\n",
              "</style>\n",
              "<table border=\"1\" class=\"dataframe\">\n",
              "  <thead>\n",
              "    <tr style=\"text-align: right;\">\n",
              "      <th></th>\n",
              "      <th>AAPL</th>\n",
              "      <th>PG</th>\n",
              "      <th>NR</th>\n",
              "    </tr>\n",
              "    <tr>\n",
              "      <th>Date</th>\n",
              "      <th></th>\n",
              "      <th></th>\n",
              "      <th></th>\n",
              "    </tr>\n",
              "  </thead>\n",
              "  <tbody>\n",
              "    <tr>\n",
              "      <th>2010-01-08</th>\n",
              "      <td>-0.005461</td>\n",
              "      <td>0.017515</td>\n",
              "      <td>0.015</td>\n",
              "    </tr>\n",
              "    <tr>\n",
              "      <th>2010-01-15</th>\n",
              "      <td>-0.006494</td>\n",
              "      <td>-0.028256</td>\n",
              "      <td>0.015</td>\n",
              "    </tr>\n",
              "    <tr>\n",
              "      <th>2010-01-22</th>\n",
              "      <td>-0.042197</td>\n",
              "      <td>0.038150</td>\n",
              "      <td>0.015</td>\n",
              "    </tr>\n",
              "    <tr>\n",
              "      <th>2010-01-29</th>\n",
              "      <td>-0.036329</td>\n",
              "      <td>-0.004540</td>\n",
              "      <td>0.015</td>\n",
              "    </tr>\n",
              "    <tr>\n",
              "      <th>2010-02-05</th>\n",
              "      <td>0.034470</td>\n",
              "      <td>0.009121</td>\n",
              "      <td>0.015</td>\n",
              "    </tr>\n",
              "    <tr>\n",
              "      <th>...</th>\n",
              "      <td>...</td>\n",
              "      <td>...</td>\n",
              "      <td>...</td>\n",
              "    </tr>\n",
              "    <tr>\n",
              "      <th>2021-11-26</th>\n",
              "      <td>0.011239</td>\n",
              "      <td>-0.009418</td>\n",
              "      <td>0.015</td>\n",
              "    </tr>\n",
              "    <tr>\n",
              "      <th>2021-12-03</th>\n",
              "      <td>0.065950</td>\n",
              "      <td>0.041152</td>\n",
              "      <td>0.015</td>\n",
              "    </tr>\n",
              "    <tr>\n",
              "      <th>2021-12-10</th>\n",
              "      <td>-0.013176</td>\n",
              "      <td>0.050809</td>\n",
              "      <td>0.015</td>\n",
              "    </tr>\n",
              "    <tr>\n",
              "      <th>2021-12-17</th>\n",
              "      <td>0.023337</td>\n",
              "      <td>-0.006269</td>\n",
              "      <td>0.015</td>\n",
              "    </tr>\n",
              "    <tr>\n",
              "      <th>2021-12-24</th>\n",
              "      <td>0.010892</td>\n",
              "      <td>0.016677</td>\n",
              "      <td>0.015</td>\n",
              "    </tr>\n",
              "  </tbody>\n",
              "</table>\n",
              "<p>625 rows × 3 columns</p>\n",
              "</div>\n",
              "      <button class=\"colab-df-convert\" onclick=\"convertToInteractive('df-db29fedd-2791-4110-9a8c-d00fbb71a638')\"\n",
              "              title=\"Convert this dataframe to an interactive table.\"\n",
              "              style=\"display:none;\">\n",
              "        \n",
              "  <svg xmlns=\"http://www.w3.org/2000/svg\" height=\"24px\"viewBox=\"0 0 24 24\"\n",
              "       width=\"24px\">\n",
              "    <path d=\"M0 0h24v24H0V0z\" fill=\"none\"/>\n",
              "    <path d=\"M18.56 5.44l.94 2.06.94-2.06 2.06-.94-2.06-.94-.94-2.06-.94 2.06-2.06.94zm-11 1L8.5 8.5l.94-2.06 2.06-.94-2.06-.94L8.5 2.5l-.94 2.06-2.06.94zm10 10l.94 2.06.94-2.06 2.06-.94-2.06-.94-.94-2.06-.94 2.06-2.06.94z\"/><path d=\"M17.41 7.96l-1.37-1.37c-.4-.4-.92-.59-1.43-.59-.52 0-1.04.2-1.43.59L10.3 9.45l-7.72 7.72c-.78.78-.78 2.05 0 2.83L4 21.41c.39.39.9.59 1.41.59.51 0 1.02-.2 1.41-.59l7.78-7.78 2.81-2.81c.8-.78.8-2.07 0-2.86zM5.41 20L4 18.59l7.72-7.72 1.47 1.35L5.41 20z\"/>\n",
              "  </svg>\n",
              "      </button>\n",
              "      \n",
              "  <style>\n",
              "    .colab-df-container {\n",
              "      display:flex;\n",
              "      flex-wrap:wrap;\n",
              "      gap: 12px;\n",
              "    }\n",
              "\n",
              "    .colab-df-convert {\n",
              "      background-color: #E8F0FE;\n",
              "      border: none;\n",
              "      border-radius: 50%;\n",
              "      cursor: pointer;\n",
              "      display: none;\n",
              "      fill: #1967D2;\n",
              "      height: 32px;\n",
              "      padding: 0 0 0 0;\n",
              "      width: 32px;\n",
              "    }\n",
              "\n",
              "    .colab-df-convert:hover {\n",
              "      background-color: #E2EBFA;\n",
              "      box-shadow: 0px 1px 2px rgba(60, 64, 67, 0.3), 0px 1px 3px 1px rgba(60, 64, 67, 0.15);\n",
              "      fill: #174EA6;\n",
              "    }\n",
              "\n",
              "    [theme=dark] .colab-df-convert {\n",
              "      background-color: #3B4455;\n",
              "      fill: #D2E3FC;\n",
              "    }\n",
              "\n",
              "    [theme=dark] .colab-df-convert:hover {\n",
              "      background-color: #434B5C;\n",
              "      box-shadow: 0px 1px 3px 1px rgba(0, 0, 0, 0.15);\n",
              "      filter: drop-shadow(0px 1px 2px rgba(0, 0, 0, 0.3));\n",
              "      fill: #FFFFFF;\n",
              "    }\n",
              "  </style>\n",
              "\n",
              "      <script>\n",
              "        const buttonEl =\n",
              "          document.querySelector('#df-db29fedd-2791-4110-9a8c-d00fbb71a638 button.colab-df-convert');\n",
              "        buttonEl.style.display =\n",
              "          google.colab.kernel.accessAllowed ? 'block' : 'none';\n",
              "\n",
              "        async function convertToInteractive(key) {\n",
              "          const element = document.querySelector('#df-db29fedd-2791-4110-9a8c-d00fbb71a638');\n",
              "          const dataTable =\n",
              "            await google.colab.kernel.invokeFunction('convertToInteractive',\n",
              "                                                     [key], {});\n",
              "          if (!dataTable) return;\n",
              "\n",
              "          const docLinkHtml = 'Like what you see? Visit the ' +\n",
              "            '<a target=\"_blank\" href=https://colab.research.google.com/notebooks/data_table.ipynb>data table notebook</a>'\n",
              "            + ' to learn more about interactive tables.';\n",
              "          element.innerHTML = '';\n",
              "          dataTable['output_type'] = 'display_data';\n",
              "          await google.colab.output.renderOutput(dataTable, element);\n",
              "          const docLink = document.createElement('div');\n",
              "          docLink.innerHTML = docLinkHtml;\n",
              "          element.appendChild(docLink);\n",
              "        }\n",
              "      </script>\n",
              "    </div>\n",
              "  </div>\n",
              "  "
            ]
          },
          "metadata": {},
          "execution_count": 774
        }
      ]
    },
    {
      "cell_type": "code",
      "source": [
        "mus = (weeklyReturns.mean())\n",
        "cov = weeklyReturns.cov()"
      ],
      "metadata": {
        "id": "e4aWu5hgfwOC"
      },
      "execution_count": 775,
      "outputs": []
    },
    {
      "cell_type": "code",
      "source": [
        "#- How many assests to include in each portfolio\n",
        "n_assets = 3\n",
        "#-- How many portfolios to generate\n",
        "n_portfolios = 1000\n",
        "\n",
        "#-- Initialize empty list to store mean-variance pairs for plotting\n",
        "mean_variance_pairs = []\n",
        "\n",
        "min_portfolio_variance = 1000\n",
        "min_weights = []\n",
        "min_asset = []\n",
        "\n",
        "np.random.seed(75)\n",
        "#-- Loop through and generate lots of random portfolios\n",
        "for i in range(n_portfolios):\n",
        "    #- Choose assets randomly without replacement\n",
        "    assets = np.random.choice(list(weeklyReturns.columns), n_assets, replace=False)\n",
        "    #- Choose weights randomly\n",
        "    weights = np.random.rand(n_assets)\n",
        "    #- Ensure weights sum to 1\n",
        "    weights = weights/sum(weights)\n",
        "\n",
        "    #-- Loop over asset pairs and compute portfolio return and variance\n",
        "   \n",
        "    portfolio_E_Variance = 0\n",
        "    portfolio_E_Return = 0\n",
        "    for i in range(len(assets)):\n",
        "        portfolio_E_Return += weights[i] * mus.loc[assets[i]]\n",
        "        for j in range(len(assets)):\n",
        "            #-- Add variance/covariance for each asset pair\n",
        "            #- Note that when i==j this adds the variance\n",
        "            portfolio_E_Variance += weights[i] * weights[j] * cov.loc[assets[i], assets[j]]\n",
        "            \n",
        "    #-- Add the mean/variance pairs to a list for plotting\n",
        "    mean_variance_pairs.append([portfolio_E_Return, portfolio_E_Variance])\n",
        "    if(portfolio_E_Variance < min_portfolio_variance):\n",
        "      min_portfolio_variance = portfolio_E_Variance\n",
        "      min_weights = weights\n",
        "      min_asset = assets"
      ],
      "metadata": {
        "id": "u_P-hkxsfwaL"
      },
      "execution_count": 776,
      "outputs": []
    },
    {
      "cell_type": "code",
      "source": [
        "#-- Plot the risk vs. return of randomly generated portfolios\n",
        "#- Convert the list from before into an array for easy plotting\n",
        "mean_variance_pairs = np.array(mean_variance_pairs)\n",
        "risk_free_rate=0 #-- Include risk free rate here for sharpe ratio\n",
        "\n",
        "#-- Create Plot\n",
        "fig = go.Figure()\n",
        "fig.add_trace(go.Scatter(x=mean_variance_pairs[:,1]**0.5, \n",
        "                         y=mean_variance_pairs[:,0], \n",
        "                      #- Add color scale for sharpe ratio   \n",
        "                      marker=dict(color=(mean_variance_pairs[:,0]-risk_free_rate)/(mean_variance_pairs[:,1]**0.5), \n",
        "                                  showscale=True, \n",
        "                                  size=7,\n",
        "                                  line=dict(width=1),\n",
        "                                  colorscale=\"RdBu\",\n",
        "                                  colorbar=dict(title=\"Sharpe<br>Ratio\")\n",
        "                                 ), \n",
        "                      mode='markers'))\n",
        "#- Add title/labels\n",
        "fig.update_layout(template='plotly_white',\n",
        "                  xaxis=dict(title='Annualised Risk (Volatility)'),\n",
        "                  yaxis=dict(title='Annualised Return'),\n",
        "                  title='Sample of Random Portfolios',\n",
        "                  coloraxis_colorbar=dict(title=\"Sharpe Ratio\"))"
      ],
      "metadata": {
        "colab": {
          "base_uri": "https://localhost:8080/",
          "height": 541
        },
        "outputId": "5c069efa-3f94-43c0-836e-6e2b8788b4d6",
        "id": "N0bS5sU9fwaN"
      },
      "execution_count": 777,
      "outputs": [
        {
          "output_type": "display_data",
          "data": {
            "text/html": [
              "<html>\n",
              "<head><meta charset=\"utf-8\" /></head>\n",
              "<body>\n",
              "    <div>            <script src=\"https://cdnjs.cloudflare.com/ajax/libs/mathjax/2.7.5/MathJax.js?config=TeX-AMS-MML_SVG\"></script><script type=\"text/javascript\">if (window.MathJax) {MathJax.Hub.Config({SVG: {font: \"STIX-Web\"}});}</script>                <script type=\"text/javascript\">window.PlotlyConfig = {MathJaxConfig: 'local'};</script>\n",
              "        <script src=\"https://cdn.plot.ly/plotly-2.8.3.min.js\"></script>                <div id=\"769dfe78-3415-4814-8029-0014190357e6\" class=\"plotly-graph-div\" style=\"height:525px; width:100%;\"></div>            <script type=\"text/javascript\">                                    window.PLOTLYENV=window.PLOTLYENV || {};                                    if (document.getElementById(\"769dfe78-3415-4814-8029-0014190357e6\")) {                    Plotly.newPlot(                        \"769dfe78-3415-4814-8029-0014190357e6\",                        [{\"marker\":{\"color\":[0.55570195830068,0.6117776436261518,0.5551696781596158,0.5668288170158174,0.6196536169617781,0.5400144873001946,0.7157421290817905,0.5535571332007329,1.449564382521625,0.7021201082567176,0.710576645075314,1.0613061370423715,0.17756517940587951,0.7778460115658372,0.2643100768536142,0.6353095459799715,0.4198163259811029,0.46269985248688417,0.3257025356358231,0.3189295829188667,0.460599630532059,0.7923820311709627,0.916787393654493,0.3471798965289256,0.5292163585425544,0.5427529241841246,0.1670887579937322,0.7378590376434918,0.594058025516883,1.345627238129775,0.47756839104065313,0.4023867086367523,0.5113881084568295,0.5819191576351419,0.3714316442339598,0.6587012392794407,0.5723499426591278,0.815685687285429,0.8260795063374363,0.5017499335820383,0.22092200703014217,0.748944258897134,1.8043583197570081,0.8910260253033362,0.5569691236486122,0.18600618192678633,0.9599317692367193,0.7842361052141004,0.711089752622062,0.6016424345881429,0.29029997128524687,0.2830519643514184,0.3573458651792874,0.5568177639331906,0.27826204170089225,0.23985743783942873,0.2964785994961446,0.46001679393944217,0.8671909330739088,0.6728624649085343,0.17964528033575056,0.26480150093335636,0.42208956387770896,2.307899166051966,0.24780755601705373,0.5449927699011083,0.506096636009787,0.7196584445122077,0.8114669488688037,0.23888552951547848,0.44474051792562674,0.6545132627764808,0.5753614910020264,2.135574754145763,2.442605000729333,0.2060221038641185,0.39939823208190156,0.4204900057010787,1.1344668624747198,0.8041738689967682,0.2397739904135503,0.25260115979168546,0.46099618834682854,0.39236131749352693,0.4917616483419754,0.34341867704209766,0.5676430516313962,0.5346846132850038,0.43331163451315774,0.17235576512467288,0.6554874236185284,0.323357329885471,0.4732214526908278,0.3515857754502263,0.568000142390872,0.3876679087024604,0.2968585927899269,0.30247174835339014,0.8761762175620491,0.6513637235978523,0.5475333275382624,0.45198043921736414,0.24090964510862248,0.3276905080850604,0.8255461700997143,0.45756935396878695,0.5372919857401774,0.6182830639699435,0.5133587097302565,0.4198072997019305,0.5402542928075157,0.5261426338645669,0.5267579179034206,0.48813381977286485,0.2859131370945186,0.922124149864285,0.6060290999921889,0.2208604330452663,0.23127279904577094,0.540503221317713,0.6278273966781658,0.5913798952009377,0.7628300476625586,0.5041603071862586,0.5875601630342404,0.7197534932125497,0.5553312156630336,0.21317996079129023,0.5971204543883198,0.3362605593821207,0.4992287320376978,0.5462616933044978,0.18801795668736856,0.3536769923178662,0.6863099871354492,0.5441313415691663,0.7351419880037149,0.23269695466871806,0.9807326502448053,1.031052840498172,0.2593233806119028,0.6410738767359829,1.0205692177037198,0.20643993726406043,0.20241612177978383,0.4694729869110529,0.4571267438425139,0.5281765565627659,0.5572238471174894,0.5452657651311615,0.4612780236515703,0.9787100532826706,0.5364055596579183,0.1752452406014157,0.2130285920796593,0.21402553991857026,0.23870271698223344,0.14351865738414998,0.42033712573280746,0.5561312561278563,0.3740625633887358,0.49275390736444025,0.35343150931896816,0.19235119115944557,0.2571552193789879,0.5282923141005778,0.34211608660895837,1.7797241822957512,0.6778308770976689,0.7197731437883912,0.4922787421913258,0.18551579789387623,0.5269407188032073,0.6331088174270754,0.3264987394018876,0.7192474906234805,0.4938252914107026,1.6332345297171966,0.23124564054341798,0.5521146894749429,0.1294280971823375,0.19800506935286263,2.708361210979935,1.6587365172418755,0.46740353673670354,1.3589753006637786,0.7098488521217817,0.5390048175541224,0.5168009120865773,0.24088572408943834,0.2874195539286085,0.23644004563214258,0.26409211438276675,0.30559644621372956,0.5824184884309631,0.6598198658143957,0.31055475393604925,0.3125436535094716,0.5105216481830931,0.8555873470310061,0.45047454051289676,0.5673014238796741,1.1646431100201178,0.45988987169403067,0.5089335257079302,0.9380198620462529,0.5145624580922935,0.7123920764497413,0.49545361939949767,0.5438515358350973,0.4358021686941844,0.5287005260392781,0.42454312283596757,0.41388669555149027,0.5350495815152535,0.5444063789460514,0.257242407803037,0.24628667106115087,1.012174961195273,1.28625804122599,0.38639488127258215,0.26974802778273665,0.4408827187739347,0.6288037587854972,0.674191625813089,0.784969304940964,0.5916864770184892,0.24953331031882456,0.46034526618912186,0.33148844959643065,0.48895204788599417,0.9788979211687485,0.24196096406271753,0.25453674493101136,0.25232204037732303,0.998452182513678,0.4862353565961879,0.6996794627670547,1.5157335042647815,0.9018527392135651,0.23934699515061317,0.5186507983461931,0.26343730106660196,0.34444742803931255,0.3076571186025715,0.37014320517966903,0.6387007022525658,0.9901680639531455,0.183237661081483,0.25808097644297406,0.3894031879973757,0.18707522586001038,1.2589696282289553,0.19708435167524901,0.2637476575523587,0.634060087905295,0.4316933819534989,0.5623162830235391,0.9025677563084866,0.36046490403385306,1.9797151413835132,0.1885266558020017,0.3236094273584198,0.312621130254484,0.734425374522185,1.0563898986956484,0.7626344115820501,0.6094576679891371,0.36608779435565963,0.28491016748621584,2.3971837519579084,0.2753139767281673,0.9479306029906015,0.5539044269760653,0.8612749852793146,0.33835594482425235,1.705666295315152,0.6701920001995879,0.3547294160717184,0.5347075108635689,0.696304484455819,2.4015007902946754,0.4299199878543784,0.23800741338481415,0.5565493987342057,1.3405870118310848,0.7422914769607571,0.5036351470497764,0.44690675492745835,2.5905095466482897,0.3337041173725727,0.7495992093367759,0.47100016559314484,0.21736682997257367,0.2490930245149398,0.17667589383143775,0.4536617870475026,0.40213488788566065,0.58072541829649,0.40014896579454806,0.25637063748863936,2.7243179845437777,0.24466142025509308,1.37200086429406,0.39056793320078215,1.1233680006602644,0.5345115287707821,0.398778756194577,0.29102731611858307,1.5170811878833195,1.0825816889000845,0.3283765175639524,0.2731633955466206,0.7621594016706115,1.1487406932974558,0.7626827998535172,0.6696978188675416,0.2874824959674488,0.18719449270454347,0.4390965204295855,1.2130654044173266,0.5809133111361469,0.47256958562935003,0.4019786535836291,0.3735531214318133,0.2667648595298979,0.2695990458649627,0.26787466671010995,1.1519573655110271,0.6495967352340808,0.8253055328829535,0.26785421816699234,1.2149662132612584,1.1894519804002144,1.9399111401361586,0.19309331212230665,0.27598027419514776,0.49315442530220344,0.8751595504558991,0.4614229339528438,0.3816602384077499,0.36616620256889526,1.2595268101273276,0.2457034001473741,0.21492578977506255,0.17186038227419498,3.66985554591183,0.5280234696792957,0.25939764100918566,0.3837709466334156,0.39956219356836165,0.4147058002942233,0.23877596254640301,0.9564766318157922,0.9796480755780679,0.4709654908244145,0.5561576056620334,9.452848421620615,0.6885183811889266,0.8571997492810237,1.1130817360760363,0.7177540249707018,0.6863795215597713,0.40470248528695063,0.41966037256992317,0.3590380448168533,1.4359981855554216,0.24031301005275119,0.567950377267435,0.26259966940935714,0.55138012840007,0.7198123114171213,0.9559702524083583,0.25071998666745504,0.36743665782964047,0.5838829473263619,0.6374757790792023,0.371767355620989,0.6279073519475913,0.3601845371844286,0.9246953175321377,0.5546899897298929,0.4909044153945002,0.7430150247938078,0.2853849103615412,0.43027714951980567,1.9603863340270022,0.8779570158600646,0.884178538342609,0.3586184136174428,0.3042085902366597,0.6191281625556151,0.2971419977974243,0.3612392529789183,0.5600399333202566,0.7785124806651333,0.5761190672582311,0.510904830907927,0.4186068519774809,0.5783002496426622,1.1631913088007644,0.694167684539531,0.5379301217170084,0.2527496251367211,0.7466712293693066,0.35316643928390623,0.26020022198623893,0.5423120507473098,0.15966962371533266,0.5521771910559368,2.375027084447667,0.24978437440225246,0.5358137519206396,1.3540347144230338,0.6197359560787904,0.30056728606607613,0.706588594522734,0.4796150395445906,0.21720372662531595,0.6284341274927172,0.9409444754710702,0.32437469121191276,0.7921223627065764,0.281475115563795,0.5555848182828642,1.019981344122268,0.49025399452231394,0.8684439769821308,1.0850980114742668,0.325464962312653,0.7462945294194587,0.24846891702555216,0.6722641809585959,0.3711539642111174,1.2039618750226622,1.0422535630945353,0.27084730304391114,0.31155291404102287,0.17813691102821466,0.635131375176107,0.4116201123825393,0.5464717458867743,0.8058113306689628,0.9576121890812971,0.3976588418268651,0.227081748124312,0.8878488973981699,0.22825806776460772,0.7306565453023546,0.3233722675485273,0.4774344434807041,0.36391575765760015,0.520493243120928,0.5835916867383238,1.7374438801324614,0.25869518648849676,0.23658934918723382,0.6923276960582687,0.8723996035570089,0.4740213698673646,1.572784194285525,0.20298131509191053,0.23559402121658973,0.29167458364659465,0.6180782666348503,0.7607357419769842,0.8562992240285998,0.3542240874477616,1.996122724369374,0.18934831246649497,0.384824852826557,0.5962808145525752,2.137874023764252,0.5561523346940105,0.4883109358041508,0.3008384113393925,0.3373572780876792,0.21805732819985002,0.3297978469049466,0.3249530759417745,0.33987386997908353,0.5518353194225329,0.8201881024649109,0.42087964012621276,0.35580863254198075,0.2714832509769429,0.5874183762906479,0.3185394670763608,0.5785641965795103,0.3103877204641745,0.21391943325372817,0.25269040933697656,0.403676779764022,0.5333973888893588,0.7217423991691279,0.9950784850792421,0.23345315665401997,0.5621590527721655,0.2778076593715937,0.20247983142342585,0.2335381770458947,0.7514486677576369,0.4156992512404714,0.9164815749653342,0.27137651819291453,0.2455263128660019,0.6250760776208052,0.3438897397125051,0.5456911574796128,0.28476996096683893,0.34426733943804344,0.28957778551101576,0.7453915417144982,0.6121969089961546,0.1724590622565968,1.8560262108171302,0.6631447495293593,0.2741010527879511,0.4893328525727354,0.36361231157837454,0.46920058728357844,0.673518555565828,0.46777773240658643,0.28946434810435706,0.27431069339308006,0.7339013822465772,0.5463656707264315,0.7864910277763552,0.46865926088903886,2.172436038128074,0.3865401177980227,0.22884615157527005,0.590392926207066,0.6590061873543425,0.24991453374776462,1.1182821416367983,0.18396957473393863,0.36201362194962383,0.60389199207565,0.451940091883912,0.6818645622602295,0.6626419068985939,0.3188135466062515,0.34211652150028576,0.6714293521302681,1.512910965630566,0.6386467362729361,0.6841035632329795,0.5585637036567104,0.45083096839042497,0.2252172760549038,0.3273864565555021,0.4722511812469218,1.0890399435405815,1.3974282081964349,0.427868380194876,0.8230031393282471,0.6798325480251804,0.2755199780717072,0.4568955333069811,0.36434140842716717,0.23520863311947918,0.2979259128633711,0.6469366432937914,0.6850975934171187,0.36666403322178737,1.2527800889444722,0.876548569162508,0.3518467140694875,0.6160829204732481,1.109962999855383,0.4138678238609544,0.2765296936188259,0.6169056126558654,0.5910599760784881,0.4276783487413275,0.5901428967317641,1.420048096498244,0.28826664991471646,0.700496618625218,2.32981104460078,0.24455467204900858,0.6089502823037417,0.6363495152980476,0.5892624263595155,1.2621746628598314,0.42819623153856123,0.72484022768838,0.3493957786832151,0.9718097116435095,0.5969012781049085,0.2516873448286842,0.3139653204736245,0.1986847823784007,0.7114538533914361,0.21544403007209773,0.7680262838755713,0.47172993532207913,0.19489058744572352,0.7640227374054405,0.3562480872238139,0.2202894379290489,0.26811336093587507,0.42273282849579996,0.5489154990651253,0.5337133119717461,0.46596070612014157,0.28445397296104263,0.5921255140893072,0.34759926990070183,0.27576291501289274,0.688967673569317,0.8770784670836628,1.1586651853403018,0.4566997769050514,0.6815982367054494,0.3465505759071904,0.21247743558349028,0.33495112636943025,0.9938892049626458,0.2592368370232273,0.6047635047344486,0.6492925266540956,0.5453950983715191,0.5311596033447655,0.4097003015113573,1.2320843621384583,0.6628747104985663,0.20281753929884347,0.32251119636226444,0.6846874405923592,0.30709559114463036,0.7470903720631789,0.2624792567412099,0.5439878346481186,0.6568676620826951,0.23410797756143012,0.2345587180485569,1.4246607834430116,0.27631351541724036,0.49815557759192186,0.6143665658325776,0.8230365673740394,0.2044220761849165,0.18616454277788308,0.48431184331525506,0.71727494457031,0.3782821861509682,0.331969946344425,0.3048988051466357,0.2516944492295227,1.0755356029055891,1.0800306403887745,0.2691772595571577,0.738807892240804,0.31429322155524964,0.5687777205742072,0.6050930206043015,0.2800302325342092,0.5181884102781178,0.6992939780486946,0.2952825465144682,0.48577000305835627,0.3999878759146729,0.5564105082269807,0.5963607065959261,0.756738298667881,0.4323391476683261,0.28476810723037627,0.19849224618216255,0.5338847019378877,0.4375649284268036,0.46247071457210315,0.36488369669045495,0.2317891972852673,0.4449027701613942,0.4099474997245139,0.3007218018563609,0.7181228309403155,0.5407738635105015,0.3450576412407171,0.36353852300926737,0.6760135530887222,0.2870222856597093,0.5649189745833086,0.6271622967814554,0.460863405683181,0.6299776116220244,0.4820178767900539,0.8175068925922642,0.6435148843259301,0.2876382052966998,0.19915449071749117,0.5840434816410396,0.5447035729216158,0.46639965032136677,0.2738094326727415,0.5468463134146121,0.3219152238161608,0.5643364835543672,0.30597952444746984,0.7177084454272835,0.6390955987335207,0.4756874797459735,0.6725367382269273,1.929258302713074,0.5221003477747698,1.0520165610559766,0.413426580446425,0.27400116211886993,0.5455098207115118,0.1851096666211934,1.9458110217642663,1.4956029339310821,0.3250784372627363,0.6534269181119247,0.45593503585995204,0.4980175488868338,0.6707992639137004,0.36831573565666736,0.2893277953456062,0.9538907461891866,0.2650875368357864,0.35884645688672606,0.9238274889411026,0.2123469811024642,0.2023134255044291,0.797746858756756,0.757028464998703,0.22180816663700897,0.532240684899833,0.2100609581473118,0.9290933525265321,0.9648125258093851,0.4548147086263137,0.5656188376437635,0.39511472383371665,0.34636898568667723,0.4724693125941779,0.7445222669319309,1.0575362713492418,0.9381542085931509,0.33330804044457224,0.5811243201775137,0.40577811420221016,0.8522917415947174,0.38351255011709906,0.6095349055209937,0.6465318422592278,0.2077481158372119,0.19308971988506918,0.2764804892382073,0.30310818501813047,1.1117862642117748,0.198155910036459,0.4561901270211411,0.4508254449520263,0.426359080413218,0.35660363246209853,0.9726619787050508,0.19832016557974305,1.9128013026485906,0.6161032139769409,0.33518182260628027,0.25639745535970065,0.7940640283311241,0.5963247809964491,0.24331946758461095,0.3597045787107973,0.8462078087426566,0.22424367064945266,0.42370744109004504,0.47740908244138053,0.46245632557928334,2.486258556572047,2.287425437710339,0.4868633794908816,0.4001871019350055,0.5359822235267803,0.24226035756606648,0.2835468752956035,1.2175012121783935,0.42205793457668705,0.4697469089959433,0.26744574165263857,0.6633384412494939,0.44902851436591507,0.32008782560812266,0.3418612690820761,0.9921478204203651,0.35541271671616614,0.23261542332035823,0.29473543012412506,0.5764672864915324,0.33751513371050457,0.2615584041019345,0.5401369518269866,0.5256499080852205,1.2167663627400327,0.5331695242898552,0.5459059337134186,0.203597378250699,0.8152418888159827,0.39828746798405157,0.23890263061960196,0.8573859829004365,0.18708539033170857,0.4638345658647987,0.2642808917160967,0.31549870379333905,1.3877585849874507,0.6410565718412462,0.5394971046611545,0.5209611261980385,0.3488491624323426,1.231370022391303,0.43079595869383447,0.36052480482014215,0.5072978290060527,0.37127536377819187,0.23897090344764182,0.42853925321488856,0.78309510886732,0.17787173145514695,0.7275226012892779,1.1018057527167355,0.24441880621541823,0.8407652299794192,0.6562228342518807,0.184662619770141,0.6435363710635988,0.3902412012579847,0.6899812111648048,1.0173836272409944,0.38477841009982827,0.32550639369552403,0.4662801227504948,0.41317289866655366,1.5544527051138124,0.6324971723325431,0.39910283371218724,0.526505046996825,0.2498537711768492,0.8732356918334523,0.886998976583918,0.3511199674590476,0.3067497721423493,0.26437154001161567,0.7576883889593422,0.5737557043139841,0.4108795854644738,0.5686645405214401,0.5172082719589978,0.4092222342484968,0.3472188224722736,0.39884985008119117,0.6329813472188891,0.4044950421694392,0.3952438795770702,0.5966415549032341,1.1531974714200508,0.5009996213984697,0.6162669007715132,0.8281325646730991,0.18848582223244112,0.540979550511183,0.23231756794473063,0.3794004031731404,0.4102625068270721,0.20439323611703591,0.31909392080107385,0.3011396439953034,0.1890133970022468,0.3260838789594864,0.4402889145934212,0.23251740623845282,0.5433088303141862,0.42991535114346313,0.44436719484247944,0.4771911653174415,0.3112338935011727,0.6228338558653974,0.3543186748764539,1.969605245618711,0.400290227135839,0.6601133092686586,0.2763271560871504,0.7868604178457852,0.41964235900748414,0.5087032182346212,0.2810344087702349,0.7455482973423587,0.27665857881414785,0.18889424478339148,0.18764873584981165,2.284159625535704,0.44043724618802793,0.31136497034953614,0.3151226021900596,0.20628908177882255,0.20134916731683902,0.21593712299207912,0.4585840157071752,0.38510599074669294,0.3120600764733362,1.833316475089101,0.22966020968427384,0.46083867117847066,0.18953908521567017,0.4212531731024577,0.25346454427406,0.7108655894893625,0.5412525342539353,0.6070873564956698,0.2332948023566677,0.9735579964370882,0.34253687233709407,0.5516351348703784,0.6742084840002045,0.5195886684590394,0.303701373051649,0.3421598698688401,0.21461732085669286,0.4299217313244447,0.45188755842496175,0.5045235176696902,0.4859677440778346,1.0663257475938503,0.36014787398185016,0.5107651056254146,0.47229013485464444,0.2224543539108213,0.2298045669564012,0.47557004775596556,0.5736022432286605,0.5523795859709068,0.8950460880338401,0.5677088734366392,0.4851243138621739,1.250166433997504,0.3640922686544365,0.6987152857443072,0.6672668795007435,0.43545877206361105,0.24539850770710422,0.7537720880179415,0.6214428051883427,0.47526022950925273,0.36892855956347764,0.37950608979047273,0.9614789696211485,0.28679927926859844,0.7463921063900285,0.4302901221457261,0.46612315792469344,0.4536074702123275,1.3763332963411614,0.42372398091607993,0.8502741319079113,0.30814595453807275,0.3096085535167435,0.4999118574947359,0.5531435458355787,0.18040902398019537,1.5332566838438915,0.8527189838744413,0.7047822375160377,0.6930619729507345,0.27079937765024753,0.3500329555344521,0.5726739977020885,0.35473789694532903,4.624713608817564,0.37363543171454755,1.1068770145571294,0.25492606619776537,0.2638834222986277,0.31045639583110346,0.3978878163056149,0.6704221100914523,0.9144545858119223,0.6603384808947158,0.478050741586612,0.5595670122901338,0.765058816499017,0.9978890650341234,1.0535025625346106,0.27875331912559376,0.5089688717288126,0.6548088112801386,0.3139449699675436,0.4526080519385443,0.2327148296490487,0.24208684120058477,0.3658264200891011,0.5075000430273677,0.32269101278446766,0.7951557222953948,0.235040555320086,0.18836836006400534],\"colorbar\":{\"title\":{\"text\":\"Sharpe<br>Ratio\"}},\"colorscale\":[[0.0,\"rgb(103,0,31)\"],[0.1,\"rgb(178,24,43)\"],[0.2,\"rgb(214,96,77)\"],[0.3,\"rgb(244,165,130)\"],[0.4,\"rgb(253,219,199)\"],[0.5,\"rgb(247,247,247)\"],[0.6,\"rgb(209,229,240)\"],[0.7,\"rgb(146,197,222)\"],[0.8,\"rgb(67,147,195)\"],[0.9,\"rgb(33,102,172)\"],[1.0,\"rgb(5,48,97)\"]],\"line\":{\"width\":1},\"showscale\":true,\"size\":7},\"mode\":\"markers\",\"x\":[0.018196024579021405,0.015716197683066424,0.014766264761106821,0.013626645802136675,0.012352645048796185,0.01714876590072402,0.012985937183993232,0.01353866249333644,0.008318875338762098,0.015626370177634637,0.011588622416372022,0.010458497939448072,0.030665537648672834,0.012741743051380833,0.020316058729221653,0.014195581322880686,0.01640051376662743,0.016265549506591006,0.02245423015742228,0.01978985844223259,0.018326218934042727,0.011218334425487054,0.009938400839145019,0.02298863539483671,0.013870519949745317,0.013244322105316283,0.03619998243111353,0.014444464107362229,0.015295946369981946,0.009008189053883063,0.01421448879857543,0.016776112847645477,0.015665639953228498,0.01573798992406764,0.018163827326388396,0.013257589302486682,0.01580842848256362,0.013761242750639686,0.010832870407218798,0.014975720869696176,0.027303878796368787,0.011139904734811874,0.006273438838909728,0.01114152801343051,0.015175252896302354,0.02257931786744983,0.010143190803601624,0.01095616945394282,0.011563793822508965,0.013149606365863306,0.01687224717331826,0.022803079147119185,0.015674480948334218,0.014098997356965761,0.018010968099025665,0.025272323558276893,0.02310890361936678,0.015770409149293688,0.010234162067832104,0.015245846858506693,0.03415487521442572,0.021228351435484016,0.015318485032762567,0.005159452945108574,0.01770951417846794,0.015047965002368687,0.015870191644542987,0.015188572770404935,0.010657134321555555,0.022977058343227035,0.01773307564409819,0.01376094751839564,0.014240460311979907,0.005908635647992567,0.004954941029893653,0.03192823909973657,0.017820966296043066,0.017703242398759058,0.008748815258124713,0.011315232438290872,0.01787071007283222,0.02679630021838424,0.02037030800639666,0.01810214704587184,0.015284589880282948,0.018343969683528156,0.014546985313071978,0.015669315201518277,0.015660932425339166,0.01950643987884081,0.013292404115514913,0.017867511248921407,0.015161480168613453,0.022670835847270122,0.015815149877029158,0.015750750483956657,0.017612974309902656,0.018055742820729477,0.01023169709287064,0.011993572569598954,0.015951142536422873,0.0192463593315942,0.021220276287455694,0.017369702161440678,0.011062241086554516,0.01602346052192006,0.01695067777055232,0.013282914866370097,0.01609004506106992,0.01786329240481798,0.016523116700238653,0.013327528125102517,0.013413104764781391,0.015012784421277117,0.020446419881423962,0.010206473306640693,0.0135909977901307,0.028017925919837424,0.019315066963661986,0.013196993849943042,0.012316240728006784,0.014102903086184395,0.01210836639533763,0.0199402210259987,0.014209812612011426,0.013447519107519366,0.015038515097139422,0.0236372534260959,0.01654715079670068,0.02381045856738992,0.01663814488954467,0.017045413574511687,0.03240078883780233,0.015760277919994493,0.012927313160174364,0.014455629149834516,0.012323179302195305,0.023069619040532025,0.009955206333078689,0.011248554684130102,0.01837214845337842,0.012793562214737854,0.009829600340710265,0.026162347573697266,0.02414631349498465,0.014103779288924595,0.01535482417100971,0.015079141387066177,0.017701865290659185,0.017190905584988696,0.015102694213863212,0.0102016643766767,0.014229512492895089,0.02989004651020871,0.018834189768390058,0.02207381421563316,0.025442652676318785,0.020181693361554835,0.01543298851040524,0.014446239526070184,0.01702819018259431,0.014134098218382829,0.01669854636015375,0.021041531472911705,0.018818389606940995,0.013327813091123394,0.019634447804621664,0.0070150499124751325,0.013816999027519284,0.01453381133299859,0.019051013130447367,0.01921792424969132,0.016565588399156984,0.015279564695798992,0.021559050712973253,0.011419028933054685,0.01458973284883717,0.007127843514999469,0.026927695113556638,0.016318990051085495,0.020588258010066144,0.026027198783952335,0.005070784771663365,0.006735869850308097,0.018348447855083307,0.00800025045320949,0.01563579088091845,0.01837217527366199,0.01642762872715823,0.029870290764576125,0.018317594701264203,0.02704860080959646,0.023772043129432523,0.0194197261826164,0.015442836171834978,0.013659620829301694,0.022757889686451732,0.018012830629221075,0.014533697327534126,0.01086897906704799,0.014359250946253715,0.013768330045790011,0.009470429451904457,0.02061206218497623,0.017253350886728604,0.009754573358529762,0.017737166972463216,0.014314733709675509,0.015729283543731487,0.014847090829649006,0.01987539655272525,0.015060913681982806,0.015502989093018343,0.0176089450986155,0.014076247214623748,0.017249350853643864,0.021433978978884,0.01858081535036902,0.009854796264871216,0.007978675505069312,0.02345055958109752,0.02338318742492543,0.01758579416329909,0.016307209983249228,0.012477542790273776,0.012909236532233642,0.014613108859782195,0.018451880529318284,0.019453921544265517,0.016356155879262955,0.01765236132497786,0.01160458311499881,0.017881344175704136,0.02395838147597215,0.020441824470445957,0.010826708218163532,0.017941048165158433,0.013208671100484253,0.007341590548182989,0.009993594680697306,0.029202059136600074,0.01692329031552737,0.028846948852357817,0.018602456068371152,0.01972205496176745,0.017645534509873606,0.012123294775933503,0.011892364660365539,0.025173715211788048,0.02075174091221235,0.021098401580493496,0.024064628027918124,0.008078479360668907,0.025061762519857526,0.019604848489388958,0.01386971584401389,0.015479063433806013,0.01768869162621636,0.01036007597314525,0.018662397613235425,0.006462979330716328,0.019135398738864957,0.016838136139085948,0.019144584912063466,0.01354823242524225,0.01033578568527621,0.011738177406346155,0.016056330440926227,0.021891883008299758,0.021434903232315387,0.005400686038696535,0.019321484630130288,0.010356819450863104,0.015663491713390612,0.010266983364231621,0.019884264344252497,0.006508568395316367,0.013173756072661467,0.017375143136959894,0.015264177374057619,0.011779266161979936,0.0050353165747519255,0.020549737364332247,0.01820460288420634,0.017491910317852882,0.009278614054000564,0.01215367584408905,0.01359713263313269,0.016623492670346136,0.004938314319465315,0.021391728329891686,0.011536898812211368,0.014174437341558235,0.023170671821451275,0.01945639466837083,0.03538797817050575,0.016318835912006297,0.017049122036221716,0.015152223345335223,0.015840975530700945,0.019030795552849554,0.0045236228434377525,0.024722069829599947,0.008208282694749613,0.021909511776930537,0.010279387589004513,0.015676220106735885,0.01860341704375927,0.019485275537308593,0.007098768540253477,0.009677563907646023,0.01928584707088021,0.027480058542945808,0.013312579893874686,0.009998560736561031,0.011145361019667134,0.011816404336987382,0.023454207252457723,0.029704355698509682,0.017032107808432402,0.00831083998309179,0.012773608636907567,0.015748249966988575,0.014974898584899933,0.01677753416504888,0.023428016872974383,0.02286909184722834,0.020005804641009994,0.010603567119566998,0.013468925060774952,0.010696821638131862,0.027250294692605526,0.008982788517087165,0.008511826501747966,0.006310886878072183,0.02301590143464316,0.01761616376477232,0.0159439266927218,0.011605798211650916,0.014251079425079968,0.021798917814509725,0.016934829015658,0.008336852037003304,0.017833861159727862,0.021960744404951514,0.020239643519129952,0.0038242146423146475,0.01474473527123843,0.024025797103545323,0.01735265792308793,0.02265218604187873,0.020073657352194033,0.018768692655213595,0.012083074480093634,0.011432537032505392,0.014421812309644946,0.013832702315491373,0.0014924206106060986,0.014118092856850395,0.010309323900905118,0.010126474315651262,0.012080677464912414,0.012168272001185181,0.01756956911981169,0.016770304514159964,0.017706901963104368,0.007942953510113888,0.026265061032186725,0.014472189117537247,0.019389128641134023,0.013656720357177427,0.014289497535907166,0.011118286285304146,0.02005415659071514,0.01791238644906257,0.01375187023587573,0.014797832432399653,0.02036204426302212,0.012250471026192767,0.0173076270151086,0.010824887772537735,0.016418959198245535,0.015645815331022182,0.012183296685322547,0.02557019223797908,0.02076922705904548,0.005997452482411674,0.010194022150577301,0.010174099316011476,0.022521194294095246,0.019473279765035593,0.012664418847142133,0.019287482779700514,0.01893458810217421,0.01719982846662099,0.011462783388620034,0.014468268601394075,0.01513167200753282,0.01813379707216763,0.01786000428344929,0.008858965972324587,0.013201286382436351,0.015145464895672063,0.029170519683701955,0.013912388837155974,0.017190072518149586,0.023043298558171804,0.014480516096998354,0.019800806829601437,0.013977096581708294,0.005100723222277613,0.01998100880487048,0.014566344818722984,0.007703978223126394,0.013924161267955655,0.016779744257560097,0.011806259724710355,0.016862419792453797,0.022917921413374547,0.012346011992762397,0.01010695869832276,0.01871952640076794,0.0110639062409302,0.023106861042202467,0.013888630766431442,0.009559450655615703,0.015677424239400047,0.010217882933384605,0.008921444443741985,0.02087581506376824,0.011917780580919836,0.022715573944250573,0.013315822803172853,0.01996631291578421,0.010320722384011266,0.009140021093280732,0.028740875223853966,0.025146731517954365,0.029866434246740868,0.015939660453656482,0.02137933282345056,0.01320280903758559,0.011438814152280537,0.009864163766798507,0.01886559588514159,0.020224358164288355,0.010664702836456022,0.023756811014204144,0.01132022698642876,0.025958871971057392,0.014908820850309373,0.0234448729639965,0.017943467337733793,0.013221844793775217,0.007084397971994831,0.019623904322989348,0.021627120611843437,0.01504482696322,0.011847542170213167,0.01961621499762993,0.0075777852544879655,0.025612062670545846,0.02229506061318991,0.0169169742575235,0.01660570553393643,0.014849914733794316,0.011492748142443405,0.018787847529962865,0.006396764525711439,0.032101485185483426,0.015383053187265358,0.013089424186078596,0.005551191795706972,0.014619114404848156,0.017013171459277353,0.01935220389683601,0.024944362772904488,0.023042521963062466,0.01632746380707798,0.01799929970434592,0.018251033232725387,0.013027817641749416,0.01290437767679074,0.017897648797642034,0.018855937781482174,0.01726090548665208,0.013830663497786617,0.017278433253227192,0.01409273695938022,0.02397051913721099,0.021853185527581028,0.018752433634841605,0.016888601207946927,0.013485747260872783,0.011358117240986747,0.011851839554828407,0.01870389920753761,0.013029200605771788,0.022275796726244985,0.02569239717510263,0.02143879465246651,0.011283424512630764,0.018332446675998385,0.009929722316265235,0.0198954092244106,0.019708569342242944,0.013142389471417007,0.01945318387970866,0.01576527229771945,0.021214802554184786,0.015890510571103866,0.027815118732679386,0.01354515978073392,0.01742435846015895,0.030951213246614297,0.00640073340618417,0.01626257966248056,0.023905256497879442,0.015386923757517016,0.01603717156347503,0.014410255591021144,0.01255832754908935,0.014196298295654176,0.02057953399566291,0.02296264894360671,0.011796925392430765,0.014559272530189434,0.010848082819481552,0.01594564599725688,0.005671814315852002,0.01803529812196938,0.018117988935283113,0.013062988845170754,0.013819452885183485,0.021171562376830707,0.009945425979298761,0.01925519100940658,0.017218143534257397,0.014295444960333734,0.02000454875384329,0.011982592825122915,0.012150907728771242,0.0164822472891203,0.017225774699721662,0.013989409413111257,0.007505728117198007,0.01215184595675975,0.01208043102611637,0.018001890881140615,0.016727245898802152,0.023368736863489004,0.02116437499943077,0.015380660737947815,0.008914251164024299,0.007523762479251886,0.016371688643698985,0.012591638484829524,0.013853561160877867,0.023150816952776477,0.018424027698433598,0.020832737410296714,0.018085397076938035,0.01978980664303094,0.012273235554532502,0.014503669327190204,0.024200995991928372,0.00916468113580241,0.01145554471953328,0.015865549798588834,0.012642534110699108,0.0087737517062482,0.016294806991196207,0.020040999276079077,0.0123340744950532,0.016620054185557665,0.020719096300268698,0.016386926009703564,0.007469109062735553,0.01807151187991166,0.01158118242439655,0.005482823371743065,0.02239815985625159,0.012501564880131232,0.015156414561852172,0.013499200275940633,0.008245481092798506,0.014708023258951236,0.01134332218243114,0.023261068286131448,0.012156964462247524,0.012579237962556184,0.024817104664973395,0.022257778003814586,0.019266547229272717,0.011696398966475443,0.02298505034862997,0.010968480511566172,0.01708443616009113,0.021845347819969694,0.011194433898218592,0.020148157533487226,0.023428299491508087,0.020551012922046093,0.018056894623789458,0.013547654075297072,0.01520550995532383,0.020952262719112567,0.019592774374261625,0.013848791218546737,0.016151947899249553,0.01762620977223929,0.01317384606113685,0.010158849552303723,0.009923120608625626,0.014336581666016339,0.012270306863915953,0.01833864620081174,0.027082489605416586,0.019490234670071698,0.009791415325024122,0.017506704517894343,0.012954495989649283,0.012628464586999242,0.01644199305198009,0.014013182680740213,0.016641191096117034,0.0087410413620439,0.016215085555845672,0.021151233212798843,0.02034875923009945,0.015102737147749868,0.024305115002119366,0.011798789203874668,0.02056480473027493,0.01705386619835689,0.014999998728772685,0.0222392065000547,0.03108409756011144,0.008039221382941842,0.024288492667962392,0.01370234654588057,0.013067281604489889,0.010563817027544846,0.02471343975583803,0.025944797718838196,0.016829212815628547,0.011797944176584656,0.017650290925213443,0.021466328653839933,0.01746233224680372,0.01926532683699547,0.00959074362560367,0.009321890154500906,0.02708630761172901,0.013784836039519808,0.01667699325291668,0.013986471389327338,0.013124394544153555,0.017074771092488714,0.017413513491098705,0.013454904837676933,0.020010692548646493,0.015601535054177804,0.02070598645963966,0.01419311280865342,0.012542218091825182,0.011546620826887182,0.01712197044706765,0.01781093261817592,0.019061499004145985,0.01457437784889606,0.01822042679222852,0.020814210278987888,0.019108723138758013,0.018039403124824837,0.015538144461109259,0.015068169809106855,0.017587205217382967,0.012522522530296584,0.017401431990279312,0.018136014383696154,0.0187191828278003,0.013960288106063999,0.016940520302427653,0.01292312574412087,0.014098216533518776,0.01613327266141616,0.014330584583183507,0.01424877904777363,0.01145317192897106,0.014104463123783209,0.022001023029884832,0.023009385968411573,0.01635745482694381,0.01591145159103068,0.01633236436044138,0.018901853116466975,0.015607922763913925,0.019127893269693975,0.012971316781728295,0.022833561846488444,0.014026817374824663,0.012775629126359704,0.014018744888434648,0.011790418266131598,0.006246377642568233,0.016373839272241907,0.009380000205602439,0.01529330469910855,0.01725722243288268,0.01320512513900538,0.025064161425494794,0.00590787206352708,0.007317942371196253,0.01651246295750933,0.014209373858162368,0.019171591684564785,0.015427068110874615,0.012953908417236126,0.016474432767744962,0.020544787090407024,0.011550820966412257,0.0174666163749925,0.01876881705443417,0.010065706552325344,0.021890766630900095,0.027484425580277395,0.011046068529177994,0.014881828616726002,0.023830311438130924,0.016584955245545808,0.018525244195427934,0.010442165271505266,0.010775255903341906,0.015819445936770215,0.014954613359041186,0.015165214748134342,0.01635175487130059,0.01689607359229196,0.01131305216666674,0.00908698718792094,0.009786567672912508,0.018878344381898157,0.015217420793338604,0.018474309041141897,0.010532349165218101,0.015338685330591576,0.01397092861189933,0.013334110378003285,0.022822611147260807,0.020311692383039183,0.023412366296604138,0.01926184923171365,0.009367328196226704,0.022712249240308527,0.01967685058236388,0.019864775837482293,0.015678182454921537,0.019460220984326152,0.011005886458928553,0.01890204474561841,0.006032316587813732,0.016018674756413626,0.01612955266637423,0.02518960296040109,0.011113172889489084,0.016576324135740325,0.02592675729893656,0.018363921269651376,0.012303711770548701,0.018634235355344208,0.02100739029461451,0.01647159433061517,0.014538556339706786,0.00486220790856066,0.005367089102704567,0.014442465558615262,0.0221745196684512,0.0173663718131746,0.022159131591062465,0.02279050711505834,0.009097859704123563,0.01908267500438784,0.015284748345307936,0.02385879449466955,0.014208357606608052,0.018348638024904624,0.02550153118835709,0.01756387494883968,0.009444820905376523,0.016294969650312116,0.021385718088172294,0.024809258411693732,0.012877111848353355,0.023828407735290002,0.02744423657912877,0.015456928096313367,0.013946039917363776,0.008274677411055196,0.014451697365249812,0.015097343990255165,0.01931254054296422,0.01158858920823861,0.019050956431095948,0.027912535891884714,0.01029566119255602,0.026340759364678574,0.014536078420270626,0.025935450305049047,0.0178247778006459,0.008756834367279859,0.013203362931803105,0.017710649626071908,0.015737240640803212,0.01965692576134916,0.010096632575642257,0.016597523569454774,0.02144871407605131,0.014391265832933159,0.016210622208644155,0.021867205066096553,0.021646808962213333,0.010944743811956514,0.02186398281468688,0.013822973880154148,0.009072750113398916,0.01899181195144586,0.011376966188919792,0.01659225332324981,0.03130451314362469,0.013918593812982032,0.015368741942060156,0.011722189918391366,0.010556053457561804,0.01622151586459529,0.021177202433100104,0.017067739503751008,0.01890598845561951,0.00778813558624395,0.012817788432205953,0.0210565904518045,0.015498981062504627,0.02243029052619621,0.010431267081628197,0.010760506845129376,0.0166141941707228,0.019395199354888634,0.018721493035139435,0.011147100961867164,0.014066728846458985,0.017223921062313283,0.012843584072672132,0.017531795085669932,0.016221423716569712,0.017615805611828347,0.018293708673099682,0.015223551638096647,0.01813980872896268,0.019029560736217192,0.014233428441710903,0.009523627576422495,0.01557044618702783,0.015943222621305576,0.011963663831394553,0.02394902877509364,0.01438159710593248,0.021910489145894153,0.01900948725376805,0.017752093006965,0.026465148964851658,0.020370517068935737,0.01939418465566343,0.026948684327270857,0.018849647561034695,0.0184135838588057,0.023216414220453903,0.01888501457258471,0.017478464375477145,0.017337910457098323,0.02026174398938107,0.022366708703176256,0.01613299116962044,0.021065821493178705,0.00592209650881302,0.017587109513689463,0.012597766316339937,0.017122973170484095,0.010847081909876521,0.01706380827926756,0.015476396114556767,0.020127852650496308,0.01236209060835777,0.017828683001179978,0.02814731044164424,0.02310614546642893,0.0052345772179041485,0.016650578508288615,0.01848131209894859,0.016891461126997517,0.024774228325731784,0.03137372522835691,0.026649502298010948,0.015009400046968064,0.017225416688740558,0.018474567998046844,0.006196792250714065,0.02323370945401923,0.016935804766613983,0.023777492321222612,0.014757017375210487,0.017654036595407943,0.011477458533426374,0.01595775053395689,0.01638729725791007,0.027313214940513558,0.010209666356497197,0.01942283741872269,0.013229334909603988,0.012407164112813996,0.014613850527876716,0.019362542617607538,0.016634725026963428,0.023963092657313903,0.015375747780801613,0.016393814815801294,0.016873790290387377,0.019314911878423255,0.009004012298028887,0.021469483705640724,0.01607161901354315,0.015754657783641213,0.021485666245378357,0.01933802490942187,0.013957769108225316,0.013717325798745067,0.017851362409641133,0.01017172524396962,0.01288877935076262,0.016961651516266402,0.009403055686475054,0.018844330403235642,0.011561306222613974,0.011885241858751313,0.017641280975400655,0.01779978347657611,0.012123488728413671,0.012587649816574521,0.017348317649011357,0.0238077918531384,0.01649520647389707,0.01098898975920962,0.017939157405270023,0.011374824360651304,0.017732703555137116,0.01651567625297149,0.016642809868843606,0.008557056042850248,0.016663265372188294,0.011183313951473919,0.018286025194001434,0.01649820886960894,0.014093663889500547,0.015120412298783527,0.023628433183638598,0.007036176642451522,0.010525873132521357,0.014352406631262637,0.011608156004447407,0.021769512151977068,0.01798387397755239,0.017826531587970786,0.01800923922548519,0.00294521651785591,0.019304102813635343,0.00939392659702054,0.025179405286182805,0.026736965368287464,0.02073956900189165,0.016176764942229343,0.011843212052012433,0.011696566685506102,0.011926219610542388,0.016625956262413297,0.015792970812287126,0.01297874423997797,0.010494295410692607,0.009512115441490328,0.02012286319548054,0.014326221648562893,0.0121281795049885,0.01644480212965117,0.017362086197818864,0.020330483773492527,0.017920364526972953,0.023937827643252016,0.016081151132744224,0.0227959201042687,0.011946891199009138,0.01971775153422813,0.024648585099999776],\"y\":[0.010111566491849501,0.009614818385309164,0.008197782455043351,0.007723975519918686,0.007654361183531556,0.009260582025710541,0.009294582328193706,0.0074944231971836054,0.012058745393707054,0.010971588720780374,0.00823460443767021,0.011099668047381236,0.005445131694164345,0.009911114012913301,0.005369739044083115,0.009018588325161092,0.006885203433708027,0.00752606735731777,0.007313399698022803,0.006311571299004653,0.008441049670069704,0.008889206618422567,0.009111400602413389,0.007981192057720606,0.007340506058896071,0.007188394551496854,0.006048610103809687,0.010657978385534254,0.00908667969896361,0.012121664557127536,0.006788390545001055,0.006750484832482797,0.008011221983447257,0.009158237839483791,0.006746620249422172,0.008732790503405833,0.00904795313552621,0.01122484875095716,0.008948812238212728,0.007514066951713201,0.006032027703401535,0.008343167695798353,0.011319531562473513,0.009927391421612763,0.008452147306799586,0.00419989270703561,0.009736771093806927,0.008592223660625814,0.008222895288620429,0.007911361187833742,0.0048980128699318785,0.006454456345852952,0.005601210955718749,0.00785057218200564,0.00501176875624452,0.00606175477693733,0.006851295380961249,0.007254653055971328,0.008874972552832927,0.010258358096832848,0.006135762132728087,0.005621299322456938,0.006465772666745964,0.011907497149300436,0.004388551426815501,0.008201032128015848,0.008031850604133835,0.010930584654310089,0.008647912271597695,0.005488886749029833,0.007886617246370546,0.009006722659161047,0.008193412477655941,0.012618333121298616,0.012102963737937188,0.006577922992004337,0.007117662432630754,0.007444036497181774,0.0099252409962557,0.009099414248498106,0.00428493146568661,0.0067687765132900535,0.009390634346399744,0.007102582264379832,0.007516375113759019,0.006299661800417586,0.008257495135149279,0.008378141738964631,0.006786064227223825,0.003362047370176039,0.008713003727375193,0.005777590729149843,0.007174737670334435,0.007970743401467254,0.008983007382085545,0.006106060500609743,0.0052285627684828355,0.005461352098805217,0.008964769658072011,0.007812178088175036,0.008733782151004735,0.008698977944029162,0.005112169229517868,0.005691886526568667,0.009132390761724783,0.007331844479359324,0.009107463318981941,0.008212601302031216,0.008259964772052542,0.007499140548252641,0.008926684727863485,0.007012180750645532,0.007065459138516696,0.007328247804984558,0.00584590005064966,0.009411635520998567,0.008236540158748735,0.006188051251685485,0.004467049600442608,0.007133017687604261,0.007732473353126097,0.008340173349136708,0.009236625714471126,0.010053067957829398,0.00834911981499944,0.009678898852679573,0.008351356870661318,0.005038988758588914,0.00988064220255796,0.008006518117015343,0.008306239976666888,0.009311256482288227,0.006091930112342493,0.005574047692837329,0.008872144128655191,0.007865760882525802,0.009059286530742089,0.005368230096099276,0.009763395890774133,0.01159785425857136,0.004764327646033834,0.008201618526264984,0.010031787530058893,0.005400953391794607,0.00488760313293365,0.006621343389505675,0.0070191007755679964,0.007964448973743703,0.009863901478416665,0.00937361228709642,0.006966540938784828,0.009984471485669175,0.00763278961241073,0.005238088392269031,0.004012220929321258,0.004724360005563099,0.0060732303210725876,0.0028964495349889626,0.00648705803193118,0.008034005333957298,0.006369608469572133,0.006964632124180912,0.005901792443501901,0.00404736364263353,0.004839247107732177,0.0070409812198095525,0.0067172604456450175,0.012484853969243686,0.009365588569681034,0.010461047074379743,0.009378408781327062,0.003565228551045558,0.008729083058449853,0.00967362713535779,0.007039002880487134,0.008213107905456502,0.007204779075681315,0.011641440151117928,0.006226912104892271,0.009009954124599751,0.0026646990585418792,0.005153517300277224,0.013733516784800805,0.011173033296094606,0.00857612942109492,0.010872142765035897,0.011099048208836183,0.00990269098145254,0.008489813509615031,0.007195326619586983,0.0052648348980824,0.006395372409706595,0.0062780091332501585,0.005934599307851288,0.00899419330028713,0.009012889182665369,0.007067570831679771,0.005629795894904069,0.007419767113846938,0.00929936096491113,0.00646847697212302,0.007810793239421972,0.011029670410092127,0.0094792786335981,0.008780808697058832,0.009149983556088141,0.009126880236944116,0.010197702871260844,0.007793130462302722,0.0080746131503878,0.008661740921334581,0.00796271298629647,0.006581687402841952,0.00728810809901358,0.00753149018148969,0.009390656637402236,0.0055137283613278,0.0045762071582443175,0.009974778026983344,0.01026263552672824,0.00906117618511379,0.006307568691147724,0.007753272742514096,0.0102540349327715,0.008412254859927065,0.010133354428025942,0.008646378899532198,0.004604358830088256,0.008955520691717202,0.0054218767537744204,0.008631158219871446,0.011359702287302296,0.004326587275490632,0.00609828843470939,0.005157922859418015,0.010809950449864152,0.008723571952295193,0.009241835899453543,0.0111278947684746,0.009012750737376979,0.006989425106555737,0.008777278032792667,0.007599362349671453,0.006407568147964746,0.006067630602458922,0.006531374700593077,0.007743156887003591,0.011775439691578952,0.004612772696139392,0.005355629557515376,0.008215784837093038,0.004501895723559919,0.010170560157356623,0.0049392812180651755,0.005170732865745235,0.00879423324727691,0.006682209243212457,0.009946639326803584,0.009350670526267169,0.006727139364696516,0.0127948580394678,0.003607532731676051,0.005448979593752717,0.0059850017734622216,0.00995016567302215,0.010918619593008867,0.008951938019334516,0.009785653706989892,0.008014351164800601,0.006107021869969806,0.012946436821389252,0.005319474769813333,0.009817546107121452,0.008676077401949974,0.008842695945891557,0.006727959049334746,0.011101445742644551,0.008828945932478457,0.006163474379136308,0.008161870289062357,0.008201955852185314,0.012092316733650627,0.008834742838084386,0.0043328304441676785,0.00973511217011367,0.012438789488586522,0.009021569992811137,0.006847993893143096,0.007429151164864781,0.012792750388924851,0.007138507821400364,0.00864805022783203,0.006676162335063584,0.005036535482163703,0.004846452194100839,0.006252202674161511,0.007403232262375738,0.006856046778584967,0.00879928124034164,0.006338749975786725,0.004878937187800003,0.012323787067670532,0.00604853671615551,0.011261770951566445,0.008557152732153956,0.011547535083871935,0.008379120374598672,0.0074186475096793165,0.005670747443454001,0.010769408209556483,0.010476753479577933,0.0063330192994065955,0.007506546101410996,0.010146307926607742,0.011485753592493838,0.00850037514785798,0.007913420211337409,0.006742674041874386,0.005560491796097835,0.007478739274264241,0.010081592465136931,0.007420359288423258,0.0074421439612872165,0.006019589570709468,0.006267300257282901,0.006249771630183089,0.006165485341810958,0.0053590482504781226,0.01221485724407575,0.008749369746591903,0.008828146082212324,0.007299106379707994,0.010913784549132107,0.010124408889327148,0.01224255975891133,0.004444216639495797,0.004861713706068491,0.00786281800520968,0.010156925145590294,0.006575774880315405,0.008319780170116727,0.0062009620318170325,0.010500488652670285,0.004381840324701328,0.00471993033528249,0.003478392872291107,0.014034315313855635,0.007785566277422007,0.006232235092024982,0.006659445957749294,0.00905095714401169,0.008324662137073646,0.004481512654486231,0.011557178380699314,0.011199862902868903,0.006792175912989515,0.007693162599619348,0.014107625813361934,0.009720566439273583,0.008837149863112733,0.011271593611594499,0.00867095487481374,0.008352052714382645,0.007110448288208652,0.007037832240523435,0.006357451460596694,0.01140606682847461,0.0063118358758640115,0.008219485269190948,0.005091578771297293,0.00753004422406434,0.010285756250310597,0.010628750946510593,0.005027977873051155,0.006581667410596492,0.008029482524572792,0.009433259758527456,0.007569943350701264,0.007692160822167391,0.006233939626197605,0.010009723036076536,0.009107432309050346,0.007680599828445753,0.009052372488715248,0.007297347019763035,0.008936523816695706,0.011757323885496166,0.008949913266932246,0.008995720262183565,0.008076514970518641,0.00592393898460555,0.00784089837066581,0.005731121165643629,0.006839916461492925,0.009632590787566269,0.008923919931201667,0.008335445411476707,0.007730844328362768,0.007590931706778551,0.010328444935737742,0.010304672223969674,0.009163906401039083,0.00814720177478955,0.007372837915099014,0.01038798047650307,0.006070956702267021,0.005995871400131483,0.007852958380442608,0.0031615873757424506,0.007717833929605221,0.012114355803180507,0.004990943784250471,0.007804847869089731,0.010431453953272218,0.00862930339599176,0.0050434421923776646,0.00834216846545345,0.008087470135575215,0.00497785793749108,0.00775865527468626,0.00951008695100108,0.006072140595882349,0.008763967552329666,0.006504006382170492,0.00771631240056561,0.0097504613287854,0.007685919857186823,0.008873658891006367,0.009680641625382574,0.006794346362975243,0.008894174450361933,0.00564411405754179,0.008951750710564792,0.007410576189372943,0.012425756273042564,0.009526219551231053,0.007784388541502412,0.007834537483025917,0.005320314340141702,0.010123778463771051,0.008800163379452431,0.007214962105379079,0.009217526053324144,0.009446043458180332,0.007502071010059078,0.004592582606638801,0.009468644654426614,0.005422683778351188,0.008271197941942523,0.008394379292282738,0.007117984585620973,0.008531958707878972,0.009339453507451507,0.007716158704991605,0.01230874390086524,0.005076609588468147,0.005116746390349849,0.01041595038904142,0.010335791092418911,0.009298505104789282,0.011918220875948586,0.005198770163083826,0.005252582983129018,0.004934251423123327,0.010263625692664171,0.011296860903307969,0.009841231316330419,0.006655108146408778,0.012768727032212483,0.006078362047539475,0.00591978117881249,0.007804972515699124,0.011867748740975168,0.008130454607415141,0.008307717676276194,0.005821886276240145,0.008415162328698692,0.005024590774251765,0.005384762408992761,0.00584892780372508,0.006203049295923241,0.0071892099097133,0.010584017040217553,0.007532755985056924,0.006709105437325843,0.004686046736322057,0.008124385894892148,0.005503862920397461,0.008153553036510188,0.007440154793341791,0.004674821062848708,0.004738560131252612,0.006817536150342788,0.0071932623761713655,0.00819763478755401,0.01179351054962089,0.004366484311738278,0.007324483070919193,0.006188386949155529,0.0052021922488784825,0.005006777021198304,0.008478914317760251,0.007620784356618397,0.009100407547379188,0.005399146883343742,0.004838972362464835,0.00821499326135831,0.00668975034097251,0.008602969688123801,0.006041338495274396,0.005470583796626032,0.008054640486335267,0.01009644753173047,0.010667138390550305,0.005337817212215059,0.011879928970330628,0.010784444316976923,0.006552455973234764,0.007529327294584994,0.00583131302337413,0.00676130038621359,0.008458266631185204,0.006640712225308598,0.005957041392346019,0.006298900153862633,0.008657779851764684,0.007954686701245859,0.008531919806097066,0.00747307466747267,0.012321653821327615,0.006971366260588503,0.004146232042122865,0.007712296209310622,0.009107104957187737,0.005291081140117362,0.01112179226362047,0.0035423693014212873,0.006233202504085017,0.00863290473470375,0.009040857601908134,0.008170505411445003,0.00805170066794184,0.0052547637142857165,0.005893222120416404,0.009392900098930365,0.011355498373550526,0.007760736759976089,0.008264265910356448,0.010055202843393863,0.007541160467061739,0.0052630432612388095,0.006928929736275497,0.007263535201854007,0.009707975584375587,0.01051391792027653,0.0070049279010343315,0.010362958002301071,0.009418101783222277,0.006378512579171082,0.00841785596093841,0.007590228889460839,0.00425384152588962,0.005895896209514599,0.007940005812003272,0.00993642895177569,0.008873634798384768,0.01148133004845827,0.010041341332884021,0.0055822415635393,0.007788849337102164,0.009738539763853539,0.00674389630968064,0.0055419313896292585,0.007608959782913879,0.009823448829338891,0.008861108893111464,0.00967062798389555,0.010606494107075405,0.005209414188516134,0.008112579127971586,0.012773942447082279,0.005477574638146877,0.007612831462994457,0.009644777060090901,0.007954571508513818,0.010407237318420068,0.006297920132864427,0.00822209623345604,0.008127319066836336,0.011814256128517159,0.007508563217435571,0.006246151179462707,0.006988170403998437,0.003827969743431229,0.008321448115502564,0.004951991878518915,0.008424081327059792,0.008059239964813978,0.004257452669590049,0.008552802030621224,0.007177742582388901,0.005161006926617738,0.005510001145166377,0.007633242138165121,0.0074365172979033705,0.008115383078475239,0.00976293113141241,0.005573242512088026,0.00820022261979747,0.0056144052972533194,0.004860654987421443,0.009076354072701767,0.008910108192668104,0.01149757437914738,0.006547513648450712,0.008363419522279886,0.006355268402249517,0.005754417940575448,0.006528276055945036,0.00973158199284729,0.004538382705919173,0.00783440639676866,0.008199567679454508,0.008967382418008514,0.007443236554299709,0.006817901009587263,0.010769700370979738,0.010748570143540684,0.004289841073355833,0.0065627026837870445,0.010340654443632004,0.007463993659414071,0.008814761816217744,0.005397834660630681,0.009277095745622908,0.009853014096212313,0.005206375656298817,0.007291046075396016,0.011453163433693736,0.006711238793270556,0.006825900357927811,0.008028100924117668,0.008694407704717938,0.005051972664559266,0.004830001404792177,0.008150587080281775,0.008462369755303371,0.006676790637390337,0.007126175971427035,0.005324244237124021,0.004848975827464318,0.01031518622767658,0.010067926993199425,0.007291018054447397,0.010184345659242701,0.005241465935314346,0.007955193315697967,0.007941479538324489,0.004781452119498008,0.009023480873308995,0.009408933928205729,0.005908808253282431,0.007578757730983004,0.008282143542709244,0.007897197111185719,0.007479686043521073,0.008737770199901728,0.007402498109487496,0.005071985569685727,0.003783559752931991,0.007781037373788027,0.007972619745247288,0.009625962700977543,0.006972461537904457,0.004181338769808492,0.006912963513915432,0.006177158538667761,0.005288856042588997,0.008992709329970466,0.00941023960799858,0.006257970344745912,0.006805144077158962,0.009437343964722553,0.004862306857467494,0.007300518943779919,0.008841869861683924,0.007435234983555608,0.009027947448861349,0.006868166223458452,0.009363046993978079,0.009076431955580697,0.006328334779007434,0.004582422544261194,0.00955346486791429,0.008667024532003739,0.007617409026631013,0.005175505678283314,0.008535135023506333,0.006157560043045171,0.007320187299670296,0.006986602395230425,0.01006716529237782,0.008164848345708261,0.006668541425181226,0.007929489443035329,0.012050875928806081,0.008548787178445682,0.009867915559002231,0.00632265866547769,0.004728499001553687,0.007203525447051902,0.004639618565613117,0.011495602576384193,0.010944736080699695,0.005367845653585954,0.009284787368439185,0.008741000342194404,0.007682950647088013,0.008689472231087481,0.006067792824378292,0.005944177954712335,0.01101822123074869,0.004630182311702374,0.00673512349993886,0.009298976408652725,0.0046484382080901965,0.005560468287167476,0.008811966470763604,0.011265967874093856,0.005285757690480765,0.00882718793892238,0.003891430545604518,0.009701746339738953,0.010396101864345792,0.0071949166943618675,0.008458611025552773,0.0059919996370881076,0.005663740748969569,0.007982876275690824,0.008422819245045914,0.009609818548512243,0.009181309650024548,0.006292303972768274,0.008843213313384057,0.007496470283903401,0.008976634213107404,0.005882578326578914,0.008515768651494605,0.008620926947578352,0.004741354464328782,0.003921978992632729,0.006473062487909228,0.005838424160717595,0.010414466820928512,0.00450056641718821,0.008976384966544591,0.008955546405805216,0.006684535454030995,0.006939585491525861,0.010705007300544571,0.003748656643746755,0.011538623027158808,0.009869157001077726,0.005406332860539302,0.006458550100568022,0.00882457083216794,0.009884872859971503,0.00630848478217267,0.006605586563778198,0.010411496976757247,0.004178609335828193,0.008900987585710961,0.007863688735725634,0.006723447344088196,0.01208870601649122,0.012276816139984385,0.00703150759004809,0.008873956762918266,0.009308066579018124,0.005368279142604312,0.006462177078877011,0.011076655217999398,0.008053994398550104,0.007179963289989262,0.006380932988564788,0.009424949787482775,0.008239061672960861,0.008162729667758946,0.006004408580009217,0.009370658475530017,0.005791439432224905,0.00497464786609004,0.00731216744903112,0.00742323372506822,0.008042448222884826,0.007178270721432855,0.008348858026551609,0.007330734600715085,0.010068349136296742,0.007705204609411197,0.008241729667592915,0.003931982621907846,0.009447503354836958,0.007587757199615689,0.006668378251835316,0.008827355591189525,0.004927971247374499,0.006742335623442895,0.006854243933676874,0.005623694291508066,0.012152372070505776,0.008464102577837484,0.009554844194933954,0.008198490607482381,0.006857302087841392,0.012432690680745366,0.007150146078046783,0.0077327934559114336,0.007300657913695974,0.006018604657585195,0.005225625750519943,0.009276507347152258,0.008570775346949014,0.0038889844797539326,0.01005652591484349,0.009996408267904341,0.00464195600504011,0.009565357594295224,0.010888215502408176,0.005780773407730548,0.008957121352714717,0.005997516317293528,0.00808809079739554,0.010739555956004069,0.006241689083788117,0.006893314792558492,0.00795834767088249,0.007811442052364713,0.012106288429830055,0.008107214938927047,0.00840374491763216,0.0081602917527169,0.0056042926765624765,0.009108954726725115,0.009544558559154,0.005833575316582487,0.005949472982767528,0.004949429945016549,0.008446028969364265,0.008070865916693913,0.0070769575461561,0.007303690835334584,0.009067589440598595,0.006638167255986213,0.006116539281439508,0.007296442961694795,0.009636224225338741,0.00733746269676732,0.007521317412029971,0.00849225487706631,0.010982623239876687,0.007800787644706189,0.00982528039314227,0.009907499611579567,0.004514052380341917,0.007780149938000282,0.005090191550853548,0.007212207128194271,0.007283018178464798,0.005409297441245454,0.006500108160271903,0.0058403578627856615,0.005093662369438673,0.006146566193721415,0.008107296850968502,0.005398220416697473,0.01026039517789736,0.007514260149431767,0.007704398634250872,0.009668725225656418,0.006961277834496111,0.010048173096817105,0.007464013956647,0.011664192348818379,0.00703994806189763,0.008315953212472395,0.004731542479956448,0.008535139404012897,0.0071606967599632775,0.007872892510148813,0.005656619169446635,0.009216535604653098,0.004932458101234409,0.005316864948558058,0.004335838987137245,0.011956609937885667,0.0073335349456282,0.0057544331937096505,0.0053228811851316945,0.005110652813094106,0.006317073450356969,0.005754616855403285,0.0068830709468940795,0.006633611159942051,0.005765175102282348,0.011360681325938567,0.0053358585849535515,0.007804673763984397,0.0045067641432871555,0.006216440394835519,0.004474672340252652,0.008158930326203854,0.008637172917496255,0.009948520972413364,0.006372031081272294,0.009939702322322557,0.006653037981321148,0.007297765947104802,0.008365015307242067,0.007593191136838893,0.00588043077873848,0.005691735350529744,0.005142894745553399,0.006610368106330218,0.007408160950383411,0.008513224033726903,0.00938642415261952,0.009601210145039875,0.007732188912074481,0.008208822183023788,0.007440769449224682,0.004779580002959184,0.004443966440101792,0.006637896921365454,0.007868288849258548,0.009860728176854178,0.009104162888170066,0.007317074405194865,0.00822850955379804,0.01175538459624047,0.0068610750077878375,0.00807806138091116,0.007930628247200604,0.007682050551177112,0.004368040302661349,0.009138347412878351,0.007822504412740598,0.008244965427468557,0.008783374354765448,0.006260031309195169,0.010565682550862219,0.005144937414517383,0.008490079114363136,0.007630207178713901,0.00769833917029694,0.007549302881830906,0.011777361150432137,0.007060625138564688,0.00950888256194312,0.005634764688112819,0.005107986583736732,0.007045589693906703,0.008363758473445013,0.0042627825688415,0.010788264865745068,0.008975611841954894,0.010115321259321299,0.008045171502762235,0.005895170342504891,0.006294948560321785,0.01020879110964579,0.006388559648433942,0.013620782911042507,0.0072126967886346535,0.010397921426678908,0.006418886738805801,0.0070554419232635845,0.006438731843417757,0.00643653767775286,0.007939951214170694,0.010695979043816011,0.00787534174044233,0.007948050720833252,0.008837225492616795,0.00992950270788098,0.010472142635567939,0.0100210379927351,0.005609314906050452,0.007291600868605944,0.007941638804653659,0.005162762910715534,0.007858220011583884,0.004731205068031062,0.004338284441497893,0.00875708979144081,0.008161184891797298,0.0073560385458002735,0.009499638900532606,0.004634471270268457,0.004643013553185035],\"type\":\"scatter\"}],                        {\"template\":{\"data\":{\"barpolar\":[{\"marker\":{\"line\":{\"color\":\"white\",\"width\":0.5},\"pattern\":{\"fillmode\":\"overlay\",\"size\":10,\"solidity\":0.2}},\"type\":\"barpolar\"}],\"bar\":[{\"error_x\":{\"color\":\"#2a3f5f\"},\"error_y\":{\"color\":\"#2a3f5f\"},\"marker\":{\"line\":{\"color\":\"white\",\"width\":0.5},\"pattern\":{\"fillmode\":\"overlay\",\"size\":10,\"solidity\":0.2}},\"type\":\"bar\"}],\"carpet\":[{\"aaxis\":{\"endlinecolor\":\"#2a3f5f\",\"gridcolor\":\"#C8D4E3\",\"linecolor\":\"#C8D4E3\",\"minorgridcolor\":\"#C8D4E3\",\"startlinecolor\":\"#2a3f5f\"},\"baxis\":{\"endlinecolor\":\"#2a3f5f\",\"gridcolor\":\"#C8D4E3\",\"linecolor\":\"#C8D4E3\",\"minorgridcolor\":\"#C8D4E3\",\"startlinecolor\":\"#2a3f5f\"},\"type\":\"carpet\"}],\"choropleth\":[{\"colorbar\":{\"outlinewidth\":0,\"ticks\":\"\"},\"type\":\"choropleth\"}],\"contourcarpet\":[{\"colorbar\":{\"outlinewidth\":0,\"ticks\":\"\"},\"type\":\"contourcarpet\"}],\"contour\":[{\"colorbar\":{\"outlinewidth\":0,\"ticks\":\"\"},\"colorscale\":[[0.0,\"#0d0887\"],[0.1111111111111111,\"#46039f\"],[0.2222222222222222,\"#7201a8\"],[0.3333333333333333,\"#9c179e\"],[0.4444444444444444,\"#bd3786\"],[0.5555555555555556,\"#d8576b\"],[0.6666666666666666,\"#ed7953\"],[0.7777777777777778,\"#fb9f3a\"],[0.8888888888888888,\"#fdca26\"],[1.0,\"#f0f921\"]],\"type\":\"contour\"}],\"heatmapgl\":[{\"colorbar\":{\"outlinewidth\":0,\"ticks\":\"\"},\"colorscale\":[[0.0,\"#0d0887\"],[0.1111111111111111,\"#46039f\"],[0.2222222222222222,\"#7201a8\"],[0.3333333333333333,\"#9c179e\"],[0.4444444444444444,\"#bd3786\"],[0.5555555555555556,\"#d8576b\"],[0.6666666666666666,\"#ed7953\"],[0.7777777777777778,\"#fb9f3a\"],[0.8888888888888888,\"#fdca26\"],[1.0,\"#f0f921\"]],\"type\":\"heatmapgl\"}],\"heatmap\":[{\"colorbar\":{\"outlinewidth\":0,\"ticks\":\"\"},\"colorscale\":[[0.0,\"#0d0887\"],[0.1111111111111111,\"#46039f\"],[0.2222222222222222,\"#7201a8\"],[0.3333333333333333,\"#9c179e\"],[0.4444444444444444,\"#bd3786\"],[0.5555555555555556,\"#d8576b\"],[0.6666666666666666,\"#ed7953\"],[0.7777777777777778,\"#fb9f3a\"],[0.8888888888888888,\"#fdca26\"],[1.0,\"#f0f921\"]],\"type\":\"heatmap\"}],\"histogram2dcontour\":[{\"colorbar\":{\"outlinewidth\":0,\"ticks\":\"\"},\"colorscale\":[[0.0,\"#0d0887\"],[0.1111111111111111,\"#46039f\"],[0.2222222222222222,\"#7201a8\"],[0.3333333333333333,\"#9c179e\"],[0.4444444444444444,\"#bd3786\"],[0.5555555555555556,\"#d8576b\"],[0.6666666666666666,\"#ed7953\"],[0.7777777777777778,\"#fb9f3a\"],[0.8888888888888888,\"#fdca26\"],[1.0,\"#f0f921\"]],\"type\":\"histogram2dcontour\"}],\"histogram2d\":[{\"colorbar\":{\"outlinewidth\":0,\"ticks\":\"\"},\"colorscale\":[[0.0,\"#0d0887\"],[0.1111111111111111,\"#46039f\"],[0.2222222222222222,\"#7201a8\"],[0.3333333333333333,\"#9c179e\"],[0.4444444444444444,\"#bd3786\"],[0.5555555555555556,\"#d8576b\"],[0.6666666666666666,\"#ed7953\"],[0.7777777777777778,\"#fb9f3a\"],[0.8888888888888888,\"#fdca26\"],[1.0,\"#f0f921\"]],\"type\":\"histogram2d\"}],\"histogram\":[{\"marker\":{\"pattern\":{\"fillmode\":\"overlay\",\"size\":10,\"solidity\":0.2}},\"type\":\"histogram\"}],\"mesh3d\":[{\"colorbar\":{\"outlinewidth\":0,\"ticks\":\"\"},\"type\":\"mesh3d\"}],\"parcoords\":[{\"line\":{\"colorbar\":{\"outlinewidth\":0,\"ticks\":\"\"}},\"type\":\"parcoords\"}],\"pie\":[{\"automargin\":true,\"type\":\"pie\"}],\"scatter3d\":[{\"line\":{\"colorbar\":{\"outlinewidth\":0,\"ticks\":\"\"}},\"marker\":{\"colorbar\":{\"outlinewidth\":0,\"ticks\":\"\"}},\"type\":\"scatter3d\"}],\"scattercarpet\":[{\"marker\":{\"colorbar\":{\"outlinewidth\":0,\"ticks\":\"\"}},\"type\":\"scattercarpet\"}],\"scattergeo\":[{\"marker\":{\"colorbar\":{\"outlinewidth\":0,\"ticks\":\"\"}},\"type\":\"scattergeo\"}],\"scattergl\":[{\"marker\":{\"colorbar\":{\"outlinewidth\":0,\"ticks\":\"\"}},\"type\":\"scattergl\"}],\"scattermapbox\":[{\"marker\":{\"colorbar\":{\"outlinewidth\":0,\"ticks\":\"\"}},\"type\":\"scattermapbox\"}],\"scatterpolargl\":[{\"marker\":{\"colorbar\":{\"outlinewidth\":0,\"ticks\":\"\"}},\"type\":\"scatterpolargl\"}],\"scatterpolar\":[{\"marker\":{\"colorbar\":{\"outlinewidth\":0,\"ticks\":\"\"}},\"type\":\"scatterpolar\"}],\"scatter\":[{\"marker\":{\"colorbar\":{\"outlinewidth\":0,\"ticks\":\"\"}},\"type\":\"scatter\"}],\"scatterternary\":[{\"marker\":{\"colorbar\":{\"outlinewidth\":0,\"ticks\":\"\"}},\"type\":\"scatterternary\"}],\"surface\":[{\"colorbar\":{\"outlinewidth\":0,\"ticks\":\"\"},\"colorscale\":[[0.0,\"#0d0887\"],[0.1111111111111111,\"#46039f\"],[0.2222222222222222,\"#7201a8\"],[0.3333333333333333,\"#9c179e\"],[0.4444444444444444,\"#bd3786\"],[0.5555555555555556,\"#d8576b\"],[0.6666666666666666,\"#ed7953\"],[0.7777777777777778,\"#fb9f3a\"],[0.8888888888888888,\"#fdca26\"],[1.0,\"#f0f921\"]],\"type\":\"surface\"}],\"table\":[{\"cells\":{\"fill\":{\"color\":\"#EBF0F8\"},\"line\":{\"color\":\"white\"}},\"header\":{\"fill\":{\"color\":\"#C8D4E3\"},\"line\":{\"color\":\"white\"}},\"type\":\"table\"}]},\"layout\":{\"annotationdefaults\":{\"arrowcolor\":\"#2a3f5f\",\"arrowhead\":0,\"arrowwidth\":1},\"autotypenumbers\":\"strict\",\"coloraxis\":{\"colorbar\":{\"outlinewidth\":0,\"ticks\":\"\"}},\"colorscale\":{\"diverging\":[[0,\"#8e0152\"],[0.1,\"#c51b7d\"],[0.2,\"#de77ae\"],[0.3,\"#f1b6da\"],[0.4,\"#fde0ef\"],[0.5,\"#f7f7f7\"],[0.6,\"#e6f5d0\"],[0.7,\"#b8e186\"],[0.8,\"#7fbc41\"],[0.9,\"#4d9221\"],[1,\"#276419\"]],\"sequential\":[[0.0,\"#0d0887\"],[0.1111111111111111,\"#46039f\"],[0.2222222222222222,\"#7201a8\"],[0.3333333333333333,\"#9c179e\"],[0.4444444444444444,\"#bd3786\"],[0.5555555555555556,\"#d8576b\"],[0.6666666666666666,\"#ed7953\"],[0.7777777777777778,\"#fb9f3a\"],[0.8888888888888888,\"#fdca26\"],[1.0,\"#f0f921\"]],\"sequentialminus\":[[0.0,\"#0d0887\"],[0.1111111111111111,\"#46039f\"],[0.2222222222222222,\"#7201a8\"],[0.3333333333333333,\"#9c179e\"],[0.4444444444444444,\"#bd3786\"],[0.5555555555555556,\"#d8576b\"],[0.6666666666666666,\"#ed7953\"],[0.7777777777777778,\"#fb9f3a\"],[0.8888888888888888,\"#fdca26\"],[1.0,\"#f0f921\"]]},\"colorway\":[\"#636efa\",\"#EF553B\",\"#00cc96\",\"#ab63fa\",\"#FFA15A\",\"#19d3f3\",\"#FF6692\",\"#B6E880\",\"#FF97FF\",\"#FECB52\"],\"font\":{\"color\":\"#2a3f5f\"},\"geo\":{\"bgcolor\":\"white\",\"lakecolor\":\"white\",\"landcolor\":\"white\",\"showlakes\":true,\"showland\":true,\"subunitcolor\":\"#C8D4E3\"},\"hoverlabel\":{\"align\":\"left\"},\"hovermode\":\"closest\",\"mapbox\":{\"style\":\"light\"},\"paper_bgcolor\":\"white\",\"plot_bgcolor\":\"white\",\"polar\":{\"angularaxis\":{\"gridcolor\":\"#EBF0F8\",\"linecolor\":\"#EBF0F8\",\"ticks\":\"\"},\"bgcolor\":\"white\",\"radialaxis\":{\"gridcolor\":\"#EBF0F8\",\"linecolor\":\"#EBF0F8\",\"ticks\":\"\"}},\"scene\":{\"xaxis\":{\"backgroundcolor\":\"white\",\"gridcolor\":\"#DFE8F3\",\"gridwidth\":2,\"linecolor\":\"#EBF0F8\",\"showbackground\":true,\"ticks\":\"\",\"zerolinecolor\":\"#EBF0F8\"},\"yaxis\":{\"backgroundcolor\":\"white\",\"gridcolor\":\"#DFE8F3\",\"gridwidth\":2,\"linecolor\":\"#EBF0F8\",\"showbackground\":true,\"ticks\":\"\",\"zerolinecolor\":\"#EBF0F8\"},\"zaxis\":{\"backgroundcolor\":\"white\",\"gridcolor\":\"#DFE8F3\",\"gridwidth\":2,\"linecolor\":\"#EBF0F8\",\"showbackground\":true,\"ticks\":\"\",\"zerolinecolor\":\"#EBF0F8\"}},\"shapedefaults\":{\"line\":{\"color\":\"#2a3f5f\"}},\"ternary\":{\"aaxis\":{\"gridcolor\":\"#DFE8F3\",\"linecolor\":\"#A2B1C6\",\"ticks\":\"\"},\"baxis\":{\"gridcolor\":\"#DFE8F3\",\"linecolor\":\"#A2B1C6\",\"ticks\":\"\"},\"bgcolor\":\"white\",\"caxis\":{\"gridcolor\":\"#DFE8F3\",\"linecolor\":\"#A2B1C6\",\"ticks\":\"\"}},\"title\":{\"x\":0.05},\"xaxis\":{\"automargin\":true,\"gridcolor\":\"#EBF0F8\",\"linecolor\":\"#EBF0F8\",\"ticks\":\"\",\"title\":{\"standoff\":15},\"zerolinecolor\":\"#EBF0F8\",\"zerolinewidth\":2},\"yaxis\":{\"automargin\":true,\"gridcolor\":\"#EBF0F8\",\"linecolor\":\"#EBF0F8\",\"ticks\":\"\",\"title\":{\"standoff\":15},\"zerolinecolor\":\"#EBF0F8\",\"zerolinewidth\":2}}},\"xaxis\":{\"title\":{\"text\":\"Annualised Risk (Volatility)\"}},\"yaxis\":{\"title\":{\"text\":\"Annualised Return\"}},\"title\":{\"text\":\"Sample of Random Portfolios\"},\"coloraxis\":{\"colorbar\":{\"title\":{\"text\":\"Sharpe Ratio\"}}}},                        {\"responsive\": true}                    ).then(function(){\n",
              "                            \n",
              "var gd = document.getElementById('769dfe78-3415-4814-8029-0014190357e6');\n",
              "var x = new MutationObserver(function (mutations, observer) {{\n",
              "        var display = window.getComputedStyle(gd).display;\n",
              "        if (!display || display === 'none') {{\n",
              "            console.log([gd, 'removed!']);\n",
              "            Plotly.purge(gd);\n",
              "            observer.disconnect();\n",
              "        }}\n",
              "}});\n",
              "\n",
              "// Listen for the removal of the full notebook cells\n",
              "var notebookContainer = gd.closest('#notebook-container');\n",
              "if (notebookContainer) {{\n",
              "    x.observe(notebookContainer, {childList: true});\n",
              "}}\n",
              "\n",
              "// Listen for the clearing of the current output cell\n",
              "var outputEl = gd.closest('.output');\n",
              "if (outputEl) {{\n",
              "    x.observe(outputEl, {childList: true});\n",
              "}}\n",
              "\n",
              "                        })                };                            </script>        </div>\n",
              "</body>\n",
              "</html>"
            ]
          },
          "metadata": {}
        }
      ]
    },
    {
      "cell_type": "code",
      "source": [
        "print(min_portfolio_variance, min_weights, min_asset)"
      ],
      "metadata": {
        "colab": {
          "base_uri": "https://localhost:8080/"
        },
        "id": "pg8wUV9YgFwk",
        "outputId": "da997a11-3f6d-4633-c5ef-a2d6e1831505"
      },
      "execution_count": 778,
      "outputs": [
        {
          "output_type": "stream",
          "name": "stdout",
          "text": [
            "2.22731927896188e-06 [0.01017965 0.92629719 0.06352317] ['AAPL' 'NR' 'PG']\n"
          ]
        }
      ]
    },
    {
      "cell_type": "code",
      "source": [
        "import math"
      ],
      "metadata": {
        "id": "EwjUapsWvUUO"
      },
      "execution_count": 779,
      "outputs": []
    },
    {
      "cell_type": "markdown",
      "source": [
        "Определим минимальную доходность, достаточную для выполнения плана"
      ],
      "metadata": {
        "id": "kPt9_8ILDvIt"
      }
    },
    {
      "cell_type": "code",
      "source": [
        "min_ret = math.exp(math.log(1.5)/52) - 1"
      ],
      "metadata": {
        "id": "1gjOG5jTkqpt"
      },
      "execution_count": 780,
      "outputs": []
    },
    {
      "cell_type": "code",
      "source": [
        "#- How many assests to include in each portfolio\n",
        "n_assets = 3\n",
        "#-- How many portfolios to generate\n",
        "n_portfolios = 1000\n",
        "\n",
        "#-- Initialize empty list to store mean-variance pairs for plotting\n",
        "mean_variance_pairs = []\n",
        "\n",
        "min_portfolio_variance = 1000\n",
        "min_weights = []\n",
        "min_asset = []\n",
        "max_ret = 0\n",
        "\n",
        "np.random.seed(75)\n",
        "#-- Loop through and generate lots of random portfolios\n",
        "for i in range(n_portfolios):\n",
        "    #- Choose assets randomly without replacement\n",
        "    assets = np.random.choice(list(weeklyReturns.columns), n_assets, replace=False)\n",
        "    #- Choose weights randomly\n",
        "    weights = np.random.rand(n_assets)\n",
        "    #- Ensure weights sum to 1\n",
        "    weights = weights/sum(weights)\n",
        "\n",
        "    #-- Loop over asset pairs and compute portfolio return and variance\n",
        "   \n",
        "    portfolio_E_Variance = 0\n",
        "    portfolio_E_Return = 0\n",
        "    for i in range(len(assets)):\n",
        "        portfolio_E_Return += weights[i] * mus.loc[assets[i]]\n",
        "        for j in range(len(assets)):\n",
        "            #-- Add variance/covariance for each asset pair\n",
        "            #- Note that when i==j this adds the variance\n",
        "            portfolio_E_Variance += weights[i] * weights[j] * cov.loc[assets[i], assets[j]]\n",
        "            \n",
        "    #-- Add the mean/variance pairs to a list for plotting\n",
        "    mean_variance_pairs.append([portfolio_E_Return, portfolio_E_Variance])\n",
        "    if(portfolio_E_Variance < min_portfolio_variance) and (portfolio_E_Return >= min_ret):\n",
        "      max_ret = portfolio_E_Return\n",
        "      min_portfolio_variance = portfolio_E_Variance\n",
        "      min_weights = weights\n",
        "      min_asset = assets"
      ],
      "metadata": {
        "id": "vxYf4tt5w8-0"
      },
      "execution_count": 781,
      "outputs": []
    },
    {
      "cell_type": "markdown",
      "source": [
        "Оптимальный вариант:"
      ],
      "metadata": {
        "id": "r7KBt3g8EKBL"
      }
    },
    {
      "cell_type": "code",
      "source": [
        "print(min_asset[0], ' : ', min_weights[0])\n",
        "print(min_asset[1], ' : ', min_weights[1])\n",
        "print(min_asset[2], ' : ', min_weights[2])"
      ],
      "metadata": {
        "colab": {
          "base_uri": "https://localhost:8080/"
        },
        "id": "TJlgZoFbxhLo",
        "outputId": "3738b0eb-b4a3-45c2-875e-c9d52a88d725"
      },
      "execution_count": 782,
      "outputs": [
        {
          "output_type": "stream",
          "name": "stdout",
          "text": [
            "AAPL  :  0.010179646121965633\n",
            "NR  :  0.9262971855984979\n",
            "PG  :  0.06352316827953641\n"
          ]
        }
      ]
    },
    {
      "cell_type": "code",
      "source": [
        "portfolio_min_variance_return = min_weights[0]*mus[min_asset[0]] + min_weights[1]*mus[min_asset[1]]+ min_weights[2]*mus[min_asset[2]]\n",
        "portfolio_min_variance_return_std = sqrt(min_portfolio_variance)\n"
      ],
      "metadata": {
        "id": "l6bHc3yx5OzP"
      },
      "execution_count": 783,
      "outputs": []
    },
    {
      "cell_type": "code",
      "source": [
        "temp = weeklyReturns[min_asset[0]] * min_weights[0] + weeklyReturns[min_asset[1]] * min_weights[1] + weeklyReturns[min_asset[2]] * min_weights[2]\n",
        "\n",
        "vol = np.std(temp)*sqrt(365/7)\n",
        "\n",
        "temp = temp - brs\n",
        "sharp = (temp.mean())/portfolio_min_variance_return_std\n",
        "print(\"Ожидаемая доходность : \", portfolio_min_variance_return)\n",
        "print(\"Волатильность : \", vol)\n",
        "print(\"Коэффициент Шарпа : \", sharp)"
      ],
      "metadata": {
        "colab": {
          "base_uri": "https://localhost:8080/"
        },
        "id": "L1KgYJpN2bjx",
        "outputId": "031d8201-520d-4b2d-f031-c01210d2fa65"
      },
      "execution_count": 784,
      "outputs": [
        {
          "output_type": "stream",
          "name": "stdout",
          "text": [
            "Ожидаемая доходность :  0.014107625813361934\n",
            "Волатильность :  0.010768146029325654\n",
            "Коэффициент Шарпа :  -0.5979374583118502\n"
          ]
        }
      ]
    }
  ]
}