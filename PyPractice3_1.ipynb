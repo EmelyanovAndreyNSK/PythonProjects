{
  "nbformat": 4,
  "nbformat_minor": 0,
  "metadata": {
    "colab": {
      "name": "PyPractice3_1.ipynb",
      "provenance": [],
      "collapsed_sections": [],
      "authorship_tag": "ABX9TyOA1ah5D0IXowNop9ZIrkV1",
      "include_colab_link": true
    },
    "kernelspec": {
      "name": "python3",
      "display_name": "Python 3"
    }
  },
  "cells": [
    {
      "cell_type": "markdown",
      "metadata": {
        "id": "view-in-github",
        "colab_type": "text"
      },
      "source": [
        "<a href=\"https://colab.research.google.com/github/EmelyanovAndreyNSK/PythonTasks/blob/master/PyPractice3_1.ipynb\" target=\"_parent\"><img src=\"https://colab.research.google.com/assets/colab-badge.svg\" alt=\"Open In Colab\"/></a>"
      ]
    },
    {
      "cell_type": "code",
      "metadata": {
        "id": "plwfjw4mztgd",
        "colab_type": "code",
        "outputId": "995daaa0-5fa7-4580-fa74-54a3bc904f29",
        "colab": {
          "base_uri": "https://localhost:8080/",
          "height": 50
        }
      },
      "source": [
        "def PrimeFactorization(num): #function that returns a list containing the prime factors of whatever integer is passed to it\n",
        "  list1 = []\n",
        "  c = 2\n",
        "  while (num>1):\n",
        "    while (num%c==0):\n",
        "      list1.append(c)\n",
        "      num = num/c\n",
        "    c = c+1\n",
        "  return list1\n",
        "\n",
        "num = int(input())\n",
        "print(PrimeFactorization(num))\n",
        "  "
      ],
      "execution_count": 0,
      "outputs": [
        {
          "output_type": "stream",
          "text": [
            "8912234\n",
            "[2, 47, 94811]\n"
          ],
          "name": "stdout"
        }
      ]
    },
    {
      "cell_type": "code",
      "metadata": {
        "id": "dLc_1v8C18p-",
        "colab_type": "code",
        "outputId": "b57c4a6a-cb86-4aef-937b-6d54ae02b803",
        "colab": {
          "base_uri": "https://localhost:8080/",
          "height": 50
        }
      },
      "source": [
        "def BalancedClusters(string1): #function that groups a string into parentheses cluster\n",
        "  ListClust = []\n",
        "  Nopen = 0\n",
        "  Nclose = 0\n",
        "  LatestClust = 0\n",
        "  for i in range(len(string1)):\n",
        "    \n",
        "    if(string1[i]==\"(\"):\n",
        "      Nopen = Nopen + 1\n",
        "    else: \n",
        "      Nclose = Nclose + 1\n",
        "\n",
        "    if (Nopen == Nclose):\n",
        "      ListClust.append(string1[LatestClust:i+1])\n",
        "      LatestClust=i+1\n",
        "      Nopen = 0\n",
        "      Nclose = 0\n",
        "\n",
        "  return ListClust\n",
        "\n",
        "string1= input()\n",
        "print(BalancedClusters(string1))\n"
      ],
      "execution_count": 0,
      "outputs": [
        {
          "output_type": "stream",
          "text": [
            "()(())(()())\n",
            "['()', '(())', '(()())']\n"
          ],
          "name": "stdout"
        }
      ]
    },
    {
      "cell_type": "code",
      "metadata": {
        "id": "27IZL9Hg-guz",
        "colab_type": "code",
        "outputId": "551890ff-317b-4013-a87c-e7c8f5d4bb55",
        "colab": {
          "base_uri": "https://localhost:8080/",
          "height": 50
        }
      },
      "source": [
        "def GenNum(list1):\n",
        "  res = 0\n",
        "  for i in range(len(list1)):\n",
        "    res = res + int(list1[len(list1)-i-1]) * pow(10,i)\n",
        "  return res\n",
        "\n",
        "num = input()\n",
        "Max = list(num)\n",
        "Min = list(num)\n",
        "Max.sort(reverse = True)\n",
        "Min.sort()\n",
        "\n",
        "\n",
        "print(GenNum(Max) - GenNum(Min)) #return the difference between the maximum and minimum numbers\n"
      ],
      "execution_count": 0,
      "outputs": [
        {
          "output_type": "stream",
          "text": [
            "972882\n",
            "760833\n"
          ],
          "name": "stdout"
        }
      ]
    },
    {
      "cell_type": "code",
      "metadata": {
        "id": "0Nq1yZKRDyIh",
        "colab_type": "code",
        "outputId": "542b37fd-901d-4863-c826-ff9147e3da75",
        "colab": {
          "base_uri": "https://localhost:8080/",
          "height": 34
        }
      },
      "source": [
        "can_see_stage=([[1,2,3],\n",
        "               [4,5,6],\n",
        "               [7,8,9]])\n",
        "f = 0\n",
        "for i in range(len(can_see_stage[0])):\n",
        "  for j in range(len(can_see_stage)-1):\n",
        "    if (can_see_stage[j][i]>can_see_stage[j+1][i]):\n",
        "      f=1\n",
        "      break\n",
        "  if (f == 1):\n",
        "    break\n",
        "if( f== 1):\n",
        "  print (\"False\")\n",
        "else:\n",
        "  print(\"True\")\n",
        "\n",
        "  "
      ],
      "execution_count": 0,
      "outputs": [
        {
          "output_type": "stream",
          "text": [
            "True\n"
          ],
          "name": "stdout"
        }
      ]
    },
    {
      "cell_type": "code",
      "metadata": {
        "id": "fsDTj3IGWln-",
        "colab_type": "code",
        "outputId": "a6207155-6665-496c-9a5a-250857d6a16b",
        "colab": {
          "base_uri": "https://localhost:8080/",
          "height": 202
        }
      },
      "source": [
        "def current_row(n):\n",
        "    row=list()\n",
        "    for i in range(n):\n",
        "        if i==0 or i==n-1:\n",
        "            row.append(1)\n",
        "        else:\n",
        "            c_row=current_row(n-1)\n",
        "            row.append(c_row[i-1]+c_row[i])\n",
        "    return row\n",
        " \n",
        "def triangle(m):\n",
        "    result=list()\n",
        "    for i in range(m):\n",
        "        result.append(current_row(i+1))\n",
        "    for j in result:\n",
        "        print(j)\n",
        "\n",
        "n = int(input())\n",
        "triangle(n)\n"
      ],
      "execution_count": 0,
      "outputs": [
        {
          "output_type": "stream",
          "text": [
            "10\n",
            "[1]\n",
            "[1, 1]\n",
            "[1, 2, 1]\n",
            "[1, 3, 3, 1]\n",
            "[1, 4, 6, 4, 1]\n",
            "[1, 5, 10, 10, 5, 1]\n",
            "[1, 6, 15, 20, 15, 6, 1]\n",
            "[1, 7, 21, 35, 35, 21, 7, 1]\n",
            "[1, 8, 28, 56, 70, 56, 28, 8, 1]\n",
            "[1, 9, 36, 84, 126, 126, 84, 36, 9, 1]\n"
          ],
          "name": "stdout"
        }
      ]
    },
    {
      "cell_type": "code",
      "metadata": {
        "id": "Llb-nKsYiNfN",
        "colab_type": "code",
        "outputId": "b8c9ca6d-5ead-4e88-9aa8-03b0d1b7b7e5",
        "colab": {
          "base_uri": "https://localhost:8080/",
          "height": 50
        }
      },
      "source": [
        "def PrimeFactorization(num): #a function that returns a list containing the prime factors of whatever integer is passed to it\n",
        "  list1 = []\n",
        "  c = 2\n",
        "  while (num>1):\n",
        "    while (num%c==0):\n",
        "      list1.append(c)\n",
        "      num = num/c\n",
        "    c = c+1\n",
        "  return list1\n",
        "\n",
        "fraction = input().split(\"/\")\n",
        "\n",
        "list1 = (PrimeFactorization(int(fraction[0])))\n",
        "list2 = (PrimeFactorization(int(fraction[1])))\n",
        "\n",
        "for i in range(len(list1)):\n",
        "  for j in range(len(list2)):\n",
        "    if (list1[i] == list2[j]):\n",
        "      list1[i]=1\n",
        "      list2[j]=1\n",
        "\n",
        "pr1 = 1\n",
        "pr2 = 1\n",
        "\n",
        "for i in list1:\n",
        "  pr1 = pr1*i\n",
        "\n",
        "for i in list2:\n",
        "  pr2 = pr2*i\n",
        "\n",
        "if (pr1%pr2 == 0):\n",
        "  print(int(pr1/pr2))\n",
        "else:\n",
        "  print (pr1,\"/\",pr2) #returns the simplified version of a fraction."
      ],
      "execution_count": 0,
      "outputs": [
        {
          "output_type": "stream",
          "text": [
            "8/14\n",
            "4 / 7\n"
          ],
          "name": "stdout"
        }
      ]
    },
    {
      "cell_type": "code",
      "metadata": {
        "id": "FCz_J22tZmrU",
        "colab_type": "code",
        "outputId": "b255dbb2-9f6a-41cc-8788-00fbb8eae6c0",
        "colab": {
          "base_uri": "https://localhost:8080/",
          "height": 50
        }
      },
      "source": [
        "string = input() #Given a string containing an algebraic equation \n",
        "list1 = string.split(\" \")\n",
        "x = 0\n",
        "\n",
        "if (list1[1]==\"+\"): #calculate and return the value of x\n",
        "  x = int(list1[4]) - int(list1[0])\n",
        "else:\n",
        "  x = int(list1[0]) - int(list1[4])  \n",
        "print(\"x =\", x)"
      ],
      "execution_count": 0,
      "outputs": [
        {
          "output_type": "stream",
          "text": [
            "10 - x = 5\n",
            "x =  5\n"
          ],
          "name": "stdout"
        }
      ]
    },
    {
      "cell_type": "code",
      "metadata": {
        "id": "-Kf4wMu9amiD",
        "colab_type": "code",
        "outputId": "0d40a5f2-29a2-4829-8899-ecd797051cdb",
        "colab": {
          "base_uri": "https://localhost:8080/",
          "height": 34
        }
      },
      "source": [
        "def gst(array): #function that takes a list of numbers or strings and returns a list with the items from the original list stored into sublists\n",
        "  nums = list(dict.fromkeys(array))\n",
        "  res = []\n",
        "  for num in nums:\n",
        "    buf =[]\n",
        "    for i in range(array.count(num)):\n",
        "      buf.append(num)\n",
        "    res.append(buf)\n",
        "  return(res)\n",
        "print(gst([\"a\", \"b\", \"c\", \"a\"]))"
      ],
      "execution_count": 0,
      "outputs": [
        {
          "output_type": "stream",
          "text": [
            "[['a', 'a'], ['b'], ['c']]\n"
          ],
          "name": "stdout"
        }
      ]
    },
    {
      "cell_type": "code",
      "metadata": {
        "id": "o77HARmJbR-N",
        "colab_type": "code",
        "outputId": "2fae75b3-9796-47d2-99b8-a573a9aa1c06",
        "colab": {
          "base_uri": "https://localhost:8080/",
          "height": 50
        }
      },
      "source": [
        "def can_complete(shortstr, longstr): #Complete the Word\n",
        "  last = 0\n",
        "  f = 0\n",
        "  for i in range(len(shortstr)):\n",
        "    for j in range(last,len(longstr)):\n",
        "      if(longstr[j] == shortstr[i]):\n",
        "        f = f + 1\n",
        "        last = j + 1\n",
        "        break\n",
        "\n",
        "  if (f == len(shortstr)):\n",
        "    print(\"True\")\n",
        "  else:\n",
        "    print(\"False\")\n",
        "\n",
        "can_complete(\"butl\", \"beautifull\")\n",
        "\n",
        "can_complete(\"butzl\", \"beautifull\")\n",
        "\n"
      ],
      "execution_count": 0,
      "outputs": [
        {
          "output_type": "stream",
          "text": [
            "True\n",
            "False\n"
          ],
          "name": "stdout"
        }
      ]
    },
    {
      "cell_type": "code",
      "metadata": {
        "id": "deVeSklnuF8p",
        "colab_type": "code",
        "outputId": "cd502ffd-7ef4-4589-c4ff-d3eb37f1c30e",
        "colab": {
          "base_uri": "https://localhost:8080/",
          "height": 34
        }
      },
      "source": [
        "def validate(st):\n",
        "  if (st[0] == '+')&(st[2] == '-')&(st[6] == '-')&(st[10] == '-')&(st[1].isdigit()):\n",
        "    return('true')\n",
        "  elif (st[1] == '-')&(st[5] == '-')&(st[9] == '-')&(st[0].isdigit()):\n",
        "   return ('true')\n",
        "  elif (st[1] == '(')&(st[5] == ')')&(st[9] == '-')&(st[0].isdigit()):\n",
        "    return ('true')\n",
        "  elif (st[1] == '-')&(st[5] == '-')&(st[9] == '-')&(st[0].isdigit()):\n",
        "   return ('true')\n",
        "  elif (st[1] == '.')&(st[5] == '.')&(st[9] == '.')&(st[0].isdigit()):\n",
        "   return ('true')\n",
        "  elif (st[1] == ' ')&(st[5] == ' ')&(st[9] == ' ')&(st[0].isdigit()):\n",
        "   return ('true')\n",
        "  elif (st.isdigit())&(len(st)==11)&(st[0].isdigit()):\n",
        "   return ('true')\n",
        "  elif (st[1] == '/')&(st[5] == '/')&(st[9] == '/')&(st[0]=='/'):\n",
        "    return ('true')\n",
        "  elif (st[3] == '-')&(st[7] == '-')&(st[0].isdigit()):\n",
        "   return ('true')\n",
        "  elif (st[3] == '(')&(st[7] == ')')&(st[0].isdigit()):\n",
        "    return ('true')\n",
        "  elif (st[3] == '.')&(st[7] == '.')&(st[0].isdigit()):\n",
        "    return ('true')\n",
        "  elif (st[3] == '/')&(st[7] == '/')&(st[0].isdigit()):\n",
        "    return ('true')\n",
        "  elif (st[3] == ' ')&(st[7] == ' ')&(st[0].isdigit()):\n",
        "    return ('true')\n",
        "  else:\n",
        "    return('false')\n",
        "\n",
        "st = '1 892 567 8901'\n",
        "print(validate(st))"
      ],
      "execution_count": 3,
      "outputs": [
        {
          "output_type": "stream",
          "text": [
            "true\n"
          ],
          "name": "stdout"
        }
      ]
    }
  ]
}