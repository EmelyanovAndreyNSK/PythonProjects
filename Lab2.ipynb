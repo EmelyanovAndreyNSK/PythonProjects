{
  "nbformat": 4,
  "nbformat_minor": 0,
  "metadata": {
    "kernelspec": {
      "display_name": "Python 3",
      "language": "python",
      "name": "python3"
    },
    "language_info": {
      "codemirror_mode": {
        "name": "ipython",
        "version": 3
      },
      "file_extension": ".py",
      "mimetype": "text/x-python",
      "name": "python",
      "nbconvert_exporter": "python",
      "pygments_lexer": "ipython3",
      "version": "3.8.5"
    },
    "colab": {
      "name": "Lab2.ipynb",
      "provenance": [],
      "include_colab_link": true
    }
  },
  "cells": [
    {
      "cell_type": "markdown",
      "metadata": {
        "id": "view-in-github",
        "colab_type": "text"
      },
      "source": [
        "<a href=\"https://colab.research.google.com/github/EmelyanovAndreyNSK/PythonTasks/blob/master/Lab2.ipynb\" target=\"_parent\"><img src=\"https://colab.research.google.com/assets/colab-badge.svg\" alt=\"Open In Colab\"/></a>"
      ]
    },
    {
      "cell_type": "markdown",
      "metadata": {
        "id": "hSZUGpitWbLf"
      },
      "source": [
        "# Введем переменные\n",
        "\n",
        "$bA$ - количество поставки руды A\n",
        "\n",
        "$bB$ - количество поставки руды B\n",
        "\n",
        "$conv$ - количество $II$ продукта отправленного на конвертацию\n",
        "\n",
        "$sI$ - количество $I$ товара на продажу (Доля)\n",
        "\n",
        "$sIlim$ - покупка до 4 тысяч тонн в день (Доля)\n",
        "\n",
        "$sIunlim$ - безлимитная покупка (Доля)\n",
        "\n",
        "$bI$ - закупка первого товара\n",
        "\n",
        "$bII$ - закупка второго товара\n",
        "\n",
        "\n",
        "\n",
        "\n",
        "\n",
        "# Входные данные\n",
        "\n",
        "## Закуп:\n",
        "$A\\_pr = 3.25\\_ руб./т.$ - стоимость покупки руды A\n",
        "\n",
        "$A\\_am = 100\\_ тыс. тонн/ день$ - количество поставки руды A в день\n",
        "\n",
        "$B\\_pr = 3.40\\_ руб./т.$ - стоимост покупки руды B\n",
        "\n",
        "$B\\_am =  30\\_ тыс. тонн/ день $ - количество поставки руды B в день\n",
        "\n",
        "## Переработка:\n",
        "\n",
        "$proc\\_pow = 100\\_ тыс. тонн/ день$ - общая мощность основной переработки\n",
        "\n",
        "$proc\\_pr = 0.35\\_ руб./т. $ стоимость общей переработки\n",
        "\n",
        "\n",
        "$ A\\_proc = \\left\\{\n",
        "\\begin{array}{ll}\n",
        "          A\\_proc1 = 0.15\\: т.\\: продукта\\: I, & \\mbox {}\\\\\n",
        "          A\\_proc2 = 0.85\\: т.\\: продукта\\: II, & \\mbox { } \\\\\n",
        "\\end{array} \\right. $ - с одной тонны\n",
        "\n",
        "$B\\_proc = \\left\\{\n",
        "\\begin{array}{ll}\n",
        "          B\\_proc1 = 0.25\\: т.\\: продукта\\: I, & \\mbox {}\\\\\n",
        "          B\\_proc2 = 0.75\\: т.\\: продукта\\: II, & \\mbox { } \\\\\n",
        "\\end{array} \\right. $ - с одной тонны\n",
        "\n",
        "$ Conv\\_proc = \\left\\{\n",
        "\\begin{array}{ll}\n",
        "          0.5\\: т.\\: продукта\\: I, & \\mbox {}\\\\\n",
        "          0.5\\: т.\\: продукта\\: II, & \\mbox { } \\\\\n",
        "\\end{array} \\right. $ - с одной тонны\n",
        "\n",
        "$Conv\\_pow = 50\\: тыс.\\: тонн/день$ - мощность переработки конвертера\n",
        "\n",
        "$Conv\\_pr =  0.25\\: руб./т$ - стоимость переработки конвертера\n",
        "\n",
        "$Filter =  0.10\\: руб./т$ - стоимость фильтрации первого продукта\n",
        "\n",
        "## Реализация продукции\n",
        "\n",
        "$sell\\_II = 3.80\\: руб./т.$ - неограниченная продажа продукта $II$\n",
        "\n",
        "$sell\\_I_0 =  5.5\\: руб./т\\:\\: limit = 45\\: тыс.\\:тонн/день$ - продажа $I$\n",
        "\n",
        "$sell\\_I_1 =  5.2\\: руб./т\\:\\: limit = 4\\: тыс.\\:тонн.день$ - продажа $I$\n",
        "\n",
        "$sell\\_I_2 = 5\\: руб./т\\:\\: unlimited$ - продажа $I$\n",
        "\n",
        "$pr\\_I = 5.75\\: руб./т$ - докупка $I$ товара\n",
        "\n",
        "$pr\\_II = 4.00\\: руб./т.$ - докупка $II$ товара\n",
        "\n",
        "$lim1 = 45000\\:тыс.\\:тонн$\n",
        "\n",
        "$lim2 = 4000\\:тыс.\\:тонн$\n",
        "\n",
        "$min\\_lim = 40\\: тыс:\\: тонн.день$ - минимальный контракт\n",
        "\n",
        "\n",
        "# Математическая модель\n",
        "\n",
        "Целевая функция:\n",
        "\n",
        "\n",
        "$sell\\_II\\cdot(A\\_proc_2\\cdot(bA) + B\\_proc_2\\cdot(bB)-Conv\\_proc\\cdot(conv)) + sell\\_I_0\\cdot (sI)\\cdot(A\\_proc_1\\cdot(bA)+B\\_proc_1\\cdot(bB)+Conv\\_proc\\cdot(conv))\n",
        "+sell\\_I_1\\cdot (sIlim)\\cdot(A\\_proc_1\\cdot(bA)+B\\_proc_1\\cdot(bB)+Conv\\_proc\\cdot(conv)) + sell\\_I_2\\cdot (sIunlim)\\cdot(A\\_proc_1\\cdot(bA)+B\\_proc_1\\cdot(bB)+Conv\\_proc\\cdot(conv)) \n",
        "-A\\_pr\\cdot(bA) - B\\_pr\\cdot(bB) - Conv\\_pr\\cdot(conv) - Filt\\cdot(A\\_proc_1\\cdot(bA)+B\\_proc_1\\cdot(bB)) -pr\\_I\\cdot(bI) - pr\\_II\\cdot(bII) - proc\\_pr\\cdot(bA+bB)         $\n",
        "\n",
        "\n",
        "Ограничения:\n",
        "\n",
        "$$0\\leq bA\\leq A\\_am$$\n",
        "\n",
        "$$0\\leq bB\\leq B\\_am$$\n",
        "\n",
        "$$0\\leq bA+bB\\leq 25000$$\n",
        "\n",
        "$$0\\leq conv\\leq Conv_pow$$\n",
        "\n",
        "$$0\\leq sI + sIlim + sIunlim\\leq 1$$\n",
        "\n",
        "$$0\\leq sI$$\n",
        "\n",
        "$$0\\leq sIlim$$\n",
        "\n",
        "$$0\\leq sIlim$$\n",
        "\n",
        "$$0\\leq b1$$\n",
        "\n",
        "$$0\\leq b2$$\n",
        "\n",
        "$$bA * A\\_proc_2 + bB * B\\_proc_2+ bII >= conv$$\n",
        "\n",
        "$$(sI)(A\\_proc_1\\cdot(bA)+B\\_proc_1\\cdot(bB)+Conv\\_proc\\cdot(conv))\\leq lim1$$\n",
        "\n",
        "$$(sIlim)(A\\_proc_1\\cdot(bA)+B\\_proc_1\\cdot(bB)+Conv\\_proc\\cdot(conv))\\leq lim2$$\n",
        "\n",
        "$$(A\\_proc_1\\cdot(bA)+B\\_proc_1\\cdot(bB)+Conv\\_proc\\cdot(conv))\\geq min\\_lim$$\n"
      ]
    },
    {
      "cell_type": "markdown",
      "metadata": {
        "id": "P9luM6xCWbLj"
      },
      "source": [
        "# Пункт 1\n",
        "Находим параметры для максимизации прибыли"
      ]
    },
    {
      "cell_type": "code",
      "metadata": {
        "id": "LYnfOUEzWbLk"
      },
      "source": [
        "import gurobipy as gp\n",
        "from gurobipy import GRB\n",
        "import numpy as np\n",
        "from random import randrange\n",
        "import string\n",
        "import math\n",
        "# Коэффиценты целевой функции \n",
        "\n",
        "Apr = 3.25\n",
        "Bpr = 3.40\n",
        "proc_pr = 0.35\n",
        "A_proc1 = 0.15\n",
        "A_proc2 = 0.85\n",
        "B_proc1 = 0.2\n",
        "B_proc2 = 0.8\n",
        "Conv_proc = 0.5\n",
        "Conv_pr = 0.25\n",
        "Filt = 0.1\n",
        "sell_II = 3.8\n",
        "sell_I0 = 5.5\n",
        "sell_I1 = 5.1\n",
        "sell_I2 = 5\n",
        "pr1 = 5.75\n",
        "pr2 = 4\n",
        "\n",
        "#Коэффиценты ограничений\n",
        "\n",
        "A_am = 100000\n",
        "B_am = 30000\n",
        "proc_pow = 100000\n",
        "Conv_pow = 50000\n",
        "lim1 = 45000\n",
        "lim2 = 4000\n",
        "min_lim = 40000"
      ],
      "execution_count": null,
      "outputs": []
    },
    {
      "cell_type": "code",
      "metadata": {
        "id": "p-6fCJdIWbLl",
        "outputId": "f0f91d51-43b9-4603-9125-5508835ccbd5"
      },
      "source": [
        "#Create a problem\n",
        "import unicodedata\n",
        "\n",
        "problem = gp.Model(\"Factory\")\n",
        "bA =    problem.addVar(lb = 0, ub = 100000,vtype = GRB.CONTINUOUS,name = 'bA')\n",
        "bB =    problem.addVar(lb = 0, ub = 30000,vtype = GRB.CONTINUOUS,name = 'bB')\n",
        "conv =  problem.addVar(lb = 0, ub = 50000,vtype = GRB.CONTINUOUS,name = 'conv')\n",
        "sI =      problem.addVar(lb = 0, ub = 1,vtype = GRB.CONTINUOUS,name = 'sI')\n",
        "sIlim =   problem.addVar(lb = 0, ub = 1,vtype = GRB.CONTINUOUS,name = 'sIlim')\n",
        "sIunlim = problem.addVar(lb = 0, ub = 1,vtype = GRB.CONTINUOUS,name = 'sIunlim')\n",
        "b1 =      problem.addVar(lb = 0,ub=GRB.INFINITY,vtype = GRB.CONTINUOUS,name = 'b1')\n",
        "b2 =      problem.addVar(lb = 0,ub=GRB.INFINITY,vtype = GRB.CONTINUOUS,name = 'b2')\n",
        "\n",
        "#Set objective \n",
        "\n",
        "problem.setObjective(sell_II * (A_proc2 * bA + B_proc2 * bB - Conv_proc * (conv)) + sell_I0 * (sI) * (A_proc1 * (bA) + B_proc1 * (bB) + Conv_proc * (conv))\n",
        "+ sell_I1 * (sIlim)*(A_proc1*(bA) + B_proc1 * (bB) + Conv_proc*(conv)) + sell_I2 * (sIunlim)*(A_proc1 * (bA) + B_proc1 * (bB) + Conv_proc * (conv)) \n",
        "- Apr * (bA) - Bpr * (bB) - Conv_pr * (conv) - Filt * (A_proc1 * (bA) + B_proc1 * (bB)) - pr1 * (b1) - pr2*(b2) - proc_pr * (bA + bB), GRB.MAXIMIZE)\n",
        "\n",
        "#Add constrains\n",
        "\n",
        "problem.addConstr(bA+bB <=proc_pow)\n",
        "problem.addConstr(sI+sIlim+sIunlim<=1)\n",
        "problem.addConstr(bA * A_proc2 + bB * B_proc2+ b2 >= conv)\n",
        "problem.addConstr(sI*(A_proc1 * (bA) + B_proc1*(bB) + Conv_proc*(conv))<=lim1)\n",
        "problem.addConstr(sIlim * (A_proc1 * (bA) + B_proc1 * (bB) + Conv_proc * (conv))<=lim2)\n",
        "problem.addConstr((A_proc1 * (bA) + B_proc1 * (bB)+Conv_proc * (conv))>=min_lim)\n",
        "\n",
        "problem.setParam(GRB.Param.NonConvex,2)\n",
        "problem.update()\n",
        "print(problem.display())"
      ],
      "execution_count": null,
      "outputs": [
        {
          "output_type": "stream",
          "text": [
            "Changed value of parameter NonConvex to 2\n",
            "   Prev: -1  Min: -1  Max: 2  Default: -1\n",
            "Maximize\n",
            "   <gurobi.QuadExpr: -0.385 bA + -0.7299999999999999 bB + -2.15 conv + -5.75 b1 + -4.0 b2 + [ 0.825 bA * sI + 0.7649999999999999 bA * sIlim + 0.75 bA * sIunlim + 1.1 bB * sI + 1.02 bB * sIlim + bB * sIunlim + 2.75 conv * sI + 2.55 conv * sIlim + 2.5 conv * sIunlim ]>\n",
            "Subject To\n",
            "   R0 : <gurobi.LinExpr: bA + bB> <= 100000.0\n",
            "   R1 : <gurobi.LinExpr: sI + sIlim + sIunlim> <= 1.0\n",
            "   R2 : <gurobi.LinExpr: 0.85 bA + 0.8 bB + -1.0 conv + b2> >= 0.0\n",
            "   R3 : <gurobi.LinExpr: 0.15 bA + 0.2 bB + 0.5 conv> >= 40000.0\n",
            "    : <gurobi.QuadExpr: 0.0 + [ 0.15 bA * sI + 0.2 bB * sI + 0.5 conv * sI ]> <= 45000.0\n",
            "    : <gurobi.QuadExpr: 0.0 + [ 0.15 bA * sIlim + 0.2 bB * sIlim + 0.5 conv * sIlim ]> <= 4000.0\n",
            "Bounds\n",
            "   0.0 <= bA <= 100000.0\n",
            "   0.0 <= bB <= 30000.0\n",
            "   0.0 <= conv <= 50000.0\n",
            "   0.0 <= sI <= 1.0\n",
            "   0.0 <= sIlim <= 1.0\n",
            "   0.0 <= sIunlim <= 1.0\n",
            "None\n"
          ],
          "name": "stdout"
        }
      ]
    },
    {
      "cell_type": "code",
      "metadata": {
        "scrolled": true,
        "id": "LLOktzR7WbLm",
        "outputId": "72a71a6c-3cbf-44f1-802e-0cb51481b9e8"
      },
      "source": [
        "#NonConvex = 2\n",
        "#problem.setParam(\"NonConvex\",2)\n",
        "problem.setObjective(total, GRB.MAXIMIZE)\n",
        "problem.update()  \n",
        "problem.optimize()"
      ],
      "execution_count": null,
      "outputs": [
        {
          "output_type": "stream",
          "text": [
            "Parameter NonConvex unchanged\n",
            "   Value: 2  Min: -1  Max: 2  Default: -1\n",
            "Gurobi Optimizer version 9.0.3 build v9.0.3rc0 (win64)\n",
            "Optimize a model with 4 rows, 8 columns and 12 nonzeros\n",
            "Model fingerprint: 0x8df81f32\n",
            "Model has 9 quadratic objective terms\n",
            "Model has 2 quadratic constraints\n",
            "Variable types: 8 continuous, 0 integer (0 binary)\n",
            "Coefficient statistics:\n",
            "  Matrix range     [1e-01, 1e+00]\n",
            "  QMatrix range    [1e-01, 5e-01]\n",
            "  Objective range  [4e-01, 6e+00]\n",
            "  QObjective range [2e+00, 6e+00]\n",
            "  Bounds range     [1e+00, 1e+05]\n",
            "  RHS range        [1e+00, 1e+05]\n",
            "  QRHS range       [4e+03, 5e+04]\n",
            "Presolved: 36 rows, 16 columns, 94 nonzeros\n",
            "Presolved model has 9 bilinear constraint(s)\n",
            "\n",
            "Continuing optimization...\n",
            "\n",
            "\n",
            "Cutting planes:\n",
            "  RLT: 2\n",
            "\n",
            "Explored 1 nodes (36 simplex iterations) in 0.02 seconds\n",
            "Thread count was 4 (of 4 available processors)\n",
            "\n",
            "Solution count 1: 74000 \n",
            "\n",
            "Optimal solution found (tolerance 1.00e-04)\n",
            "Best objective 7.400000000000e+04, best bound 7.400000000000e+04, gap 0.0000%\n"
          ],
          "name": "stdout"
        }
      ]
    },
    {
      "cell_type": "code",
      "metadata": {
        "id": "uS9syD0QWbLn"
      },
      "source": [
        ""
      ],
      "execution_count": null,
      "outputs": []
    },
    {
      "cell_type": "code",
      "metadata": {
        "id": "e253horQWbLn",
        "outputId": "0d1869f7-9420-4e7f-d76a-26b588cb2bad"
      },
      "source": [
        "if problem.status == GRB.OPTIMAL:\n",
        "    print('\\nIncome: %g' % problem.objVal)"
      ],
      "execution_count": null,
      "outputs": [
        {
          "output_type": "stream",
          "text": [
            "\n",
            "Income: 74000\n"
          ],
          "name": "stdout"
        }
      ]
    },
    {
      "cell_type": "code",
      "metadata": {
        "id": "C2i_xL_VWbLn",
        "outputId": "1f943b10-0469-4ec6-a85a-5822a55455b3"
      },
      "source": [
        "problem.getVars()"
      ],
      "execution_count": null,
      "outputs": [
        {
          "output_type": "execute_result",
          "data": {
            "text/plain": [
              "[<gurobi.Var bA (value 100000.0)>,\n",
              " <gurobi.Var bB (value 0.0)>,\n",
              " <gurobi.Var conv (value 50000.0)>,\n",
              " <gurobi.Var sI (value 1.0)>,\n",
              " <gurobi.Var sIlim (value 0.0)>,\n",
              " <gurobi.Var sIunlim (value 0.0)>,\n",
              " <gurobi.Var b1 (value 0.0)>,\n",
              " <gurobi.Var b2 (value 0.0)>]"
            ]
          },
          "metadata": {
            "tags": []
          },
          "execution_count": 20
        }
      ]
    },
    {
      "cell_type": "markdown",
      "metadata": {
        "id": "90kk6rPpWbLo"
      },
      "source": [
        "# Пункт 2\n",
        "Введем новую переменную $minpr$ и минимизируем её\n",
        "\n",
        "Наложим ограничение на целевую функцию $F\\geq Min\\_inc$\n",
        "\n",
        "$Min\\_inc = 50000$\n",
        "\n",
        "Если в этом пункте использовать целевую функцию из предыдущего пункта, то возникнет произведение из 3 переменных, с которым гуроби не сможет справиться (уже проверил). Поэтому придется поменять мат. модель."
      ]
    },
    {
      "cell_type": "markdown",
      "metadata": {
        "id": "JDpK6w70WbLo"
      },
      "source": [
        "# Введем переменные\n",
        "\n",
        "$bA$ - количество поставки руды A\n",
        "\n",
        "$bB$ - количество поставки руды B\n",
        "\n",
        "$conv$ - количество $II$ продукта отправленного на конвертацию\n",
        "\n",
        "$sI$ - количество $I$ товара на продажу \n",
        "\n",
        "$sIlim$ - покупка до 4 тысяч тонн в день \n",
        "\n",
        "$sIunlim$ - безлимитная покупка \n",
        "\n",
        "$bI$ - закупка первого товара\n",
        "\n",
        "$bII$ - закупка второго товара\n",
        "\n",
        "\n",
        "# Входные данные\n",
        "\n",
        "## Закуп:\n",
        "$A\\_pr = 3.25\\_ руб./т.$ - стоимость покупки руды A\n",
        "\n",
        "$A\\_am = 100\\_ тыс. тонн/ день$ - количество поставки руды A в день\n",
        "\n",
        "$B\\_pr = 3.40\\_ руб./т.$ - стоимост покупки руды B\n",
        "\n",
        "$B\\_am =  30\\_ тыс. тонн/ день $ - количество поставки руды B в день\n",
        "\n",
        "## Переработка:\n",
        "\n",
        "$proc\\_pow = 100\\_ тыс. тонн/ день$ - общая мощность основной переработки\n",
        "\n",
        "$proc\\_pr = 0.35\\_ руб./т. $ стоимость общей переработки\n",
        "\n",
        "\n",
        "$ A\\_proc = \\left\\{\n",
        "\\begin{array}{ll}\n",
        "          A\\_proc1 = 0.15\\: т.\\: продукта\\: I, & \\mbox {}\\\\\n",
        "          A\\_proc2 = 0.85\\: т.\\: продукта\\: II, & \\mbox { } \\\\\n",
        "\\end{array} \\right. $ - с одной тонны\n",
        "\n",
        "$B\\_proc = \\left\\{\n",
        "\\begin{array}{ll}\n",
        "          B\\_proc1 = 0.25\\: т.\\: продукта\\: I, & \\mbox {}\\\\\n",
        "          B\\_proc2 = 0.75\\: т.\\: продукта\\: II, & \\mbox { } \\\\\n",
        "\\end{array} \\right. $ - с одной тонны\n",
        "\n",
        "$ Conv\\_proc = \\left\\{\n",
        "\\begin{array}{ll}\n",
        "          0.5\\: т.\\: продукта\\: I, & \\mbox {}\\\\\n",
        "          0.5\\: т.\\: продукта\\: II, & \\mbox { } \\\\\n",
        "\\end{array} \\right. $ - с одной тонны\n",
        "\n",
        "$Conv\\_pow = 50\\: тыс.\\: тонн/день$ - мощность переработки конвертера\n",
        "\n",
        "$Conv\\_pr =  0.25\\: руб./т$ - стоимость переработки конвертера\n",
        "\n",
        "$Filter =  0.10\\: руб./т$ - стоимость фильтрации первого продукта\n",
        "\n",
        "\n",
        "## Реализация продукции\n",
        "\n",
        "$sell\\_II = 3.80\\: руб./т.$ - неограниченная продажа продукта $II$\n",
        "\n",
        "$sell\\_I_0 =  5.5\\: руб./т\\:\\: limit = 45\\: тыс.\\:тонн/день$ - продажа $I$\n",
        "\n",
        "$sell\\_I_1 =  5.2\\: руб./т\\:\\: limit = 4\\: тыс.\\:тонн.день$ - продажа $I$\n",
        "\n",
        "$sell\\_I_2 = 5\\: руб./т\\:\\: unlimited$ - продажа $I$\n",
        "\n",
        "$pr\\_I = 5.75\\: руб./т$ - докупка $I$ товара\n",
        "\n",
        "$pr\\_II = 4.00\\: руб./т.$ - докупка $II$ товара\n",
        "\n",
        "$lim1 = 45000\\:тыс.\\:тонн$\n",
        "\n",
        "$lim2 = 4000\\:тыс.\\:тонн$\n",
        "\n",
        "$min\\_lim = 40\\: тыс:\\: тонн.день$ - минимальный контракт\n",
        "\n",
        "\n",
        "# Математическая модель\n",
        "\n",
        "Целевая функция:\n",
        "\n",
        "$$sell\\_II\\cdot(A\\_proc_2\\cdot(bA) + B\\_proc_2\\cdot(bB)-Conv\\_proc\\cdot(conv)) + sell\\_I_0\\cdot (sI)\n",
        "+sell\\_I_1\\cdot (sIlim) + sell\\_I_2\\cdot (sIunlim) \n",
        "-A\\_pr\\cdot(bA) - B\\_pr\\cdot(bB) - Conv\\_pr\\cdot(conv) - Filt\\cdot(A\\_proc_1\\cdot(bA)+B\\_proc_1\\cdot(bB)) -pr\\_I\\cdot(bI) - pr\\_II\\cdot(bII) - proc\\_pr\\cdot(bA+bB)         $$\n",
        "\n",
        "\n",
        "Ограничения:\n",
        "\n",
        "$$0\\leq bA\\leq A\\_am$$\n",
        "\n",
        "$$0\\leq bB\\leq A\\_am$$\n",
        "\n",
        "$$0\\leq bA+bB\\leq proc\\_pow$$\n",
        "\n",
        "$$0\\leq conv\\leq conv\\_pow$$\n",
        "\n",
        "$$ A\\_proc1\\cdot bA + B\\_proc1\\cdot bB + Conv\\_proc\\cdot conv + b1 = sI + sIlim + sIunlim$$\n",
        "\n",
        "$$0\\leq sI \\leq lim1$$\n",
        "\n",
        "$$0\\leq sIlim \\leq lim2$$\n",
        "\n",
        "$$0\\leq sIunlim $$\n",
        "\n",
        "$$0\\leq b1$$\n",
        "\n",
        "$$0\\leq b2$$\n",
        "\n",
        "$$bA * A\\_proc_2 + bB * B\\_proc_2+ bII >= conv$$\n",
        "\n",
        "$$(A\\_proc_1\\cdot(bA)+B\\_proc_1\\cdot(bB)+Conv\\_proc\\cdot(conv))\\geq min\\_lim$$\n"
      ]
    },
    {
      "cell_type": "code",
      "metadata": {
        "id": "9JTCg37HWbLp"
      },
      "source": [
        "import gurobipy as gp\n",
        "from gurobipy import GRB\n",
        "import numpy as np\n",
        "from random import randrange\n",
        "import string\n",
        "import math\n",
        "# Коэффиценты целевой функции \n",
        "Apr = 3.25\n",
        "Bpr = 3.40\n",
        "proc_pr = 0.35\n",
        "A_proc1 = 0.15\n",
        "A_proc2 = 0.85\n",
        "B_proc1 = 0.25\n",
        "B_proc2 = 0.75\n",
        "Conv_proc = 0.5\n",
        "Conv_pr = 0.25\n",
        "Filt = 0.1\n",
        "sell_II = 3.8\n",
        "pr1 = 5.75\n",
        "pr2 = 4\n",
        "\n",
        "#Коэффиценты ограничений\n",
        "\n",
        "A_am = 100000\n",
        "B_am = 30000\n",
        "proc_pow = 100000\n",
        "Conv_pow = 50000\n",
        "lim1 = 45000\n",
        "lim2 = 4000\n",
        "min_lim = 40000\n",
        "Min_inc = 50000"
      ],
      "execution_count": null,
      "outputs": []
    },
    {
      "cell_type": "code",
      "metadata": {
        "scrolled": false,
        "id": "32yRLIJgWbLq",
        "outputId": "1db86129-515c-4599-c30f-05d884c82427"
      },
      "source": [
        "#Create a problem\n",
        "\n",
        "problem2 = gp.Model(\"Factory\")\n",
        "bA =    problem2.addVar(lb = 0, ub = 100000,vtype = GRB.CONTINUOUS,name = \"bA\")\n",
        "bB =    problem2.addVar(lb = 0, ub = 30000,vtype = GRB.CONTINUOUS,name = \"bB\")\n",
        "conv =  problem2.addVar(lb = 0, ub = 50000,vtype = GRB.CONTINUOUS,name = \"conv\")\n",
        "sI =      problem2.addVar(lb = 0, ub = 45000,vtype = GRB.CONTINUOUS,name = \"sI\")\n",
        "sIlim =   problem2.addVar(lb = 0, ub = 4000,vtype = GRB.CONTINUOUS,name = \"sIlim\")\n",
        "sIunlim = problem2.addVar(lb = 0, ub = GRB.INFINITY,vtype = GRB.CONTINUOUS,name = \"sIunlim\")\n",
        "b1 =      problem2.addVar(lb = 0,ub=GRB.INFINITY,vtype = GRB.CONTINUOUS,name = \"b1\")\n",
        "b2 =      problem2.addVar(lb = 0,ub=GRB.INFINITY,vtype = GRB.CONTINUOUS,name = \"b2\")\n",
        "minpr =  problem2.addVar(lb = 0,ub=GRB.INFINITY,vtype = GRB.CONTINUOUS,name = \"minpr\")\n",
        "#Set objective \n",
        "\n",
        "\n",
        "\n",
        "#Add constrains\n",
        "\n",
        "problem2.addConstr(bA+bB <=proc_pow)\n",
        "problem2.addConstr(A_proc1 * bA + B_proc1 * bB + Conv_proc * conv + b1 , GRB.EQUAL, sI+sIlim+sIunlim)\n",
        "problem2.addConstr(bA * A_proc2 + bB * B_proc2+ b2 >= conv)\n",
        "problem2.addConstr((A_proc1 * (bA) + B_proc1 * (bB)+Conv_proc * (conv) + b1)>=min_lim)\n",
        "problem2.addConstr(sell_II * (A_proc2 * bA + B_proc2 * bB - Conv_proc * (conv) + b2) +  (sI)* minpr \n",
        "+ (sIlim)*minpr + (sIunlim)*minpr \n",
        "- Apr * (bA) - Bpr * (bB) - Conv_pr * (conv) - Filt * (A_proc1 * (bA) + B_proc1 * (bB)) - \n",
        "                     pr1 * (b1) - pr2*(b2) - proc_pr * (bA + bB) >= Min_inc)\n",
        "\n",
        "problem2.setObjective(minpr, GRB.MINIMIZE)\n",
        "\n",
        "problem2.update()\n",
        "print(problem2.display())"
      ],
      "execution_count": null,
      "outputs": [
        {
          "output_type": "stream",
          "text": [
            "Minimize\n",
            "   <gurobi.LinExpr: minpr>\n",
            "Subject To\n",
            "   R0 : <gurobi.LinExpr: bA + bB> <= 100000.0\n",
            "   R1 : <gurobi.LinExpr: 0.15 bA + 0.2 bB + 0.5 conv + -1.0 sI + -1.0 sIlim + -1.0 sIunlim + b1> = 0.0\n",
            "   R2 : <gurobi.LinExpr: 0.85 bA + 0.8 bB + -1.0 conv + b2> >= 0.0\n",
            "   R3 : <gurobi.LinExpr: 0.15 bA + 0.2 bB + 0.5 conv + b1> >= 40000.0\n",
            "    : <gurobi.QuadExpr: -0.3850000000000001 bA + -0.73 bB + -2.15 conv + -5.75 b1 + -0.20000000000000018 b2 + [ sI * minpr + sIlim * minpr + sIunlim * minpr ]> >= 50000.0\n",
            "Bounds\n",
            "   0.0 <= bA <= 100000.0\n",
            "   0.0 <= bB <= 30000.0\n",
            "   0.0 <= conv <= 50000.0\n",
            "   0.0 <= sI <= 45000.0\n",
            "   0.0 <= sIlim <= 4000.0\n",
            "None\n"
          ],
          "name": "stdout"
        }
      ]
    },
    {
      "cell_type": "code",
      "metadata": {
        "scrolled": false,
        "id": "veeNUQ-EWbLr",
        "outputId": "85b49d3c-957c-4bae-dfbf-39789b936845"
      },
      "source": [
        "problem2.setParam(GRB.Param.NonConvex,2)\n",
        "problem2.setParam(GRB.Param.TimeLimit,6)\n",
        "problem2.optimize()\n"
      ],
      "execution_count": null,
      "outputs": [
        {
          "output_type": "stream",
          "text": [
            "Changed value of parameter NonConvex to 2\n",
            "   Prev: -1  Min: -1  Max: 2  Default: -1\n",
            "Changed value of parameter TimeLimit to 6.0\n",
            "   Prev: inf  Min: 0.0  Max: inf  Default: inf\n",
            "Gurobi Optimizer version 9.0.3 build v9.0.3rc0 (win64)\n",
            "Optimize a model with 4 rows, 9 columns and 17 nonzeros\n",
            "Model fingerprint: 0x02ed89b8\n",
            "Model has 1 quadratic constraint\n",
            "Coefficient statistics:\n",
            "  Matrix range     [1e-01, 1e+00]\n",
            "  QMatrix range    [1e+00, 1e+00]\n",
            "  QLMatrix range   [2e-01, 6e+00]\n",
            "  Objective range  [1e+00, 1e+00]\n",
            "  Bounds range     [4e+03, 1e+05]\n",
            "  RHS range        [4e+04, 1e+05]\n",
            "  QRHS range       [5e+04, 5e+04]\n",
            "\n",
            "Continuous model is non-convex -- solving as a MIP.\n",
            "\n",
            "Presolve time: 0.00s\n",
            "Presolved: 11 rows, 13 columns, 37 nonzeros\n",
            "Presolved model has 3 bilinear constraint(s)\n",
            "Variable types: 13 continuous, 0 integer (0 binary)\n",
            "\n",
            "Root relaxation: objective 0.000000e+00, 10 iterations, 0.00 seconds\n",
            "\n",
            "    Nodes    |    Current Node    |     Objective Bounds      |     Work\n",
            " Expl Unexpl |  Obj  Depth IntInf | Incumbent    BestBd   Gap | It/Node Time\n",
            "\n",
            "     0     0    0.00000    0    1          -    0.00000      -     -    0s\n",
            "     0     0    0.00000    0    1          -    0.00000      -     -    0s\n",
            "H    0     0                       4.9000000    0.00000   100%     -    0s\n",
            "     0     2    0.00000    0    1    4.90000    0.00000   100%     -    0s\n",
            "\n",
            "Explored 91 nodes (45 simplex iterations) in 0.04 seconds\n",
            "Thread count was 8 (of 8 available processors)\n",
            "\n",
            "Solution count 1: 4.9 \n",
            "\n",
            "Optimal solution found (tolerance 1.00e-04)\n",
            "Best objective 4.900000000000e+00, best bound 4.899536702255e+00, gap 0.0095%\n"
          ],
          "name": "stdout"
        }
      ]
    },
    {
      "cell_type": "code",
      "metadata": {
        "id": "1jfCq71zWbLs",
        "outputId": "bba01ee0-c36a-4e09-fc9b-d70c9de7dd9b"
      },
      "source": [
        "if min_price_problem.status == GRB.OPTIMAL:\n",
        "    print('\\nMin Price: %g' % min_price_problem.objVal)\n",
        "min_price_problem.getVars()"
      ],
      "execution_count": null,
      "outputs": [
        {
          "output_type": "stream",
          "text": [
            "\n",
            "Min Price: 4.9\n"
          ],
          "name": "stdout"
        },
        {
          "output_type": "execute_result",
          "data": {
            "text/plain": [
              "[<gurobi.Var A (value 100000.0)>,\n",
              " <gurobi.Var B (value 0.0)>,\n",
              " <gurobi.Var C (value 50000.0)>,\n",
              " <gurobi.Var Z[0] (value 0.0)>,\n",
              " <gurobi.Var Z[1] (value 0.0)>,\n",
              " <gurobi.Var sum1 (value 40000.00000000002)>,\n",
              " <gurobi.Var sum2 (value 0.0)>,\n",
              " <gurobi.Var sum3 (value 0.0)>,\n",
              " <gurobi.Var sell1 (value 4.899999999999998)>]"
            ]
          },
          "metadata": {
            "tags": []
          },
          "execution_count": 29
        }
      ]
    },
    {
      "cell_type": "markdown",
      "metadata": {
        "id": "k17sZOQMWbLt"
      },
      "source": [
        "# Пункт 3\n",
        "Как изменится оптимальный план, если мощность фильтра ограничена величиной 10 тыс. тонн?\n",
        "$Filt\\_lim = 10000$"
      ]
    },
    {
      "cell_type": "code",
      "metadata": {
        "id": "4trLNRvPWbLt"
      },
      "source": [
        "import gurobipy as gp\n",
        "from gurobipy import GRB\n",
        "import numpy as np\n",
        "from random import randrange\n",
        "import string\n",
        "import math\n",
        "# Коэффиценты целевой функции \n",
        "\n",
        "Apr = 3.25\n",
        "Bpr = 3.40\n",
        "proc_pr = 0.35\n",
        "A_proc1 = 0.15\n",
        "A_proc2 = 0.85\n",
        "B_proc1 = 0.25\n",
        "B_proc2 = 0.75\n",
        "Conv_proc = 0.5\n",
        "Conv_pr = 0.25\n",
        "Filt = 0.1\n",
        "sell_II = 3.8\n",
        "sell_I0 = 5.5\n",
        "sell_I1 = 5.1\n",
        "sell_I2 = 5\n",
        "pr1 = 5.75\n",
        "pr2 = 4\n",
        "\n",
        "#Коэффиценты ограничений\n",
        "\n",
        "A_am = 100000\n",
        "B_am = 30000\n",
        "proc_pow = 100000\n",
        "Conv_pow = 50000\n",
        "lim1 = 45000\n",
        "lim2 = 4000\n",
        "min_lim = 40000\n",
        "Min_inc = 50000\n",
        "Filt_lim = 10000"
      ],
      "execution_count": null,
      "outputs": []
    },
    {
      "cell_type": "code",
      "metadata": {
        "scrolled": true,
        "id": "t7FZ4h1GWbLu",
        "outputId": "f0e4163a-f11a-4566-a4ce-a8a70646019f"
      },
      "source": [
        "problem3 = gp.Model(\"Factory\")\n",
        "bA =    problem3.addVar(lb = 0, ub = 100000,vtype = GRB.CONTINUOUS,name = \"bA\")\n",
        "bB =    problem3.addVar(lb = 0, ub = 30000,vtype = GRB.CONTINUOUS,name = \"bB\")\n",
        "conv =  problem3.addVar(lb = 0, ub = 50000,vtype = GRB.CONTINUOUS,name = \"conv\")\n",
        "sI =      problem3.addVar(lb = 0, ub = 45000,vtype = GRB.CONTINUOUS,name = \"sI\")\n",
        "sIlim =   problem3.addVar(lb = 0, ub = 4000,vtype = GRB.CONTINUOUS,name = \"sIlim\")\n",
        "sIunlim = problem3.addVar(lb = 0, ub = GRB.INFINITY,vtype = GRB.CONTINUOUS,name = \"sIunlim\")\n",
        "b1 =      problem3.addVar(lb = 0,ub=GRB.INFINITY,vtype = GRB.CONTINUOUS,name = \"b1\")\n",
        "b2 =      problem3.addVar(lb = 0,ub=GRB.INFINITY,vtype = GRB.CONTINUOUS,name = \"b2\")\n",
        "\n",
        "#Set objective \n",
        "\n",
        "\n",
        "\n",
        "#Add constrains\n",
        "\n",
        "problem3.addConstr(bA+bB <=proc_pow)\n",
        "problem3.addConstr(A_proc1 * bA + B_proc1 * bB + Conv_proc * conv + b1 , GRB.EQUAL, sI+sIlim+sIunlim)\n",
        "problem3.addConstr(bA * A_proc2 + bB * B_proc2+ b2 >= conv)\n",
        "problem3.addConstr((A_proc1 * (bA) + B_proc1 * (bB)+Conv_proc * (conv) + b1)>=min_lim)\n",
        "problem3.addConstr(A_proc1*(bA) + B_proc1 * (bB)  <= Filt_lim)\n",
        "\n",
        "problem3.setObjective(sell_II * (A_proc2 * bA + B_proc2 * bB - Conv_proc * (conv) + b2) +  (sI)*sell_I0  \n",
        "+ (sIlim)*sell_I1 + (sIunlim)*sell_I2 \n",
        "- Apr * (bA) - Bpr * (bB) - Conv_pr * (conv) - Filt * (A_proc1 * (bA) + B_proc1 * (bB)) - \n",
        "                     pr1 * (b1) - pr2*(b2) - proc_pr * (bA + bB), GRB.MAXIMIZE)\n",
        "\n",
        "problem3.update()\n",
        "print(problem3.display())"
      ],
      "execution_count": null,
      "outputs": [
        {
          "output_type": "stream",
          "text": [
            "Maximize\n",
            "   <gurobi.LinExpr: -0.385 bA + -0.9250000000000003 bB + -2.15 conv + 5.5 sI + 5.1 sIlim + 5.0 sIunlim + -5.75 b1 + -0.20000000000000018 b2>\n",
            "Subject To\n",
            "   R0 : <gurobi.LinExpr: bA + bB> <= 100000.0\n",
            "   R1 : <gurobi.LinExpr: 0.15 bA + 0.25 bB + 0.5 conv + -1.0 sI + -1.0 sIlim + -1.0 sIunlim + b1> = 0.0\n",
            "   R2 : <gurobi.LinExpr: 0.85 bA + 0.75 bB + -1.0 conv + b2> >= 0.0\n",
            "   R3 : <gurobi.LinExpr: 0.15 bA + 0.25 bB + 0.5 conv + b1> >= 40000.0\n",
            "   R4 : <gurobi.LinExpr: 0.15 bA + 0.25 bB> <= 10000.0\n",
            "Bounds\n",
            "   0.0 <= bA <= 100000.0\n",
            "   0.0 <= bB <= 30000.0\n",
            "   0.0 <= conv <= 50000.0\n",
            "   0.0 <= sI <= 45000.0\n",
            "   0.0 <= sIlim <= 4000.0\n",
            "None\n"
          ],
          "name": "stdout"
        }
      ]
    },
    {
      "cell_type": "code",
      "metadata": {
        "id": "xKLO2eV1WbLv",
        "outputId": "3908457b-c822-4a30-9bc2-f1cb411f4cf6"
      },
      "source": [
        "problem3.optimize()"
      ],
      "execution_count": null,
      "outputs": [
        {
          "output_type": "stream",
          "text": [
            "Gurobi Optimizer version 9.0.3 build v9.0.3rc0 (win64)\n",
            "Optimize a model with 5 rows, 8 columns and 19 nonzeros\n",
            "Model fingerprint: 0x4d1f1a78\n",
            "Coefficient statistics:\n",
            "  Matrix range     [1e-01, 1e+00]\n",
            "  Objective range  [2e-01, 6e+00]\n",
            "  Bounds range     [4e+03, 1e+05]\n",
            "  RHS range        [1e+04, 1e+05]\n",
            "Presolve removed 1 rows and 1 columns\n",
            "Presolve time: 0.01s\n",
            "Presolved: 4 rows, 7 columns, 14 nonzeros\n",
            "\n",
            "Iteration    Objective       Primal Inf.    Dual Inf.      Time\n",
            "       0    4.0000000e+31   1.000000e+30   4.000000e+01      0s\n",
            "       3    5.8083333e+04   0.000000e+00   0.000000e+00      0s\n",
            "\n",
            "Solved in 3 iterations and 0.01 seconds\n",
            "Optimal objective  5.808333333e+04\n"
          ],
          "name": "stdout"
        }
      ]
    },
    {
      "cell_type": "code",
      "metadata": {
        "id": "CIjHCRT1WbLw",
        "outputId": "db10781a-ca52-4a4a-f8d6-3f84ea3d8736"
      },
      "source": [
        "if problem3.status == GRB.OPTIMAL:\n",
        "    print('\\nIncome: %g' % problem3.objVal)\n",
        "problem3.getVars()"
      ],
      "execution_count": null,
      "outputs": [
        {
          "output_type": "stream",
          "text": [
            "\n",
            "Income: 58083.3\n"
          ],
          "name": "stdout"
        },
        {
          "output_type": "execute_result",
          "data": {
            "text/plain": [
              "[<gurobi.Var bA (value 66666.66666666667)>,\n",
              " <gurobi.Var bB (value 0.0)>,\n",
              " <gurobi.Var conv (value 50000.0)>,\n",
              " <gurobi.Var sI (value 40000.0)>,\n",
              " <gurobi.Var sIlim (value 0.0)>,\n",
              " <gurobi.Var sIunlim (value 0.0)>,\n",
              " <gurobi.Var b1 (value 5000.0)>,\n",
              " <gurobi.Var b2 (value 0.0)>]"
            ]
          },
          "metadata": {
            "tags": []
          },
          "execution_count": 72
        }
      ]
    },
    {
      "cell_type": "markdown",
      "metadata": {
        "id": "ybQS0GjkWbLw"
      },
      "source": [
        "# Пункт 4\n",
        "Как изменится оптимальный план производства, если фильтр выйдет из строя, и продукт I можно будет продавать только по цене 5 руб./т.?\n",
        "$Filt_pr = 0$\n",
        "\n",
        "$sell\\_I0 = sell\\_I1 = sell\\_I2 = 5\\: руб.\\: тонн$\n",
        "\n",
        "\n"
      ]
    },
    {
      "cell_type": "code",
      "metadata": {
        "id": "P9bqBwIWWbLx"
      },
      "source": [
        "import gurobipy as gp\n",
        "from gurobipy import GRB\n",
        "import numpy as np\n",
        "from random import randrange\n",
        "import string\n",
        "import math\n",
        "# Коэффиценты целевой функции \n",
        "\n",
        "Apr = 3.25\n",
        "Bpr = 3.40\n",
        "proc_pr = 0.35\n",
        "A_proc1 = 0.15\n",
        "A_proc2 = 0.85\n",
        "B_proc1 = 0.25\n",
        "B_proc2 = 0.75\n",
        "Conv_proc = 0.5\n",
        "Conv_pr = 0.25\n",
        "Filt = 0\n",
        "sell_II = 3.8\n",
        "sell_I0 = 5\n",
        "sell_I1 = 5\n",
        "sell_I2 = 5\n",
        "pr1 = 5.75\n",
        "pr2 = 4\n",
        "\n",
        "#Коэффиценты ограничений\n",
        "\n",
        "A_am = 100000\n",
        "B_am = 30000\n",
        "proc_pow = 100000\n",
        "Conv_pow = 50000\n",
        "lim1 = 45000\n",
        "lim2 = 4000\n",
        "min_lim = 40000\n",
        "Min_inc = 50000\n"
      ],
      "execution_count": null,
      "outputs": []
    },
    {
      "cell_type": "code",
      "metadata": {
        "id": "y2T78-2yWbLx",
        "outputId": "3f1a64a4-13f6-4cf0-bbb9-9a98bf22036d"
      },
      "source": [
        "problem4 = gp.Model(\"Factory\")\n",
        "bA =    problem4.addVar(lb = 0, ub = 100000,vtype = GRB.CONTINUOUS,name = \"bA\")\n",
        "bB =    problem4.addVar(lb = 0, ub = 30000,vtype = GRB.CONTINUOUS,name = \"bB\")\n",
        "conv =  problem4.addVar(lb = 0, ub = 50000,vtype = GRB.CONTINUOUS,name = \"conv\")\n",
        "sI =      problem4.addVar(lb = 0, ub = 45000,vtype = GRB.CONTINUOUS,name = \"sI\")\n",
        "sIlim =   problem4.addVar(lb = 0, ub = 4000,vtype = GRB.CONTINUOUS,name = \"sIlim\")\n",
        "sIunlim = problem4.addVar(lb = 0, ub = GRB.INFINITY,vtype = GRB.CONTINUOUS,name = \"sIunlim\")\n",
        "b1 =      problem4.addVar(lb = 0,ub=GRB.INFINITY,vtype = GRB.CONTINUOUS,name = \"b1\")\n",
        "b2 =      problem4.addVar(lb = 0,ub=GRB.INFINITY,vtype = GRB.CONTINUOUS,name = \"b2\")\n",
        "\n",
        "#Set objective \n",
        "\n",
        "\n",
        "\n",
        "#Add constrains\n",
        "\n",
        "problem4.addConstr(bA+bB <=proc_pow)\n",
        "problem4.addConstr(A_proc1 * bA + B_proc1 * bB + Conv_proc * conv + b1 , GRB.EQUAL, sI+sIlim+sIunlim)\n",
        "problem4.addConstr(bA * A_proc2 + bB * B_proc2+ b2 >= conv)\n",
        "problem4.addConstr((A_proc1 * (bA) + B_proc1 * (bB) + Conv_proc * (conv) + b1)>=min_lim)\n",
        "\n",
        "\n",
        "problem4.setObjective(sell_II * (A_proc2 * bA + B_proc2 * bB - Conv_proc * (conv) + b2) +  (sI) * sell_I0  \n",
        "+ (sIlim)*sell_I1 + (sIunlim)*sell_I2 \n",
        "- Apr * (bA) - Bpr * (bB) - Conv_pr * (conv) - Filt * (A_proc1 * (bA) + B_proc1 * (bB)) - \n",
        "                     pr1 * (b1) - pr2*(b2) - proc_pr * (bA + bB), GRB.MAXIMIZE)\n",
        "\n",
        "problem4.update()\n",
        "print(problem4.display())"
      ],
      "execution_count": null,
      "outputs": [
        {
          "output_type": "stream",
          "text": [
            "Maximize\n",
            "   <gurobi.LinExpr: -0.37 bA + -0.9000000000000002 bB + -2.15 conv + 5.0 sI + 5.0 sIlim + 5.0 sIunlim + -5.75 b1 + -0.20000000000000018 b2>\n",
            "Subject To\n",
            "   R0 : <gurobi.LinExpr: bA + bB> <= 100000.0\n",
            "   R1 : <gurobi.LinExpr: 0.15 bA + 0.25 bB + 0.5 conv + -1.0 sI + -1.0 sIlim + -1.0 sIunlim + b1> = 0.0\n",
            "   R2 : <gurobi.LinExpr: 0.85 bA + 0.75 bB + -1.0 conv + b2> >= 0.0\n",
            "   R3 : <gurobi.LinExpr: 0.15 bA + 0.25 bB + 0.5 conv + b1> >= 40000.0\n",
            "Bounds\n",
            "   0.0 <= bA <= 100000.0\n",
            "   0.0 <= bB <= 30000.0\n",
            "   0.0 <= conv <= 50000.0\n",
            "   0.0 <= sI <= 45000.0\n",
            "   0.0 <= sIlim <= 4000.0\n",
            "None\n"
          ],
          "name": "stdout"
        }
      ]
    },
    {
      "cell_type": "code",
      "metadata": {
        "id": "1ipxjOt2WbLx",
        "outputId": "ab480787-6494-46a7-a3ab-20ca49369063"
      },
      "source": [
        "problem4.optimize()"
      ],
      "execution_count": null,
      "outputs": [
        {
          "output_type": "stream",
          "text": [
            "Gurobi Optimizer version 9.0.3 build v9.0.3rc0 (win64)\n",
            "Optimize a model with 4 rows, 8 columns and 17 nonzeros\n",
            "Model fingerprint: 0x8900f375\n",
            "Coefficient statistics:\n",
            "  Matrix range     [1e-01, 1e+00]\n",
            "  Objective range  [2e-01, 6e+00]\n",
            "  Bounds range     [4e+03, 1e+05]\n",
            "  RHS range        [4e+04, 1e+05]\n",
            "Presolve removed 4 rows and 8 columns\n",
            "Presolve time: 0.01s\n",
            "Presolve: All rows and columns removed\n",
            "Iteration    Objective       Primal Inf.    Dual Inf.      Time\n",
            "       0    5.5500000e+04   0.000000e+00   0.000000e+00      0s\n",
            "\n",
            "Solved in 0 iterations and 0.01 seconds\n",
            "Optimal objective  5.550000000e+04\n"
          ],
          "name": "stdout"
        }
      ]
    },
    {
      "cell_type": "markdown",
      "metadata": {
        "id": "09yHvsBPWbLy"
      },
      "source": [
        "if problem4.status == GRB.OPTIMAL:\n",
        "    print('\\nIncome: %g' % problem4.objVal)\n",
        "problem4.getVars()"
      ]
    },
    {
      "cell_type": "markdown",
      "metadata": {
        "id": "JoV4b7gbWbLy"
      },
      "source": [
        "# П 1"
      ]
    },
    {
      "cell_type": "code",
      "metadata": {
        "id": "5m1pFh_zWbLy"
      },
      "source": [
        "import gurobipy as gp   #new 1\n",
        "from gurobipy import GRB\n",
        "import numpy as np\n",
        "from random import randrange\n",
        "import string\n",
        "import math"
      ],
      "execution_count": null,
      "outputs": []
    },
    {
      "cell_type": "code",
      "metadata": {
        "id": "GyC8dOU4WbLy"
      },
      "source": [
        "price_A = 3.25\n",
        "price_B = 3.4\n",
        "cost_1 = 5.75\n",
        "cost_2 = 4\n",
        "\n",
        "cost_Proccesing = 0.35\n",
        "cost_Konv = 0.25\n",
        "cost_Filter = 0.1\n",
        "\n",
        "max_A = 100000\n",
        "max_B = 30000\n",
        "max_P = 100000\n",
        "max_K = 50000\n",
        "\n",
        "A1 = 0.15\n",
        "A2 = 0.85\n",
        "B1 = 0.25\n",
        "B2 = 0.75\n",
        "k1 = 0.5\n",
        "k2 = 0.5\n",
        "\n",
        "sale_a1 = 5.5\n",
        "sale_a2 = 5.2\n",
        "sale_a3 = 5\n",
        "sale_b = 3.8\n",
        "sale_min = 40000\n",
        "\n",
        "q1 = 45000\n",
        "q2 = 4000"
      ],
      "execution_count": null,
      "outputs": []
    },
    {
      "cell_type": "code",
      "metadata": {
        "id": "16mQTaIDWbLz"
      },
      "source": [
        "problem = gp.Model(\"Factory_Problem_1\")\n",
        "a = problem.addVar(vtype=GRB.INTEGER, lb=0.0, ub = max_A, name = 'a')\n",
        "b = problem.addVar(vtype=GRB.INTEGER, lb=0.0, ub = max_B, name = 'b')\n",
        "d1 = problem.addVar(vtype=GRB.INTEGER,lb=0.0, ub = GRB.INFINITY, name = 'd1')\n",
        "d2 = problem.addVar(vtype=GRB.INTEGER,lb=0.0, ub = GRB.INFINITY, name = 'd2')\n",
        "k = problem.addVar(vtype=GRB.INTEGER,lb=0.0, ub = max_K, name = 'k')\n",
        "r1 = problem.addVar(lb=0.0, ub = GRB.INFINITY, name = 'r1')\n",
        "r2 = problem.addVar(lb=0.0, ub = GRB.INFINITY, name = 'r2')"
      ],
      "execution_count": null,
      "outputs": []
    },
    {
      "cell_type": "code",
      "metadata": {
        "id": "pymMBBMNWbLz",
        "outputId": "f52c753c-f056-43c2-e135-94b37cf2c057"
      },
      "source": [
        "problem.addConstr(a+b <= max_P)\n",
        "problem.addConstr(k <= a*A2+b*B2+d2)\n",
        "problem.addConstr(r1 >= sale_min)\n",
        "problem.addConstr(r1 == a*A1+b*B1+k*k1+d1)\n",
        "problem.addConstr(r2 == a*A2+b*B2+k*(k2-1)+d2)"
      ],
      "execution_count": null,
      "outputs": [
        {
          "output_type": "execute_result",
          "data": {
            "text/plain": [
              "<gurobi.Constr *Awaiting Model Update*>"
            ]
          },
          "metadata": {
            "tags": []
          },
          "execution_count": 29
        }
      ]
    },
    {
      "cell_type": "code",
      "metadata": {
        "id": "ylmWqjQnWbLz",
        "outputId": "098e5c98-85dd-4d24-eef4-5dd417f09ea1"
      },
      "source": [
        "sgn1 = problem.addVar(name=\"sgn1\", vtype = GRB.BINARY)\n",
        "problem.addGenConstrIndicator(sgn1, 0,(q1-r1) <= 0)\n",
        "problem.addGenConstrIndicator(sgn1, 1,(q1-r1) >= np.finfo(float).eps)\n",
        "\n",
        "sgn2 = problem.addVar(name=\"sgn2\", vtype = GRB.BINARY)\n",
        "problem.addGenConstrIndicator(sgn2, 0,(q1+q2-r1) <= 0)\n",
        "problem.addGenConstrIndicator(sgn2, 1,(q1+q2-r1) >= np.finfo(float).eps)\n",
        "\n",
        "\n",
        "sgn3 = problem.addVar(name=\"sgn3\", vtype = GRB.BINARY)\n",
        "problem.addGenConstrIndicator(sgn3, 0,(r1-(q1+q2)) <= 0)\n",
        "problem.addGenConstrIndicator(sgn3, 1,(r1-(q1+q2)) >= np.finfo(float).eps)"
      ],
      "execution_count": null,
      "outputs": [
        {
          "output_type": "execute_result",
          "data": {
            "text/plain": [
              "<gurobi.GenConstr *Awaiting Model Update*>"
            ]
          },
          "metadata": {
            "tags": []
          },
          "execution_count": 30
        }
      ]
    },
    {
      "cell_type": "code",
      "metadata": {
        "id": "VwQPPTQsWbL0"
      },
      "source": [
        "part1 = sgn1*r1*sale_a1\n",
        "part2 = (sgn2-sgn1)*(q1*sale_a1+(r1-q1)*sale_a2-r1*sale_a1)\n",
        "part3 = sgn3*(q1*sale_a1+q2*sale_a2+(r1-(q1+q2))*sale_a3)\n",
        "part4 = r2*sale_b-(a+b)*cost_Proccesing - k*cost_Konv\n",
        "part5 = -(a*A1+b*B1)*cost_Filter-d1*cost_1-d2*cost_2-a*price_A-b*price_B"
      ],
      "execution_count": null,
      "outputs": []
    },
    {
      "cell_type": "code",
      "metadata": {
        "id": "Ykgcu-BhWbL0"
      },
      "source": [
        "total = part1+part2+part3+part4+part5\n",
        "\n",
        "problem.setObjective(total, GRB.MAXIMIZE)\n",
        "problem.update()   "
      ],
      "execution_count": null,
      "outputs": []
    },
    {
      "cell_type": "code",
      "metadata": {
        "id": "u3WnC6EKWbL0",
        "outputId": "80aa5a97-b78a-43f7-abbe-35ac6708f718"
      },
      "source": [
        "problem.optimize()"
      ],
      "execution_count": null,
      "outputs": [
        {
          "output_type": "stream",
          "text": [
            "Gurobi Optimizer version 9.0.3 build v9.0.3rc0 (win64)\n",
            "Optimize a model with 5 rows, 10 columns and 17 nonzeros\n",
            "Model fingerprint: 0xa0bbcf13\n",
            "Model has 3 quadratic objective terms\n",
            "Model has 6 general constraints\n",
            "Variable types: 2 continuous, 8 integer (3 binary)\n",
            "Coefficient statistics:\n",
            "  Matrix range     [1e-01, 1e+00]\n",
            "  Objective range  [3e-01, 2e+04]\n",
            "  QObjective range [6e-01, 1e+01]\n",
            "  Bounds range     [1e+00, 1e+05]\n",
            "  RHS range        [4e+04, 1e+05]\n",
            "Presolve added 4 rows and 2 columns\n",
            "Presolve time: 0.27s\n",
            "Presolved: 15 rows, 21 columns, 41 nonzeros\n",
            "Presolved model has 9 SOS constraint(s)\n",
            "Variable types: 10 continuous, 11 integer (6 binary)\n",
            "Found heuristic solution: objective 74000.000000\n",
            "\n",
            "Root relaxation: unbounded, 8 iterations, 0.01 seconds\n",
            "\n",
            "    Nodes    |    Current Node    |     Objective Bounds      |     Work\n",
            " Expl Unexpl |  Obj  Depth IntInf | Incumbent    BestBd   Gap | It/Node Time\n",
            "\n",
            "     0     0  postponed    0      74000.0000          -      -     -    0s\n",
            "     0     0  postponed    0      74000.0000          -      -     -    0s\n",
            "     0     2  postponed    0      74000.0000          -      -     -    0s\n",
            "*    2     0               1    74300.000000 74300.0000  0.00%  11.0    0s\n",
            "\n",
            "Explored 3 nodes (38 simplex iterations) in 0.33 seconds\n",
            "Thread count was 4 (of 4 available processors)\n",
            "\n",
            "Solution count 2: 74300 74000 \n",
            "\n",
            "Optimal solution found (tolerance 1.00e-04)\n",
            "Best objective 7.430000000000e+04, best bound 7.430000000000e+04, gap 0.0000%\n"
          ],
          "name": "stdout"
        }
      ]
    },
    {
      "cell_type": "code",
      "metadata": {
        "id": "G_0s3lH_WbL0"
      },
      "source": [
        ""
      ],
      "execution_count": null,
      "outputs": []
    },
    {
      "cell_type": "code",
      "metadata": {
        "id": "nqpm2oDkWbL1",
        "outputId": "d73f7778-5ad3-4ab2-b184-2752bf89c7cb"
      },
      "source": [
        "if problem.status == GRB.OPTIMAL:\n",
        "    print(f'\\nTotal profit : {problem.objVal}')"
      ],
      "execution_count": null,
      "outputs": [
        {
          "output_type": "stream",
          "text": [
            "\n",
            "Total profit : 74300.0\n"
          ],
          "name": "stdout"
        }
      ]
    },
    {
      "cell_type": "markdown",
      "metadata": {
        "id": "xMPKC9zgWbL1"
      },
      "source": [
        "# доп вопрос"
      ]
    },
    {
      "cell_type": "code",
      "metadata": {
        "id": "mBDToWKUWbL1"
      },
      "source": [
        "import gurobipy as gp   \n",
        "from gurobipy import GRB\n",
        "import numpy as np\n",
        "from random import randrange\n",
        "import string\n",
        "import math"
      ],
      "execution_count": null,
      "outputs": []
    },
    {
      "cell_type": "code",
      "metadata": {
        "id": "QCFkbSDiWbL1"
      },
      "source": [
        "price_A = 3.25\n",
        "price_B = 3.4\n",
        "cost_1 = 5.75\n",
        "cost_2 = 4\n",
        "\n",
        "cost_Proccesing = 0.35 + 0.1\n",
        "cost_Konv = 0.25 + 0.1\n",
        "cost_Filter = 0.1 + 0.1\n",
        "\n",
        "max_A = 100000\n",
        "max_B = 30000\n",
        "max_P = 100000\n",
        "max_K = 50000\n",
        "\n",
        "A1 = 0.15\n",
        "A2 = 0.85\n",
        "B1 = 0.25\n",
        "B2 = 0.75\n",
        "k1 = 0.5\n",
        "k2 = 0.5\n",
        "\n",
        "sale_a1 = 5.5\n",
        "sale_a2 = 5.2\n",
        "sale_a3 = 5\n",
        "sale_b = 3.8\n",
        "sale_min = 40000\n",
        "\n",
        "q1 = 45000\n",
        "q2 = 4000"
      ],
      "execution_count": null,
      "outputs": []
    },
    {
      "cell_type": "code",
      "metadata": {
        "id": "Dp87L94pWbL2"
      },
      "source": [
        "problem = gp.Model(\"Factory_Problem_1\")\n",
        "a = problem.addVar(vtype=GRB.INTEGER, lb=0.0, ub = max_A, name = 'a')\n",
        "b = problem.addVar(vtype=GRB.INTEGER, lb=0.0, ub = max_B, name = 'b')\n",
        "d1 = problem.addVar(vtype=GRB.INTEGER,lb=0.0, ub = GRB.INFINITY, name = 'd1')\n",
        "d2 = problem.addVar(vtype=GRB.INTEGER,lb=0.0, ub = GRB.INFINITY, name = 'd2')\n",
        "k = problem.addVar(vtype=GRB.INTEGER,lb=0.0, ub = max_K, name = 'k')\n",
        "r1 = problem.addVar(lb=0.0, ub = GRB.INFINITY, name = 'r1')\n",
        "r2 = problem.addVar(lb=0.0, ub = GRB.INFINITY, name = 'r2')"
      ],
      "execution_count": null,
      "outputs": []
    },
    {
      "cell_type": "code",
      "metadata": {
        "id": "DICGpL2TWbL2",
        "outputId": "ef5dfc41-5d84-4f49-f134-c17af1286968"
      },
      "source": [
        "problem.addConstr(a+b <= max_P)\n",
        "problem.addConstr(k <= a*A2+b*B2+d2)\n",
        "problem.addConstr(r1 >= sale_min)\n",
        "problem.addConstr(r1 == a*A1+b*B1+k*k1+d1)\n",
        "problem.addConstr(r2 == a*A2+b*B2+k*(k2-1)+d2)"
      ],
      "execution_count": null,
      "outputs": [
        {
          "output_type": "execute_result",
          "data": {
            "text/plain": [
              "<gurobi.Constr *Awaiting Model Update*>"
            ]
          },
          "metadata": {
            "tags": []
          },
          "execution_count": 38
        }
      ]
    },
    {
      "cell_type": "code",
      "metadata": {
        "id": "2fExd7xSWbL2",
        "outputId": "9ad2cc33-6f2b-445f-82ad-7737ed63989f"
      },
      "source": [
        "sgn1 = problem.addVar(name=\"sgn1\", vtype = GRB.BINARY)\n",
        "problem.addGenConstrIndicator(sgn1, 0,(q1-r1) <= 0)\n",
        "problem.addGenConstrIndicator(sgn1, 1,(q1-r1) >= np.finfo(float).eps)\n",
        "\n",
        "sgn2 = problem.addVar(name=\"sgn2\", vtype = GRB.BINARY)\n",
        "problem.addGenConstrIndicator(sgn2, 0,(q1+q2-r1) <= 0)\n",
        "problem.addGenConstrIndicator(sgn2, 1,(q1+q2-r1) >= np.finfo(float).eps)\n",
        "\n",
        "\n",
        "sgn3 = problem.addVar(name=\"sgn3\", vtype = GRB.BINARY)\n",
        "problem.addGenConstrIndicator(sgn3, 0,(r1-(q1+q2)) <= 0)\n",
        "problem.addGenConstrIndicator(sgn3, 1,(r1-(q1+q2)) >= np.finfo(float).eps)"
      ],
      "execution_count": null,
      "outputs": [
        {
          "output_type": "execute_result",
          "data": {
            "text/plain": [
              "<gurobi.GenConstr *Awaiting Model Update*>"
            ]
          },
          "metadata": {
            "tags": []
          },
          "execution_count": 39
        }
      ]
    },
    {
      "cell_type": "code",
      "metadata": {
        "id": "fObbK0DeWbL3"
      },
      "source": [
        "part1 = sgn1*r1*sale_a1\n",
        "part2 = (sgn2-sgn1)*(q1*sale_a1+(r1-q1)*sale_a2-r1*sale_a1)\n",
        "part3 = sgn3*(q1*sale_a1+q2*sale_a2+(r1-(q1+q2))*sale_a3)\n",
        "part4 = r2*sale_b-(a+b)*cost_Proccesing - k*cost_Konv\n",
        "part5 = -(a*A1+b*B1)*cost_Filter-d1*cost_1-d2*cost_2-a*price_A-b*price_B"
      ],
      "execution_count": null,
      "outputs": []
    },
    {
      "cell_type": "code",
      "metadata": {
        "id": "P2ZgIpVbWbL3"
      },
      "source": [
        "total = part1+part2+part3+part4+part5\n",
        "\n",
        "problem.setObjective(total, GRB.MAXIMIZE)\n",
        "problem.update() "
      ],
      "execution_count": null,
      "outputs": []
    },
    {
      "cell_type": "code",
      "metadata": {
        "id": "AafTBKCiWbL3",
        "outputId": "6a462349-41d6-43a5-c6c8-17445383ada0"
      },
      "source": [
        "problem.optimize()"
      ],
      "execution_count": null,
      "outputs": [
        {
          "output_type": "stream",
          "text": [
            "Gurobi Optimizer version 9.0.3 build v9.0.3rc0 (win64)\n",
            "Optimize a model with 5 rows, 10 columns and 17 nonzeros\n",
            "Model fingerprint: 0x72cf9a24\n",
            "Model has 3 quadratic objective terms\n",
            "Model has 6 general constraints\n",
            "Variable types: 2 continuous, 8 integer (3 binary)\n",
            "Coefficient statistics:\n",
            "  Matrix range     [1e-01, 1e+00]\n",
            "  Objective range  [3e-01, 2e+04]\n",
            "  QObjective range [6e-01, 1e+01]\n",
            "  Bounds range     [1e+00, 1e+05]\n",
            "  RHS range        [4e+04, 1e+05]\n",
            "Presolve added 4 rows and 2 columns\n",
            "Presolve time: 0.00s\n",
            "Presolved: 15 rows, 21 columns, 41 nonzeros\n",
            "Presolved model has 9 SOS constraint(s)\n",
            "Variable types: 10 continuous, 11 integer (6 binary)\n",
            "Found heuristic solution: objective 57500.000000\n",
            "\n",
            "Root relaxation: unbounded, 8 iterations, 0.00 seconds\n",
            "\n",
            "    Nodes    |    Current Node    |     Objective Bounds      |     Work\n",
            " Expl Unexpl |  Obj  Depth IntInf | Incumbent    BestBd   Gap | It/Node Time\n",
            "\n",
            "     0     0  postponed    0      57500.0000          -      -     -    0s\n",
            "     0     0  postponed    0      57500.0000          -      -     -    0s\n",
            "     0     2  postponed    0      57500.0000          -      -     -    0s\n",
            "\n",
            "Explored 3 nodes (37 simplex iterations) in 0.03 seconds\n",
            "Thread count was 4 (of 4 available processors)\n",
            "\n",
            "Solution count 1: 57500 \n",
            "\n",
            "Optimal solution found (tolerance 1.00e-04)\n",
            "Best objective 5.750000000000e+04, best bound 5.750000000000e+04, gap 0.0000%\n"
          ],
          "name": "stdout"
        }
      ]
    },
    {
      "cell_type": "code",
      "metadata": {
        "id": "gGII9O2xWbL3"
      },
      "source": [
        ""
      ],
      "execution_count": null,
      "outputs": []
    }
  ]
}