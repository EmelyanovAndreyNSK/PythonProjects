{
  "nbformat": 4,
  "nbformat_minor": 0,
  "metadata": {
    "colab": {
      "name": "lab2.ipynb",
      "provenance": [],
      "collapsed_sections": [],
      "include_colab_link": true
    },
    "kernelspec": {
      "name": "python3",
      "display_name": "Python 3"
    },
    "language_info": {
      "name": "python"
    }
  },
  "cells": [
    {
      "cell_type": "markdown",
      "metadata": {
        "id": "view-in-github",
        "colab_type": "text"
      },
      "source": [
        "<a href=\"https://colab.research.google.com/github/EmelyanovAndreyNSK/PythonTasks/blob/master/lab2.ipynb\" target=\"_parent\"><img src=\"https://colab.research.google.com/assets/colab-badge.svg\" alt=\"Open In Colab\"/></a>"
      ]
    },
    {
      "cell_type": "code",
      "metadata": {
        "colab": {
          "base_uri": "https://localhost:8080/"
        },
        "id": "zmuH6E41xmez",
        "outputId": "b2c84617-10a0-4701-b6a9-87444ae5ab31"
      },
      "source": [
        "%pip install -i https://pypi.gurobi.com gurobipy"
      ],
      "execution_count": null,
      "outputs": [
        {
          "output_type": "stream",
          "name": "stdout",
          "text": [
            "Looking in indexes: https://pypi.gurobi.com\n",
            "Collecting gurobipy\n",
            "  Downloading gurobipy-9.1.2-cp37-cp37m-manylinux1_x86_64.whl (11.1 MB)\n",
            "\u001b[K     |████████████████████████████████| 11.1 MB 19.7 MB/s \n",
            "\u001b[?25hInstalling collected packages: gurobipy\n",
            "Successfully installed gurobipy-9.1.2\n"
          ]
        }
      ]
    },
    {
      "cell_type": "code",
      "metadata": {
        "id": "f13VuOFYx2VG"
      },
      "source": [
        "import gurobipy as gp\n",
        "from gurobipy import GRB\n",
        "import numpy as np\n",
        "from random import randrange\n",
        "import string\n",
        "import math"
      ],
      "execution_count": null,
      "outputs": []
    },
    {
      "cell_type": "markdown",
      "metadata": {
        "id": "i-4u0t0Ix4g1"
      },
      "source": [
        "$FigureAndSector$ - количество листов с фигурой и сектором\n",
        "\n",
        "$FigureAndRectangle$ - количество листов с фигурой и прямоугольником\n",
        "\n",
        "$CircleAndSector$ - количество листов с кругом и сектором\n",
        "\n",
        "$CircleAndRectangles$ - количество листов с кругом и 2 прямоугольниками\n",
        "\n",
        "$S_0$ - количество листов с не более, чем 6 прямоугольниками\n",
        "\n",
        "$S_1$ - количество листов с 1 сектором и не более, чем 4 прямоугольниками\n",
        "\n",
        "$S_2$ - количество листов с 2 секторами и не более, чем 4 прямоугольниками\n",
        "\n",
        "$S_3$ - количество листов с 3 секторами и не более, чем 2 прямоугольниками\n",
        "\n",
        "$S_4$ - количество листов с 4 секторами и не более, чем 2 прямоугольниками\n",
        "\n",
        "$S_5$ - количество листов с 5 секторами\n",
        "\n",
        "Целевая функция:\n",
        "$\\sum\\limits_{i=0}^5 S_i + FigureAndSector + FigureAndRectangle + CircleAndSector + CircleAndRectangles \\longrightarrow min $\n",
        "\n",
        "$  $\n",
        "\n",
        "Ограничения:\n",
        "\n",
        "$\\sum\\limits_{i=0}^5 iS_i + FigureAndSector + CircleAndSector = 1000$ - кол-во секторов совпадает\n",
        "\n",
        "$FigureAndSector + FigureAndRectangle = 700$ - кол-во фигур совпадает\n",
        "\n",
        "$CircleAndSector + CircleAndRectangles = 555$ - кол-во кругов совпадает\n",
        "\n",
        "$6S_0 + 4S_1 + 4S_2 + 2S_3 + 2S_4 + FigureAndRectangle + CircleAndRectangles >= 1111$ - кол-во прямоугольников не меньше, чем надо\n",
        "\n"
      ]
    },
    {
      "cell_type": "code",
      "metadata": {
        "id": "20t1viO1x4B1",
        "outputId": "ffabc221-4fe8-400f-c525-4a72fdfe36a3",
        "colab": {
          "base_uri": "https://localhost:8080/"
        }
      },
      "source": [
        "# Create a new model\n",
        "problem = gp.Model(\"firstProblem\")"
      ],
      "execution_count": null,
      "outputs": [
        {
          "output_type": "stream",
          "name": "stdout",
          "text": [
            "Restricted license - for non-production use only - expires 2022-01-13\n"
          ]
        }
      ]
    },
    {
      "cell_type": "code",
      "metadata": {
        "id": "7vTb5Wsq1w01"
      },
      "source": [
        "# Create variables\n",
        "FigureAndSector = problem.addVar(lb = 0, ub = 701, vtype=GRB.INTEGER, name=\"FigureAndSector\")\n",
        "FigureAndRectangle = problem.addVar(lb = 0, ub = 701, vtype=GRB.INTEGER, name=\"FigureAndRectangle\")\n",
        "CircleAndSector = problem.addVar(lb = 0, ub = 556, vtype=GRB.INTEGER, name=\"CircleAndSector\")\n",
        "CircleAndRectangles = problem.addVar(lb = 0, ub = 556, vtype=GRB.INTEGER, name=\"CircleAndRectangles\")\n",
        "S = problem.addVars(range(6), lb = 0, ub = 1001, vtype=GRB.INTEGER, name=\"S\")"
      ],
      "execution_count": null,
      "outputs": []
    },
    {
      "cell_type": "code",
      "metadata": {
        "id": "PaPz07uU2uPw"
      },
      "source": [
        "# Set objective: x\n",
        "\n",
        "sum = 0\n",
        "for i in range(6):\n",
        "  sum += S[i]\n",
        "\n",
        "obj = sum + FigureAndSector + FigureAndRectangle + CircleAndSector + CircleAndRectangles\n",
        "\n",
        "problem.setObjective(obj, GRB.MINIMIZE)"
      ],
      "execution_count": null,
      "outputs": []
    },
    {
      "cell_type": "code",
      "metadata": {
        "id": "7RxaT7-g3Ct3"
      },
      "source": [
        "# Add constraint: \n",
        "Figures = FigureAndRectangle + FigureAndSector\n",
        "problem.addConstr(Figures == 700)\n",
        "\n",
        "Circles = CircleAndSector + CircleAndRectangles\n",
        "problem.addConstr(Circles == 555)\n",
        "\n",
        "Sectors = CircleAndSector + FigureAndSector\n",
        "for i in range(6):\n",
        "  Sectors += S[i] * i\n",
        "problem.addConstr(Sectors == 1000)\n",
        "\n",
        "Rectangles = FigureAndRectangle + 2 * CircleAndRectangles + 6 * S[0] + 4 * S[1] + 4 * S[2] + 2 * S[3] + 2 * S[4]\n",
        "problem.addConstr(Rectangles >= 1111)\n",
        "\n",
        "problem.update()"
      ],
      "execution_count": null,
      "outputs": []
    },
    {
      "cell_type": "code",
      "metadata": {
        "colab": {
          "base_uri": "https://localhost:8080/"
        },
        "id": "rnWFdJjx4MH5",
        "outputId": "7e079806-bd10-4e93-83cd-b9b42040c161"
      },
      "source": [
        "#Остановится через timeLimit секунд, выдает лучшее допустимое решение\n",
        "#problem.Params.timeLimit = 60\n",
        "#problem.tune()\n",
        "#напечатать модель\n",
        "print(problem.display())\n",
        "problem.optimize()"
      ],
      "execution_count": null,
      "outputs": [
        {
          "output_type": "stream",
          "name": "stdout",
          "text": [
            "Minimize\n",
            "   <gurobi.LinExpr: FigureAndSector + FigureAndRectangle + CircleAndSector + CircleAndRectangles + S[0] + S[1] + S[2] + S[3] + S[4] + S[5]>\n",
            "Subject To\n",
            "   R0 : <gurobi.LinExpr: FigureAndSector + FigureAndRectangle> = 700.0\n",
            "   R1 : <gurobi.LinExpr: CircleAndSector + CircleAndRectangles> = 555.0\n",
            "   R2 : <gurobi.LinExpr: FigureAndSector + CircleAndSector + S[1] + 2.0 S[2] + 3.0 S[3] + 4.0 S[4] + 5.0 S[5]> = 1000.0\n",
            "   R3 : <gurobi.LinExpr: FigureAndRectangle + 2.0 CircleAndRectangles + 6.0 S[0] + 4.0 S[1] + 4.0 S[2] + 2.0 S[3] + 2.0 S[4]> >= 1111.0\n",
            "Bounds\n",
            "   -0.0 <= FigureAndSector <= 701.0\n",
            "   -0.0 <= FigureAndRectangle <= 701.0\n",
            "   -0.0 <= CircleAndSector <= 556.0\n",
            "   -0.0 <= CircleAndRectangles <= 556.0\n",
            "   -0.0 <= S[0] <= 1001.0\n",
            "   -0.0 <= S[1] <= 1001.0\n",
            "   -0.0 <= S[2] <= 1001.0\n",
            "   -0.0 <= S[3] <= 1001.0\n",
            "   -0.0 <= S[4] <= 1001.0\n",
            "   -0.0 <= S[5] <= 1001.0\n",
            "General Integers\n",
            "   ['FigureAndSector', 'FigureAndRectangle', 'CircleAndSector', 'CircleAndRectangles', 'S[0]', 'S[1]', 'S[2]', 'S[3]', 'S[4]', 'S[5]']\n",
            "None\n",
            "Gurobi Optimizer version 9.1.2 build v9.1.2rc0 (linux64)\n",
            "Thread count: 1 physical cores, 2 logical processors, using up to 2 threads\n",
            "Optimize a model with 4 rows, 10 columns and 18 nonzeros\n",
            "Model fingerprint: 0xadaa8ac5\n",
            "Variable types: 0 continuous, 10 integer (0 binary)\n",
            "Coefficient statistics:\n",
            "  Matrix range     [1e+00, 6e+00]\n",
            "  Objective range  [1e+00, 1e+00]\n",
            "  Bounds range     [6e+02, 1e+03]\n",
            "  RHS range        [6e+02, 1e+03]\n",
            "Presolve removed 2 rows and 2 columns\n",
            "Presolve time: 0.00s\n",
            "Presolved: 2 rows, 8 columns, 14 nonzeros\n",
            "Variable types: 0 continuous, 8 integer (0 binary)\n",
            "Found heuristic solution: objective 1504.0000000\n",
            "\n",
            "Root relaxation: objective 1.315100e+03, 3 iterations, 0.00 seconds\n",
            "\n",
            "    Nodes    |    Current Node    |     Objective Bounds      |     Work\n",
            " Expl Unexpl |  Obj  Depth IntInf | Incumbent    BestBd   Gap | It/Node Time\n",
            "\n",
            "     0     0 1315.10000    0    2 1504.00000 1315.10000  12.6%     -    0s\n",
            "H    0     0                    1316.0000000 1315.10000  0.07%     -    0s\n",
            "     0     0 1315.10000    0    2 1316.00000 1315.10000  0.07%     -    0s\n",
            "\n",
            "Explored 1 nodes (3 simplex iterations) in 0.04 seconds\n",
            "Thread count was 2 (of 2 available processors)\n",
            "\n",
            "Solution count 2: 1316 1504 \n",
            "\n",
            "Optimal solution found (tolerance 1.00e-04)\n",
            "Best objective 1.316000000000e+03, best bound 1.316000000000e+03, gap 0.0000%\n"
          ]
        }
      ]
    },
    {
      "cell_type": "code",
      "metadata": {
        "colab": {
          "base_uri": "https://localhost:8080/"
        },
        "id": "Jvu5RcGa4OQT",
        "outputId": "3695017e-9e7b-492d-9822-603a92a5c726"
      },
      "source": [
        "print(\"FigureAndRectangle\", FigureAndRectangle.x)\n",
        "print(\"FigureAndSector\", FigureAndSector.x)\n",
        "print(\"CircleAndSector\", CircleAndSector.x)\n",
        "print(\"CircleAndRectangles\", CircleAndRectangles.x)\n",
        "for i in range(6):\n",
        "  print(\"S\" + str(i), \"=\", S[i].x)"
      ],
      "execution_count": null,
      "outputs": [
        {
          "output_type": "stream",
          "name": "stdout",
          "text": [
            "FigureAndRectangle 0.0\n",
            "FigureAndSector 700.0\n",
            "CircleAndSector 60.0\n",
            "CircleAndRectangles 495.0\n",
            "S0 = 1.0\n",
            "S1 = 0.0\n",
            "S2 = 0.0\n",
            "S3 = 0.0\n",
            "S4 = 60.0\n",
            "S5 = 0.0\n"
          ]
        }
      ]
    }
  ]
}