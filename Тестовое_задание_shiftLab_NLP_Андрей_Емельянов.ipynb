{
  "nbformat": 4,
  "nbformat_minor": 0,
  "metadata": {
    "colab": {
      "name": "Тестовое задание shiftLab NLP Андрей Емельянов.ipynb",
      "provenance": [],
      "collapsed_sections": [],
      "include_colab_link": true
    },
    "kernelspec": {
      "name": "python3",
      "display_name": "Python 3"
    },
    "language_info": {
      "name": "python"
    },
    "widgets": {
      "application/vnd.jupyter.widget-state+json": {
        "c8901aea3fd140889efa8c68adc10dd2": {
          "model_module": "@jupyter-widgets/controls",
          "model_name": "HBoxModel",
          "model_module_version": "1.5.0",
          "state": {
            "_view_name": "HBoxView",
            "_dom_classes": [],
            "_model_name": "HBoxModel",
            "_view_module": "@jupyter-widgets/controls",
            "_model_module_version": "1.5.0",
            "_view_count": null,
            "_view_module_version": "1.5.0",
            "box_style": "",
            "layout": "IPY_MODEL_5141da187ccf48379f4d8e8d61d3810d",
            "_model_module": "@jupyter-widgets/controls",
            "children": [
              "IPY_MODEL_ddd192a689274f3690fd5bd23933fcc1",
              "IPY_MODEL_93a609dba6234bcbaa2825df080a2057",
              "IPY_MODEL_49d9ac81fc0b4eac9bf8a1438b9c47b3"
            ]
          }
        },
        "5141da187ccf48379f4d8e8d61d3810d": {
          "model_module": "@jupyter-widgets/base",
          "model_name": "LayoutModel",
          "model_module_version": "1.2.0",
          "state": {
            "_view_name": "LayoutView",
            "grid_template_rows": null,
            "right": null,
            "justify_content": null,
            "_view_module": "@jupyter-widgets/base",
            "overflow": null,
            "_model_module_version": "1.2.0",
            "_view_count": null,
            "flex_flow": null,
            "width": null,
            "min_width": null,
            "border": null,
            "align_items": null,
            "bottom": null,
            "_model_module": "@jupyter-widgets/base",
            "top": null,
            "grid_column": null,
            "overflow_y": null,
            "overflow_x": null,
            "grid_auto_flow": null,
            "grid_area": null,
            "grid_template_columns": null,
            "flex": null,
            "_model_name": "LayoutModel",
            "justify_items": null,
            "grid_row": null,
            "max_height": null,
            "align_content": null,
            "visibility": null,
            "align_self": null,
            "height": null,
            "min_height": null,
            "padding": null,
            "grid_auto_rows": null,
            "grid_gap": null,
            "max_width": null,
            "order": null,
            "_view_module_version": "1.2.0",
            "grid_template_areas": null,
            "object_position": null,
            "object_fit": null,
            "grid_auto_columns": null,
            "margin": null,
            "display": null,
            "left": null
          }
        },
        "ddd192a689274f3690fd5bd23933fcc1": {
          "model_module": "@jupyter-widgets/controls",
          "model_name": "HTMLModel",
          "model_module_version": "1.5.0",
          "state": {
            "_view_name": "HTMLView",
            "style": "IPY_MODEL_e5a4b7353deb4a05ac1874c59cd346f9",
            "_dom_classes": [],
            "description": "",
            "_model_name": "HTMLModel",
            "placeholder": "​",
            "_view_module": "@jupyter-widgets/controls",
            "_model_module_version": "1.5.0",
            "value": "100%",
            "_view_count": null,
            "_view_module_version": "1.5.0",
            "description_tooltip": null,
            "_model_module": "@jupyter-widgets/controls",
            "layout": "IPY_MODEL_ae64aeaab1e34e6e9268436aaf056bba"
          }
        },
        "93a609dba6234bcbaa2825df080a2057": {
          "model_module": "@jupyter-widgets/controls",
          "model_name": "FloatProgressModel",
          "model_module_version": "1.5.0",
          "state": {
            "_view_name": "ProgressView",
            "style": "IPY_MODEL_96fdd0b25e9f47c7bd42366c6f2204ce",
            "_dom_classes": [],
            "description": "",
            "_model_name": "FloatProgressModel",
            "bar_style": "success",
            "max": 13230,
            "_view_module": "@jupyter-widgets/controls",
            "_model_module_version": "1.5.0",
            "value": 13230,
            "_view_count": null,
            "_view_module_version": "1.5.0",
            "orientation": "horizontal",
            "min": 0,
            "description_tooltip": null,
            "_model_module": "@jupyter-widgets/controls",
            "layout": "IPY_MODEL_d7af95d2c50c4aa29c3435ca16db0788"
          }
        },
        "49d9ac81fc0b4eac9bf8a1438b9c47b3": {
          "model_module": "@jupyter-widgets/controls",
          "model_name": "HTMLModel",
          "model_module_version": "1.5.0",
          "state": {
            "_view_name": "HTMLView",
            "style": "IPY_MODEL_de6e84d7ce9d420c9aaf774f8306e870",
            "_dom_classes": [],
            "description": "",
            "_model_name": "HTMLModel",
            "placeholder": "​",
            "_view_module": "@jupyter-widgets/controls",
            "_model_module_version": "1.5.0",
            "value": " 13230/13230 [00:00&lt;00:00, 40028.22it/s]",
            "_view_count": null,
            "_view_module_version": "1.5.0",
            "description_tooltip": null,
            "_model_module": "@jupyter-widgets/controls",
            "layout": "IPY_MODEL_66bf8c2410854818853d5dc9d5cb1331"
          }
        },
        "e5a4b7353deb4a05ac1874c59cd346f9": {
          "model_module": "@jupyter-widgets/controls",
          "model_name": "DescriptionStyleModel",
          "model_module_version": "1.5.0",
          "state": {
            "_view_name": "StyleView",
            "_model_name": "DescriptionStyleModel",
            "description_width": "",
            "_view_module": "@jupyter-widgets/base",
            "_model_module_version": "1.5.0",
            "_view_count": null,
            "_view_module_version": "1.2.0",
            "_model_module": "@jupyter-widgets/controls"
          }
        },
        "ae64aeaab1e34e6e9268436aaf056bba": {
          "model_module": "@jupyter-widgets/base",
          "model_name": "LayoutModel",
          "model_module_version": "1.2.0",
          "state": {
            "_view_name": "LayoutView",
            "grid_template_rows": null,
            "right": null,
            "justify_content": null,
            "_view_module": "@jupyter-widgets/base",
            "overflow": null,
            "_model_module_version": "1.2.0",
            "_view_count": null,
            "flex_flow": null,
            "width": null,
            "min_width": null,
            "border": null,
            "align_items": null,
            "bottom": null,
            "_model_module": "@jupyter-widgets/base",
            "top": null,
            "grid_column": null,
            "overflow_y": null,
            "overflow_x": null,
            "grid_auto_flow": null,
            "grid_area": null,
            "grid_template_columns": null,
            "flex": null,
            "_model_name": "LayoutModel",
            "justify_items": null,
            "grid_row": null,
            "max_height": null,
            "align_content": null,
            "visibility": null,
            "align_self": null,
            "height": null,
            "min_height": null,
            "padding": null,
            "grid_auto_rows": null,
            "grid_gap": null,
            "max_width": null,
            "order": null,
            "_view_module_version": "1.2.0",
            "grid_template_areas": null,
            "object_position": null,
            "object_fit": null,
            "grid_auto_columns": null,
            "margin": null,
            "display": null,
            "left": null
          }
        },
        "96fdd0b25e9f47c7bd42366c6f2204ce": {
          "model_module": "@jupyter-widgets/controls",
          "model_name": "ProgressStyleModel",
          "model_module_version": "1.5.0",
          "state": {
            "_view_name": "StyleView",
            "_model_name": "ProgressStyleModel",
            "description_width": "",
            "_view_module": "@jupyter-widgets/base",
            "_model_module_version": "1.5.0",
            "_view_count": null,
            "_view_module_version": "1.2.0",
            "bar_color": null,
            "_model_module": "@jupyter-widgets/controls"
          }
        },
        "d7af95d2c50c4aa29c3435ca16db0788": {
          "model_module": "@jupyter-widgets/base",
          "model_name": "LayoutModel",
          "model_module_version": "1.2.0",
          "state": {
            "_view_name": "LayoutView",
            "grid_template_rows": null,
            "right": null,
            "justify_content": null,
            "_view_module": "@jupyter-widgets/base",
            "overflow": null,
            "_model_module_version": "1.2.0",
            "_view_count": null,
            "flex_flow": null,
            "width": null,
            "min_width": null,
            "border": null,
            "align_items": null,
            "bottom": null,
            "_model_module": "@jupyter-widgets/base",
            "top": null,
            "grid_column": null,
            "overflow_y": null,
            "overflow_x": null,
            "grid_auto_flow": null,
            "grid_area": null,
            "grid_template_columns": null,
            "flex": null,
            "_model_name": "LayoutModel",
            "justify_items": null,
            "grid_row": null,
            "max_height": null,
            "align_content": null,
            "visibility": null,
            "align_self": null,
            "height": null,
            "min_height": null,
            "padding": null,
            "grid_auto_rows": null,
            "grid_gap": null,
            "max_width": null,
            "order": null,
            "_view_module_version": "1.2.0",
            "grid_template_areas": null,
            "object_position": null,
            "object_fit": null,
            "grid_auto_columns": null,
            "margin": null,
            "display": null,
            "left": null
          }
        },
        "de6e84d7ce9d420c9aaf774f8306e870": {
          "model_module": "@jupyter-widgets/controls",
          "model_name": "DescriptionStyleModel",
          "model_module_version": "1.5.0",
          "state": {
            "_view_name": "StyleView",
            "_model_name": "DescriptionStyleModel",
            "description_width": "",
            "_view_module": "@jupyter-widgets/base",
            "_model_module_version": "1.5.0",
            "_view_count": null,
            "_view_module_version": "1.2.0",
            "_model_module": "@jupyter-widgets/controls"
          }
        },
        "66bf8c2410854818853d5dc9d5cb1331": {
          "model_module": "@jupyter-widgets/base",
          "model_name": "LayoutModel",
          "model_module_version": "1.2.0",
          "state": {
            "_view_name": "LayoutView",
            "grid_template_rows": null,
            "right": null,
            "justify_content": null,
            "_view_module": "@jupyter-widgets/base",
            "overflow": null,
            "_model_module_version": "1.2.0",
            "_view_count": null,
            "flex_flow": null,
            "width": null,
            "min_width": null,
            "border": null,
            "align_items": null,
            "bottom": null,
            "_model_module": "@jupyter-widgets/base",
            "top": null,
            "grid_column": null,
            "overflow_y": null,
            "overflow_x": null,
            "grid_auto_flow": null,
            "grid_area": null,
            "grid_template_columns": null,
            "flex": null,
            "_model_name": "LayoutModel",
            "justify_items": null,
            "grid_row": null,
            "max_height": null,
            "align_content": null,
            "visibility": null,
            "align_self": null,
            "height": null,
            "min_height": null,
            "padding": null,
            "grid_auto_rows": null,
            "grid_gap": null,
            "max_width": null,
            "order": null,
            "_view_module_version": "1.2.0",
            "grid_template_areas": null,
            "object_position": null,
            "object_fit": null,
            "grid_auto_columns": null,
            "margin": null,
            "display": null,
            "left": null
          }
        },
        "409bf52ea57c4a3d9318ebd7d6650d47": {
          "model_module": "@jupyter-widgets/controls",
          "model_name": "HBoxModel",
          "model_module_version": "1.5.0",
          "state": {
            "_view_name": "HBoxView",
            "_dom_classes": [],
            "_model_name": "HBoxModel",
            "_view_module": "@jupyter-widgets/controls",
            "_model_module_version": "1.5.0",
            "_view_count": null,
            "_view_module_version": "1.5.0",
            "box_style": "",
            "layout": "IPY_MODEL_d2f2851395144a8c91d6426787cb054b",
            "_model_module": "@jupyter-widgets/controls",
            "children": [
              "IPY_MODEL_d4ab17f8cffd4978b478b55e19149f36",
              "IPY_MODEL_8aa57a2fcce04ec4aa9ea0014225a56a",
              "IPY_MODEL_c024bd709123430bbcc842f9631b93f1"
            ]
          }
        },
        "d2f2851395144a8c91d6426787cb054b": {
          "model_module": "@jupyter-widgets/base",
          "model_name": "LayoutModel",
          "model_module_version": "1.2.0",
          "state": {
            "_view_name": "LayoutView",
            "grid_template_rows": null,
            "right": null,
            "justify_content": null,
            "_view_module": "@jupyter-widgets/base",
            "overflow": null,
            "_model_module_version": "1.2.0",
            "_view_count": null,
            "flex_flow": null,
            "width": null,
            "min_width": null,
            "border": null,
            "align_items": null,
            "bottom": null,
            "_model_module": "@jupyter-widgets/base",
            "top": null,
            "grid_column": null,
            "overflow_y": null,
            "overflow_x": null,
            "grid_auto_flow": null,
            "grid_area": null,
            "grid_template_columns": null,
            "flex": null,
            "_model_name": "LayoutModel",
            "justify_items": null,
            "grid_row": null,
            "max_height": null,
            "align_content": null,
            "visibility": null,
            "align_self": null,
            "height": null,
            "min_height": null,
            "padding": null,
            "grid_auto_rows": null,
            "grid_gap": null,
            "max_width": null,
            "order": null,
            "_view_module_version": "1.2.0",
            "grid_template_areas": null,
            "object_position": null,
            "object_fit": null,
            "grid_auto_columns": null,
            "margin": null,
            "display": null,
            "left": null
          }
        },
        "d4ab17f8cffd4978b478b55e19149f36": {
          "model_module": "@jupyter-widgets/controls",
          "model_name": "HTMLModel",
          "model_module_version": "1.5.0",
          "state": {
            "_view_name": "HTMLView",
            "style": "IPY_MODEL_65a6ba9ab3a244ba8d28906f000a1710",
            "_dom_classes": [],
            "description": "",
            "_model_name": "HTMLModel",
            "placeholder": "​",
            "_view_module": "@jupyter-widgets/controls",
            "_model_module_version": "1.5.0",
            "value": "100%",
            "_view_count": null,
            "_view_module_version": "1.5.0",
            "description_tooltip": null,
            "_model_module": "@jupyter-widgets/controls",
            "layout": "IPY_MODEL_95b917f005f840279a10d650b412cb01"
          }
        },
        "8aa57a2fcce04ec4aa9ea0014225a56a": {
          "model_module": "@jupyter-widgets/controls",
          "model_name": "FloatProgressModel",
          "model_module_version": "1.5.0",
          "state": {
            "_view_name": "ProgressView",
            "style": "IPY_MODEL_a4b86e86576f4c0091b74d845abccfc2",
            "_dom_classes": [],
            "description": "",
            "_model_name": "FloatProgressModel",
            "bar_style": "success",
            "max": 13230,
            "_view_module": "@jupyter-widgets/controls",
            "_model_module_version": "1.5.0",
            "value": 13230,
            "_view_count": null,
            "_view_module_version": "1.5.0",
            "orientation": "horizontal",
            "min": 0,
            "description_tooltip": null,
            "_model_module": "@jupyter-widgets/controls",
            "layout": "IPY_MODEL_58897e345ffb45e7b0feeee2a7f64fc4"
          }
        },
        "c024bd709123430bbcc842f9631b93f1": {
          "model_module": "@jupyter-widgets/controls",
          "model_name": "HTMLModel",
          "model_module_version": "1.5.0",
          "state": {
            "_view_name": "HTMLView",
            "style": "IPY_MODEL_ae578c91439447c29545d2aec76886fe",
            "_dom_classes": [],
            "description": "",
            "_model_name": "HTMLModel",
            "placeholder": "​",
            "_view_module": "@jupyter-widgets/controls",
            "_model_module_version": "1.5.0",
            "value": " 13230/13230 [00:01&lt;00:00, 8484.31it/s]",
            "_view_count": null,
            "_view_module_version": "1.5.0",
            "description_tooltip": null,
            "_model_module": "@jupyter-widgets/controls",
            "layout": "IPY_MODEL_3feb5019acb9433f890ee885d5621a8f"
          }
        },
        "65a6ba9ab3a244ba8d28906f000a1710": {
          "model_module": "@jupyter-widgets/controls",
          "model_name": "DescriptionStyleModel",
          "model_module_version": "1.5.0",
          "state": {
            "_view_name": "StyleView",
            "_model_name": "DescriptionStyleModel",
            "description_width": "",
            "_view_module": "@jupyter-widgets/base",
            "_model_module_version": "1.5.0",
            "_view_count": null,
            "_view_module_version": "1.2.0",
            "_model_module": "@jupyter-widgets/controls"
          }
        },
        "95b917f005f840279a10d650b412cb01": {
          "model_module": "@jupyter-widgets/base",
          "model_name": "LayoutModel",
          "model_module_version": "1.2.0",
          "state": {
            "_view_name": "LayoutView",
            "grid_template_rows": null,
            "right": null,
            "justify_content": null,
            "_view_module": "@jupyter-widgets/base",
            "overflow": null,
            "_model_module_version": "1.2.0",
            "_view_count": null,
            "flex_flow": null,
            "width": null,
            "min_width": null,
            "border": null,
            "align_items": null,
            "bottom": null,
            "_model_module": "@jupyter-widgets/base",
            "top": null,
            "grid_column": null,
            "overflow_y": null,
            "overflow_x": null,
            "grid_auto_flow": null,
            "grid_area": null,
            "grid_template_columns": null,
            "flex": null,
            "_model_name": "LayoutModel",
            "justify_items": null,
            "grid_row": null,
            "max_height": null,
            "align_content": null,
            "visibility": null,
            "align_self": null,
            "height": null,
            "min_height": null,
            "padding": null,
            "grid_auto_rows": null,
            "grid_gap": null,
            "max_width": null,
            "order": null,
            "_view_module_version": "1.2.0",
            "grid_template_areas": null,
            "object_position": null,
            "object_fit": null,
            "grid_auto_columns": null,
            "margin": null,
            "display": null,
            "left": null
          }
        },
        "a4b86e86576f4c0091b74d845abccfc2": {
          "model_module": "@jupyter-widgets/controls",
          "model_name": "ProgressStyleModel",
          "model_module_version": "1.5.0",
          "state": {
            "_view_name": "StyleView",
            "_model_name": "ProgressStyleModel",
            "description_width": "",
            "_view_module": "@jupyter-widgets/base",
            "_model_module_version": "1.5.0",
            "_view_count": null,
            "_view_module_version": "1.2.0",
            "bar_color": null,
            "_model_module": "@jupyter-widgets/controls"
          }
        },
        "58897e345ffb45e7b0feeee2a7f64fc4": {
          "model_module": "@jupyter-widgets/base",
          "model_name": "LayoutModel",
          "model_module_version": "1.2.0",
          "state": {
            "_view_name": "LayoutView",
            "grid_template_rows": null,
            "right": null,
            "justify_content": null,
            "_view_module": "@jupyter-widgets/base",
            "overflow": null,
            "_model_module_version": "1.2.0",
            "_view_count": null,
            "flex_flow": null,
            "width": null,
            "min_width": null,
            "border": null,
            "align_items": null,
            "bottom": null,
            "_model_module": "@jupyter-widgets/base",
            "top": null,
            "grid_column": null,
            "overflow_y": null,
            "overflow_x": null,
            "grid_auto_flow": null,
            "grid_area": null,
            "grid_template_columns": null,
            "flex": null,
            "_model_name": "LayoutModel",
            "justify_items": null,
            "grid_row": null,
            "max_height": null,
            "align_content": null,
            "visibility": null,
            "align_self": null,
            "height": null,
            "min_height": null,
            "padding": null,
            "grid_auto_rows": null,
            "grid_gap": null,
            "max_width": null,
            "order": null,
            "_view_module_version": "1.2.0",
            "grid_template_areas": null,
            "object_position": null,
            "object_fit": null,
            "grid_auto_columns": null,
            "margin": null,
            "display": null,
            "left": null
          }
        },
        "ae578c91439447c29545d2aec76886fe": {
          "model_module": "@jupyter-widgets/controls",
          "model_name": "DescriptionStyleModel",
          "model_module_version": "1.5.0",
          "state": {
            "_view_name": "StyleView",
            "_model_name": "DescriptionStyleModel",
            "description_width": "",
            "_view_module": "@jupyter-widgets/base",
            "_model_module_version": "1.5.0",
            "_view_count": null,
            "_view_module_version": "1.2.0",
            "_model_module": "@jupyter-widgets/controls"
          }
        },
        "3feb5019acb9433f890ee885d5621a8f": {
          "model_module": "@jupyter-widgets/base",
          "model_name": "LayoutModel",
          "model_module_version": "1.2.0",
          "state": {
            "_view_name": "LayoutView",
            "grid_template_rows": null,
            "right": null,
            "justify_content": null,
            "_view_module": "@jupyter-widgets/base",
            "overflow": null,
            "_model_module_version": "1.2.0",
            "_view_count": null,
            "flex_flow": null,
            "width": null,
            "min_width": null,
            "border": null,
            "align_items": null,
            "bottom": null,
            "_model_module": "@jupyter-widgets/base",
            "top": null,
            "grid_column": null,
            "overflow_y": null,
            "overflow_x": null,
            "grid_auto_flow": null,
            "grid_area": null,
            "grid_template_columns": null,
            "flex": null,
            "_model_name": "LayoutModel",
            "justify_items": null,
            "grid_row": null,
            "max_height": null,
            "align_content": null,
            "visibility": null,
            "align_self": null,
            "height": null,
            "min_height": null,
            "padding": null,
            "grid_auto_rows": null,
            "grid_gap": null,
            "max_width": null,
            "order": null,
            "_view_module_version": "1.2.0",
            "grid_template_areas": null,
            "object_position": null,
            "object_fit": null,
            "grid_auto_columns": null,
            "margin": null,
            "display": null,
            "left": null
          }
        },
        "2799e85994fb4a15b7d78fc49cc1644f": {
          "model_module": "@jupyter-widgets/controls",
          "model_name": "HBoxModel",
          "model_module_version": "1.5.0",
          "state": {
            "_view_name": "HBoxView",
            "_dom_classes": [],
            "_model_name": "HBoxModel",
            "_view_module": "@jupyter-widgets/controls",
            "_model_module_version": "1.5.0",
            "_view_count": null,
            "_view_module_version": "1.5.0",
            "box_style": "",
            "layout": "IPY_MODEL_dd126812c24049da9f881d759f49a3f1",
            "_model_module": "@jupyter-widgets/controls",
            "children": [
              "IPY_MODEL_d096fcf287234155820688a58d668133",
              "IPY_MODEL_b8295723d116489086980892d3bf7d8f",
              "IPY_MODEL_0e63a3b087c74cf88802b5f13d614dc5"
            ]
          }
        },
        "dd126812c24049da9f881d759f49a3f1": {
          "model_module": "@jupyter-widgets/base",
          "model_name": "LayoutModel",
          "model_module_version": "1.2.0",
          "state": {
            "_view_name": "LayoutView",
            "grid_template_rows": null,
            "right": null,
            "justify_content": null,
            "_view_module": "@jupyter-widgets/base",
            "overflow": null,
            "_model_module_version": "1.2.0",
            "_view_count": null,
            "flex_flow": null,
            "width": null,
            "min_width": null,
            "border": null,
            "align_items": null,
            "bottom": null,
            "_model_module": "@jupyter-widgets/base",
            "top": null,
            "grid_column": null,
            "overflow_y": null,
            "overflow_x": null,
            "grid_auto_flow": null,
            "grid_area": null,
            "grid_template_columns": null,
            "flex": null,
            "_model_name": "LayoutModel",
            "justify_items": null,
            "grid_row": null,
            "max_height": null,
            "align_content": null,
            "visibility": null,
            "align_self": null,
            "height": null,
            "min_height": null,
            "padding": null,
            "grid_auto_rows": null,
            "grid_gap": null,
            "max_width": null,
            "order": null,
            "_view_module_version": "1.2.0",
            "grid_template_areas": null,
            "object_position": null,
            "object_fit": null,
            "grid_auto_columns": null,
            "margin": null,
            "display": null,
            "left": null
          }
        },
        "d096fcf287234155820688a58d668133": {
          "model_module": "@jupyter-widgets/controls",
          "model_name": "HTMLModel",
          "model_module_version": "1.5.0",
          "state": {
            "_view_name": "HTMLView",
            "style": "IPY_MODEL_5d42b6de188f40c6ab906c8a3b3d768a",
            "_dom_classes": [],
            "description": "",
            "_model_name": "HTMLModel",
            "placeholder": "​",
            "_view_module": "@jupyter-widgets/controls",
            "_model_module_version": "1.5.0",
            "value": "100%",
            "_view_count": null,
            "_view_module_version": "1.5.0",
            "description_tooltip": null,
            "_model_module": "@jupyter-widgets/controls",
            "layout": "IPY_MODEL_8e4f445d279a44f69a09936acc269836"
          }
        },
        "b8295723d116489086980892d3bf7d8f": {
          "model_module": "@jupyter-widgets/controls",
          "model_name": "FloatProgressModel",
          "model_module_version": "1.5.0",
          "state": {
            "_view_name": "ProgressView",
            "style": "IPY_MODEL_51f976e75ec94f23908c2102908c2556",
            "_dom_classes": [],
            "description": "",
            "_model_name": "FloatProgressModel",
            "bar_style": "success",
            "max": 13230,
            "_view_module": "@jupyter-widgets/controls",
            "_model_module_version": "1.5.0",
            "value": 13230,
            "_view_count": null,
            "_view_module_version": "1.5.0",
            "orientation": "horizontal",
            "min": 0,
            "description_tooltip": null,
            "_model_module": "@jupyter-widgets/controls",
            "layout": "IPY_MODEL_98ad377c903d4989978e8100f8371627"
          }
        },
        "0e63a3b087c74cf88802b5f13d614dc5": {
          "model_module": "@jupyter-widgets/controls",
          "model_name": "HTMLModel",
          "model_module_version": "1.5.0",
          "state": {
            "_view_name": "HTMLView",
            "style": "IPY_MODEL_8276cde010cf4325be71eb8f17085330",
            "_dom_classes": [],
            "description": "",
            "_model_name": "HTMLModel",
            "placeholder": "​",
            "_view_module": "@jupyter-widgets/controls",
            "_model_module_version": "1.5.0",
            "value": " 13230/13230 [00:15&lt;00:00, 1121.26it/s]",
            "_view_count": null,
            "_view_module_version": "1.5.0",
            "description_tooltip": null,
            "_model_module": "@jupyter-widgets/controls",
            "layout": "IPY_MODEL_305efe6e067e40268bbfa58f157bcd12"
          }
        },
        "5d42b6de188f40c6ab906c8a3b3d768a": {
          "model_module": "@jupyter-widgets/controls",
          "model_name": "DescriptionStyleModel",
          "model_module_version": "1.5.0",
          "state": {
            "_view_name": "StyleView",
            "_model_name": "DescriptionStyleModel",
            "description_width": "",
            "_view_module": "@jupyter-widgets/base",
            "_model_module_version": "1.5.0",
            "_view_count": null,
            "_view_module_version": "1.2.0",
            "_model_module": "@jupyter-widgets/controls"
          }
        },
        "8e4f445d279a44f69a09936acc269836": {
          "model_module": "@jupyter-widgets/base",
          "model_name": "LayoutModel",
          "model_module_version": "1.2.0",
          "state": {
            "_view_name": "LayoutView",
            "grid_template_rows": null,
            "right": null,
            "justify_content": null,
            "_view_module": "@jupyter-widgets/base",
            "overflow": null,
            "_model_module_version": "1.2.0",
            "_view_count": null,
            "flex_flow": null,
            "width": null,
            "min_width": null,
            "border": null,
            "align_items": null,
            "bottom": null,
            "_model_module": "@jupyter-widgets/base",
            "top": null,
            "grid_column": null,
            "overflow_y": null,
            "overflow_x": null,
            "grid_auto_flow": null,
            "grid_area": null,
            "grid_template_columns": null,
            "flex": null,
            "_model_name": "LayoutModel",
            "justify_items": null,
            "grid_row": null,
            "max_height": null,
            "align_content": null,
            "visibility": null,
            "align_self": null,
            "height": null,
            "min_height": null,
            "padding": null,
            "grid_auto_rows": null,
            "grid_gap": null,
            "max_width": null,
            "order": null,
            "_view_module_version": "1.2.0",
            "grid_template_areas": null,
            "object_position": null,
            "object_fit": null,
            "grid_auto_columns": null,
            "margin": null,
            "display": null,
            "left": null
          }
        },
        "51f976e75ec94f23908c2102908c2556": {
          "model_module": "@jupyter-widgets/controls",
          "model_name": "ProgressStyleModel",
          "model_module_version": "1.5.0",
          "state": {
            "_view_name": "StyleView",
            "_model_name": "ProgressStyleModel",
            "description_width": "",
            "_view_module": "@jupyter-widgets/base",
            "_model_module_version": "1.5.0",
            "_view_count": null,
            "_view_module_version": "1.2.0",
            "bar_color": null,
            "_model_module": "@jupyter-widgets/controls"
          }
        },
        "98ad377c903d4989978e8100f8371627": {
          "model_module": "@jupyter-widgets/base",
          "model_name": "LayoutModel",
          "model_module_version": "1.2.0",
          "state": {
            "_view_name": "LayoutView",
            "grid_template_rows": null,
            "right": null,
            "justify_content": null,
            "_view_module": "@jupyter-widgets/base",
            "overflow": null,
            "_model_module_version": "1.2.0",
            "_view_count": null,
            "flex_flow": null,
            "width": null,
            "min_width": null,
            "border": null,
            "align_items": null,
            "bottom": null,
            "_model_module": "@jupyter-widgets/base",
            "top": null,
            "grid_column": null,
            "overflow_y": null,
            "overflow_x": null,
            "grid_auto_flow": null,
            "grid_area": null,
            "grid_template_columns": null,
            "flex": null,
            "_model_name": "LayoutModel",
            "justify_items": null,
            "grid_row": null,
            "max_height": null,
            "align_content": null,
            "visibility": null,
            "align_self": null,
            "height": null,
            "min_height": null,
            "padding": null,
            "grid_auto_rows": null,
            "grid_gap": null,
            "max_width": null,
            "order": null,
            "_view_module_version": "1.2.0",
            "grid_template_areas": null,
            "object_position": null,
            "object_fit": null,
            "grid_auto_columns": null,
            "margin": null,
            "display": null,
            "left": null
          }
        },
        "8276cde010cf4325be71eb8f17085330": {
          "model_module": "@jupyter-widgets/controls",
          "model_name": "DescriptionStyleModel",
          "model_module_version": "1.5.0",
          "state": {
            "_view_name": "StyleView",
            "_model_name": "DescriptionStyleModel",
            "description_width": "",
            "_view_module": "@jupyter-widgets/base",
            "_model_module_version": "1.5.0",
            "_view_count": null,
            "_view_module_version": "1.2.0",
            "_model_module": "@jupyter-widgets/controls"
          }
        },
        "305efe6e067e40268bbfa58f157bcd12": {
          "model_module": "@jupyter-widgets/base",
          "model_name": "LayoutModel",
          "model_module_version": "1.2.0",
          "state": {
            "_view_name": "LayoutView",
            "grid_template_rows": null,
            "right": null,
            "justify_content": null,
            "_view_module": "@jupyter-widgets/base",
            "overflow": null,
            "_model_module_version": "1.2.0",
            "_view_count": null,
            "flex_flow": null,
            "width": null,
            "min_width": null,
            "border": null,
            "align_items": null,
            "bottom": null,
            "_model_module": "@jupyter-widgets/base",
            "top": null,
            "grid_column": null,
            "overflow_y": null,
            "overflow_x": null,
            "grid_auto_flow": null,
            "grid_area": null,
            "grid_template_columns": null,
            "flex": null,
            "_model_name": "LayoutModel",
            "justify_items": null,
            "grid_row": null,
            "max_height": null,
            "align_content": null,
            "visibility": null,
            "align_self": null,
            "height": null,
            "min_height": null,
            "padding": null,
            "grid_auto_rows": null,
            "grid_gap": null,
            "max_width": null,
            "order": null,
            "_view_module_version": "1.2.0",
            "grid_template_areas": null,
            "object_position": null,
            "object_fit": null,
            "grid_auto_columns": null,
            "margin": null,
            "display": null,
            "left": null
          }
        }
      }
    }
  },
  "cells": [
    {
      "cell_type": "markdown",
      "metadata": {
        "id": "view-in-github",
        "colab_type": "text"
      },
      "source": [
        "<a href=\"https://colab.research.google.com/github/EmelyanovAndreyNSK/PythonTasks/blob/master/%D0%A2%D0%B5%D1%81%D1%82%D0%BE%D0%B2%D0%BE%D0%B5_%D0%B7%D0%B0%D0%B4%D0%B0%D0%BD%D0%B8%D0%B5_shiftLab_NLP_%D0%90%D0%BD%D0%B4%D1%80%D0%B5%D0%B9_%D0%95%D0%BC%D0%B5%D0%BB%D1%8C%D1%8F%D0%BD%D0%BE%D0%B2.ipynb\" target=\"_parent\"><img src=\"https://colab.research.google.com/assets/colab-badge.svg\" alt=\"Open In Colab\"/></a>"
      ]
    },
    {
      "cell_type": "markdown",
      "metadata": {
        "id": "-KudtDhpDh5X"
      },
      "source": [
        "#### Будем разрабатывать текстового чат-бота, который помогает студентам НГУ с организационными вопросами.\n",
        "\n",
        "#### **Содержание**:\n",
        "1. Подготовительный этап\n",
        "2. Исследование данных\n",
        "3. Подготовка данных для обучения\n",
        "4. Обучение классификатора\n",
        "5. Деплой"
      ]
    },
    {
      "cell_type": "markdown",
      "metadata": {
        "id": "UaRY6EZRj6pv"
      },
      "source": [
        "Если какой-то из пунктов вызывает затруднения, его можно пропустить и приступить к следующему."
      ]
    },
    {
      "cell_type": "markdown",
      "metadata": {
        "id": "v_sQAEWjkJOR"
      },
      "source": [
        "# 1. Подготовительный этап:\n",
        "\n",
        "\n"
      ]
    },
    {
      "cell_type": "markdown",
      "metadata": {
        "id": "Rr7hyPT01hwU"
      },
      "source": [
        "**1.1 Скопируем ноутбук на свой gdrive**"
      ]
    },
    {
      "cell_type": "markdown",
      "metadata": {
        "id": "qgq_hpn_13Ek"
      },
      "source": [
        "1.go to File-->Save copy in Drive\n",
        "\n",
        "2.В открывшемся новом colab:\n",
        "\n",
        "переименуйте название следующим образом \"Тестовое задание shiftLab NLP + [ваше имя фамилия].ipynb\"\n",
        "\n",
        "например, \"Тестовое задание shiftLab NLP Иван Иванов.ipynb\""
      ]
    },
    {
      "cell_type": "markdown",
      "metadata": {
        "id": "AirN5HB_DnrJ"
      },
      "source": [
        "**1.2 Подключим свой gdrive**"
      ]
    },
    {
      "cell_type": "code",
      "metadata": {
        "colab": {
          "base_uri": "https://localhost:8080/"
        },
        "id": "J-R3mRRTBn0x",
        "outputId": "df4865e0-05bf-434f-d494-6cf4fabe6aaf"
      },
      "source": [
        "from google.colab import drive\n",
        "drive.mount('/content/drive')"
      ],
      "execution_count": null,
      "outputs": [
        {
          "output_type": "stream",
          "name": "stdout",
          "text": [
            "Mounted at /content/drive\n"
          ]
        }
      ]
    },
    {
      "cell_type": "markdown",
      "metadata": {
        "id": "fPfFt2CrlOii"
      },
      "source": [
        "**1.2. Далее необходимо скачать архив с данными и положить в свой gdrive**\n",
        "\n",
        "Ссылка на архив: https://drive.google.com/file/d/1_erk83F6up10pAjgFygGXr1GLxabSU6m/view?usp=sharing\n"
      ]
    },
    {
      "cell_type": "markdown",
      "metadata": {
        "id": "PJlXh77imsRl"
      },
      "source": [
        "**1.3. Далее нужно записать путь до папки с файлами в переменную PATH_TO_DATA**"
      ]
    },
    {
      "cell_type": "code",
      "metadata": {
        "id": "HHHwTSU1BoeG"
      },
      "source": [
        "PATH_TO_DATA = '/content/drive/MyDrive/Test_SHIFTLAB_NLP/Unzipped_Files'"
      ],
      "execution_count": null,
      "outputs": []
    },
    {
      "cell_type": "markdown",
      "metadata": {
        "id": "kBUhvQX2p8i7"
      },
      "source": [
        "# 2. Исследование данных"
      ]
    },
    {
      "cell_type": "markdown",
      "metadata": {
        "id": "JnFOkcooqHFd"
      },
      "source": [
        "Прежде всего, давайте считаем данные с диска и посмотрим как они выглядят"
      ]
    },
    {
      "cell_type": "markdown",
      "metadata": {
        "id": "PsdNnvNoqRnR"
      },
      "source": [
        "## 2.1 Вспомогательные функции:"
      ]
    },
    {
      "cell_type": "markdown",
      "metadata": {
        "id": "--cgHvyhqoga"
      },
      "source": [
        "Данные функции нужны для считывания файла с описанием интентов и отрисовки графиков"
      ]
    },
    {
      "cell_type": "code",
      "metadata": {
        "id": "0cINg9lMp_9l"
      },
      "source": [
        "from plotly.subplots import make_subplots\n",
        "import plotly.graph_objects as go\n",
        "\n",
        "def plot_with_subplots(data, xlabel, ylabel, title):\n",
        "    \"\"\"\n",
        "    Эта функция для отрисовки графиков\n",
        "    \"\"\"\n",
        "    fig = make_subplots(\n",
        "        rows=2, cols=2,\n",
        "        specs=[[{\"colspan\": 2}, None], [{}, {}]],\n",
        "        subplot_titles=(title,\"Head\", \"Tail\")\n",
        "    )\n",
        "    \n",
        "    data_head = data.head(10)\n",
        "    data_tail = data.tail(10)\n",
        "\n",
        "    bar_1 = go.Bar(y=data[xlabel], x=data.index)\n",
        "    bar_2 = go.Bar(y=data_head[xlabel], x=data_head[ylabel])\n",
        "    bar_3 = go.Bar(y=data_tail[xlabel], x=data_tail[ylabel])\n",
        "\n",
        "\n",
        "    fig['layout']['xaxis2'].update(tickangle=-45)\n",
        "    fig['layout']['xaxis3'].update(tickangle=-45)\n",
        "\n",
        "    fig.add_trace(bar_1, row=1, col=1)\n",
        "    fig.add_trace(bar_2, row=2, col=1)\n",
        "    fig.add_trace(bar_3, row=2, col=2)\n",
        "\n",
        "    fig.update_layout(showlegend=False)\n",
        "    fig.show()"
      ],
      "execution_count": null,
      "outputs": []
    },
    {
      "cell_type": "code",
      "metadata": {
        "id": "MZLCbPWeqO9M"
      },
      "source": [
        "import re\n",
        "\n",
        "DESC_PATTERN = '(\\w+(?:\\s+\\w+)*)\\s*-\\s*(\\w+(?:\\s+\\w+)*)'\n",
        "\n",
        "def parse_labels_description(desc_path):\n",
        "    \"\"\"\n",
        "    Эта функция парсит файлик с описанием интентов\n",
        "    \"\"\"\n",
        "    with open(desc_path, 'r') as desc:\n",
        "        pattern = re.compile(DESC_PATTERN)\n",
        "\n",
        "        labels_descriptions = []\n",
        "        for line in desc.readlines():\n",
        "            labels_descriptions.append(re.findall(pattern, line)[0])\n",
        "\n",
        "        labels_descriptions = pd.DataFrame(labels_descriptions, columns=['intent', 'desc'])\n",
        "    return labels_descriptions"
      ],
      "execution_count": null,
      "outputs": []
    },
    {
      "cell_type": "markdown",
      "metadata": {
        "id": "2uoO6328qZUB"
      },
      "source": [
        "## 2.2 Базовая информация по датасету:"
      ]
    },
    {
      "cell_type": "code",
      "metadata": {
        "id": "ta0cjO5WqiuF",
        "colab": {
          "base_uri": "https://localhost:8080/",
          "height": 358
        },
        "outputId": "66012b98-c042-413f-e4c5-be352f6dbd16"
      },
      "source": [
        "# Парсим описания интентов:\n",
        "import pandas as pd\n",
        "import os\n",
        "\n",
        "LABELS_DESC_PATH = os.path.join(PATH_TO_DATA, 'labels_description.txt')\n",
        "\n",
        "labels_descriptions = parse_labels_description(LABELS_DESC_PATH)\n",
        "labels_descriptions.head(10)"
      ],
      "execution_count": null,
      "outputs": [
        {
          "output_type": "execute_result",
          "data": {
            "text/html": [
              "<div>\n",
              "<style scoped>\n",
              "    .dataframe tbody tr th:only-of-type {\n",
              "        vertical-align: middle;\n",
              "    }\n",
              "\n",
              "    .dataframe tbody tr th {\n",
              "        vertical-align: top;\n",
              "    }\n",
              "\n",
              "    .dataframe thead th {\n",
              "        text-align: right;\n",
              "    }\n",
              "</style>\n",
              "<table border=\"1\" class=\"dataframe\">\n",
              "  <thead>\n",
              "    <tr style=\"text-align: right;\">\n",
              "      <th></th>\n",
              "      <th>intent</th>\n",
              "      <th>desc</th>\n",
              "    </tr>\n",
              "  </thead>\n",
              "  <tbody>\n",
              "    <tr>\n",
              "      <th>0</th>\n",
              "      <td>statement_general</td>\n",
              "      <td>get a document of some undefined type</td>\n",
              "    </tr>\n",
              "    <tr>\n",
              "      <th>1</th>\n",
              "      <td>incomestat</td>\n",
              "      <td>get an income statement</td>\n",
              "    </tr>\n",
              "    <tr>\n",
              "      <th>2</th>\n",
              "      <td>conform</td>\n",
              "      <td>get a document that proofs that a person belon...</td>\n",
              "    </tr>\n",
              "    <tr>\n",
              "      <th>3</th>\n",
              "      <td>transcript</td>\n",
              "      <td>get a student transcript</td>\n",
              "    </tr>\n",
              "    <tr>\n",
              "      <th>4</th>\n",
              "      <td>loc_cafeteria_new_building_general</td>\n",
              "      <td>find a cafe in building</td>\n",
              "    </tr>\n",
              "    <tr>\n",
              "      <th>5</th>\n",
              "      <td>loc_cafeteria_new_building_1_etage</td>\n",
              "      <td>find a cafe in building</td>\n",
              "    </tr>\n",
              "    <tr>\n",
              "      <th>6</th>\n",
              "      <td>loc_cafeteria_new_building_2_etage</td>\n",
              "      <td>find a cafe in building</td>\n",
              "    </tr>\n",
              "    <tr>\n",
              "      <th>7</th>\n",
              "      <td>loc_cafeteria_new_building_3_etage</td>\n",
              "      <td>find a cafe in building</td>\n",
              "    </tr>\n",
              "    <tr>\n",
              "      <th>8</th>\n",
              "      <td>loc_cafeteria_new_building_4_etage</td>\n",
              "      <td>find a cafe in building</td>\n",
              "    </tr>\n",
              "    <tr>\n",
              "      <th>9</th>\n",
              "      <td>sched_general</td>\n",
              "      <td>get a schedule of classes</td>\n",
              "    </tr>\n",
              "  </tbody>\n",
              "</table>\n",
              "</div>"
            ],
            "text/plain": [
              "                               intent                                               desc\n",
              "0                   statement_general              get a document of some undefined type\n",
              "1                          incomestat                            get an income statement\n",
              "2                             conform  get a document that proofs that a person belon...\n",
              "3                          transcript                           get a student transcript\n",
              "4  loc_cafeteria_new_building_general                            find a cafe in building\n",
              "5  loc_cafeteria_new_building_1_etage                            find a cafe in building\n",
              "6  loc_cafeteria_new_building_2_etage                            find a cafe in building\n",
              "7  loc_cafeteria_new_building_3_etage                            find a cafe in building\n",
              "8  loc_cafeteria_new_building_4_etage                            find a cafe in building\n",
              "9                       sched_general                          get a schedule of classes"
            ]
          },
          "metadata": {},
          "execution_count": 5
        }
      ]
    },
    {
      "cell_type": "code",
      "metadata": {
        "colab": {
          "base_uri": "https://localhost:8080/",
          "height": 358
        },
        "id": "HICGadxpreEN",
        "outputId": "13b25d42-838b-4ab2-b23f-3c1b35a768d5"
      },
      "source": [
        "# Считывем данные:\n",
        "import pandas as pd\n",
        "\n",
        "DATASET_PATH = os.path.join(PATH_TO_DATA, 'dataset_train.tsv')\n",
        "\n",
        "train_data = pd.read_csv(DATASET_PATH, delimiter='\\t', encoding=\"utf-8\", names=['text', 'intent'])\n",
        "train_data.sample(10)"
      ],
      "execution_count": null,
      "outputs": [
        {
          "output_type": "execute_result",
          "data": {
            "text/html": [
              "<div>\n",
              "<style scoped>\n",
              "    .dataframe tbody tr th:only-of-type {\n",
              "        vertical-align: middle;\n",
              "    }\n",
              "\n",
              "    .dataframe tbody tr th {\n",
              "        vertical-align: top;\n",
              "    }\n",
              "\n",
              "    .dataframe thead th {\n",
              "        text-align: right;\n",
              "    }\n",
              "</style>\n",
              "<table border=\"1\" class=\"dataframe\">\n",
              "  <thead>\n",
              "    <tr style=\"text-align: right;\">\n",
              "      <th></th>\n",
              "      <th>text</th>\n",
              "      <th>intent</th>\n",
              "    </tr>\n",
              "  </thead>\n",
              "  <tbody>\n",
              "    <tr>\n",
              "      <th>11351</th>\n",
              "      <td>расписание для Быкадоров И.А.</td>\n",
              "      <td>sched_teacher</td>\n",
              "    </tr>\n",
              "    <tr>\n",
              "      <th>13170</th>\n",
              "      <td>оформлять финансирование на поездку</td>\n",
              "      <td>travelfinaid_get</td>\n",
              "    </tr>\n",
              "    <tr>\n",
              "      <th>4285</th>\n",
              "      <td>план корпусов где есть</td>\n",
              "      <td>campus_map</td>\n",
              "    </tr>\n",
              "    <tr>\n",
              "      <th>7574</th>\n",
              "      <td>стоять мца</td>\n",
              "      <td>math_center_def</td>\n",
              "    </tr>\n",
              "    <tr>\n",
              "      <th>6862</th>\n",
              "      <td>заказать стипендия повышенная!</td>\n",
              "      <td>highscholarship</td>\n",
              "    </tr>\n",
              "    <tr>\n",
              "      <th>4673</th>\n",
              "      <td>погода в академгородке</td>\n",
              "      <td>weather</td>\n",
              "    </tr>\n",
              "    <tr>\n",
              "      <th>5833</th>\n",
              "      <td>заказать справка студента эф!</td>\n",
              "      <td>nsunet</td>\n",
              "    </tr>\n",
              "    <tr>\n",
              "      <th>8743</th>\n",
              "      <td>понедельник 487930</td>\n",
              "      <td>sched_for_group_day</td>\n",
              "    </tr>\n",
              "    <tr>\n",
              "      <th>5498</th>\n",
              "      <td>продуктовый распологается где.</td>\n",
              "      <td>loc_shop</td>\n",
              "    </tr>\n",
              "    <tr>\n",
              "      <th>5703</th>\n",
              "      <td>расположен где мца?</td>\n",
              "      <td>math_center_def</td>\n",
              "    </tr>\n",
              "  </tbody>\n",
              "</table>\n",
              "</div>"
            ],
            "text/plain": [
              "                                      text               intent\n",
              "11351        расписание для Быкадоров И.А.        sched_teacher\n",
              "13170  оформлять финансирование на поездку     travelfinaid_get\n",
              "4285                план корпусов где есть           campus_map\n",
              "7574                            стоять мца      math_center_def\n",
              "6862        заказать стипендия повышенная!      highscholarship\n",
              "4673                погода в академгородке              weather\n",
              "5833         заказать справка студента эф!               nsunet\n",
              "8743                    понедельник 487930  sched_for_group_day\n",
              "5498        продуктовый распологается где.             loc_shop\n",
              "5703                   расположен где мца?      math_center_def"
            ]
          },
          "metadata": {},
          "execution_count": 6
        }
      ]
    },
    {
      "cell_type": "code",
      "metadata": {
        "colab": {
          "base_uri": "https://localhost:8080/"
        },
        "id": "WbHv5vj7sjUt",
        "outputId": "dd97faf0-2890-4ff2-987f-771e457c4496"
      },
      "source": [
        "# Размер датасета:\n",
        "\n",
        "train_data.shape"
      ],
      "execution_count": null,
      "outputs": [
        {
          "output_type": "execute_result",
          "data": {
            "text/plain": [
              "(13230, 2)"
            ]
          },
          "metadata": {},
          "execution_count": 7
        }
      ]
    },
    {
      "cell_type": "code",
      "metadata": {
        "colab": {
          "base_uri": "https://localhost:8080/"
        },
        "id": "uPbaLeAHsrsb",
        "outputId": "badfd529-094c-4458-d23d-7bc952309b92"
      },
      "source": [
        "# Количество интентов / классов:\n",
        "\n",
        "train_data.intent.nunique()"
      ],
      "execution_count": null,
      "outputs": [
        {
          "output_type": "execute_result",
          "data": {
            "text/plain": [
              "142"
            ]
          },
          "metadata": {},
          "execution_count": 8
        }
      ]
    },
    {
      "cell_type": "code",
      "metadata": {
        "id": "7DBQUOfBsvO8"
      },
      "source": [
        ""
      ],
      "execution_count": null,
      "outputs": []
    },
    {
      "cell_type": "markdown",
      "metadata": {
        "id": "lNV--Tpps0QI"
      },
      "source": [
        "## 2.3 Распределение интентов:"
      ]
    },
    {
      "cell_type": "code",
      "metadata": {
        "colab": {
          "base_uri": "https://localhost:8080/",
          "height": 358
        },
        "id": "oYqcC4jqtARX",
        "outputId": "dea28416-ccc5-4bbf-f985-f4546d0fcf13"
      },
      "source": [
        "# Давайте посмотрим как выглядит распределение интентов в данных:\n",
        "\n",
        "intents_distribution = (\n",
        "    train_data\n",
        "    .groupby('intent', as_index=False)\n",
        "    .agg(len)\n",
        "    .sort_values(by='text', ascending=False)\n",
        "    .merge(labels_descriptions, on='intent', how='left')\n",
        "    .rename(columns={'text': 'n_samples'})\n",
        ")\n",
        "intents_distribution.head(10)"
      ],
      "execution_count": null,
      "outputs": [
        {
          "output_type": "execute_result",
          "data": {
            "text/html": [
              "<div>\n",
              "<style scoped>\n",
              "    .dataframe tbody tr th:only-of-type {\n",
              "        vertical-align: middle;\n",
              "    }\n",
              "\n",
              "    .dataframe tbody tr th {\n",
              "        vertical-align: top;\n",
              "    }\n",
              "\n",
              "    .dataframe thead th {\n",
              "        text-align: right;\n",
              "    }\n",
              "</style>\n",
              "<table border=\"1\" class=\"dataframe\">\n",
              "  <thead>\n",
              "    <tr style=\"text-align: right;\">\n",
              "      <th></th>\n",
              "      <th>intent</th>\n",
              "      <th>n_samples</th>\n",
              "      <th>desc</th>\n",
              "    </tr>\n",
              "  </thead>\n",
              "  <tbody>\n",
              "    <tr>\n",
              "      <th>0</th>\n",
              "      <td>sched_teacher</td>\n",
              "      <td>1110</td>\n",
              "      <td>schedule of a teacher</td>\n",
              "    </tr>\n",
              "    <tr>\n",
              "      <th>1</th>\n",
              "      <td>sched_for_group</td>\n",
              "      <td>405</td>\n",
              "      <td>get a schedule for a student group</td>\n",
              "    </tr>\n",
              "    <tr>\n",
              "      <th>2</th>\n",
              "      <td>sched_for_group_day</td>\n",
              "      <td>402</td>\n",
              "      <td>get a schedule for a student group on a specif...</td>\n",
              "    </tr>\n",
              "    <tr>\n",
              "      <th>3</th>\n",
              "      <td>wifi</td>\n",
              "      <td>287</td>\n",
              "      <td>how to get wifi in a campus</td>\n",
              "    </tr>\n",
              "    <tr>\n",
              "      <th>4</th>\n",
              "      <td>status_free</td>\n",
              "      <td>271</td>\n",
              "      <td>how to leave a university</td>\n",
              "    </tr>\n",
              "    <tr>\n",
              "      <th>5</th>\n",
              "      <td>loc_dean_mmf</td>\n",
              "      <td>264</td>\n",
              "      <td>where is a dean of the mathematics faculty</td>\n",
              "    </tr>\n",
              "    <tr>\n",
              "      <th>6</th>\n",
              "      <td>loc_shop</td>\n",
              "      <td>237</td>\n",
              "      <td>find out a convinient shop</td>\n",
              "    </tr>\n",
              "    <tr>\n",
              "      <th>7</th>\n",
              "      <td>stat_numb_of_students</td>\n",
              "      <td>219</td>\n",
              "      <td>how many students there are in the university</td>\n",
              "    </tr>\n",
              "    <tr>\n",
              "      <th>8</th>\n",
              "      <td>nsunet</td>\n",
              "      <td>211</td>\n",
              "      <td>get the internet in a dormitory</td>\n",
              "    </tr>\n",
              "    <tr>\n",
              "      <th>9</th>\n",
              "      <td>student_union_event_guests</td>\n",
              "      <td>203</td>\n",
              "      <td>how a student union can invite guests</td>\n",
              "    </tr>\n",
              "  </tbody>\n",
              "</table>\n",
              "</div>"
            ],
            "text/plain": [
              "                       intent  ...                                               desc\n",
              "0               sched_teacher  ...                              schedule of a teacher\n",
              "1             sched_for_group  ...                 get a schedule for a student group\n",
              "2         sched_for_group_day  ...  get a schedule for a student group on a specif...\n",
              "3                        wifi  ...                        how to get wifi in a campus\n",
              "4                 status_free  ...                          how to leave a university\n",
              "5                loc_dean_mmf  ...         where is a dean of the mathematics faculty\n",
              "6                    loc_shop  ...                         find out a convinient shop\n",
              "7       stat_numb_of_students  ...      how many students there are in the university\n",
              "8                      nsunet  ...                    get the internet in a dormitory\n",
              "9  student_union_event_guests  ...              how a student union can invite guests\n",
              "\n",
              "[10 rows x 3 columns]"
            ]
          },
          "metadata": {},
          "execution_count": 9
        }
      ]
    },
    {
      "cell_type": "code",
      "metadata": {
        "colab": {
          "base_uri": "https://localhost:8080/",
          "height": 542
        },
        "id": "G0tLyqSotE9t",
        "outputId": "94c5558e-702b-4722-c081-a34a258b5f13"
      },
      "source": [
        "# Нарисуем распределение\n",
        "# Нижние графики показывают начало (HEAD)  и хвост (TAIL) распределения\n",
        "\n",
        "plot_with_subplots(intents_distribution, 'n_samples', 'intent', 'Распределение интентов')"
      ],
      "execution_count": null,
      "outputs": [
        {
          "output_type": "display_data",
          "data": {
            "text/html": [
              "<html>\n",
              "<head><meta charset=\"utf-8\" /></head>\n",
              "<body>\n",
              "    <div>\n",
              "            <script src=\"https://cdnjs.cloudflare.com/ajax/libs/mathjax/2.7.5/MathJax.js?config=TeX-AMS-MML_SVG\"></script><script type=\"text/javascript\">if (window.MathJax) {MathJax.Hub.Config({SVG: {font: \"STIX-Web\"}});}</script>\n",
              "                <script type=\"text/javascript\">window.PlotlyConfig = {MathJaxConfig: 'local'};</script>\n",
              "        <script src=\"https://cdn.plot.ly/plotly-latest.min.js\"></script>    \n",
              "            <div id=\"14a12895-0269-43e7-adf4-e8fcc5bb7245\" class=\"plotly-graph-div\" style=\"height:525px; width:100%;\"></div>\n",
              "            <script type=\"text/javascript\">\n",
              "                \n",
              "                    window.PLOTLYENV=window.PLOTLYENV || {};\n",
              "                    \n",
              "                if (document.getElementById(\"14a12895-0269-43e7-adf4-e8fcc5bb7245\")) {\n",
              "                    Plotly.newPlot(\n",
              "                        '14a12895-0269-43e7-adf4-e8fcc5bb7245',\n",
              "                        [{\"type\": \"bar\", \"x\": [0, 1, 2, 3, 4, 5, 6, 7, 8, 9, 10, 11, 12, 13, 14, 15, 16, 17, 18, 19, 20, 21, 22, 23, 24, 25, 26, 27, 28, 29, 30, 31, 32, 33, 34, 35, 36, 37, 38, 39, 40, 41, 42, 43, 44, 45, 46, 47, 48, 49, 50, 51, 52, 53, 54, 55, 56, 57, 58, 59, 60, 61, 62, 63, 64, 65, 66, 67, 68, 69, 70, 71, 72, 73, 74, 75, 76, 77, 78, 79, 80, 81, 82, 83, 84, 85, 86, 87, 88, 89, 90, 91, 92, 93, 94, 95, 96, 97, 98, 99, 100, 101, 102, 103, 104, 105, 106, 107, 108, 109, 110, 111, 112, 113, 114, 115, 116, 117, 118, 119, 120, 121, 122, 123, 124, 125, 126, 127, 128, 129, 130, 131, 132, 133, 134, 135, 136, 137, 138, 139, 140, 141], \"xaxis\": \"x\", \"y\": [1110, 405, 402, 287, 271, 264, 237, 219, 211, 203, 195, 189, 183, 182, 182, 169, 168, 166, 164, 154, 151, 151, 150, 150, 143, 141, 137, 135, 132, 131, 121, 109, 107, 103, 100, 99, 99, 99, 99, 99, 99, 99, 99, 98, 98, 98, 98, 96, 94, 94, 94, 93, 89, 89, 85, 84, 82, 80, 79, 74, 73, 72, 72, 72, 71, 70, 69, 69, 67, 66, 65, 65, 63, 62, 61, 60, 60, 60, 57, 56, 55, 55, 54, 53, 52, 51, 51, 51, 49, 48, 47, 47, 47, 47, 47, 47, 46, 46, 46, 45, 45, 45, 43, 42, 42, 42, 41, 41, 37, 37, 37, 34, 34, 33, 33, 32, 32, 32, 31, 31, 30, 30, 29, 28, 28, 27, 27, 26, 26, 26, 25, 25, 24, 24, 24, 24, 23, 23, 22, 22, 20, 20], \"yaxis\": \"y\"}, {\"type\": \"bar\", \"x\": [\"sched_teacher\", \"sched_for_group\", \"sched_for_group_day\", \"wifi\", \"status_free\", \"loc_dean_mmf\", \"loc_shop\", \"stat_numb_of_students\", \"nsunet\", \"student_union_event_guests\"], \"xaxis\": \"x2\", \"y\": [1110, 405, 402, 287, 271, 264, 237, 219, 211, 203], \"yaxis\": \"y2\"}, {\"type\": \"bar\", \"x\": [\"loc_passport_office\", \"cvvr_define\", \"loc_nsu_cafeteria\", \"photoclub_define\", \"trade_union_general\", \"smalltalk_talk\", \"nsu_foundation_date\", \"student_trade_union_enter\", \"location_general\", \"staff_trade_union_enter\"], \"xaxis\": \"x3\", \"y\": [24, 24, 24, 24, 23, 23, 22, 22, 20, 20], \"yaxis\": \"y3\"}],\n",
              "                        {\"annotations\": [{\"font\": {\"size\": 16}, \"showarrow\": false, \"text\": \"\\u0420\\u0430\\u0441\\u043f\\u0440\\u0435\\u0434\\u0435\\u043b\\u0435\\u043d\\u0438\\u0435 \\u0438\\u043d\\u0442\\u0435\\u043d\\u0442\\u043e\\u0432\", \"x\": 0.5, \"xanchor\": \"center\", \"xref\": \"paper\", \"y\": 1.0, \"yanchor\": \"bottom\", \"yref\": \"paper\"}, {\"font\": {\"size\": 16}, \"showarrow\": false, \"text\": \"Head\", \"x\": 0.225, \"xanchor\": \"center\", \"xref\": \"paper\", \"y\": 0.375, \"yanchor\": \"bottom\", \"yref\": \"paper\"}, {\"font\": {\"size\": 16}, \"showarrow\": false, \"text\": \"Tail\", \"x\": 0.775, \"xanchor\": \"center\", \"xref\": \"paper\", \"y\": 0.375, \"yanchor\": \"bottom\", \"yref\": \"paper\"}], \"showlegend\": false, \"template\": {\"data\": {\"bar\": [{\"error_x\": {\"color\": \"#2a3f5f\"}, \"error_y\": {\"color\": \"#2a3f5f\"}, \"marker\": {\"line\": {\"color\": \"#E5ECF6\", \"width\": 0.5}}, \"type\": \"bar\"}], \"barpolar\": [{\"marker\": {\"line\": {\"color\": \"#E5ECF6\", \"width\": 0.5}}, \"type\": \"barpolar\"}], \"carpet\": [{\"aaxis\": {\"endlinecolor\": \"#2a3f5f\", \"gridcolor\": \"white\", \"linecolor\": \"white\", \"minorgridcolor\": \"white\", \"startlinecolor\": \"#2a3f5f\"}, \"baxis\": {\"endlinecolor\": \"#2a3f5f\", \"gridcolor\": \"white\", \"linecolor\": \"white\", \"minorgridcolor\": \"white\", \"startlinecolor\": \"#2a3f5f\"}, \"type\": \"carpet\"}], \"choropleth\": [{\"colorbar\": {\"outlinewidth\": 0, \"ticks\": \"\"}, \"type\": \"choropleth\"}], \"contour\": [{\"colorbar\": {\"outlinewidth\": 0, \"ticks\": \"\"}, \"colorscale\": [[0.0, \"#0d0887\"], [0.1111111111111111, \"#46039f\"], [0.2222222222222222, \"#7201a8\"], [0.3333333333333333, \"#9c179e\"], [0.4444444444444444, \"#bd3786\"], [0.5555555555555556, \"#d8576b\"], [0.6666666666666666, \"#ed7953\"], [0.7777777777777778, \"#fb9f3a\"], [0.8888888888888888, \"#fdca26\"], [1.0, \"#f0f921\"]], \"type\": \"contour\"}], \"contourcarpet\": [{\"colorbar\": {\"outlinewidth\": 0, \"ticks\": \"\"}, \"type\": \"contourcarpet\"}], \"heatmap\": [{\"colorbar\": {\"outlinewidth\": 0, \"ticks\": \"\"}, \"colorscale\": [[0.0, \"#0d0887\"], [0.1111111111111111, \"#46039f\"], [0.2222222222222222, \"#7201a8\"], [0.3333333333333333, \"#9c179e\"], [0.4444444444444444, \"#bd3786\"], [0.5555555555555556, \"#d8576b\"], [0.6666666666666666, \"#ed7953\"], [0.7777777777777778, \"#fb9f3a\"], [0.8888888888888888, \"#fdca26\"], [1.0, \"#f0f921\"]], \"type\": \"heatmap\"}], \"heatmapgl\": [{\"colorbar\": {\"outlinewidth\": 0, \"ticks\": \"\"}, \"colorscale\": [[0.0, \"#0d0887\"], [0.1111111111111111, \"#46039f\"], [0.2222222222222222, \"#7201a8\"], [0.3333333333333333, \"#9c179e\"], [0.4444444444444444, \"#bd3786\"], [0.5555555555555556, \"#d8576b\"], [0.6666666666666666, \"#ed7953\"], [0.7777777777777778, \"#fb9f3a\"], [0.8888888888888888, \"#fdca26\"], [1.0, \"#f0f921\"]], \"type\": \"heatmapgl\"}], \"histogram\": [{\"marker\": {\"colorbar\": {\"outlinewidth\": 0, \"ticks\": \"\"}}, \"type\": \"histogram\"}], \"histogram2d\": [{\"colorbar\": {\"outlinewidth\": 0, \"ticks\": \"\"}, \"colorscale\": [[0.0, \"#0d0887\"], [0.1111111111111111, \"#46039f\"], [0.2222222222222222, \"#7201a8\"], [0.3333333333333333, \"#9c179e\"], [0.4444444444444444, \"#bd3786\"], [0.5555555555555556, \"#d8576b\"], [0.6666666666666666, \"#ed7953\"], [0.7777777777777778, \"#fb9f3a\"], [0.8888888888888888, \"#fdca26\"], [1.0, \"#f0f921\"]], \"type\": \"histogram2d\"}], \"histogram2dcontour\": [{\"colorbar\": {\"outlinewidth\": 0, \"ticks\": \"\"}, \"colorscale\": [[0.0, \"#0d0887\"], [0.1111111111111111, \"#46039f\"], [0.2222222222222222, \"#7201a8\"], [0.3333333333333333, \"#9c179e\"], [0.4444444444444444, \"#bd3786\"], [0.5555555555555556, \"#d8576b\"], [0.6666666666666666, \"#ed7953\"], [0.7777777777777778, \"#fb9f3a\"], [0.8888888888888888, \"#fdca26\"], [1.0, \"#f0f921\"]], \"type\": \"histogram2dcontour\"}], \"mesh3d\": [{\"colorbar\": {\"outlinewidth\": 0, \"ticks\": \"\"}, \"type\": \"mesh3d\"}], \"parcoords\": [{\"line\": {\"colorbar\": {\"outlinewidth\": 0, \"ticks\": \"\"}}, \"type\": \"parcoords\"}], \"pie\": [{\"automargin\": true, \"type\": \"pie\"}], \"scatter\": [{\"marker\": {\"colorbar\": {\"outlinewidth\": 0, \"ticks\": \"\"}}, \"type\": \"scatter\"}], \"scatter3d\": [{\"line\": {\"colorbar\": {\"outlinewidth\": 0, \"ticks\": \"\"}}, \"marker\": {\"colorbar\": {\"outlinewidth\": 0, \"ticks\": \"\"}}, \"type\": \"scatter3d\"}], \"scattercarpet\": [{\"marker\": {\"colorbar\": {\"outlinewidth\": 0, \"ticks\": \"\"}}, \"type\": \"scattercarpet\"}], \"scattergeo\": [{\"marker\": {\"colorbar\": {\"outlinewidth\": 0, \"ticks\": \"\"}}, \"type\": \"scattergeo\"}], \"scattergl\": [{\"marker\": {\"colorbar\": {\"outlinewidth\": 0, \"ticks\": \"\"}}, \"type\": \"scattergl\"}], \"scattermapbox\": [{\"marker\": {\"colorbar\": {\"outlinewidth\": 0, \"ticks\": \"\"}}, \"type\": \"scattermapbox\"}], \"scatterpolar\": [{\"marker\": {\"colorbar\": {\"outlinewidth\": 0, \"ticks\": \"\"}}, \"type\": \"scatterpolar\"}], \"scatterpolargl\": [{\"marker\": {\"colorbar\": {\"outlinewidth\": 0, \"ticks\": \"\"}}, \"type\": \"scatterpolargl\"}], \"scatterternary\": [{\"marker\": {\"colorbar\": {\"outlinewidth\": 0, \"ticks\": \"\"}}, \"type\": \"scatterternary\"}], \"surface\": [{\"colorbar\": {\"outlinewidth\": 0, \"ticks\": \"\"}, \"colorscale\": [[0.0, \"#0d0887\"], [0.1111111111111111, \"#46039f\"], [0.2222222222222222, \"#7201a8\"], [0.3333333333333333, \"#9c179e\"], [0.4444444444444444, \"#bd3786\"], [0.5555555555555556, \"#d8576b\"], [0.6666666666666666, \"#ed7953\"], [0.7777777777777778, \"#fb9f3a\"], [0.8888888888888888, \"#fdca26\"], [1.0, \"#f0f921\"]], \"type\": \"surface\"}], \"table\": [{\"cells\": {\"fill\": {\"color\": \"#EBF0F8\"}, \"line\": {\"color\": \"white\"}}, \"header\": {\"fill\": {\"color\": \"#C8D4E3\"}, \"line\": {\"color\": \"white\"}}, \"type\": \"table\"}]}, \"layout\": {\"annotationdefaults\": {\"arrowcolor\": \"#2a3f5f\", \"arrowhead\": 0, \"arrowwidth\": 1}, \"coloraxis\": {\"colorbar\": {\"outlinewidth\": 0, \"ticks\": \"\"}}, \"colorscale\": {\"diverging\": [[0, \"#8e0152\"], [0.1, \"#c51b7d\"], [0.2, \"#de77ae\"], [0.3, \"#f1b6da\"], [0.4, \"#fde0ef\"], [0.5, \"#f7f7f7\"], [0.6, \"#e6f5d0\"], [0.7, \"#b8e186\"], [0.8, \"#7fbc41\"], [0.9, \"#4d9221\"], [1, \"#276419\"]], \"sequential\": [[0.0, \"#0d0887\"], [0.1111111111111111, \"#46039f\"], [0.2222222222222222, \"#7201a8\"], [0.3333333333333333, \"#9c179e\"], [0.4444444444444444, \"#bd3786\"], [0.5555555555555556, \"#d8576b\"], [0.6666666666666666, \"#ed7953\"], [0.7777777777777778, \"#fb9f3a\"], [0.8888888888888888, \"#fdca26\"], [1.0, \"#f0f921\"]], \"sequentialminus\": [[0.0, \"#0d0887\"], [0.1111111111111111, \"#46039f\"], [0.2222222222222222, \"#7201a8\"], [0.3333333333333333, \"#9c179e\"], [0.4444444444444444, \"#bd3786\"], [0.5555555555555556, \"#d8576b\"], [0.6666666666666666, \"#ed7953\"], [0.7777777777777778, \"#fb9f3a\"], [0.8888888888888888, \"#fdca26\"], [1.0, \"#f0f921\"]]}, \"colorway\": [\"#636efa\", \"#EF553B\", \"#00cc96\", \"#ab63fa\", \"#FFA15A\", \"#19d3f3\", \"#FF6692\", \"#B6E880\", \"#FF97FF\", \"#FECB52\"], \"font\": {\"color\": \"#2a3f5f\"}, \"geo\": {\"bgcolor\": \"white\", \"lakecolor\": \"white\", \"landcolor\": \"#E5ECF6\", \"showlakes\": true, \"showland\": true, \"subunitcolor\": \"white\"}, \"hoverlabel\": {\"align\": \"left\"}, \"hovermode\": \"closest\", \"mapbox\": {\"style\": \"light\"}, \"paper_bgcolor\": \"white\", \"plot_bgcolor\": \"#E5ECF6\", \"polar\": {\"angularaxis\": {\"gridcolor\": \"white\", \"linecolor\": \"white\", \"ticks\": \"\"}, \"bgcolor\": \"#E5ECF6\", \"radialaxis\": {\"gridcolor\": \"white\", \"linecolor\": \"white\", \"ticks\": \"\"}}, \"scene\": {\"xaxis\": {\"backgroundcolor\": \"#E5ECF6\", \"gridcolor\": \"white\", \"gridwidth\": 2, \"linecolor\": \"white\", \"showbackground\": true, \"ticks\": \"\", \"zerolinecolor\": \"white\"}, \"yaxis\": {\"backgroundcolor\": \"#E5ECF6\", \"gridcolor\": \"white\", \"gridwidth\": 2, \"linecolor\": \"white\", \"showbackground\": true, \"ticks\": \"\", \"zerolinecolor\": \"white\"}, \"zaxis\": {\"backgroundcolor\": \"#E5ECF6\", \"gridcolor\": \"white\", \"gridwidth\": 2, \"linecolor\": \"white\", \"showbackground\": true, \"ticks\": \"\", \"zerolinecolor\": \"white\"}}, \"shapedefaults\": {\"line\": {\"color\": \"#2a3f5f\"}}, \"ternary\": {\"aaxis\": {\"gridcolor\": \"white\", \"linecolor\": \"white\", \"ticks\": \"\"}, \"baxis\": {\"gridcolor\": \"white\", \"linecolor\": \"white\", \"ticks\": \"\"}, \"bgcolor\": \"#E5ECF6\", \"caxis\": {\"gridcolor\": \"white\", \"linecolor\": \"white\", \"ticks\": \"\"}}, \"title\": {\"x\": 0.05}, \"xaxis\": {\"automargin\": true, \"gridcolor\": \"white\", \"linecolor\": \"white\", \"ticks\": \"\", \"title\": {\"standoff\": 15}, \"zerolinecolor\": \"white\", \"zerolinewidth\": 2}, \"yaxis\": {\"automargin\": true, \"gridcolor\": \"white\", \"linecolor\": \"white\", \"ticks\": \"\", \"title\": {\"standoff\": 15}, \"zerolinecolor\": \"white\", \"zerolinewidth\": 2}}}, \"xaxis\": {\"anchor\": \"y\", \"domain\": [0.0, 1.0]}, \"xaxis2\": {\"anchor\": \"y2\", \"domain\": [0.0, 0.45], \"tickangle\": -45}, \"xaxis3\": {\"anchor\": \"y3\", \"domain\": [0.55, 1.0], \"tickangle\": -45}, \"yaxis\": {\"anchor\": \"x\", \"domain\": [0.625, 1.0]}, \"yaxis2\": {\"anchor\": \"x2\", \"domain\": [0.0, 0.375]}, \"yaxis3\": {\"anchor\": \"x3\", \"domain\": [0.0, 0.375]}},\n",
              "                        {\"responsive\": true}\n",
              "                    ).then(function(){\n",
              "                            \n",
              "var gd = document.getElementById('14a12895-0269-43e7-adf4-e8fcc5bb7245');\n",
              "var x = new MutationObserver(function (mutations, observer) {{\n",
              "        var display = window.getComputedStyle(gd).display;\n",
              "        if (!display || display === 'none') {{\n",
              "            console.log([gd, 'removed!']);\n",
              "            Plotly.purge(gd);\n",
              "            observer.disconnect();\n",
              "        }}\n",
              "}});\n",
              "\n",
              "// Listen for the removal of the full notebook cells\n",
              "var notebookContainer = gd.closest('#notebook-container');\n",
              "if (notebookContainer) {{\n",
              "    x.observe(notebookContainer, {childList: true});\n",
              "}}\n",
              "\n",
              "// Listen for the clearing of the current output cell\n",
              "var outputEl = gd.closest('.output');\n",
              "if (outputEl) {{\n",
              "    x.observe(outputEl, {childList: true});\n",
              "}}\n",
              "\n",
              "                        })\n",
              "                };\n",
              "                \n",
              "            </script>\n",
              "        </div>\n",
              "</body>\n",
              "</html>"
            ]
          },
          "metadata": {}
        }
      ]
    },
    {
      "cell_type": "markdown",
      "metadata": {
        "id": "njF4oRsztocR"
      },
      "source": [
        "## 2.4 Распределение min, max, mean длин текстов:"
      ]
    },
    {
      "cell_type": "markdown",
      "metadata": {
        "id": "6sYCsZIxtznt"
      },
      "source": [
        "2.4.1 распределение минимальных длин"
      ]
    },
    {
      "cell_type": "code",
      "metadata": {
        "id": "PJgej2RxtvYN"
      },
      "source": [
        "# Давайте посмотрим как выглядит распределение минимальных длин текстов:\n",
        "\n",
        "min_len_distribution = (\n",
        "    train_data\n",
        "    .assign(text_len = train_data.text.str.len())\n",
        "    .groupby('intent', as_index=False)\n",
        "    .text_len\n",
        "    .agg(min)\n",
        "    .sort_values(by='text_len', ascending=False)\n",
        "    .merge(labels_descriptions, on='intent', how='left')\n",
        "    .rename(columns={'text_len': 'min_text_len'})\n",
        ")"
      ],
      "execution_count": null,
      "outputs": []
    },
    {
      "cell_type": "code",
      "metadata": {
        "colab": {
          "base_uri": "https://localhost:8080/",
          "height": 542
        },
        "id": "JDl5z-rft50h",
        "outputId": "5feeb13e-31bf-4457-854a-33a64ff64a83"
      },
      "source": [
        "# Нарисуем распределение\n",
        "# Нижние графики показывают начало (HEAD)  и хвост (TAIL) распределения\n",
        "\n",
        "plot_with_subplots(min_len_distribution, 'min_text_len', 'intent', 'Распределение минимальных длин')"
      ],
      "execution_count": null,
      "outputs": [
        {
          "output_type": "display_data",
          "data": {
            "text/html": [
              "<html>\n",
              "<head><meta charset=\"utf-8\" /></head>\n",
              "<body>\n",
              "    <div>\n",
              "            <script src=\"https://cdnjs.cloudflare.com/ajax/libs/mathjax/2.7.5/MathJax.js?config=TeX-AMS-MML_SVG\"></script><script type=\"text/javascript\">if (window.MathJax) {MathJax.Hub.Config({SVG: {font: \"STIX-Web\"}});}</script>\n",
              "                <script type=\"text/javascript\">window.PlotlyConfig = {MathJaxConfig: 'local'};</script>\n",
              "        <script src=\"https://cdn.plot.ly/plotly-latest.min.js\"></script>    \n",
              "            <div id=\"6cb39663-911b-449a-b384-38f674286aaf\" class=\"plotly-graph-div\" style=\"height:525px; width:100%;\"></div>\n",
              "            <script type=\"text/javascript\">\n",
              "                \n",
              "                    window.PLOTLYENV=window.PLOTLYENV || {};\n",
              "                    \n",
              "                if (document.getElementById(\"6cb39663-911b-449a-b384-38f674286aaf\")) {\n",
              "                    Plotly.newPlot(\n",
              "                        '6cb39663-911b-449a-b384-38f674286aaf',\n",
              "                        [{\"type\": \"bar\", \"x\": [0, 1, 2, 3, 4, 5, 6, 7, 8, 9, 10, 11, 12, 13, 14, 15, 16, 17, 18, 19, 20, 21, 22, 23, 24, 25, 26, 27, 28, 29, 30, 31, 32, 33, 34, 35, 36, 37, 38, 39, 40, 41, 42, 43, 44, 45, 46, 47, 48, 49, 50, 51, 52, 53, 54, 55, 56, 57, 58, 59, 60, 61, 62, 63, 64, 65, 66, 67, 68, 69, 70, 71, 72, 73, 74, 75, 76, 77, 78, 79, 80, 81, 82, 83, 84, 85, 86, 87, 88, 89, 90, 91, 92, 93, 94, 95, 96, 97, 98, 99, 100, 101, 102, 103, 104, 105, 106, 107, 108, 109, 110, 111, 112, 113, 114, 115, 116, 117, 118, 119, 120, 121, 122, 123, 124, 125, 126, 127, 128, 129, 130, 131, 132, 133, 134, 135, 136, 137, 138, 139, 140, 141], \"xaxis\": \"x\", \"y\": [45, 39, 36, 33, 28, 28, 28, 28, 27, 27, 26, 25, 25, 25, 24, 24, 24, 23, 23, 23, 22, 22, 22, 22, 21, 21, 21, 21, 21, 20, 20, 19, 19, 19, 19, 19, 19, 19, 19, 18, 18, 18, 18, 18, 17, 17, 17, 17, 17, 16, 16, 15, 15, 15, 15, 15, 15, 15, 14, 14, 14, 14, 14, 13, 13, 13, 13, 13, 12, 12, 12, 12, 12, 12, 11, 11, 11, 11, 11, 11, 11, 11, 11, 11, 11, 10, 10, 10, 10, 10, 10, 10, 9, 9, 9, 9, 9, 9, 9, 8, 8, 8, 8, 8, 8, 8, 8, 7, 7, 7, 7, 6, 6, 6, 6, 6, 6, 5, 5, 5, 5, 5, 5, 5, 4, 4, 4, 4, 3, 3, 3, 3, 3, 3, 3, 3, 2, 2, 2, 2, 2, 2], \"yaxis\": \"y\"}, {\"type\": \"bar\", \"x\": [\"student_union_room\", \"loc_dean_med\", \"loc_cytologygeneticsinstitute\", \"loc_compcenter\", \"loc_cafeteria_new_building_3_etage\", \"loc_cafeteria_new_building_2_etage\", \"staff_trade_union_enter\", \"sched_nsu_commisariat_office\", \"student_union_event_guests\", \"loc_cafeteria_new_building_4_etage\"], \"xaxis\": \"x2\", \"y\": [45, 39, 36, 33, 28, 28, 28, 28, 27, 27], \"yaxis\": \"y2\"}, {\"type\": \"bar\", \"x\": [\"loc_atm\", \"math_center_def\", \"student_union_chorus\", \"loc_math_school\", \"smalltalk_skills\", \"studentorgs_define\", \"smalltalk_greetings\", \"loc_torgovy_center\", \"loc_dean_ef\", \"loc_dean_hi\"], \"xaxis\": \"x3\", \"y\": [3, 3, 3, 3, 2, 2, 2, 2, 2, 2], \"yaxis\": \"y3\"}],\n",
              "                        {\"annotations\": [{\"font\": {\"size\": 16}, \"showarrow\": false, \"text\": \"\\u0420\\u0430\\u0441\\u043f\\u0440\\u0435\\u0434\\u0435\\u043b\\u0435\\u043d\\u0438\\u0435 \\u043c\\u0438\\u043d\\u0438\\u043c\\u0430\\u043b\\u044c\\u043d\\u044b\\u0445 \\u0434\\u043b\\u0438\\u043d\", \"x\": 0.5, \"xanchor\": \"center\", \"xref\": \"paper\", \"y\": 1.0, \"yanchor\": \"bottom\", \"yref\": \"paper\"}, {\"font\": {\"size\": 16}, \"showarrow\": false, \"text\": \"Head\", \"x\": 0.225, \"xanchor\": \"center\", \"xref\": \"paper\", \"y\": 0.375, \"yanchor\": \"bottom\", \"yref\": \"paper\"}, {\"font\": {\"size\": 16}, \"showarrow\": false, \"text\": \"Tail\", \"x\": 0.775, \"xanchor\": \"center\", \"xref\": \"paper\", \"y\": 0.375, \"yanchor\": \"bottom\", \"yref\": \"paper\"}], \"showlegend\": false, \"template\": {\"data\": {\"bar\": [{\"error_x\": {\"color\": \"#2a3f5f\"}, \"error_y\": {\"color\": \"#2a3f5f\"}, \"marker\": {\"line\": {\"color\": \"#E5ECF6\", \"width\": 0.5}}, \"type\": \"bar\"}], \"barpolar\": [{\"marker\": {\"line\": {\"color\": \"#E5ECF6\", \"width\": 0.5}}, \"type\": \"barpolar\"}], \"carpet\": [{\"aaxis\": {\"endlinecolor\": \"#2a3f5f\", \"gridcolor\": \"white\", \"linecolor\": \"white\", \"minorgridcolor\": \"white\", \"startlinecolor\": \"#2a3f5f\"}, \"baxis\": {\"endlinecolor\": \"#2a3f5f\", \"gridcolor\": \"white\", \"linecolor\": \"white\", \"minorgridcolor\": \"white\", \"startlinecolor\": \"#2a3f5f\"}, \"type\": \"carpet\"}], \"choropleth\": [{\"colorbar\": {\"outlinewidth\": 0, \"ticks\": \"\"}, \"type\": \"choropleth\"}], \"contour\": [{\"colorbar\": {\"outlinewidth\": 0, \"ticks\": \"\"}, \"colorscale\": [[0.0, \"#0d0887\"], [0.1111111111111111, \"#46039f\"], [0.2222222222222222, \"#7201a8\"], [0.3333333333333333, \"#9c179e\"], [0.4444444444444444, \"#bd3786\"], [0.5555555555555556, \"#d8576b\"], [0.6666666666666666, \"#ed7953\"], [0.7777777777777778, \"#fb9f3a\"], [0.8888888888888888, \"#fdca26\"], [1.0, \"#f0f921\"]], \"type\": \"contour\"}], \"contourcarpet\": [{\"colorbar\": {\"outlinewidth\": 0, \"ticks\": \"\"}, \"type\": \"contourcarpet\"}], \"heatmap\": [{\"colorbar\": {\"outlinewidth\": 0, \"ticks\": \"\"}, \"colorscale\": [[0.0, \"#0d0887\"], [0.1111111111111111, \"#46039f\"], [0.2222222222222222, \"#7201a8\"], [0.3333333333333333, \"#9c179e\"], [0.4444444444444444, \"#bd3786\"], [0.5555555555555556, \"#d8576b\"], [0.6666666666666666, \"#ed7953\"], [0.7777777777777778, \"#fb9f3a\"], [0.8888888888888888, \"#fdca26\"], [1.0, \"#f0f921\"]], \"type\": \"heatmap\"}], \"heatmapgl\": [{\"colorbar\": {\"outlinewidth\": 0, \"ticks\": \"\"}, \"colorscale\": [[0.0, \"#0d0887\"], [0.1111111111111111, \"#46039f\"], [0.2222222222222222, \"#7201a8\"], [0.3333333333333333, \"#9c179e\"], [0.4444444444444444, \"#bd3786\"], [0.5555555555555556, \"#d8576b\"], [0.6666666666666666, \"#ed7953\"], [0.7777777777777778, \"#fb9f3a\"], [0.8888888888888888, \"#fdca26\"], [1.0, \"#f0f921\"]], \"type\": \"heatmapgl\"}], \"histogram\": [{\"marker\": {\"colorbar\": {\"outlinewidth\": 0, \"ticks\": \"\"}}, \"type\": \"histogram\"}], \"histogram2d\": [{\"colorbar\": {\"outlinewidth\": 0, \"ticks\": \"\"}, \"colorscale\": [[0.0, \"#0d0887\"], [0.1111111111111111, \"#46039f\"], [0.2222222222222222, \"#7201a8\"], [0.3333333333333333, \"#9c179e\"], [0.4444444444444444, \"#bd3786\"], [0.5555555555555556, \"#d8576b\"], [0.6666666666666666, \"#ed7953\"], [0.7777777777777778, \"#fb9f3a\"], [0.8888888888888888, \"#fdca26\"], [1.0, \"#f0f921\"]], \"type\": \"histogram2d\"}], \"histogram2dcontour\": [{\"colorbar\": {\"outlinewidth\": 0, \"ticks\": \"\"}, \"colorscale\": [[0.0, \"#0d0887\"], [0.1111111111111111, \"#46039f\"], [0.2222222222222222, \"#7201a8\"], [0.3333333333333333, \"#9c179e\"], [0.4444444444444444, \"#bd3786\"], [0.5555555555555556, \"#d8576b\"], [0.6666666666666666, \"#ed7953\"], [0.7777777777777778, \"#fb9f3a\"], [0.8888888888888888, \"#fdca26\"], [1.0, \"#f0f921\"]], \"type\": \"histogram2dcontour\"}], \"mesh3d\": [{\"colorbar\": {\"outlinewidth\": 0, \"ticks\": \"\"}, \"type\": \"mesh3d\"}], \"parcoords\": [{\"line\": {\"colorbar\": {\"outlinewidth\": 0, \"ticks\": \"\"}}, \"type\": \"parcoords\"}], \"pie\": [{\"automargin\": true, \"type\": \"pie\"}], \"scatter\": [{\"marker\": {\"colorbar\": {\"outlinewidth\": 0, \"ticks\": \"\"}}, \"type\": \"scatter\"}], \"scatter3d\": [{\"line\": {\"colorbar\": {\"outlinewidth\": 0, \"ticks\": \"\"}}, \"marker\": {\"colorbar\": {\"outlinewidth\": 0, \"ticks\": \"\"}}, \"type\": \"scatter3d\"}], \"scattercarpet\": [{\"marker\": {\"colorbar\": {\"outlinewidth\": 0, \"ticks\": \"\"}}, \"type\": \"scattercarpet\"}], \"scattergeo\": [{\"marker\": {\"colorbar\": {\"outlinewidth\": 0, \"ticks\": \"\"}}, \"type\": \"scattergeo\"}], \"scattergl\": [{\"marker\": {\"colorbar\": {\"outlinewidth\": 0, \"ticks\": \"\"}}, \"type\": \"scattergl\"}], \"scattermapbox\": [{\"marker\": {\"colorbar\": {\"outlinewidth\": 0, \"ticks\": \"\"}}, \"type\": \"scattermapbox\"}], \"scatterpolar\": [{\"marker\": {\"colorbar\": {\"outlinewidth\": 0, \"ticks\": \"\"}}, \"type\": \"scatterpolar\"}], \"scatterpolargl\": [{\"marker\": {\"colorbar\": {\"outlinewidth\": 0, \"ticks\": \"\"}}, \"type\": \"scatterpolargl\"}], \"scatterternary\": [{\"marker\": {\"colorbar\": {\"outlinewidth\": 0, \"ticks\": \"\"}}, \"type\": \"scatterternary\"}], \"surface\": [{\"colorbar\": {\"outlinewidth\": 0, \"ticks\": \"\"}, \"colorscale\": [[0.0, \"#0d0887\"], [0.1111111111111111, \"#46039f\"], [0.2222222222222222, \"#7201a8\"], [0.3333333333333333, \"#9c179e\"], [0.4444444444444444, \"#bd3786\"], [0.5555555555555556, \"#d8576b\"], [0.6666666666666666, \"#ed7953\"], [0.7777777777777778, \"#fb9f3a\"], [0.8888888888888888, \"#fdca26\"], [1.0, \"#f0f921\"]], \"type\": \"surface\"}], \"table\": [{\"cells\": {\"fill\": {\"color\": \"#EBF0F8\"}, \"line\": {\"color\": \"white\"}}, \"header\": {\"fill\": {\"color\": \"#C8D4E3\"}, \"line\": {\"color\": \"white\"}}, \"type\": \"table\"}]}, \"layout\": {\"annotationdefaults\": {\"arrowcolor\": \"#2a3f5f\", \"arrowhead\": 0, \"arrowwidth\": 1}, \"coloraxis\": {\"colorbar\": {\"outlinewidth\": 0, \"ticks\": \"\"}}, \"colorscale\": {\"diverging\": [[0, \"#8e0152\"], [0.1, \"#c51b7d\"], [0.2, \"#de77ae\"], [0.3, \"#f1b6da\"], [0.4, \"#fde0ef\"], [0.5, \"#f7f7f7\"], [0.6, \"#e6f5d0\"], [0.7, \"#b8e186\"], [0.8, \"#7fbc41\"], [0.9, \"#4d9221\"], [1, \"#276419\"]], \"sequential\": [[0.0, \"#0d0887\"], [0.1111111111111111, \"#46039f\"], [0.2222222222222222, \"#7201a8\"], [0.3333333333333333, \"#9c179e\"], [0.4444444444444444, \"#bd3786\"], [0.5555555555555556, \"#d8576b\"], [0.6666666666666666, \"#ed7953\"], [0.7777777777777778, \"#fb9f3a\"], [0.8888888888888888, \"#fdca26\"], [1.0, \"#f0f921\"]], \"sequentialminus\": [[0.0, \"#0d0887\"], [0.1111111111111111, \"#46039f\"], [0.2222222222222222, \"#7201a8\"], [0.3333333333333333, \"#9c179e\"], [0.4444444444444444, \"#bd3786\"], [0.5555555555555556, \"#d8576b\"], [0.6666666666666666, \"#ed7953\"], [0.7777777777777778, \"#fb9f3a\"], [0.8888888888888888, \"#fdca26\"], [1.0, \"#f0f921\"]]}, \"colorway\": [\"#636efa\", \"#EF553B\", \"#00cc96\", \"#ab63fa\", \"#FFA15A\", \"#19d3f3\", \"#FF6692\", \"#B6E880\", \"#FF97FF\", \"#FECB52\"], \"font\": {\"color\": \"#2a3f5f\"}, \"geo\": {\"bgcolor\": \"white\", \"lakecolor\": \"white\", \"landcolor\": \"#E5ECF6\", \"showlakes\": true, \"showland\": true, \"subunitcolor\": \"white\"}, \"hoverlabel\": {\"align\": \"left\"}, \"hovermode\": \"closest\", \"mapbox\": {\"style\": \"light\"}, \"paper_bgcolor\": \"white\", \"plot_bgcolor\": \"#E5ECF6\", \"polar\": {\"angularaxis\": {\"gridcolor\": \"white\", \"linecolor\": \"white\", \"ticks\": \"\"}, \"bgcolor\": \"#E5ECF6\", \"radialaxis\": {\"gridcolor\": \"white\", \"linecolor\": \"white\", \"ticks\": \"\"}}, \"scene\": {\"xaxis\": {\"backgroundcolor\": \"#E5ECF6\", \"gridcolor\": \"white\", \"gridwidth\": 2, \"linecolor\": \"white\", \"showbackground\": true, \"ticks\": \"\", \"zerolinecolor\": \"white\"}, \"yaxis\": {\"backgroundcolor\": \"#E5ECF6\", \"gridcolor\": \"white\", \"gridwidth\": 2, \"linecolor\": \"white\", \"showbackground\": true, \"ticks\": \"\", \"zerolinecolor\": \"white\"}, \"zaxis\": {\"backgroundcolor\": \"#E5ECF6\", \"gridcolor\": \"white\", \"gridwidth\": 2, \"linecolor\": \"white\", \"showbackground\": true, \"ticks\": \"\", \"zerolinecolor\": \"white\"}}, \"shapedefaults\": {\"line\": {\"color\": \"#2a3f5f\"}}, \"ternary\": {\"aaxis\": {\"gridcolor\": \"white\", \"linecolor\": \"white\", \"ticks\": \"\"}, \"baxis\": {\"gridcolor\": \"white\", \"linecolor\": \"white\", \"ticks\": \"\"}, \"bgcolor\": \"#E5ECF6\", \"caxis\": {\"gridcolor\": \"white\", \"linecolor\": \"white\", \"ticks\": \"\"}}, \"title\": {\"x\": 0.05}, \"xaxis\": {\"automargin\": true, \"gridcolor\": \"white\", \"linecolor\": \"white\", \"ticks\": \"\", \"title\": {\"standoff\": 15}, \"zerolinecolor\": \"white\", \"zerolinewidth\": 2}, \"yaxis\": {\"automargin\": true, \"gridcolor\": \"white\", \"linecolor\": \"white\", \"ticks\": \"\", \"title\": {\"standoff\": 15}, \"zerolinecolor\": \"white\", \"zerolinewidth\": 2}}}, \"xaxis\": {\"anchor\": \"y\", \"domain\": [0.0, 1.0]}, \"xaxis2\": {\"anchor\": \"y2\", \"domain\": [0.0, 0.45], \"tickangle\": -45}, \"xaxis3\": {\"anchor\": \"y3\", \"domain\": [0.55, 1.0], \"tickangle\": -45}, \"yaxis\": {\"anchor\": \"x\", \"domain\": [0.625, 1.0]}, \"yaxis2\": {\"anchor\": \"x2\", \"domain\": [0.0, 0.375]}, \"yaxis3\": {\"anchor\": \"x3\", \"domain\": [0.0, 0.375]}},\n",
              "                        {\"responsive\": true}\n",
              "                    ).then(function(){\n",
              "                            \n",
              "var gd = document.getElementById('6cb39663-911b-449a-b384-38f674286aaf');\n",
              "var x = new MutationObserver(function (mutations, observer) {{\n",
              "        var display = window.getComputedStyle(gd).display;\n",
              "        if (!display || display === 'none') {{\n",
              "            console.log([gd, 'removed!']);\n",
              "            Plotly.purge(gd);\n",
              "            observer.disconnect();\n",
              "        }}\n",
              "}});\n",
              "\n",
              "// Listen for the removal of the full notebook cells\n",
              "var notebookContainer = gd.closest('#notebook-container');\n",
              "if (notebookContainer) {{\n",
              "    x.observe(notebookContainer, {childList: true});\n",
              "}}\n",
              "\n",
              "// Listen for the clearing of the current output cell\n",
              "var outputEl = gd.closest('.output');\n",
              "if (outputEl) {{\n",
              "    x.observe(outputEl, {childList: true});\n",
              "}}\n",
              "\n",
              "                        })\n",
              "                };\n",
              "                \n",
              "            </script>\n",
              "        </div>\n",
              "</body>\n",
              "</html>"
            ]
          },
          "metadata": {}
        }
      ]
    },
    {
      "cell_type": "markdown",
      "metadata": {
        "id": "U8hm24SFt-XC"
      },
      "source": [
        "2.4.2 Распределение максимальных длин"
      ]
    },
    {
      "cell_type": "code",
      "metadata": {
        "id": "iuox0iLst8MG"
      },
      "source": [
        "# Требуется аналогично приведенному выше варианту вывести график распределения максимальных длин\n",
        "\n",
        "#max_len_distribution =  Your code"
      ],
      "execution_count": null,
      "outputs": []
    },
    {
      "cell_type": "code",
      "metadata": {
        "id": "1MysE966WyZr"
      },
      "source": [
        "max_len_distribution = (\n",
        "    train_data\n",
        "    .assign(text_len = train_data.text.str.len())\n",
        "    .groupby('intent', as_index=False)\n",
        "    .text_len\n",
        "    .agg(max)\n",
        "    .sort_values(by='text_len', ascending=False)\n",
        "    .merge(labels_descriptions, on='intent', how='left')\n",
        "    .rename(columns={'text_len': 'max_text_len'})\n",
        ")"
      ],
      "execution_count": null,
      "outputs": []
    },
    {
      "cell_type": "code",
      "metadata": {
        "colab": {
          "base_uri": "https://localhost:8080/",
          "height": 542
        },
        "id": "1533DXdxXAqN",
        "outputId": "500b035a-fe57-4548-c418-ec3e45784e42"
      },
      "source": [
        "plot_with_subplots(max_len_distribution, 'max_text_len', 'intent', 'Распределение максимальных длин')"
      ],
      "execution_count": null,
      "outputs": [
        {
          "output_type": "display_data",
          "data": {
            "text/html": [
              "<html>\n",
              "<head><meta charset=\"utf-8\" /></head>\n",
              "<body>\n",
              "    <div>\n",
              "            <script src=\"https://cdnjs.cloudflare.com/ajax/libs/mathjax/2.7.5/MathJax.js?config=TeX-AMS-MML_SVG\"></script><script type=\"text/javascript\">if (window.MathJax) {MathJax.Hub.Config({SVG: {font: \"STIX-Web\"}});}</script>\n",
              "                <script type=\"text/javascript\">window.PlotlyConfig = {MathJaxConfig: 'local'};</script>\n",
              "        <script src=\"https://cdn.plot.ly/plotly-latest.min.js\"></script>    \n",
              "            <div id=\"f741f1ae-772f-487d-87cb-4acfa9b6c8f3\" class=\"plotly-graph-div\" style=\"height:525px; width:100%;\"></div>\n",
              "            <script type=\"text/javascript\">\n",
              "                \n",
              "                    window.PLOTLYENV=window.PLOTLYENV || {};\n",
              "                    \n",
              "                if (document.getElementById(\"f741f1ae-772f-487d-87cb-4acfa9b6c8f3\")) {\n",
              "                    Plotly.newPlot(\n",
              "                        'f741f1ae-772f-487d-87cb-4acfa9b6c8f3',\n",
              "                        [{\"type\": \"bar\", \"x\": [0, 1, 2, 3, 4, 5, 6, 7, 8, 9, 10, 11, 12, 13, 14, 15, 16, 17, 18, 19, 20, 21, 22, 23, 24, 25, 26, 27, 28, 29, 30, 31, 32, 33, 34, 35, 36, 37, 38, 39, 40, 41, 42, 43, 44, 45, 46, 47, 48, 49, 50, 51, 52, 53, 54, 55, 56, 57, 58, 59, 60, 61, 62, 63, 64, 65, 66, 67, 68, 69, 70, 71, 72, 73, 74, 75, 76, 77, 78, 79, 80, 81, 82, 83, 84, 85, 86, 87, 88, 89, 90, 91, 92, 93, 94, 95, 96, 97, 98, 99, 100, 101, 102, 103, 104, 105, 106, 107, 108, 109, 110, 111, 112, 113, 114, 115, 116, 117, 118, 119, 120, 121, 122, 123, 124, 125, 126, 127, 128, 129, 130, 131, 132, 133, 134, 135, 136, 137, 138, 139, 140, 141], \"xaxis\": \"x\", \"y\": [134, 122, 105, 93, 93, 90, 88, 86, 83, 79, 79, 78, 77, 76, 76, 75, 75, 72, 72, 71, 71, 69, 68, 66, 66, 66, 66, 63, 63, 62, 62, 62, 61, 60, 60, 60, 60, 59, 57, 57, 56, 56, 56, 56, 55, 54, 54, 54, 53, 53, 51, 50, 50, 50, 50, 50, 49, 49, 49, 48, 48, 48, 47, 47, 47, 46, 46, 45, 45, 45, 45, 45, 44, 44, 43, 43, 43, 43, 43, 42, 42, 42, 42, 42, 41, 41, 41, 41, 40, 40, 40, 39, 39, 39, 39, 39, 39, 39, 39, 39, 38, 38, 38, 38, 38, 38, 37, 37, 37, 37, 37, 37, 36, 36, 35, 35, 35, 34, 34, 34, 34, 33, 33, 33, 33, 33, 32, 32, 30, 30, 30, 30, 29, 29, 29, 28, 28, 27, 27, 27, 23, 21], \"yaxis\": \"y\"}, {\"type\": \"bar\", \"x\": [\"loc_cafeteria_new_building_4_etage\", \"student_union_equipment\", \"loc_cafeteria_new_building_2_etage\", \"loc_compcenter\", \"loc_dean_mmf\", \"loc_dean_med\", \"loc_cafeteria_new_building_1_etage\", \"stat_numb_of_academics\", \"loc_cafeteria_new_building_3_etage\", \"student_union_room\"], \"xaxis\": \"x2\", \"y\": [134, 122, 105, 93, 93, 90, 88, 86, 83, 79], \"yaxis\": \"y2\"}, {\"type\": \"bar\", \"x\": [\"smalltalk_creator\", \"loc_dorm\", \"events_define\", \"loc_atm\", \"volunteer_become\", \"loc_pharm\", \"smalltalk_talk\", \"smalltalk_abuse\", \"loc_print_docs\", \"loc_nsu_cafeteria\"], \"xaxis\": \"x3\", \"y\": [29, 29, 29, 28, 28, 27, 27, 27, 23, 21], \"yaxis\": \"y3\"}],\n",
              "                        {\"annotations\": [{\"font\": {\"size\": 16}, \"showarrow\": false, \"text\": \"\\u0420\\u0430\\u0441\\u043f\\u0440\\u0435\\u0434\\u0435\\u043b\\u0435\\u043d\\u0438\\u0435 \\u043c\\u0430\\u043a\\u0441\\u0438\\u043c\\u0430\\u043b\\u044c\\u043d\\u044b\\u0445 \\u0434\\u043b\\u0438\\u043d\", \"x\": 0.5, \"xanchor\": \"center\", \"xref\": \"paper\", \"y\": 1.0, \"yanchor\": \"bottom\", \"yref\": \"paper\"}, {\"font\": {\"size\": 16}, \"showarrow\": false, \"text\": \"Head\", \"x\": 0.225, \"xanchor\": \"center\", \"xref\": \"paper\", \"y\": 0.375, \"yanchor\": \"bottom\", \"yref\": \"paper\"}, {\"font\": {\"size\": 16}, \"showarrow\": false, \"text\": \"Tail\", \"x\": 0.775, \"xanchor\": \"center\", \"xref\": \"paper\", \"y\": 0.375, \"yanchor\": \"bottom\", \"yref\": \"paper\"}], \"showlegend\": false, \"template\": {\"data\": {\"bar\": [{\"error_x\": {\"color\": \"#2a3f5f\"}, \"error_y\": {\"color\": \"#2a3f5f\"}, \"marker\": {\"line\": {\"color\": \"#E5ECF6\", \"width\": 0.5}}, \"type\": \"bar\"}], \"barpolar\": [{\"marker\": {\"line\": {\"color\": \"#E5ECF6\", \"width\": 0.5}}, \"type\": \"barpolar\"}], \"carpet\": [{\"aaxis\": {\"endlinecolor\": \"#2a3f5f\", \"gridcolor\": \"white\", \"linecolor\": \"white\", \"minorgridcolor\": \"white\", \"startlinecolor\": \"#2a3f5f\"}, \"baxis\": {\"endlinecolor\": \"#2a3f5f\", \"gridcolor\": \"white\", \"linecolor\": \"white\", \"minorgridcolor\": \"white\", \"startlinecolor\": \"#2a3f5f\"}, \"type\": \"carpet\"}], \"choropleth\": [{\"colorbar\": {\"outlinewidth\": 0, \"ticks\": \"\"}, \"type\": \"choropleth\"}], \"contour\": [{\"colorbar\": {\"outlinewidth\": 0, \"ticks\": \"\"}, \"colorscale\": [[0.0, \"#0d0887\"], [0.1111111111111111, \"#46039f\"], [0.2222222222222222, \"#7201a8\"], [0.3333333333333333, \"#9c179e\"], [0.4444444444444444, \"#bd3786\"], [0.5555555555555556, \"#d8576b\"], [0.6666666666666666, \"#ed7953\"], [0.7777777777777778, \"#fb9f3a\"], [0.8888888888888888, \"#fdca26\"], [1.0, \"#f0f921\"]], \"type\": \"contour\"}], \"contourcarpet\": [{\"colorbar\": {\"outlinewidth\": 0, \"ticks\": \"\"}, \"type\": \"contourcarpet\"}], \"heatmap\": [{\"colorbar\": {\"outlinewidth\": 0, \"ticks\": \"\"}, \"colorscale\": [[0.0, \"#0d0887\"], [0.1111111111111111, \"#46039f\"], [0.2222222222222222, \"#7201a8\"], [0.3333333333333333, \"#9c179e\"], [0.4444444444444444, \"#bd3786\"], [0.5555555555555556, \"#d8576b\"], [0.6666666666666666, \"#ed7953\"], [0.7777777777777778, \"#fb9f3a\"], [0.8888888888888888, \"#fdca26\"], [1.0, \"#f0f921\"]], \"type\": \"heatmap\"}], \"heatmapgl\": [{\"colorbar\": {\"outlinewidth\": 0, \"ticks\": \"\"}, \"colorscale\": [[0.0, \"#0d0887\"], [0.1111111111111111, \"#46039f\"], [0.2222222222222222, \"#7201a8\"], [0.3333333333333333, \"#9c179e\"], [0.4444444444444444, \"#bd3786\"], [0.5555555555555556, \"#d8576b\"], [0.6666666666666666, \"#ed7953\"], [0.7777777777777778, \"#fb9f3a\"], [0.8888888888888888, \"#fdca26\"], [1.0, \"#f0f921\"]], \"type\": \"heatmapgl\"}], \"histogram\": [{\"marker\": {\"colorbar\": {\"outlinewidth\": 0, \"ticks\": \"\"}}, \"type\": \"histogram\"}], \"histogram2d\": [{\"colorbar\": {\"outlinewidth\": 0, \"ticks\": \"\"}, \"colorscale\": [[0.0, \"#0d0887\"], [0.1111111111111111, \"#46039f\"], [0.2222222222222222, \"#7201a8\"], [0.3333333333333333, \"#9c179e\"], [0.4444444444444444, \"#bd3786\"], [0.5555555555555556, \"#d8576b\"], [0.6666666666666666, \"#ed7953\"], [0.7777777777777778, \"#fb9f3a\"], [0.8888888888888888, \"#fdca26\"], [1.0, \"#f0f921\"]], \"type\": \"histogram2d\"}], \"histogram2dcontour\": [{\"colorbar\": {\"outlinewidth\": 0, \"ticks\": \"\"}, \"colorscale\": [[0.0, \"#0d0887\"], [0.1111111111111111, \"#46039f\"], [0.2222222222222222, \"#7201a8\"], [0.3333333333333333, \"#9c179e\"], [0.4444444444444444, \"#bd3786\"], [0.5555555555555556, \"#d8576b\"], [0.6666666666666666, \"#ed7953\"], [0.7777777777777778, \"#fb9f3a\"], [0.8888888888888888, \"#fdca26\"], [1.0, \"#f0f921\"]], \"type\": \"histogram2dcontour\"}], \"mesh3d\": [{\"colorbar\": {\"outlinewidth\": 0, \"ticks\": \"\"}, \"type\": \"mesh3d\"}], \"parcoords\": [{\"line\": {\"colorbar\": {\"outlinewidth\": 0, \"ticks\": \"\"}}, \"type\": \"parcoords\"}], \"pie\": [{\"automargin\": true, \"type\": \"pie\"}], \"scatter\": [{\"marker\": {\"colorbar\": {\"outlinewidth\": 0, \"ticks\": \"\"}}, \"type\": \"scatter\"}], \"scatter3d\": [{\"line\": {\"colorbar\": {\"outlinewidth\": 0, \"ticks\": \"\"}}, \"marker\": {\"colorbar\": {\"outlinewidth\": 0, \"ticks\": \"\"}}, \"type\": \"scatter3d\"}], \"scattercarpet\": [{\"marker\": {\"colorbar\": {\"outlinewidth\": 0, \"ticks\": \"\"}}, \"type\": \"scattercarpet\"}], \"scattergeo\": [{\"marker\": {\"colorbar\": {\"outlinewidth\": 0, \"ticks\": \"\"}}, \"type\": \"scattergeo\"}], \"scattergl\": [{\"marker\": {\"colorbar\": {\"outlinewidth\": 0, \"ticks\": \"\"}}, \"type\": \"scattergl\"}], \"scattermapbox\": [{\"marker\": {\"colorbar\": {\"outlinewidth\": 0, \"ticks\": \"\"}}, \"type\": \"scattermapbox\"}], \"scatterpolar\": [{\"marker\": {\"colorbar\": {\"outlinewidth\": 0, \"ticks\": \"\"}}, \"type\": \"scatterpolar\"}], \"scatterpolargl\": [{\"marker\": {\"colorbar\": {\"outlinewidth\": 0, \"ticks\": \"\"}}, \"type\": \"scatterpolargl\"}], \"scatterternary\": [{\"marker\": {\"colorbar\": {\"outlinewidth\": 0, \"ticks\": \"\"}}, \"type\": \"scatterternary\"}], \"surface\": [{\"colorbar\": {\"outlinewidth\": 0, \"ticks\": \"\"}, \"colorscale\": [[0.0, \"#0d0887\"], [0.1111111111111111, \"#46039f\"], [0.2222222222222222, \"#7201a8\"], [0.3333333333333333, \"#9c179e\"], [0.4444444444444444, \"#bd3786\"], [0.5555555555555556, \"#d8576b\"], [0.6666666666666666, \"#ed7953\"], [0.7777777777777778, \"#fb9f3a\"], [0.8888888888888888, \"#fdca26\"], [1.0, \"#f0f921\"]], \"type\": \"surface\"}], \"table\": [{\"cells\": {\"fill\": {\"color\": \"#EBF0F8\"}, \"line\": {\"color\": \"white\"}}, \"header\": {\"fill\": {\"color\": \"#C8D4E3\"}, \"line\": {\"color\": \"white\"}}, \"type\": \"table\"}]}, \"layout\": {\"annotationdefaults\": {\"arrowcolor\": \"#2a3f5f\", \"arrowhead\": 0, \"arrowwidth\": 1}, \"coloraxis\": {\"colorbar\": {\"outlinewidth\": 0, \"ticks\": \"\"}}, \"colorscale\": {\"diverging\": [[0, \"#8e0152\"], [0.1, \"#c51b7d\"], [0.2, \"#de77ae\"], [0.3, \"#f1b6da\"], [0.4, \"#fde0ef\"], [0.5, \"#f7f7f7\"], [0.6, \"#e6f5d0\"], [0.7, \"#b8e186\"], [0.8, \"#7fbc41\"], [0.9, \"#4d9221\"], [1, \"#276419\"]], \"sequential\": [[0.0, \"#0d0887\"], [0.1111111111111111, \"#46039f\"], [0.2222222222222222, \"#7201a8\"], [0.3333333333333333, \"#9c179e\"], [0.4444444444444444, \"#bd3786\"], [0.5555555555555556, \"#d8576b\"], [0.6666666666666666, \"#ed7953\"], [0.7777777777777778, \"#fb9f3a\"], [0.8888888888888888, \"#fdca26\"], [1.0, \"#f0f921\"]], \"sequentialminus\": [[0.0, \"#0d0887\"], [0.1111111111111111, \"#46039f\"], [0.2222222222222222, \"#7201a8\"], [0.3333333333333333, \"#9c179e\"], [0.4444444444444444, \"#bd3786\"], [0.5555555555555556, \"#d8576b\"], [0.6666666666666666, \"#ed7953\"], [0.7777777777777778, \"#fb9f3a\"], [0.8888888888888888, \"#fdca26\"], [1.0, \"#f0f921\"]]}, \"colorway\": [\"#636efa\", \"#EF553B\", \"#00cc96\", \"#ab63fa\", \"#FFA15A\", \"#19d3f3\", \"#FF6692\", \"#B6E880\", \"#FF97FF\", \"#FECB52\"], \"font\": {\"color\": \"#2a3f5f\"}, \"geo\": {\"bgcolor\": \"white\", \"lakecolor\": \"white\", \"landcolor\": \"#E5ECF6\", \"showlakes\": true, \"showland\": true, \"subunitcolor\": \"white\"}, \"hoverlabel\": {\"align\": \"left\"}, \"hovermode\": \"closest\", \"mapbox\": {\"style\": \"light\"}, \"paper_bgcolor\": \"white\", \"plot_bgcolor\": \"#E5ECF6\", \"polar\": {\"angularaxis\": {\"gridcolor\": \"white\", \"linecolor\": \"white\", \"ticks\": \"\"}, \"bgcolor\": \"#E5ECF6\", \"radialaxis\": {\"gridcolor\": \"white\", \"linecolor\": \"white\", \"ticks\": \"\"}}, \"scene\": {\"xaxis\": {\"backgroundcolor\": \"#E5ECF6\", \"gridcolor\": \"white\", \"gridwidth\": 2, \"linecolor\": \"white\", \"showbackground\": true, \"ticks\": \"\", \"zerolinecolor\": \"white\"}, \"yaxis\": {\"backgroundcolor\": \"#E5ECF6\", \"gridcolor\": \"white\", \"gridwidth\": 2, \"linecolor\": \"white\", \"showbackground\": true, \"ticks\": \"\", \"zerolinecolor\": \"white\"}, \"zaxis\": {\"backgroundcolor\": \"#E5ECF6\", \"gridcolor\": \"white\", \"gridwidth\": 2, \"linecolor\": \"white\", \"showbackground\": true, \"ticks\": \"\", \"zerolinecolor\": \"white\"}}, \"shapedefaults\": {\"line\": {\"color\": \"#2a3f5f\"}}, \"ternary\": {\"aaxis\": {\"gridcolor\": \"white\", \"linecolor\": \"white\", \"ticks\": \"\"}, \"baxis\": {\"gridcolor\": \"white\", \"linecolor\": \"white\", \"ticks\": \"\"}, \"bgcolor\": \"#E5ECF6\", \"caxis\": {\"gridcolor\": \"white\", \"linecolor\": \"white\", \"ticks\": \"\"}}, \"title\": {\"x\": 0.05}, \"xaxis\": {\"automargin\": true, \"gridcolor\": \"white\", \"linecolor\": \"white\", \"ticks\": \"\", \"title\": {\"standoff\": 15}, \"zerolinecolor\": \"white\", \"zerolinewidth\": 2}, \"yaxis\": {\"automargin\": true, \"gridcolor\": \"white\", \"linecolor\": \"white\", \"ticks\": \"\", \"title\": {\"standoff\": 15}, \"zerolinecolor\": \"white\", \"zerolinewidth\": 2}}}, \"xaxis\": {\"anchor\": \"y\", \"domain\": [0.0, 1.0]}, \"xaxis2\": {\"anchor\": \"y2\", \"domain\": [0.0, 0.45], \"tickangle\": -45}, \"xaxis3\": {\"anchor\": \"y3\", \"domain\": [0.55, 1.0], \"tickangle\": -45}, \"yaxis\": {\"anchor\": \"x\", \"domain\": [0.625, 1.0]}, \"yaxis2\": {\"anchor\": \"x2\", \"domain\": [0.0, 0.375]}, \"yaxis3\": {\"anchor\": \"x3\", \"domain\": [0.0, 0.375]}},\n",
              "                        {\"responsive\": true}\n",
              "                    ).then(function(){\n",
              "                            \n",
              "var gd = document.getElementById('f741f1ae-772f-487d-87cb-4acfa9b6c8f3');\n",
              "var x = new MutationObserver(function (mutations, observer) {{\n",
              "        var display = window.getComputedStyle(gd).display;\n",
              "        if (!display || display === 'none') {{\n",
              "            console.log([gd, 'removed!']);\n",
              "            Plotly.purge(gd);\n",
              "            observer.disconnect();\n",
              "        }}\n",
              "}});\n",
              "\n",
              "// Listen for the removal of the full notebook cells\n",
              "var notebookContainer = gd.closest('#notebook-container');\n",
              "if (notebookContainer) {{\n",
              "    x.observe(notebookContainer, {childList: true});\n",
              "}}\n",
              "\n",
              "// Listen for the clearing of the current output cell\n",
              "var outputEl = gd.closest('.output');\n",
              "if (outputEl) {{\n",
              "    x.observe(outputEl, {childList: true});\n",
              "}}\n",
              "\n",
              "                        })\n",
              "                };\n",
              "                \n",
              "            </script>\n",
              "        </div>\n",
              "</body>\n",
              "</html>"
            ]
          },
          "metadata": {}
        }
      ]
    },
    {
      "cell_type": "markdown",
      "metadata": {
        "id": "lcZ0EOtzuNc7"
      },
      "source": [
        "2.4.3 Распределение средних длин"
      ]
    },
    {
      "cell_type": "code",
      "metadata": {
        "id": "_XleSTd9uRdj"
      },
      "source": [
        "# Требуется аналогично приведенному выше варианту вывести график распределения средних длин\n",
        "\n",
        "#mean_len_distribution =  Your code"
      ],
      "execution_count": null,
      "outputs": []
    },
    {
      "cell_type": "code",
      "metadata": {
        "id": "2WEwoheVXgAi"
      },
      "source": [
        "import numpy as np\n",
        "\n",
        "mean_len_distribution = (\n",
        "    train_data\n",
        "    .assign(text_len = train_data.text.str.len())\n",
        "    .groupby('intent', as_index=False)\n",
        "    .text_len\n",
        "    .agg(np.mean)\n",
        "    .sort_values(by='text_len', ascending=False)\n",
        "    .merge(labels_descriptions, on='intent', how='left')\n",
        "    .rename(columns={'text_len': 'mean_text_len'})\n",
        ")"
      ],
      "execution_count": null,
      "outputs": []
    },
    {
      "cell_type": "code",
      "metadata": {
        "colab": {
          "base_uri": "https://localhost:8080/",
          "height": 542
        },
        "id": "mjV1QBmnbVbr",
        "outputId": "fa9fa9b9-da78-4c35-e2fb-6ed2e975575e"
      },
      "source": [
        "plot_with_subplots(mean_len_distribution, 'mean_text_len', 'intent', 'Распределение средних длин')"
      ],
      "execution_count": null,
      "outputs": [
        {
          "output_type": "display_data",
          "data": {
            "text/html": [
              "<html>\n",
              "<head><meta charset=\"utf-8\" /></head>\n",
              "<body>\n",
              "    <div>\n",
              "            <script src=\"https://cdnjs.cloudflare.com/ajax/libs/mathjax/2.7.5/MathJax.js?config=TeX-AMS-MML_SVG\"></script><script type=\"text/javascript\">if (window.MathJax) {MathJax.Hub.Config({SVG: {font: \"STIX-Web\"}});}</script>\n",
              "                <script type=\"text/javascript\">window.PlotlyConfig = {MathJaxConfig: 'local'};</script>\n",
              "        <script src=\"https://cdn.plot.ly/plotly-latest.min.js\"></script>    \n",
              "            <div id=\"aa65b2d0-92e3-4f2c-a69a-336d274a7285\" class=\"plotly-graph-div\" style=\"height:525px; width:100%;\"></div>\n",
              "            <script type=\"text/javascript\">\n",
              "                \n",
              "                    window.PLOTLYENV=window.PLOTLYENV || {};\n",
              "                    \n",
              "                if (document.getElementById(\"aa65b2d0-92e3-4f2c-a69a-336d274a7285\")) {\n",
              "                    Plotly.newPlot(\n",
              "                        'aa65b2d0-92e3-4f2c-a69a-336d274a7285',\n",
              "                        [{\"type\": \"bar\", \"x\": [0, 1, 2, 3, 4, 5, 6, 7, 8, 9, 10, 11, 12, 13, 14, 15, 16, 17, 18, 19, 20, 21, 22, 23, 24, 25, 26, 27, 28, 29, 30, 31, 32, 33, 34, 35, 36, 37, 38, 39, 40, 41, 42, 43, 44, 45, 46, 47, 48, 49, 50, 51, 52, 53, 54, 55, 56, 57, 58, 59, 60, 61, 62, 63, 64, 65, 66, 67, 68, 69, 70, 71, 72, 73, 74, 75, 76, 77, 78, 79, 80, 81, 82, 83, 84, 85, 86, 87, 88, 89, 90, 91, 92, 93, 94, 95, 96, 97, 98, 99, 100, 101, 102, 103, 104, 105, 106, 107, 108, 109, 110, 111, 112, 113, 114, 115, 116, 117, 118, 119, 120, 121, 122, 123, 124, 125, 126, 127, 128, 129, 130, 131, 132, 133, 134, 135, 136, 137, 138, 139, 140, 141], \"xaxis\": \"x\", \"y\": [56.588235294117645, 53.65882352941176, 52.2, 51.06521739130435, 49.35294117647059, 48.93939393939394, 47.22627737226277, 46.48979591836735, 46.24475524475525, 45.696969696969695, 45.44642857142857, 45.22222222222222, 44.908396946564885, 44.330049261083744, 41.735849056603776, 41.02777777777778, 40.473333333333336, 40.0, 39.52040816326531, 39.46666666666667, 39.08536585365854, 39.02197802197802, 38.54347826086956, 38.42857142857143, 38.09090909090909, 37.97959183673469, 37.90909090909091, 37.696969696969695, 37.18, 36.91304347826087, 36.05, 35.61538461538461, 35.177304964539005, 35.1764705882353, 35.041666666666664, 34.8936170212766, 34.765957446808514, 34.76119402985075, 34.61616161616162, 34.5959595959596, 34.166666666666664, 33.90625, 33.53846153846154, 33.52127659574468, 33.45454545454545, 32.642857142857146, 32.58620689655172, 32.3921568627451, 31.93617021276596, 31.416666666666668, 31.25531914893617, 31.22, 31.1, 30.894039735099337, 30.481060606060606, 30.38317757009346, 30.350617283950616, 30.239583333333332, 30.159817351598175, 29.66898954703833, 29.441176470588236, 29.075, 28.642857142857142, 28.568807339449542, 28.51794871794872, 28.346153846153847, 28.274725274725274, 28.214285714285715, 28.091463414634145, 28.069651741293534, 28.06451612903226, 28.06451612903226, 27.89156626506024, 27.77747747747748, 27.625, 27.512396694214875, 27.5, 27.1875, 27.137440758293838, 27.10810810810811, 26.904761904761905, 26.887417218543046, 26.78048780487805, 26.451612903225808, 26.170212765957448, 26.145833333333332, 26.12727272727273, 26.0, 25.819188191881917, 25.77659574468085, 25.708333333333332, 25.64814814814815, 25.433333333333334, 25.35135135135135, 25.24, 25.076923076923077, 24.83116883116883, 24.815384615384616, 24.37704918032787, 24.365853658536587, 23.976190476190474, 23.944444444444443, 23.51851851851852, 23.38095238095238, 23.155555555555555, 23.116402116402117, 23.01818181818182, 22.925925925925927, 22.746478873239436, 22.55, 22.288888888888888, 21.84931506849315, 21.545454545454547, 21.419354838709676, 21.369230769230768, 21.23404255319149, 21.08695652173913, 21.011904761904763, 20.95, 20.939393939393938, 20.856540084388186, 20.84375, 20.785714285714285, 20.52127659574468, 20.50561797752809, 20.16, 19.893203883495147, 19.68354430379747, 19.56756756756757, 19.360655737704917, 19.041666666666668, 18.89189189189189, 18.414141414141415, 18.210526315789473, 17.97752808988764, 17.87142857142857, 17.803030303030305, 16.142857142857142, 15.782608695652174, 15.70414201183432, 13.791666666666666, 12.115942028985508], \"yaxis\": \"y\"}, {\"type\": \"bar\", \"x\": [\"student_union_room\", \"student_union_equipment\", \"dormcard_lost\", \"loc_dean_med\", \"student_union_print\", \"loc_compcenter\", \"loc_cafeteria_new_building_4_etage\", \"sched_nsu_commisariat_office\", \"loc_cafeteria_new_building_1_etage\", \"loc_cytologygeneticsinstitute\"], \"xaxis\": \"x2\", \"y\": [56.588235294117645, 53.65882352941176, 52.2, 51.06521739130435, 49.35294117647059, 48.93939393939394, 47.22627737226277, 46.48979591836735, 46.24475524475525, 45.696969696969695], \"yaxis\": \"y2\"}, {\"type\": \"bar\", \"x\": [\"loc_cashbox\", \"find_friends\", \"loc_pharm\", \"loc_dorm\", \"loc_torgovy_center\", \"loc_print_docs\", \"smalltalk_talk\", \"loc_atm\", \"loc_nsu_cafeteria\", \"smalltalk_greetings\"], \"xaxis\": \"x3\", \"y\": [18.414141414141415, 18.210526315789473, 17.97752808988764, 17.87142857142857, 17.803030303030305, 16.142857142857142, 15.782608695652174, 15.70414201183432, 13.791666666666666, 12.115942028985508], \"yaxis\": \"y3\"}],\n",
              "                        {\"annotations\": [{\"font\": {\"size\": 16}, \"showarrow\": false, \"text\": \"\\u0420\\u0430\\u0441\\u043f\\u0440\\u0435\\u0434\\u0435\\u043b\\u0435\\u043d\\u0438\\u0435 \\u0441\\u0440\\u0435\\u0434\\u043d\\u0438\\u0445 \\u0434\\u043b\\u0438\\u043d\", \"x\": 0.5, \"xanchor\": \"center\", \"xref\": \"paper\", \"y\": 1.0, \"yanchor\": \"bottom\", \"yref\": \"paper\"}, {\"font\": {\"size\": 16}, \"showarrow\": false, \"text\": \"Head\", \"x\": 0.225, \"xanchor\": \"center\", \"xref\": \"paper\", \"y\": 0.375, \"yanchor\": \"bottom\", \"yref\": \"paper\"}, {\"font\": {\"size\": 16}, \"showarrow\": false, \"text\": \"Tail\", \"x\": 0.775, \"xanchor\": \"center\", \"xref\": \"paper\", \"y\": 0.375, \"yanchor\": \"bottom\", \"yref\": \"paper\"}], \"showlegend\": false, \"template\": {\"data\": {\"bar\": [{\"error_x\": {\"color\": \"#2a3f5f\"}, \"error_y\": {\"color\": \"#2a3f5f\"}, \"marker\": {\"line\": {\"color\": \"#E5ECF6\", \"width\": 0.5}}, \"type\": \"bar\"}], \"barpolar\": [{\"marker\": {\"line\": {\"color\": \"#E5ECF6\", \"width\": 0.5}}, \"type\": \"barpolar\"}], \"carpet\": [{\"aaxis\": {\"endlinecolor\": \"#2a3f5f\", \"gridcolor\": \"white\", \"linecolor\": \"white\", \"minorgridcolor\": \"white\", \"startlinecolor\": \"#2a3f5f\"}, \"baxis\": {\"endlinecolor\": \"#2a3f5f\", \"gridcolor\": \"white\", \"linecolor\": \"white\", \"minorgridcolor\": \"white\", \"startlinecolor\": \"#2a3f5f\"}, \"type\": \"carpet\"}], \"choropleth\": [{\"colorbar\": {\"outlinewidth\": 0, \"ticks\": \"\"}, \"type\": \"choropleth\"}], \"contour\": [{\"colorbar\": {\"outlinewidth\": 0, \"ticks\": \"\"}, \"colorscale\": [[0.0, \"#0d0887\"], [0.1111111111111111, \"#46039f\"], [0.2222222222222222, \"#7201a8\"], [0.3333333333333333, \"#9c179e\"], [0.4444444444444444, \"#bd3786\"], [0.5555555555555556, \"#d8576b\"], [0.6666666666666666, \"#ed7953\"], [0.7777777777777778, \"#fb9f3a\"], [0.8888888888888888, \"#fdca26\"], [1.0, \"#f0f921\"]], \"type\": \"contour\"}], \"contourcarpet\": [{\"colorbar\": {\"outlinewidth\": 0, \"ticks\": \"\"}, \"type\": \"contourcarpet\"}], \"heatmap\": [{\"colorbar\": {\"outlinewidth\": 0, \"ticks\": \"\"}, \"colorscale\": [[0.0, \"#0d0887\"], [0.1111111111111111, \"#46039f\"], [0.2222222222222222, \"#7201a8\"], [0.3333333333333333, \"#9c179e\"], [0.4444444444444444, \"#bd3786\"], [0.5555555555555556, \"#d8576b\"], [0.6666666666666666, \"#ed7953\"], [0.7777777777777778, \"#fb9f3a\"], [0.8888888888888888, \"#fdca26\"], [1.0, \"#f0f921\"]], \"type\": \"heatmap\"}], \"heatmapgl\": [{\"colorbar\": {\"outlinewidth\": 0, \"ticks\": \"\"}, \"colorscale\": [[0.0, \"#0d0887\"], [0.1111111111111111, \"#46039f\"], [0.2222222222222222, \"#7201a8\"], [0.3333333333333333, \"#9c179e\"], [0.4444444444444444, \"#bd3786\"], [0.5555555555555556, \"#d8576b\"], [0.6666666666666666, \"#ed7953\"], [0.7777777777777778, \"#fb9f3a\"], [0.8888888888888888, \"#fdca26\"], [1.0, \"#f0f921\"]], \"type\": \"heatmapgl\"}], \"histogram\": [{\"marker\": {\"colorbar\": {\"outlinewidth\": 0, \"ticks\": \"\"}}, \"type\": \"histogram\"}], \"histogram2d\": [{\"colorbar\": {\"outlinewidth\": 0, \"ticks\": \"\"}, \"colorscale\": [[0.0, \"#0d0887\"], [0.1111111111111111, \"#46039f\"], [0.2222222222222222, \"#7201a8\"], [0.3333333333333333, \"#9c179e\"], [0.4444444444444444, \"#bd3786\"], [0.5555555555555556, \"#d8576b\"], [0.6666666666666666, \"#ed7953\"], [0.7777777777777778, \"#fb9f3a\"], [0.8888888888888888, \"#fdca26\"], [1.0, \"#f0f921\"]], \"type\": \"histogram2d\"}], \"histogram2dcontour\": [{\"colorbar\": {\"outlinewidth\": 0, \"ticks\": \"\"}, \"colorscale\": [[0.0, \"#0d0887\"], [0.1111111111111111, \"#46039f\"], [0.2222222222222222, \"#7201a8\"], [0.3333333333333333, \"#9c179e\"], [0.4444444444444444, \"#bd3786\"], [0.5555555555555556, \"#d8576b\"], [0.6666666666666666, \"#ed7953\"], [0.7777777777777778, \"#fb9f3a\"], [0.8888888888888888, \"#fdca26\"], [1.0, \"#f0f921\"]], \"type\": \"histogram2dcontour\"}], \"mesh3d\": [{\"colorbar\": {\"outlinewidth\": 0, \"ticks\": \"\"}, \"type\": \"mesh3d\"}], \"parcoords\": [{\"line\": {\"colorbar\": {\"outlinewidth\": 0, \"ticks\": \"\"}}, \"type\": \"parcoords\"}], \"pie\": [{\"automargin\": true, \"type\": \"pie\"}], \"scatter\": [{\"marker\": {\"colorbar\": {\"outlinewidth\": 0, \"ticks\": \"\"}}, \"type\": \"scatter\"}], \"scatter3d\": [{\"line\": {\"colorbar\": {\"outlinewidth\": 0, \"ticks\": \"\"}}, \"marker\": {\"colorbar\": {\"outlinewidth\": 0, \"ticks\": \"\"}}, \"type\": \"scatter3d\"}], \"scattercarpet\": [{\"marker\": {\"colorbar\": {\"outlinewidth\": 0, \"ticks\": \"\"}}, \"type\": \"scattercarpet\"}], \"scattergeo\": [{\"marker\": {\"colorbar\": {\"outlinewidth\": 0, \"ticks\": \"\"}}, \"type\": \"scattergeo\"}], \"scattergl\": [{\"marker\": {\"colorbar\": {\"outlinewidth\": 0, \"ticks\": \"\"}}, \"type\": \"scattergl\"}], \"scattermapbox\": [{\"marker\": {\"colorbar\": {\"outlinewidth\": 0, \"ticks\": \"\"}}, \"type\": \"scattermapbox\"}], \"scatterpolar\": [{\"marker\": {\"colorbar\": {\"outlinewidth\": 0, \"ticks\": \"\"}}, \"type\": \"scatterpolar\"}], \"scatterpolargl\": [{\"marker\": {\"colorbar\": {\"outlinewidth\": 0, \"ticks\": \"\"}}, \"type\": \"scatterpolargl\"}], \"scatterternary\": [{\"marker\": {\"colorbar\": {\"outlinewidth\": 0, \"ticks\": \"\"}}, \"type\": \"scatterternary\"}], \"surface\": [{\"colorbar\": {\"outlinewidth\": 0, \"ticks\": \"\"}, \"colorscale\": [[0.0, \"#0d0887\"], [0.1111111111111111, \"#46039f\"], [0.2222222222222222, \"#7201a8\"], [0.3333333333333333, \"#9c179e\"], [0.4444444444444444, \"#bd3786\"], [0.5555555555555556, \"#d8576b\"], [0.6666666666666666, \"#ed7953\"], [0.7777777777777778, \"#fb9f3a\"], [0.8888888888888888, \"#fdca26\"], [1.0, \"#f0f921\"]], \"type\": \"surface\"}], \"table\": [{\"cells\": {\"fill\": {\"color\": \"#EBF0F8\"}, \"line\": {\"color\": \"white\"}}, \"header\": {\"fill\": {\"color\": \"#C8D4E3\"}, \"line\": {\"color\": \"white\"}}, \"type\": \"table\"}]}, \"layout\": {\"annotationdefaults\": {\"arrowcolor\": \"#2a3f5f\", \"arrowhead\": 0, \"arrowwidth\": 1}, \"coloraxis\": {\"colorbar\": {\"outlinewidth\": 0, \"ticks\": \"\"}}, \"colorscale\": {\"diverging\": [[0, \"#8e0152\"], [0.1, \"#c51b7d\"], [0.2, \"#de77ae\"], [0.3, \"#f1b6da\"], [0.4, \"#fde0ef\"], [0.5, \"#f7f7f7\"], [0.6, \"#e6f5d0\"], [0.7, \"#b8e186\"], [0.8, \"#7fbc41\"], [0.9, \"#4d9221\"], [1, \"#276419\"]], \"sequential\": [[0.0, \"#0d0887\"], [0.1111111111111111, \"#46039f\"], [0.2222222222222222, \"#7201a8\"], [0.3333333333333333, \"#9c179e\"], [0.4444444444444444, \"#bd3786\"], [0.5555555555555556, \"#d8576b\"], [0.6666666666666666, \"#ed7953\"], [0.7777777777777778, \"#fb9f3a\"], [0.8888888888888888, \"#fdca26\"], [1.0, \"#f0f921\"]], \"sequentialminus\": [[0.0, \"#0d0887\"], [0.1111111111111111, \"#46039f\"], [0.2222222222222222, \"#7201a8\"], [0.3333333333333333, \"#9c179e\"], [0.4444444444444444, \"#bd3786\"], [0.5555555555555556, \"#d8576b\"], [0.6666666666666666, \"#ed7953\"], [0.7777777777777778, \"#fb9f3a\"], [0.8888888888888888, \"#fdca26\"], [1.0, \"#f0f921\"]]}, \"colorway\": [\"#636efa\", \"#EF553B\", \"#00cc96\", \"#ab63fa\", \"#FFA15A\", \"#19d3f3\", \"#FF6692\", \"#B6E880\", \"#FF97FF\", \"#FECB52\"], \"font\": {\"color\": \"#2a3f5f\"}, \"geo\": {\"bgcolor\": \"white\", \"lakecolor\": \"white\", \"landcolor\": \"#E5ECF6\", \"showlakes\": true, \"showland\": true, \"subunitcolor\": \"white\"}, \"hoverlabel\": {\"align\": \"left\"}, \"hovermode\": \"closest\", \"mapbox\": {\"style\": \"light\"}, \"paper_bgcolor\": \"white\", \"plot_bgcolor\": \"#E5ECF6\", \"polar\": {\"angularaxis\": {\"gridcolor\": \"white\", \"linecolor\": \"white\", \"ticks\": \"\"}, \"bgcolor\": \"#E5ECF6\", \"radialaxis\": {\"gridcolor\": \"white\", \"linecolor\": \"white\", \"ticks\": \"\"}}, \"scene\": {\"xaxis\": {\"backgroundcolor\": \"#E5ECF6\", \"gridcolor\": \"white\", \"gridwidth\": 2, \"linecolor\": \"white\", \"showbackground\": true, \"ticks\": \"\", \"zerolinecolor\": \"white\"}, \"yaxis\": {\"backgroundcolor\": \"#E5ECF6\", \"gridcolor\": \"white\", \"gridwidth\": 2, \"linecolor\": \"white\", \"showbackground\": true, \"ticks\": \"\", \"zerolinecolor\": \"white\"}, \"zaxis\": {\"backgroundcolor\": \"#E5ECF6\", \"gridcolor\": \"white\", \"gridwidth\": 2, \"linecolor\": \"white\", \"showbackground\": true, \"ticks\": \"\", \"zerolinecolor\": \"white\"}}, \"shapedefaults\": {\"line\": {\"color\": \"#2a3f5f\"}}, \"ternary\": {\"aaxis\": {\"gridcolor\": \"white\", \"linecolor\": \"white\", \"ticks\": \"\"}, \"baxis\": {\"gridcolor\": \"white\", \"linecolor\": \"white\", \"ticks\": \"\"}, \"bgcolor\": \"#E5ECF6\", \"caxis\": {\"gridcolor\": \"white\", \"linecolor\": \"white\", \"ticks\": \"\"}}, \"title\": {\"x\": 0.05}, \"xaxis\": {\"automargin\": true, \"gridcolor\": \"white\", \"linecolor\": \"white\", \"ticks\": \"\", \"title\": {\"standoff\": 15}, \"zerolinecolor\": \"white\", \"zerolinewidth\": 2}, \"yaxis\": {\"automargin\": true, \"gridcolor\": \"white\", \"linecolor\": \"white\", \"ticks\": \"\", \"title\": {\"standoff\": 15}, \"zerolinecolor\": \"white\", \"zerolinewidth\": 2}}}, \"xaxis\": {\"anchor\": \"y\", \"domain\": [0.0, 1.0]}, \"xaxis2\": {\"anchor\": \"y2\", \"domain\": [0.0, 0.45], \"tickangle\": -45}, \"xaxis3\": {\"anchor\": \"y3\", \"domain\": [0.55, 1.0], \"tickangle\": -45}, \"yaxis\": {\"anchor\": \"x\", \"domain\": [0.625, 1.0]}, \"yaxis2\": {\"anchor\": \"x2\", \"domain\": [0.0, 0.375]}, \"yaxis3\": {\"anchor\": \"x3\", \"domain\": [0.0, 0.375]}},\n",
              "                        {\"responsive\": true}\n",
              "                    ).then(function(){\n",
              "                            \n",
              "var gd = document.getElementById('aa65b2d0-92e3-4f2c-a69a-336d274a7285');\n",
              "var x = new MutationObserver(function (mutations, observer) {{\n",
              "        var display = window.getComputedStyle(gd).display;\n",
              "        if (!display || display === 'none') {{\n",
              "            console.log([gd, 'removed!']);\n",
              "            Plotly.purge(gd);\n",
              "            observer.disconnect();\n",
              "        }}\n",
              "}});\n",
              "\n",
              "// Listen for the removal of the full notebook cells\n",
              "var notebookContainer = gd.closest('#notebook-container');\n",
              "if (notebookContainer) {{\n",
              "    x.observe(notebookContainer, {childList: true});\n",
              "}}\n",
              "\n",
              "// Listen for the clearing of the current output cell\n",
              "var outputEl = gd.closest('.output');\n",
              "if (outputEl) {{\n",
              "    x.observe(outputEl, {childList: true});\n",
              "}}\n",
              "\n",
              "                        })\n",
              "                };\n",
              "                \n",
              "            </script>\n",
              "        </div>\n",
              "</body>\n",
              "</html>"
            ]
          },
          "metadata": {}
        }
      ]
    },
    {
      "cell_type": "markdown",
      "metadata": {
        "id": "RcSr90AQuWdJ"
      },
      "source": [
        "2.4.4 Какие интенты попали в пересечение HEAD минимальных, максимальных и средних длин?"
      ]
    },
    {
      "cell_type": "code",
      "metadata": {
        "colab": {
          "base_uri": "https://localhost:8080/",
          "height": 418
        },
        "id": "FjcAk0MO1m3b",
        "outputId": "8ec5ab09-9e14-458f-c6d3-2d2e57a72ab6"
      },
      "source": [
        "min_len_distribution"
      ],
      "execution_count": null,
      "outputs": [
        {
          "output_type": "execute_result",
          "data": {
            "text/html": [
              "<div>\n",
              "<style scoped>\n",
              "    .dataframe tbody tr th:only-of-type {\n",
              "        vertical-align: middle;\n",
              "    }\n",
              "\n",
              "    .dataframe tbody tr th {\n",
              "        vertical-align: top;\n",
              "    }\n",
              "\n",
              "    .dataframe thead th {\n",
              "        text-align: right;\n",
              "    }\n",
              "</style>\n",
              "<table border=\"1\" class=\"dataframe\">\n",
              "  <thead>\n",
              "    <tr style=\"text-align: right;\">\n",
              "      <th></th>\n",
              "      <th>intent</th>\n",
              "      <th>min_text_len</th>\n",
              "      <th>desc</th>\n",
              "    </tr>\n",
              "  </thead>\n",
              "  <tbody>\n",
              "    <tr>\n",
              "      <th>0</th>\n",
              "      <td>student_union_room</td>\n",
              "      <td>45</td>\n",
              "      <td>how to get a meeting room for a student union</td>\n",
              "    </tr>\n",
              "    <tr>\n",
              "      <th>1</th>\n",
              "      <td>loc_dean_med</td>\n",
              "      <td>39</td>\n",
              "      <td>where is a dean of the medical faculty</td>\n",
              "    </tr>\n",
              "    <tr>\n",
              "      <th>2</th>\n",
              "      <td>loc_cytologygeneticsinstitute</td>\n",
              "      <td>36</td>\n",
              "      <td>find out a cytology and genetics institute</td>\n",
              "    </tr>\n",
              "    <tr>\n",
              "      <th>3</th>\n",
              "      <td>loc_compcenter</td>\n",
              "      <td>33</td>\n",
              "      <td>find out a computational center</td>\n",
              "    </tr>\n",
              "    <tr>\n",
              "      <th>4</th>\n",
              "      <td>loc_cafeteria_new_building_3_etage</td>\n",
              "      <td>28</td>\n",
              "      <td>find a cafe in building</td>\n",
              "    </tr>\n",
              "    <tr>\n",
              "      <th>...</th>\n",
              "      <td>...</td>\n",
              "      <td>...</td>\n",
              "      <td>...</td>\n",
              "    </tr>\n",
              "    <tr>\n",
              "      <th>137</th>\n",
              "      <td>studentorgs_define</td>\n",
              "      <td>2</td>\n",
              "      <td>what students organization there are</td>\n",
              "    </tr>\n",
              "    <tr>\n",
              "      <th>138</th>\n",
              "      <td>smalltalk_greetings</td>\n",
              "      <td>2</td>\n",
              "      <td>greetings</td>\n",
              "    </tr>\n",
              "    <tr>\n",
              "      <th>139</th>\n",
              "      <td>loc_torgovy_center</td>\n",
              "      <td>2</td>\n",
              "      <td>find out a shopping mall</td>\n",
              "    </tr>\n",
              "    <tr>\n",
              "      <th>140</th>\n",
              "      <td>loc_dean_ef</td>\n",
              "      <td>2</td>\n",
              "      <td>where is a dean of the economics faculty</td>\n",
              "    </tr>\n",
              "    <tr>\n",
              "      <th>141</th>\n",
              "      <td>loc_dean_hi</td>\n",
              "      <td>2</td>\n",
              "      <td>where is a dean of the linguistics faculty</td>\n",
              "    </tr>\n",
              "  </tbody>\n",
              "</table>\n",
              "<p>142 rows × 3 columns</p>\n",
              "</div>"
            ],
            "text/plain": [
              "                                 intent  ...                                           desc\n",
              "0                    student_union_room  ...  how to get a meeting room for a student union\n",
              "1                          loc_dean_med  ...         where is a dean of the medical faculty\n",
              "2         loc_cytologygeneticsinstitute  ...     find out a cytology and genetics institute\n",
              "3                        loc_compcenter  ...                find out a computational center\n",
              "4    loc_cafeteria_new_building_3_etage  ...                        find a cafe in building\n",
              "..                                  ...  ...                                            ...\n",
              "137                  studentorgs_define  ...           what students organization there are\n",
              "138                 smalltalk_greetings  ...                                      greetings\n",
              "139                  loc_torgovy_center  ...                       find out a shopping mall\n",
              "140                         loc_dean_ef  ...       where is a dean of the economics faculty\n",
              "141                         loc_dean_hi  ...     where is a dean of the linguistics faculty\n",
              "\n",
              "[142 rows x 3 columns]"
            ]
          },
          "metadata": {},
          "execution_count": 19
        }
      ]
    },
    {
      "cell_type": "code",
      "metadata": {
        "id": "wCOnVSQuuanU"
      },
      "source": [
        "#intersection = # Your code"
      ],
      "execution_count": null,
      "outputs": []
    },
    {
      "cell_type": "code",
      "metadata": {
        "id": "wq7z6ee9kLb3"
      },
      "source": [
        "intersection = list(set(min_len_distribution['intent'][:10]) &\n",
        "                    set(max_len_distribution['intent'][:10]) &\n",
        "                    set(mean_len_distribution['intent'][:10]))"
      ],
      "execution_count": null,
      "outputs": []
    },
    {
      "cell_type": "code",
      "metadata": {
        "colab": {
          "base_uri": "https://localhost:8080/"
        },
        "id": "bIFh7idKz5is",
        "outputId": "57f9db26-e533-4764-d51c-b675264af543"
      },
      "source": [
        "intersection"
      ],
      "execution_count": null,
      "outputs": [
        {
          "output_type": "execute_result",
          "data": {
            "text/plain": [
              "['loc_cafeteria_new_building_4_etage',\n",
              " 'student_union_room',\n",
              " 'loc_compcenter',\n",
              " 'loc_dean_med']"
            ]
          },
          "metadata": {},
          "execution_count": 22
        }
      ]
    },
    {
      "cell_type": "markdown",
      "metadata": {
        "id": "LTyWBFOaufm_"
      },
      "source": [
        "## 2.5 Поиск самых частых и редких слов:"
      ]
    },
    {
      "cell_type": "markdown",
      "metadata": {
        "id": "KogxG7aDvBQ_"
      },
      "source": [
        "2.5.1 Самы частые слова:"
      ]
    },
    {
      "cell_type": "code",
      "metadata": {
        "id": "08wTRTH7ulVI"
      },
      "source": [
        "def find_most_frequent_words(group, top_n):\n",
        "    \"\"\"\n",
        "    Эта функция возвращает через запятую top_n самых частых слов для выбранного интента\n",
        "    \"\"\"\n",
        "    group_words = sum(group.text.str.split().values, [])\n",
        "    value_counts = pd.Series(group_words).value_counts()\n",
        "    top_n_values = value_counts.iloc[:top_n]\n",
        "\n",
        "    return ', '.join(top_n_values.index)"
      ],
      "execution_count": null,
      "outputs": []
    },
    {
      "cell_type": "code",
      "metadata": {
        "id": "p4J7H7wIuueN"
      },
      "source": [
        "top_n = 5\n",
        "\n",
        "words_freq_distribution = (\n",
        "    train_data\n",
        "    .groupby('intent', as_index=False)\n",
        "    .agg(lambda group: find_most_frequent_words(group, top_n))\n",
        "    .sort_values(by='text')\n",
        "    .merge(labels_descriptions, on='intent', how='left')\n",
        "    .rename(columns={'text': 'most_frequent_words'})\n",
        ")"
      ],
      "execution_count": null,
      "outputs": []
    },
    {
      "cell_type": "code",
      "metadata": {
        "colab": {
          "base_uri": "https://localhost:8080/",
          "height": 418
        },
        "id": "2JVfUFb-uvLA",
        "outputId": "2c5a305e-51c0-432d-d4b6-819b6bdd4b35"
      },
      "source": [
        "words_freq_distribution "
      ],
      "execution_count": null,
      "outputs": [
        {
          "output_type": "execute_result",
          "data": {
            "text/html": [
              "<div>\n",
              "<style scoped>\n",
              "    .dataframe tbody tr th:only-of-type {\n",
              "        vertical-align: middle;\n",
              "    }\n",
              "\n",
              "    .dataframe tbody tr th {\n",
              "        vertical-align: top;\n",
              "    }\n",
              "\n",
              "    .dataframe thead th {\n",
              "        text-align: right;\n",
              "    }\n",
              "</style>\n",
              "<table border=\"1\" class=\"dataframe\">\n",
              "  <thead>\n",
              "    <tr style=\"text-align: right;\">\n",
              "      <th></th>\n",
              "      <th>intent</th>\n",
              "      <th>most_frequent_words</th>\n",
              "      <th>desc</th>\n",
              "    </tr>\n",
              "  </thead>\n",
              "  <tbody>\n",
              "    <tr>\n",
              "      <th>0</th>\n",
              "      <td>student_union_zoom</td>\n",
              "      <td>zoom, как, получить, конференция, встреча</td>\n",
              "      <td>get a zoom romm for a student union</td>\n",
              "    </tr>\n",
              "    <tr>\n",
              "      <th>1</th>\n",
              "      <td>smalltalk_greetings</td>\n",
              "      <td>Привет,, добрый, привет, Добрый, день</td>\n",
              "      <td>greetings</td>\n",
              "    </tr>\n",
              "    <tr>\n",
              "      <th>2</th>\n",
              "      <td>status_akadem</td>\n",
              "      <td>академ, академотпуск, отпуск, академический, как</td>\n",
              "      <td>how to make a break from the university</td>\n",
              "    </tr>\n",
              "    <tr>\n",
              "      <th>3</th>\n",
              "      <td>stdscholarship</td>\n",
              "      <td>академическая, стипендия, государственная, гас...</td>\n",
              "      <td>how to get a standard state scholarship</td>\n",
              "    </tr>\n",
              "    <tr>\n",
              "      <th>4</th>\n",
              "      <td>loc_pharm</td>\n",
              "      <td>аптекарь, аптечка, аптека, где, расположен</td>\n",
              "      <td>find out a pharmacy</td>\n",
              "    </tr>\n",
              "    <tr>\n",
              "      <th>...</th>\n",
              "      <td>...</td>\n",
              "      <td>...</td>\n",
              "      <td>...</td>\n",
              "    </tr>\n",
              "    <tr>\n",
              "      <th>137</th>\n",
              "      <td>student_union_chorus</td>\n",
              "      <td>хор, где, академический, нгу, находится</td>\n",
              "      <td>how to join a student chorus</td>\n",
              "    </tr>\n",
              "    <tr>\n",
              "      <th>138</th>\n",
              "      <td>loc_cafeteria_new_building_1_etage</td>\n",
              "      <td>этаж, корпус, 1, первый, где</td>\n",
              "      <td>find a cafe in building</td>\n",
              "    </tr>\n",
              "    <tr>\n",
              "      <th>139</th>\n",
              "      <td>loc_cafeteria_new_building_2_etage</td>\n",
              "      <td>этаж, корпус, второй, 2, где</td>\n",
              "      <td>find a cafe in building</td>\n",
              "    </tr>\n",
              "    <tr>\n",
              "      <th>140</th>\n",
              "      <td>loc_cafeteria_new_building_3_etage</td>\n",
              "      <td>этаж, корпус, третий, 3, где</td>\n",
              "      <td>find a cafe in building</td>\n",
              "    </tr>\n",
              "    <tr>\n",
              "      <th>141</th>\n",
              "      <td>loc_cafeteria_new_building_4_etage</td>\n",
              "      <td>этаж, корпус, четвертый, 4, где</td>\n",
              "      <td>find a cafe in building</td>\n",
              "    </tr>\n",
              "  </tbody>\n",
              "</table>\n",
              "<p>142 rows × 3 columns</p>\n",
              "</div>"
            ],
            "text/plain": [
              "                                 intent  ...                                     desc\n",
              "0                    student_union_zoom  ...      get a zoom romm for a student union\n",
              "1                   smalltalk_greetings  ...                                greetings\n",
              "2                         status_akadem  ...  how to make a break from the university\n",
              "3                        stdscholarship  ...  how to get a standard state scholarship\n",
              "4                             loc_pharm  ...                      find out a pharmacy\n",
              "..                                  ...  ...                                      ...\n",
              "137                student_union_chorus  ...             how to join a student chorus\n",
              "138  loc_cafeteria_new_building_1_etage  ...                  find a cafe in building\n",
              "139  loc_cafeteria_new_building_2_etage  ...                  find a cafe in building\n",
              "140  loc_cafeteria_new_building_3_etage  ...                  find a cafe in building\n",
              "141  loc_cafeteria_new_building_4_etage  ...                  find a cafe in building\n",
              "\n",
              "[142 rows x 3 columns]"
            ]
          },
          "metadata": {},
          "execution_count": 25
        }
      ]
    },
    {
      "cell_type": "markdown",
      "metadata": {
        "id": "5OC5_dspvIfV"
      },
      "source": [
        "2.5.2 Самые редкие слова:"
      ]
    },
    {
      "cell_type": "code",
      "metadata": {
        "id": "JnESvRRIuxva"
      },
      "source": [
        "#  Похожим образом найти самые редкие слова.\n",
        "\n",
        "# words_freq_distribution = Your code"
      ],
      "execution_count": null,
      "outputs": []
    },
    {
      "cell_type": "code",
      "metadata": {
        "id": "WOALzenXckmV"
      },
      "source": [
        "def find_less_frequent_words(group, top_n):\n",
        "    \"\"\"\n",
        "    Эта функция возвращает через запятую top_n самых редких слов для выбранного интента\n",
        "    \"\"\"\n",
        "    group_words = sum(group.text.str.split().values, [])\n",
        "    value_counts = pd.Series(group_words).value_counts()\n",
        "    top_n_values = value_counts.iloc[-top_n:]\n",
        "\n",
        "    return ', '.join(top_n_values.index)"
      ],
      "execution_count": null,
      "outputs": []
    },
    {
      "cell_type": "code",
      "metadata": {
        "id": "Nm3LX254cqnX"
      },
      "source": [
        "top_n = 5\n",
        "\n",
        "words_less_freq_distribution = (\n",
        "    train_data\n",
        "    .groupby('intent', as_index=False)\n",
        "    .agg(lambda group: find_less_frequent_words(group, top_n))\n",
        "    .sort_values(by='text')\n",
        "    .merge(labels_descriptions, on='intent', how='left')\n",
        "    .rename(columns={'text': 'less_frequent_words'})\n",
        ")"
      ],
      "execution_count": null,
      "outputs": []
    },
    {
      "cell_type": "code",
      "metadata": {
        "colab": {
          "base_uri": "https://localhost:8080/",
          "height": 418
        },
        "id": "HB-ZKUBwcraF",
        "outputId": "41dda399-3ead-46da-f328-fd3526790275"
      },
      "source": [
        "words_less_freq_distribution"
      ],
      "execution_count": null,
      "outputs": [
        {
          "output_type": "execute_result",
          "data": {
            "text/html": [
              "<div>\n",
              "<style scoped>\n",
              "    .dataframe tbody tr th:only-of-type {\n",
              "        vertical-align: middle;\n",
              "    }\n",
              "\n",
              "    .dataframe tbody tr th {\n",
              "        vertical-align: top;\n",
              "    }\n",
              "\n",
              "    .dataframe thead th {\n",
              "        text-align: right;\n",
              "    }\n",
              "</style>\n",
              "<table border=\"1\" class=\"dataframe\">\n",
              "  <thead>\n",
              "    <tr style=\"text-align: right;\">\n",
              "      <th></th>\n",
              "      <th>intent</th>\n",
              "      <th>less_frequent_words</th>\n",
              "      <th>desc</th>\n",
              "    </tr>\n",
              "  </thead>\n",
              "  <tbody>\n",
              "    <tr>\n",
              "      <th>0</th>\n",
              "      <td>sched_for_group_day</td>\n",
              "      <td>21238, 20644, 715132, 594299, 224663</td>\n",
              "      <td>get a schedule for a student group on a specif...</td>\n",
              "    </tr>\n",
              "    <tr>\n",
              "      <th>1</th>\n",
              "      <td>sched_for_group</td>\n",
              "      <td>22409, 20687, 21335, 22097, 220840</td>\n",
              "      <td>get a schedule for a student group</td>\n",
              "    </tr>\n",
              "    <tr>\n",
              "      <th>2</th>\n",
              "      <td>sched_teacher</td>\n",
              "      <td>Дмитриева, Орловская, Пригарин, Пальчикова, Панов</td>\n",
              "      <td>schedule of a teacher</td>\n",
              "    </tr>\n",
              "    <tr>\n",
              "      <th>3</th>\n",
              "      <td>student_union_event_room</td>\n",
              "      <td>актовый, для, мероприятий, помещение, цввр</td>\n",
              "      <td>how to get a room for a student union event</td>\n",
              "    </tr>\n",
              "    <tr>\n",
              "      <th>4</th>\n",
              "      <td>diploma_red_def</td>\n",
              "      <td>бы, хотеть, есть, получать, получаться</td>\n",
              "      <td>how to get a diploma with excellence</td>\n",
              "    </tr>\n",
              "    <tr>\n",
              "      <th>...</th>\n",
              "      <td>...</td>\n",
              "      <td>...</td>\n",
              "      <td>...</td>\n",
              "    </tr>\n",
              "    <tr>\n",
              "      <th>137</th>\n",
              "      <td>trade_union_general</td>\n",
              "      <td>университетские, объединение, союзам, професси...</td>\n",
              "      <td>how to join a union of any type</td>\n",
              "    </tr>\n",
              "    <tr>\n",
              "      <th>138</th>\n",
              "      <td>stat_numb_of_students</td>\n",
              "      <td>учиться, заниматься, штудировать, усваивать, гдео</td>\n",
              "      <td>how many students there are in the university</td>\n",
              "    </tr>\n",
              "    <tr>\n",
              "      <th>139</th>\n",
              "      <td>smalltalk_greetings</td>\n",
              "      <td>хаю, рад, Витя,, поговорить, Кеша,</td>\n",
              "      <td>greetings</td>\n",
              "    </tr>\n",
              "    <tr>\n",
              "      <th>140</th>\n",
              "      <td>statement_general</td>\n",
              "      <td>чорт, и, справочку, надо, нужно</td>\n",
              "      <td>get a document of some undefined type</td>\n",
              "    </tr>\n",
              "    <tr>\n",
              "      <th>141</th>\n",
              "      <td>status_kickout</td>\n",
              "      <td>я, замдекана, деканат, факультета, отчислиться</td>\n",
              "      <td>why a student can be kicked out from university</td>\n",
              "    </tr>\n",
              "  </tbody>\n",
              "</table>\n",
              "<p>142 rows × 3 columns</p>\n",
              "</div>"
            ],
            "text/plain": [
              "                       intent  ...                                               desc\n",
              "0         sched_for_group_day  ...  get a schedule for a student group on a specif...\n",
              "1             sched_for_group  ...                 get a schedule for a student group\n",
              "2               sched_teacher  ...                              schedule of a teacher\n",
              "3    student_union_event_room  ...        how to get a room for a student union event\n",
              "4             diploma_red_def  ...               how to get a diploma with excellence\n",
              "..                        ...  ...                                                ...\n",
              "137       trade_union_general  ...                    how to join a union of any type\n",
              "138     stat_numb_of_students  ...      how many students there are in the university\n",
              "139       smalltalk_greetings  ...                                          greetings\n",
              "140         statement_general  ...              get a document of some undefined type\n",
              "141            status_kickout  ...    why a student can be kicked out from university\n",
              "\n",
              "[142 rows x 3 columns]"
            ]
          },
          "metadata": {},
          "execution_count": 29
        }
      ]
    },
    {
      "cell_type": "markdown",
      "metadata": {
        "id": "a9NKfN3tvefy"
      },
      "source": [
        "2.5.3 Найти имена всех преподавателей НГУ"
      ]
    },
    {
      "cell_type": "code",
      "metadata": {
        "id": "Nn38yT6nvk2V"
      },
      "source": [
        "# Так как это чат-бот НГУ, то в данных есть информация о расписании каждого преподавателя, давайте попробуем найти имена этих преподавателей.\n",
        "\n",
        "#names =  Your code"
      ],
      "execution_count": null,
      "outputs": []
    },
    {
      "cell_type": "code",
      "metadata": {
        "colab": {
          "base_uri": "https://localhost:8080/"
        },
        "id": "-8GfamBMMh3q",
        "outputId": "96724202-8e40-4d5e-a328-f2a9d221a046"
      },
      "source": [
        "pip install natasha"
      ],
      "execution_count": null,
      "outputs": [
        {
          "output_type": "stream",
          "name": "stdout",
          "text": [
            "Collecting natasha\n",
            "  Downloading natasha-1.4.0-py3-none-any.whl (34.4 MB)\n",
            "\u001b[K     |████████████████████████████████| 34.4 MB 29 kB/s \n",
            "\u001b[?25hCollecting yargy>=0.14.0\n",
            "  Downloading yargy-0.15.0-py3-none-any.whl (41 kB)\n",
            "\u001b[K     |████████████████████████████████| 41 kB 132 kB/s \n",
            "\u001b[?25hCollecting ipymarkup>=0.8.0\n",
            "  Downloading ipymarkup-0.9.0-py3-none-any.whl (14 kB)\n",
            "Collecting slovnet>=0.3.0\n",
            "  Downloading slovnet-0.5.0-py3-none-any.whl (49 kB)\n",
            "\u001b[K     |████████████████████████████████| 49 kB 6.2 MB/s \n",
            "\u001b[?25hCollecting razdel>=0.5.0\n",
            "  Downloading razdel-0.5.0-py3-none-any.whl (21 kB)\n",
            "Collecting pymorphy2\n",
            "  Downloading pymorphy2-0.9.1-py3-none-any.whl (55 kB)\n",
            "\u001b[K     |████████████████████████████████| 55 kB 4.1 MB/s \n",
            "\u001b[?25hCollecting navec>=0.9.0\n",
            "  Downloading navec-0.10.0-py3-none-any.whl (23 kB)\n",
            "Collecting intervaltree>=3\n",
            "  Downloading intervaltree-3.1.0.tar.gz (32 kB)\n",
            "Requirement already satisfied: sortedcontainers<3.0,>=2.0 in /usr/local/lib/python3.7/dist-packages (from intervaltree>=3->ipymarkup>=0.8.0->natasha) (2.4.0)\n",
            "Requirement already satisfied: numpy in /usr/local/lib/python3.7/dist-packages (from navec>=0.9.0->natasha) (1.19.5)\n",
            "Collecting pymorphy2-dicts-ru<3.0,>=2.4\n",
            "  Downloading pymorphy2_dicts_ru-2.4.417127.4579844-py2.py3-none-any.whl (8.2 MB)\n",
            "\u001b[K     |████████████████████████████████| 8.2 MB 23.6 MB/s \n",
            "\u001b[?25hRequirement already satisfied: docopt>=0.6 in /usr/local/lib/python3.7/dist-packages (from pymorphy2->natasha) (0.6.2)\n",
            "Collecting dawg-python>=0.7.1\n",
            "  Downloading DAWG_Python-0.7.2-py2.py3-none-any.whl (11 kB)\n",
            "Building wheels for collected packages: intervaltree\n",
            "  Building wheel for intervaltree (setup.py) ... \u001b[?25l\u001b[?25hdone\n",
            "  Created wheel for intervaltree: filename=intervaltree-3.1.0-py2.py3-none-any.whl size=26119 sha256=4f29870b5402e77583f4fd0a20be308111b1fece6e006b0f766fb98e5807d503\n",
            "  Stored in directory: /root/.cache/pip/wheels/16/85/bd/1001cbb46dcfb71c2001cd7401c6fb250392f22a81ce3722f7\n",
            "Successfully built intervaltree\n",
            "Installing collected packages: pymorphy2-dicts-ru, dawg-python, razdel, pymorphy2, navec, intervaltree, yargy, slovnet, ipymarkup, natasha\n",
            "  Attempting uninstall: intervaltree\n",
            "    Found existing installation: intervaltree 2.1.0\n",
            "    Uninstalling intervaltree-2.1.0:\n",
            "      Successfully uninstalled intervaltree-2.1.0\n",
            "Successfully installed dawg-python-0.7.2 intervaltree-3.1.0 ipymarkup-0.9.0 natasha-1.4.0 navec-0.10.0 pymorphy2-0.9.1 pymorphy2-dicts-ru-2.4.417127.4579844 razdel-0.5.0 slovnet-0.5.0 yargy-0.15.0\n"
          ]
        }
      ]
    },
    {
      "cell_type": "code",
      "metadata": {
        "id": "K9eu5U5pMfis"
      },
      "source": [
        "from natasha import (\n",
        "    Segmenter,\n",
        "    MorphVocab,\n",
        "    \n",
        "    NewsEmbedding,\n",
        "    NewsMorphTagger,\n",
        "    NewsSyntaxParser,\n",
        "    NewsNERTagger,\n",
        "    \n",
        "    PER,\n",
        "    LOC,\n",
        "    NamesExtractor,\n",
        "    DatesExtractor,\n",
        "    MoneyExtractor,\n",
        "    AddrExtractor,\n",
        "\n",
        "    Doc\n",
        ")\n",
        "\n",
        "segmenter = Segmenter()\n",
        "morph_vocab = MorphVocab()\n",
        "\n",
        "emb = NewsEmbedding()\n",
        "morph_tagger = NewsMorphTagger(emb)\n",
        "syntax_parser = NewsSyntaxParser(emb)\n",
        "ner_tagger = NewsNERTagger(emb)\n",
        "\n",
        "names_extractor = NamesExtractor(morph_vocab)\n",
        "dates_extractor = DatesExtractor(morph_vocab)\n",
        "money_extractor = MoneyExtractor(morph_vocab)\n",
        "addr_extractor = AddrExtractor(morph_vocab)"
      ],
      "execution_count": null,
      "outputs": []
    },
    {
      "cell_type": "code",
      "metadata": {
        "colab": {
          "base_uri": "https://localhost:8080/"
        },
        "id": "eW6J_DTCMppn",
        "outputId": "65efc82c-d54c-4e9c-ea08-c551c2dc6761"
      },
      "source": [
        "lst = []\n",
        "for string in train_data['text']:\n",
        "  doc = Doc(string)\n",
        "  doc.segment(segmenter) \n",
        "  doc.tag_morph(morph_tagger)\n",
        "  doc.parse_syntax(syntax_parser)\n",
        "  doc.tag_ner(ner_tagger)\n",
        "  doc.segment(segmenter)\n",
        "  doc.tag_morph(morph_tagger)\n",
        "  \n",
        "  for span in doc.spans:\n",
        "      span.normalize(morph_vocab)\n",
        "\n",
        "  names_dict = {_.text: _.normal for _ in doc.spans if _.text != _.normal}\n",
        "  if (names_dict):\n",
        "    lst.append(names_dict)\n",
        "\n",
        "lst"
      ],
      "execution_count": null,
      "outputs": [
        {
          "output_type": "execute_result",
          "data": {
            "text/plain": [
              "[{'Толкачева Е.М.': 'Толкачев Е.М.'},\n",
              " {'Барчунова Т.В.': 'Барчунов Т.В.'},\n",
              " {'Снытникова Н.И.': 'Снытников Н.И.'},\n",
              " {'Щеглова О.Г.': 'Щеглов О.Г.'},\n",
              " {'Ческидова Н.В.': 'Ческидов Н.В.'},\n",
              " {'Чернова Н.И.': 'Чернов Н.И.'},\n",
              " {'Максимова О.Д.': 'Максимов О.Д.'},\n",
              " {'Сухинина И.А.': 'Сухинин И.А.'},\n",
              " {'Тапилина Е.А.': 'Тапилин Е.А.'},\n",
              " {'Анисимова Н.К.': 'Анисимов Н.К.'},\n",
              " {'Саблина': 'Саблин'},\n",
              " {'Билута П.А.': 'Билут П.А.'},\n",
              " {'Попова Н.А.': 'Попов Н.А.'},\n",
              " {'Тарабунова Н.В.': 'Тарабунов Н.В.'},\n",
              " {'Комарова А.В.': 'Комаров А.В.'},\n",
              " {'Притчина Е.А.': 'Притчин Е.А.'},\n",
              " {'Пухначева Т.П.': 'Пухначев Т.П.'},\n",
              " {'Симонова Е.В.': 'Симонов Е.В.'},\n",
              " {'Фролова Е.Л.': 'Фролов Е.Л.'},\n",
              " {'Туманова Н.Б.': 'Туманов Н.Б.'},\n",
              " {'Талышева Л.П.': 'Талышев Л.П.'},\n",
              " {'Халимская Л.М.': 'Халимскай Л.М.'},\n",
              " {'Шатрова В.Я.': 'Шатров В.Я.'},\n",
              " {'Назинцева Л.Н.': 'Назинцев Л.Н.'},\n",
              " {'Малинина Е.Е.': 'Малинин Е.Е.'},\n",
              " {'Пиков Г.Г.': 'Пики Г.Г.'},\n",
              " {'Сагдеева Л.Э.': 'Сагдеев Л.Э.'},\n",
              " {'Бугаева С.Г.': 'Бугаев С.Г.'},\n",
              " {'Пальчикова И.Г.': 'Пальчиков И.Г.'},\n",
              " {'Баранова Н.Н.': 'Баранов Н.Н.'},\n",
              " {'Дорошева Е.А.': 'Дорошев Е.А.'},\n",
              " {'Толстикова Т.Г.': 'Толстиков Т.Г.'},\n",
              " {'Аюпова Н.Б.': 'Аюпов Н.Б.'},\n",
              " {'Гусева Е.С.': 'Гусев Е.С.'},\n",
              " {'Завьялова Т.Г.': 'Завьялов Т.Г.'},\n",
              " {'Фадеева О.П.': 'Фадеев О.П.'},\n",
              " {'Лабекина И.А.': 'Лабекин И.А.'},\n",
              " {'Ермолаева О.В.': 'Ермолаев О.В.'},\n",
              " {'Синякова Л.Н.': 'Синяков Л.Н.'},\n",
              " {'Валиева О.В.': 'Валиев О.В.'},\n",
              " {'Зеленкина Л.М.': 'Зеленкин Л.М.'},\n",
              " {'Мусатова М.М.': 'Мусатов М.М.'},\n",
              " {'Голубева Н.В.': 'Голубев Н.В.'},\n",
              " {'Морозова Н.Б.': 'Морозов Н.Б.'},\n",
              " {'Воробцова Л.Н.': 'Воробцов Л.Н.'},\n",
              " {'Калинина Т.С.': 'Калинин Т.С.'},\n",
              " {'Аносова Т.В.': 'Аносов Т.В.'},\n",
              " {'Можейкина Л.Б.': 'Можейкин Л.Б.'},\n",
              " {'Диева А.В.': 'Диев А.В.'},\n",
              " {'Шестопалова Л.В.': 'Шестопалов Л.В.'},\n",
              " {'Александрова О.М.': 'Александров О.М.'},\n",
              " {'Важева Д.В.': 'Важев Д.В.'},\n",
              " {'Неведрова Н.Н.': 'Неведров Н.Н.'},\n",
              " {'Лазарева О.А.': 'Лазарев О.А.'},\n",
              " {'Плотникова Е.А.': 'Плотников Е.А.'},\n",
              " {'Ермакова О.Ю.': 'Ермаков О.Ю.'},\n",
              " {'Кутафьева Н.В.': 'Кутафьев Н.В.'},\n",
              " {'Гвоздева Г.П.': 'Гвоздев Г.П.'},\n",
              " {'Михеева А.Р.': 'Михеев А.Р.'},\n",
              " {'Гурьянова Н.С.': 'Гурьянов Н.С.'},\n",
              " {'Дмитриев А.В.': 'Дмитрии А.В.'},\n",
              " {'Богомолова Т.Ю.': 'Богомолов Т.Ю.'},\n",
              " {'Лыткина Д.В.': 'Лыткин Д.В.'},\n",
              " {'Кожевников А.А.': 'Кожевники А.А.'},\n",
              " {'Болдырева Е.В.': 'Болдырев Е.В.'},\n",
              " {'Рогов В.А.': 'Рога В.А.'},\n",
              " {'Кузнецов В.В.': 'Кузнецы В.В.'},\n",
              " {'Бурматова О.П.': 'Бурматов О.П.'},\n",
              " {'Тагаева Т.О.': 'Тагаев Т.О.'},\n",
              " {'Романов А.С.': 'Романы А.С.'},\n",
              " {'Лугачева Л.И.': 'Лугачев Л.И.'},\n",
              " {'Нефёдкин В.И.': 'Нефедкин В.И.'},\n",
              " {'Омелёхина Н.В.': 'Омелехин Н.В.'},\n",
              " {'Есикова Т.Н.': 'Есиков Т.Н.'},\n",
              " {'Тихонова Т.И.': 'Тихонов Т.И.'},\n",
              " {'Алексеева Е.Н.': 'Алексеев Е.Н.'},\n",
              " {'Трифонова Е.Н.': 'Трифонов Е.Н.'},\n",
              " {'Сорокина Е.Н.': 'Сорокин Е.Н.'},\n",
              " {'Зуева И.В.': 'Зуев И.В.'},\n",
              " {'Тимофеева М.А.': 'Тимофеев М.А.'},\n",
              " {'Бородина Н.А.': 'Бородин Н.А.'},\n",
              " {'Халимова С.Р.': 'Халимов С.Р.'},\n",
              " {'Воронина П.В.': 'Воронин П.В.'},\n",
              " {'Омарова Г.А.': 'Омаров Г.А.'},\n",
              " {'Исангулова Д.В.': 'Исангулов Д.В.'},\n",
              " {'Бакулина А.Ю.': 'Бакулин А.Ю.'},\n",
              " {'Козлова Н.В.': 'Козлов Н.В.'},\n",
              " {'Шилова И.А.': 'Шилов И.А.'},\n",
              " {'Заворина Т.И.': 'Заворин Т.И.'},\n",
              " {'Юрова М.А.': 'Юров М.А.'},\n",
              " {'Аникина А.Б.': 'Аникин А.Б.'},\n",
              " {'Абрамкина Е.Е.': 'Абрамкин Е.Е.'},\n",
              " {'Чернова А.И.': 'Чернов А.И.'},\n",
              " {'Касьянова Е.В.': 'Касьянов Е.В.'},\n",
              " {'Эпова М.О.': 'Эпов М.О.'},\n",
              " {'Васюкова Е.А.': 'Васюков Е.А.'},\n",
              " {'Сергеева И.Г.': 'Сергеев И.Г.'},\n",
              " {'Пушкина Т.П.': 'Пушкин Т.П.'},\n",
              " {'Трунова В.А.': 'Трунов В.А.'},\n",
              " {'Чернышова Е.А.': 'Чернышов Е.А.'},\n",
              " {'Лихачева Е.В.': 'Лихачев Е.В.'},\n",
              " {'Сорокина К.Н.': 'Сорокин К.Н.'},\n",
              " {'Фатьянова А.В.': 'Фатьянов А.В.'},\n",
              " {'Летягина Е.А.': 'Летягин Е.А.'},\n",
              " {'Горюшкина Е.А.': 'Горюшкин Е.А.'},\n",
              " {'Лысова А.А.': 'Лысов А.А.'},\n",
              " {'Шапошникова И.В.': 'Шапошников И.В.'},\n",
              " {'Хоцкина О.В.': 'Хоцкин О.В.'},\n",
              " {'Долгушина Л.В.': 'Долгушин Л.В.'},\n",
              " {'Терентьева Т.А.': 'Терентьев Т.А.'},\n",
              " {'Советов Ю': 'Советы Ю'},\n",
              " {'Исаева Н.А.': 'Исаев Н.А.'},\n",
              " {'Прохорова Т.И.': 'Прохоров Т.И.'},\n",
              " {'Криницына Ю': 'Криницын Ю'},\n",
              " {'Старкова Е.В.': 'Старков Е.В.'},\n",
              " {'Никонов С.Д.': 'Никоны С.Д.'},\n",
              " {'Обухова Л.А.': 'Обухов Л.А.'},\n",
              " {'Першина Л.А.': 'Першин Л.А.'},\n",
              " {'Годовикова Т.С.': 'Годовиков Т.С.'},\n",
              " {'Касьянова С.Н.': 'Касьянов С.Н.'},\n",
              " {'Аверина Т.А.': 'Аверин Т.А.'},\n",
              " {'Тимофеева М.К.': 'Тимофеев М.К.'},\n",
              " {'Кошкарева Н.Б.': 'Кошкарев Н.Б.'},\n",
              " {'Перфильева Л.В.': 'Перфильев Л.В.'},\n",
              " {'Борисова Л.С.': 'Борисов Л.С.'},\n",
              " {'Матвеева И.И.': 'Матвеев И.И.'},\n",
              " {'Доманова Е.Д.': 'Доманов Е.Д.'},\n",
              " {'Нетёсов С.В.': 'Нетесов С.В.'},\n",
              " {'Молодцов В.В.': 'Молодцы В.В.'},\n",
              " {'Кузнецова Т.В.': 'Кузнецов Т.В.'},\n",
              " {'Шапошникова К.Г.': 'Шапошников К.Г.'},\n",
              " {'Пантелеева Е.В.': 'Пантелеев Е.В.'},\n",
              " {'Коротеева В.В.': 'Коротеев В.В.'},\n",
              " {'Абрамова М.Е.': 'Абрамов М.Е.'},\n",
              " {'Бакулина И.Г.': 'Бакулин И.Г.'},\n",
              " {'Родионова А.С.': 'Родионов А.С.'},\n",
              " {'Шмакова О.В.': 'Шмаков О.В.'},\n",
              " {'Бодрова Е.Ю.': 'Бодров Е.Ю.'},\n",
              " {'Лебедева Н.К.': 'Лебедев Н.К.'},\n",
              " {'Филина И.Л.': 'Филин И.Л.'},\n",
              " {'Бунева В.Н.': 'Бунев В.Н.'},\n",
              " {'Дементьева Н.В.': 'Дементьев Н.В.'},\n",
              " {'Фёдоров А.А.': 'Федоров А.А.'},\n",
              " {'Анисимова А.А.': 'Анисимов А.А.'},\n",
              " {'Рыбакова Г.В.': 'Рыбаков Г.В.'},\n",
              " {'Черкашина Т.Ю.': 'Черкашин Т.Ю.'},\n",
              " {'Лбова Л.В.': 'Лбов Л.В.'},\n",
              " {'Ефремова О.В.': 'Ефремов О.В.'},\n",
              " {'Кудрявцева Н.А.': 'Кудрявцев Н.А.'},\n",
              " {'Береснева А.В.': 'Береснев А.В.'},\n",
              " {'Федяева О.И.': 'Федяев О.И.'},\n",
              " {'Дмитриева Ю': 'Дмитриев Ю'},\n",
              " {'Климова Е.В.': 'Климов Е.В.'},\n",
              " {'Храброва О.И.': 'Храбров О.И.'},\n",
              " {'Куликова Л.А.': 'Куликов Л.А.'},\n",
              " {'Федоряева Т.И.': 'Федоряев Т.И.'},\n",
              " {'Волошина М.А.': 'Волошин М.А.'},\n",
              " {'Коньшина О.Г.': 'Коньшин О.Г.'},\n",
              " {'Чаринцева М.В.': 'Чаринцев М.В.'},\n",
              " {'Панова С.С.': 'Панов С.С.'},\n",
              " {'Богомолова Т.А.': 'Богомолов Т.А.'},\n",
              " {'Пермякова Н.А.': 'Пермяков Н.А.'},\n",
              " {'Кудряшова Н.В.': 'Кудряшов Н.В.'},\n",
              " {'Серебрякова Д.В.': 'Серебряков Д.В.'},\n",
              " {'Панина Н.Л.': 'Панин Н.Л.'},\n",
              " {'Туркина О.М.': 'Туркин О.М.'},\n",
              " {'Голубева Л.А.': 'Голубев Л.А.'},\n",
              " {'Морозов М.Э.': 'Морозы М.Э.'},\n",
              " {'Бугуева Т.В.': 'Бугуев Т.В.'},\n",
              " {'Волкова О.С.': 'Волков О.С.'},\n",
              " {'Чумакова Н.А.': 'Чумаков Н.А.'},\n",
              " {'Буфетова Л.П.': 'Буфетов Л.П.'},\n",
              " {'Рудометова А.С.': 'Рудометов А.С.'},\n",
              " {'Григорьева Э.В.': 'Григорьев Э.В.'},\n",
              " {'Агеева С.Д.': 'Агеев С.Д.'},\n",
              " {'Шалимова И.А.': 'Шалимов И.А.'},\n",
              " {'Абрамова М.А.': 'Абрамов М.А.'},\n",
              " {'Филимонова И.В.': 'Филимонов И.В.'},\n",
              " {'Сидорова Е.А.': 'Сидоров Е.А.'},\n",
              " {'Пляскина Н.И.': 'Пляскин Н.И.'},\n",
              " {'Гетманова А.В.': 'Гетманов А.В.'},\n",
              " {'Прокофьева Е.П.': 'Прокофьев Е.П.'},\n",
              " {'Мельтенисова Е.Н.': 'Мельтенисов Е.Н.'},\n",
              " {'Яковлева Е.Ю.': 'Яковлев Е.Ю.'},\n",
              " {'Чернякова О.В.': 'Черняков О.В.'},\n",
              " {'Солдаткина Е.И.': 'Солдаткин Е.И.'},\n",
              " {'Димова Т.В.': 'Димов Т.В.'},\n",
              " {'Глушкова Н.В.': 'Глушков Н.В.'},\n",
              " {'Гулидова А.А.': 'Гулидов А.А.'},\n",
              " {'Лякина Я.С.': 'Лякин Я.С.'},\n",
              " {'Зорькина Н.И.': 'Зорькин Н.И.'},\n",
              " {'Маликова О.Ю.': 'Маликов О.Ю.'},\n",
              " {'Николаева Н.Ш.': 'Николаев Н.Ш.'},\n",
              " {'Котельникова М.С.': 'Котельников М.С.'},\n",
              " {'Беднякова А.Е.': 'Бедняков А.Е.'},\n",
              " {'Кузнецова О.М.': 'Кузнецов О.М.'},\n",
              " {'Балакина Е.Ю.': 'Балакин Е.Ю.'},\n",
              " {'Ильичёв А.А.': 'Ильичев А.А.'},\n",
              " {'Кокина Т.Е.': 'Кокин Т.Е.'},\n",
              " {'Ибрагимова Р.Р.': 'Ибрагимов Р.Р.'},\n",
              " {'Кудинова М.А.': 'Кудинов М.А.'},\n",
              " {'Харламова Т.А.': 'Харламов Т.А.'},\n",
              " {'Ахметшина Т.Р.': 'Ахметшин Т.Р.'},\n",
              " {'Сухорукова А.Ф.': 'Сухоруков А.Ф.'},\n",
              " {'Мечетина Л.В.': 'Мечетин Л.В.'},\n",
              " {'Раздъяконова Е.В.': 'Раздъяконов Е.В.'},\n",
              " {'Борисова Е.О.': 'Борисов Е.О.'},\n",
              " {'Стражникова И.Н.': 'Стражников И.Н.'},\n",
              " {'Долгова Н.А.': 'Долгов Н.А.'},\n",
              " {'Гуляева М.А.': 'Гуляев М.А.'},\n",
              " {'Вожаков И.С.': 'Вожаки И.С.'},\n",
              " {'Кононова П.А.': 'Кононов П.А.'},\n",
              " {'Кушнарева А.А.': 'Кушнарев А.А.'},\n",
              " {'Полякова А.П.': 'Поляков А.П.'},\n",
              " {'Холкина О.Н.': 'Холкин О.Н.'},\n",
              " {'Федорова Е.С.': 'Федоров Е.С.'},\n",
              " {'Шеина': 'Шеин'},\n",
              " {'Березнякова К.С.': 'Березняков К.С.'},\n",
              " {'Манзаева Н.Г.': 'Манзаев Н.Г.'},\n",
              " {'Алябина Е.В.': 'Алябин Е.В.'},\n",
              " {'Мезенцева М.П.': 'Мезенцев М.П.'},\n",
              " {'Ротанова Т.А.': 'Ротанов Т.А.'},\n",
              " {'Мулляджанова Н.С.': 'Мулляджанов Н.С.'},\n",
              " {'Воропаева О.Ф.': 'Воропаев О.Ф.'},\n",
              " {'Меренкова А.В.': 'Меренков А.В.'},\n",
              " {'Мещерякова С.Н.': 'Мещеряков С.Н.'},\n",
              " {'Прокопьева Е.А.': 'Прокопьев Е.А.'},\n",
              " {'Языкова Н.А.': 'Языков Н.А.'},\n",
              " {'Ульянова Е.А.': 'Ульянов Е.А.'},\n",
              " {'Ермолаева М.В.': 'Ермолаев М.В.'},\n",
              " {'Русецкая О.В.': 'Русецкай О.В.'},\n",
              " {'Савина А.И.': 'Савин А.И.'},\n",
              " {'Багрянцева И.Н.': 'Багрянцев И.Н.'},\n",
              " {'Воробьёв К.В.': 'Воробьев К.В.'},\n",
              " {'Алексеева А.А.': 'Алексеев А.А.'},\n",
              " {'Иванова В.В.': 'Иванов В.В.'},\n",
              " {'Стяжкина Л.А.': 'Стяжкин Л.А.'},\n",
              " {'Давлетшина В.Н.': 'Давлетшин В.Н.'},\n",
              " {'Непорада Е.Л.': 'Непорад Е.Л.'},\n",
              " {'Проскура Я.В.': 'Проскур Я.В.'},\n",
              " {'Антонова Я.В.': 'Антонов Я.В.'},\n",
              " {'Позднякова Ю': 'Поздняков Ю'},\n",
              " {'Грекова А.Д.': 'Греков А.Д.'},\n",
              " {'Цыганкова А.Р.': 'Цыганков А.Р.'},\n",
              " {'Кармышева И.В.': 'Кармышев И.В.'},\n",
              " {'Михалёва М.М.': 'Михалев М.М.'},\n",
              " {'Матвеева': 'Матвеев'},\n",
              " {'Борзенкова Н.А.': 'Борзенков Н.А.'},\n",
              " {'Мартынова С.А.': 'Мартынов С.А.'},\n",
              " {'Локтионова О.А.': 'Локтионов О.А.'},\n",
              " {'Гребнева Е.С.': 'Гребнев Е.С.'},\n",
              " {'Абилдаева М.А.': 'Абилдаев М.А.'},\n",
              " {'Марчука М.И.': 'Марчук М.И.'},\n",
              " {'Виноградова К.А.': 'Виноградов К.А.'},\n",
              " {'Гатапова Е.Я.': 'Гатапов Е.Я.'},\n",
              " {'Осинцева Н.В.': 'Осинцев Н.В.'},\n",
              " {'Ерзина Т.И.': 'Ерзин Т.И.'},\n",
              " {'Чубаров А.С.': 'Чубары А.С.'},\n",
              " {'Хрунина М.А.': 'Хрунин М.А.'},\n",
              " {'Киселёва О.В.': 'Киселев О.В.'},\n",
              " {'Кормича П.С.': 'Кормич П.С.'},\n",
              " {'Ильина Д.В.': 'Ильин Д.В.'},\n",
              " {'Зорина А.В.': 'Зорин А.В.'},\n",
              " {'Воронкова Е.Р.': 'Воронков Е.Р.'},\n",
              " {'Сарычева Ю': 'Сарычев Ю'},\n",
              " {'Дулина Н.С.': 'Дулин Н.С.'},\n",
              " {'Рычкова Н.Г.': 'Рычков Н.Г.'},\n",
              " {'Сорокина А.В.': 'Сорокин А.В.'},\n",
              " {'Бабина К.А.': 'Бабин К.А.'},\n",
              " {'Козырева Е.А.': 'Козырев Е.А.'},\n",
              " {'Фаламеева О.В.': 'Фаламеев О.В.'},\n",
              " {'Голышева Е.А.': 'Голышев Е.А.'},\n",
              " {'Муравьева В.К.': 'Муравьев В.К.'},\n",
              " {'Чеплакова А.М.': 'Чеплаков А.М.'},\n",
              " {'Тюленёва Н.А.': 'Тюленева Н.А.'},\n",
              " {'Ухова В.Г.': 'Ухов В.Г.'},\n",
              " {'Янькова Г.С.': 'Яньков Г.С.'},\n",
              " {'Батурина': 'Батурин'},\n",
              " {'Лебедева М.Е.': 'Лебедев М.Е.'},\n",
              " {'Брылева Ю': 'Брылев Ю'},\n",
              " {'Позмогова Т.Н.': 'Позмогов Т.Н.'},\n",
              " {'Жеребцова М.А.': 'Жеребцов М.А.'},\n",
              " {'Мартынова Е.Е.': 'Мартынов Е.Е.'},\n",
              " {'Новоселов И.Д.': 'Новоселы И.Д.'},\n",
              " {'Еремина Ю': 'Еремин Ю'},\n",
              " {'Берёза А.С.': 'Береза А.С.'},\n",
              " {'Иванова А.И.': 'Иванов А.И.'},\n",
              " {'Гордеева М.А.': 'Гордеев М.А.'},\n",
              " {'Вятчинина А.Н.': 'Вятчинин А.Н.'},\n",
              " {'Бояринова В.И.': 'Бояринов В.И.'},\n",
              " {'Борисенкова М.Д.': 'Борисенков М.Д.'},\n",
              " {'Чиннова Г.Н.': 'Чиннов Г.Н.'},\n",
              " {'Дроздова': 'Дроздов'},\n",
              " {'Казакова А.А.': 'Казаков А.А.'},\n",
              " {'Палишева Н.В.': 'Палишев Н.В.'},\n",
              " {'Жиличева Г.А.': 'Жиличев Г.А.'},\n",
              " {'Земнухова Е.А.': 'Земнухов Е.А.'},\n",
              " {'Кубышкина А.С.': 'Кубышкин А.С.'},\n",
              " {'Краснова С.А.': 'Краснов С.А.'},\n",
              " {'Искакова У': 'Искаков У'},\n",
              " {'Замятина Е.В.': 'Замятин Е.В.'},\n",
              " {'Лепшокова М.С.': 'Лепшоков М.С.'},\n",
              " {'Шмакова Н.Д.': 'Шмаков Н.Д.'},\n",
              " {'Гребенкина Т.Ю.': 'Гребенкин Т.Ю.'},\n",
              " {'Тимофеева О.А.': 'Тимофеев О.А.'},\n",
              " {'Даурцева Н.А.': 'Даурцев Н.А.'},\n",
              " {'Микенина О.А.': 'Микенин О.А.'},\n",
              " {'Ершова Е.Е.': 'Ершов Е.Е.'},\n",
              " {'Мамонтова М.А.': 'Мамонтов М.А.'},\n",
              " {'Шеметова В.В.': 'Шеметов В.В.'},\n",
              " {'Белозерова М.С.': 'Белозеров М.С.'},\n",
              " {'Мягкова Е.Ю.': 'Мягков Е.Ю.'},\n",
              " {'Николаева Н.И.': 'Николаев Н.И.'}]"
            ]
          },
          "metadata": {},
          "execution_count": 33
        }
      ]
    },
    {
      "cell_type": "markdown",
      "metadata": {
        "id": "OhYgtQmfvzxT"
      },
      "source": [
        "# 3. Подготовка данных для обучения:"
      ]
    },
    {
      "cell_type": "markdown",
      "metadata": {
        "id": "wMfczAIPwqSC"
      },
      "source": [
        "## 3.1 Пример подготовки данных для обучения:"
      ]
    },
    {
      "cell_type": "code",
      "metadata": {
        "id": "dH0oIM22v2kn"
      },
      "source": [
        "# Разделим обучающую выборку:\n",
        "\n",
        "from sklearn.model_selection import train_test_split\n",
        "\n",
        "X = train_data.text.values\n",
        "y = train_data.intent\n",
        "\n",
        "X_train, X_test, y_train, y_test = train_test_split(X, y, test_size=0.1, random_state=0)"
      ],
      "execution_count": null,
      "outputs": []
    },
    {
      "cell_type": "code",
      "metadata": {
        "id": "vmvabWjLwMXC"
      },
      "source": [
        "# Векторизуем корпус:\n",
        "\n",
        "from sklearn.feature_extraction.text import TfidfVectorizer\n",
        "\n",
        "vectorizer = TfidfVectorizer()\n",
        "vectorizer.fit(X)\n",
        "\n",
        "X_train = vectorizer.transform(X_train)\n",
        "X_test = vectorizer.transform(X_test)"
      ],
      "execution_count": null,
      "outputs": []
    },
    {
      "cell_type": "code",
      "metadata": {
        "id": "I8ULtBNowhZq"
      },
      "source": [
        "# Подготовим таргет\n",
        "\n",
        "from sklearn import preprocessing\n",
        "\n",
        "le = preprocessing.LabelEncoder()\n",
        "le.fit(y)\n",
        "\n",
        "y_train = le.transform(y_train)\n",
        "y_test = le.transform(y_test)"
      ],
      "execution_count": null,
      "outputs": []
    },
    {
      "cell_type": "markdown",
      "metadata": {
        "id": "lt0VwW0yw2Vl"
      },
      "source": [
        "## 3.2 Ваш вариант подготовки данных для обучения:"
      ]
    },
    {
      "cell_type": "code",
      "metadata": {
        "id": "z_b2xo_lw9I_"
      },
      "source": [
        "# Проявите фантазию и предложите альтернативные методы векторизации, которые дадут лучшее качетсво на классификации\n",
        "\n",
        "#X_train, X_test, y_train, y_test =  Your code"
      ],
      "execution_count": null,
      "outputs": []
    },
    {
      "cell_type": "markdown",
      "metadata": {
        "id": "WmMSwbmZRhAc"
      },
      "source": [
        "## Предобработка"
      ]
    },
    {
      "cell_type": "code",
      "metadata": {
        "id": "YEgEpWpARhAd"
      },
      "source": [
        "import string\n",
        "import re\n",
        "import nltk\n",
        "from nltk.corpus import stopwords\n",
        "from string import punctuation"
      ],
      "execution_count": null,
      "outputs": []
    },
    {
      "cell_type": "code",
      "metadata": {
        "id": "q9LgjjrSRg_l"
      },
      "source": [
        "import numpy as np\n",
        "from tqdm.auto import tqdm, trange"
      ],
      "execution_count": null,
      "outputs": []
    },
    {
      "cell_type": "code",
      "metadata": {
        "id": "f8AiJd_jkaYK"
      },
      "source": [
        "def remove_punctuation(text):\n",
        "    return \"\".join([ch if ch not in string.punctuation else ' ' for ch in text])\n",
        "def remove_numbers(text):\n",
        "    return ''.join([i if not i.isdigit() else ' ' for i in text])\n",
        "def remove_multiple_spaces(text):\n",
        "\treturn re.sub(r'\\s+', ' ', text, flags=re.I)    "
      ],
      "execution_count": null,
      "outputs": []
    },
    {
      "cell_type": "code",
      "metadata": {
        "id": "XBGMPNCpT19I"
      },
      "source": [
        "data = train_data"
      ],
      "execution_count": null,
      "outputs": []
    },
    {
      "cell_type": "code",
      "metadata": {
        "id": "oRL-AoFPRhAg",
        "colab": {
          "base_uri": "https://localhost:8080/",
          "height": 49,
          "referenced_widgets": [
            "c8901aea3fd140889efa8c68adc10dd2",
            "5141da187ccf48379f4d8e8d61d3810d",
            "ddd192a689274f3690fd5bd23933fcc1",
            "93a609dba6234bcbaa2825df080a2057",
            "49d9ac81fc0b4eac9bf8a1438b9c47b3",
            "e5a4b7353deb4a05ac1874c59cd346f9",
            "ae64aeaab1e34e6e9268436aaf056bba",
            "96fdd0b25e9f47c7bd42366c6f2204ce",
            "d7af95d2c50c4aa29c3435ca16db0788",
            "de6e84d7ce9d420c9aaf774f8306e870",
            "66bf8c2410854818853d5dc9d5cb1331"
          ]
        },
        "outputId": "1bc2f53f-b14b-4bbe-e360-a80350e2f7a7"
      },
      "source": [
        "prep_text = [remove_multiple_spaces(remove_numbers(remove_punctuation(text.lower()))) for text in tqdm(data['text'])]"
      ],
      "execution_count": null,
      "outputs": [
        {
          "output_type": "display_data",
          "data": {
            "application/vnd.jupyter.widget-view+json": {
              "model_id": "c8901aea3fd140889efa8c68adc10dd2",
              "version_minor": 0,
              "version_major": 2
            },
            "text/plain": [
              "  0%|          | 0/13230 [00:00<?, ?it/s]"
            ]
          },
          "metadata": {}
        }
      ]
    },
    {
      "cell_type": "code",
      "metadata": {
        "id": "QZdPxTnERhAl",
        "colab": {
          "base_uri": "https://localhost:8080/"
        },
        "outputId": "4ddaab10-5333-42ce-c1f3-00497e48493b"
      },
      "source": [
        "nltk.download('stopwords')\n",
        "russian_stopwords = stopwords.words(\"russian\")\n",
        "russian_stopwords.extend(['…', '«', '»', '...', 'т.д.', 'т', 'д'])\n",
        "from nltk import word_tokenize\n",
        "nltk.download('punkt')"
      ],
      "execution_count": null,
      "outputs": [
        {
          "output_type": "stream",
          "name": "stdout",
          "text": [
            "[nltk_data] Downloading package stopwords to /root/nltk_data...\n",
            "[nltk_data]   Unzipping corpora/stopwords.zip.\n",
            "[nltk_data] Downloading package punkt to /root/nltk_data...\n",
            "[nltk_data]   Unzipping tokenizers/punkt.zip.\n"
          ]
        },
        {
          "output_type": "execute_result",
          "data": {
            "text/plain": [
              "True"
            ]
          },
          "metadata": {},
          "execution_count": 43
        }
      ]
    },
    {
      "cell_type": "code",
      "metadata": {
        "id": "_Pje7bT2RhAn"
      },
      "source": [
        "def remove_stop_words(text):\n",
        "    tokens = word_tokenize(text) \n",
        "    tokens = [token for token in tokens if token not in russian_stopwords and token != ' ']\n",
        "    return \" \".join(tokens)"
      ],
      "execution_count": null,
      "outputs": []
    },
    {
      "cell_type": "code",
      "metadata": {
        "id": "4MqvOj7NRhAo",
        "colab": {
          "base_uri": "https://localhost:8080/",
          "height": 49,
          "referenced_widgets": [
            "409bf52ea57c4a3d9318ebd7d6650d47",
            "d2f2851395144a8c91d6426787cb054b",
            "d4ab17f8cffd4978b478b55e19149f36",
            "8aa57a2fcce04ec4aa9ea0014225a56a",
            "c024bd709123430bbcc842f9631b93f1",
            "65a6ba9ab3a244ba8d28906f000a1710",
            "95b917f005f840279a10d650b412cb01",
            "a4b86e86576f4c0091b74d845abccfc2",
            "58897e345ffb45e7b0feeee2a7f64fc4",
            "ae578c91439447c29545d2aec76886fe",
            "3feb5019acb9433f890ee885d5621a8f"
          ]
        },
        "outputId": "1bd0d2a0-d55f-449e-b26f-2f1d32b61891"
      },
      "source": [
        "from nltk import word_tokenize\n",
        "\n",
        "sw_texts_list = []\n",
        "for text in tqdm(prep_text):\n",
        "    tokens = word_tokenize(text)    \n",
        "    tokens = [token for token in tokens if token not in russian_stopwords and token != ' ']\n",
        "    text = \" \".join(tokens)\n",
        "    sw_texts_list.append(text)\n",
        "\n",
        "data['text_sw'] = sw_texts_list"
      ],
      "execution_count": null,
      "outputs": [
        {
          "output_type": "display_data",
          "data": {
            "application/vnd.jupyter.widget-view+json": {
              "model_id": "409bf52ea57c4a3d9318ebd7d6650d47",
              "version_minor": 0,
              "version_major": 2
            },
            "text/plain": [
              "  0%|          | 0/13230 [00:00<?, ?it/s]"
            ]
          },
          "metadata": {}
        }
      ]
    },
    {
      "cell_type": "code",
      "metadata": {
        "colab": {
          "base_uri": "https://localhost:8080/"
        },
        "id": "AwX34mey1fAp",
        "outputId": "f33b5408-a68c-4c83-8235-979901c20b70"
      },
      "source": [
        "pip install pymorphy2"
      ],
      "execution_count": null,
      "outputs": [
        {
          "output_type": "stream",
          "name": "stdout",
          "text": [
            "Requirement already satisfied: pymorphy2 in /usr/local/lib/python3.7/dist-packages (0.9.1)\n",
            "Requirement already satisfied: docopt>=0.6 in /usr/local/lib/python3.7/dist-packages (from pymorphy2) (0.6.2)\n",
            "Requirement already satisfied: dawg-python>=0.7.1 in /usr/local/lib/python3.7/dist-packages (from pymorphy2) (0.7.2)\n",
            "Requirement already satisfied: pymorphy2-dicts-ru<3.0,>=2.4 in /usr/local/lib/python3.7/dist-packages (from pymorphy2) (2.4.417127.4579844)\n"
          ]
        }
      ]
    },
    {
      "cell_type": "code",
      "metadata": {
        "id": "jfeCYL3H1cPr"
      },
      "source": [
        "import pymorphy2\n",
        "morph = pymorphy2.MorphAnalyzer()\n",
        "\n",
        "def lemmatize(text):\n",
        "    words = text.split() # разбиваем текст на слова\n",
        "    res = list()\n",
        "    for word in words:\n",
        "        p = morph.parse(word)[0]\n",
        "        res.append(p.normal_form)\n",
        "    str1 = ' '.join(res)    \n",
        "\n",
        "    return str1"
      ],
      "execution_count": null,
      "outputs": []
    },
    {
      "cell_type": "code",
      "metadata": {
        "colab": {
          "base_uri": "https://localhost:8080/",
          "height": 49,
          "referenced_widgets": [
            "2799e85994fb4a15b7d78fc49cc1644f",
            "dd126812c24049da9f881d759f49a3f1",
            "d096fcf287234155820688a58d668133",
            "b8295723d116489086980892d3bf7d8f",
            "0e63a3b087c74cf88802b5f13d614dc5",
            "5d42b6de188f40c6ab906c8a3b3d768a",
            "8e4f445d279a44f69a09936acc269836",
            "51f976e75ec94f23908c2102908c2556",
            "98ad377c903d4989978e8100f8371627",
            "8276cde010cf4325be71eb8f17085330",
            "305efe6e067e40268bbfa58f157bcd12"
          ]
        },
        "id": "w3qOQBDl1vXB",
        "outputId": "ae873d19-491f-479f-c1e5-bf417eff1185"
      },
      "source": [
        "lemm_texts_list = []\n",
        "for text in tqdm(prep_text):\n",
        "  lemm_texts_list.append(lemmatize(text))\n",
        "\n",
        "data['text_lemm'] = lemm_texts_list"
      ],
      "execution_count": null,
      "outputs": [
        {
          "output_type": "display_data",
          "data": {
            "application/vnd.jupyter.widget-view+json": {
              "model_id": "2799e85994fb4a15b7d78fc49cc1644f",
              "version_minor": 0,
              "version_major": 2
            },
            "text/plain": [
              "  0%|          | 0/13230 [00:00<?, ?it/s]"
            ]
          },
          "metadata": {}
        }
      ]
    },
    {
      "cell_type": "code",
      "metadata": {
        "id": "g-xZVY9zRhAj",
        "colab": {
          "base_uri": "https://localhost:8080/",
          "height": 358
        },
        "outputId": "df1bbbd6-3d52-4e8c-8ae3-0465a4b1a4e8"
      },
      "source": [
        "data.head(10)"
      ],
      "execution_count": null,
      "outputs": [
        {
          "output_type": "execute_result",
          "data": {
            "text/html": [
              "<div>\n",
              "<style scoped>\n",
              "    .dataframe tbody tr th:only-of-type {\n",
              "        vertical-align: middle;\n",
              "    }\n",
              "\n",
              "    .dataframe tbody tr th {\n",
              "        vertical-align: top;\n",
              "    }\n",
              "\n",
              "    .dataframe thead th {\n",
              "        text-align: right;\n",
              "    }\n",
              "</style>\n",
              "<table border=\"1\" class=\"dataframe\">\n",
              "  <thead>\n",
              "    <tr style=\"text-align: right;\">\n",
              "      <th></th>\n",
              "      <th>text</th>\n",
              "      <th>intent</th>\n",
              "      <th>text_sw</th>\n",
              "      <th>text_lemm</th>\n",
              "    </tr>\n",
              "  </thead>\n",
              "  <tbody>\n",
              "    <tr>\n",
              "      <th>0</th>\n",
              "      <td>мне нужна справка</td>\n",
              "      <td>statement_general</td>\n",
              "      <td>нужна справка</td>\n",
              "      <td>я нужный справка</td>\n",
              "    </tr>\n",
              "    <tr>\n",
              "      <th>1</th>\n",
              "      <td>оформить справку</td>\n",
              "      <td>statement_general</td>\n",
              "      <td>оформить справку</td>\n",
              "      <td>оформить справка</td>\n",
              "    </tr>\n",
              "    <tr>\n",
              "      <th>2</th>\n",
              "      <td>взять справку</td>\n",
              "      <td>statement_general</td>\n",
              "      <td>взять справку</td>\n",
              "      <td>взять справка</td>\n",
              "    </tr>\n",
              "    <tr>\n",
              "      <th>3</th>\n",
              "      <td>справку как получить</td>\n",
              "      <td>statement_general</td>\n",
              "      <td>справку получить</td>\n",
              "      <td>справка как получить</td>\n",
              "    </tr>\n",
              "    <tr>\n",
              "      <th>4</th>\n",
              "      <td>справку ммф где получаться</td>\n",
              "      <td>statement_general</td>\n",
              "      <td>справку ммф получаться</td>\n",
              "      <td>справка ммф где получаться</td>\n",
              "    </tr>\n",
              "    <tr>\n",
              "      <th>5</th>\n",
              "      <td>справка как получить</td>\n",
              "      <td>statement_general</td>\n",
              "      <td>справка получить</td>\n",
              "      <td>справка как получить</td>\n",
              "    </tr>\n",
              "    <tr>\n",
              "      <th>6</th>\n",
              "      <td>справку оформить</td>\n",
              "      <td>statement_general</td>\n",
              "      <td>справку оформить</td>\n",
              "      <td>справка оформить</td>\n",
              "    </tr>\n",
              "    <tr>\n",
              "      <th>7</th>\n",
              "      <td>оформлять справка</td>\n",
              "      <td>statement_general</td>\n",
              "      <td>оформлять справка</td>\n",
              "      <td>оформлять справка</td>\n",
              "    </tr>\n",
              "    <tr>\n",
              "      <th>8</th>\n",
              "      <td>оформлять справку</td>\n",
              "      <td>statement_general</td>\n",
              "      <td>оформлять справку</td>\n",
              "      <td>оформлять справка</td>\n",
              "    </tr>\n",
              "    <tr>\n",
              "      <th>9</th>\n",
              "      <td>справку</td>\n",
              "      <td>statement_general</td>\n",
              "      <td>справку</td>\n",
              "      <td>справка</td>\n",
              "    </tr>\n",
              "  </tbody>\n",
              "</table>\n",
              "</div>"
            ],
            "text/plain": [
              "                         text  ...                   text_lemm\n",
              "0           мне нужна справка  ...            я нужный справка\n",
              "1            оформить справку  ...            оформить справка\n",
              "2               взять справку  ...               взять справка\n",
              "3        справку как получить  ...        справка как получить\n",
              "4  справку ммф где получаться  ...  справка ммф где получаться\n",
              "5        справка как получить  ...        справка как получить\n",
              "6            справку оформить  ...            справка оформить\n",
              "7           оформлять справка  ...           оформлять справка\n",
              "8           оформлять справку  ...           оформлять справка\n",
              "9                     справку  ...                     справка\n",
              "\n",
              "[10 rows x 4 columns]"
            ]
          },
          "metadata": {},
          "execution_count": 49
        }
      ]
    },
    {
      "cell_type": "code",
      "metadata": {
        "id": "PvBXuYeQRhAw"
      },
      "source": [
        "X = data['text_lemm']\n",
        "y = data['intent']"
      ],
      "execution_count": null,
      "outputs": []
    },
    {
      "cell_type": "markdown",
      "metadata": {
        "id": "zoNwTTwExMG7"
      },
      "source": [
        "# 4. Обучение классификатора:"
      ]
    },
    {
      "cell_type": "markdown",
      "metadata": {
        "id": "ZUUN6V4CxUZO"
      },
      "source": [
        "## 4.1 Пример обучения классификатора:"
      ]
    },
    {
      "cell_type": "code",
      "metadata": {
        "colab": {
          "base_uri": "https://localhost:8080/"
        },
        "id": "plJEdFZOxPX8",
        "outputId": "d69b0fcf-0062-485b-edd6-31925a627d3e"
      },
      "source": [
        "# Обучим Random Forest\n",
        "\n",
        "from sklearn.ensemble import RandomForestClassifier\n",
        "\n",
        "clf = RandomForestClassifier(max_depth=300, random_state=0, n_estimators=50)\n",
        "clf.fit(X_train, y_train)"
      ],
      "execution_count": null,
      "outputs": [
        {
          "output_type": "execute_result",
          "data": {
            "text/plain": [
              "RandomForestClassifier(bootstrap=True, ccp_alpha=0.0, class_weight=None,\n",
              "                       criterion='gini', max_depth=300, max_features='auto',\n",
              "                       max_leaf_nodes=None, max_samples=None,\n",
              "                       min_impurity_decrease=0.0, min_impurity_split=None,\n",
              "                       min_samples_leaf=1, min_samples_split=2,\n",
              "                       min_weight_fraction_leaf=0.0, n_estimators=50,\n",
              "                       n_jobs=None, oob_score=False, random_state=0, verbose=0,\n",
              "                       warm_start=False)"
            ]
          },
          "metadata": {},
          "execution_count": 51
        }
      ]
    },
    {
      "cell_type": "code",
      "metadata": {
        "id": "UjeWwJxbxj0r"
      },
      "source": [
        "# Сделаем предсказание\n",
        "\n",
        "prediction = clf.predict(X_test)"
      ],
      "execution_count": null,
      "outputs": []
    },
    {
      "cell_type": "code",
      "metadata": {
        "colab": {
          "base_uri": "https://localhost:8080/"
        },
        "id": "nZEX2wPlxuL9",
        "outputId": "86589d57-4aae-4ed9-ee01-814f696ef061"
      },
      "source": [
        "# Оценим качество на отложенных данных\n",
        "\n",
        "from sklearn.metrics import f1_score\n",
        "\n",
        "f1_score(y_test, prediction, average='micro')"
      ],
      "execution_count": null,
      "outputs": [
        {
          "output_type": "execute_result",
          "data": {
            "text/plain": [
              "0.9191232048374905"
            ]
          },
          "metadata": {},
          "execution_count": 53
        }
      ]
    },
    {
      "cell_type": "markdown",
      "metadata": {
        "id": "lejuriJbx493"
      },
      "source": [
        "## 4.2 Ваш вариант обучения классификатора"
      ]
    },
    {
      "cell_type": "code",
      "metadata": {
        "id": "7tGIU9mfx1Nb"
      },
      "source": [
        "# Проявите фантазию и предложите альтернативные методы классификации, возможно нейросетевые, проведети настройку параметров для достижения лучшего качества\n",
        "\n",
        "# Your code"
      ],
      "execution_count": null,
      "outputs": []
    },
    {
      "cell_type": "code",
      "metadata": {
        "id": "ooD6h_f77TLh"
      },
      "source": [
        "from sklearn.pipeline import Pipeline\n",
        "from sklearn.feature_extraction.text import TfidfVectorizer\n",
        "from sklearn.linear_model import SGDClassifier\n",
        "from sklearn import metrics\n",
        "from sklearn.model_selection import GridSearchCV"
      ],
      "execution_count": null,
      "outputs": []
    },
    {
      "cell_type": "code",
      "metadata": {
        "id": "bVc9TrUFRhAw"
      },
      "source": [
        "from sklearn.model_selection import train_test_split\n",
        "X_train, X_test, y_train, y_test = train_test_split(X, y, test_size=0.2)"
      ],
      "execution_count": null,
      "outputs": []
    },
    {
      "cell_type": "code",
      "metadata": {
        "id": "DXKZ8aX51dEH"
      },
      "source": [
        "from sklearn.metrics import f1_score"
      ],
      "execution_count": null,
      "outputs": []
    },
    {
      "cell_type": "code",
      "metadata": {
        "id": "cpQYGYulIYu8"
      },
      "source": [
        "sgd_ppl_clf = Pipeline([\n",
        "    ('tfidf', TfidfVectorizer(max_features = 1000, min_df=5, max_df=0.9)),\n",
        "    ('sgd_clf', SGDClassifier(random_state=42))])"
      ],
      "execution_count": null,
      "outputs": []
    },
    {
      "cell_type": "code",
      "metadata": {
        "id": "KYc5bMKBEuky",
        "colab": {
          "base_uri": "https://localhost:8080/"
        },
        "outputId": "3be40ed5-305d-4922-938f-e95deb3d8c09"
      },
      "source": [
        "parameters = { \n",
        "              'sgd_clf__loss':['hinge', 'log', 'modified_huber', 'squared_hinge', 'perceptron'],\n",
        "              'sgd_clf__class_weight':[None, 'balanced'],\n",
        "              'sgd_clf__penalty':[None, 'l2', 'l1', 'elasticnet'],\n",
        "              }\n",
        "model = GridSearchCV(sgd_ppl_clf, parameters, cv=5, n_jobs=-1).fit(X_train, y_train)\n",
        "print('Best score and parameter combination:')\n",
        "print(model.best_score_, model.best_params_)\n"
      ],
      "execution_count": null,
      "outputs": [
        {
          "output_type": "stream",
          "name": "stdout",
          "text": [
            "Best score and parameter combination:\n",
            "0.9264923077472581 {'sgd_clf__class_weight': None, 'sgd_clf__loss': 'modified_huber', 'sgd_clf__penalty': 'l2'}\n"
          ]
        }
      ]
    },
    {
      "cell_type": "code",
      "metadata": {
        "id": "AuJJKy0ONMnB",
        "colab": {
          "base_uri": "https://localhost:8080/"
        },
        "outputId": "65cfdd7c-a318-4923-ecb9-9032daea0a96"
      },
      "source": [
        "sgd_ppl_clf = Pipeline([\n",
        "    ('tfidf', TfidfVectorizer()),\n",
        "    ('sgd_clf', SGDClassifier(penalty='l2', class_weight=None, loss = 'modified_huber', random_state=42))])\n",
        "sgd_ppl_clf.fit(X_train, y_train)\n",
        "predicted_sgd = sgd_ppl_clf.predict(X_test)\n",
        "print(metrics.classification_report(predicted_sgd, y_test))"
      ],
      "execution_count": null,
      "outputs": [
        {
          "output_type": "stream",
          "name": "stdout",
          "text": [
            "                                     precision    recall  f1-score   support\n",
            "\n",
            "                    advice_learning       0.89      1.00      0.94         8\n",
            "                        advice_okno       1.00      1.00      1.00        21\n",
            "                         campus_map       1.00      1.00      1.00        40\n",
            "                            conform       1.00      0.88      0.94        43\n",
            "                        cvvr_define       1.00      1.00      1.00         3\n",
            "                    diploma_red_def       1.00      1.00      1.00        12\n",
            "            dorm_enter_without_pass       1.00      1.00      1.00        12\n",
            "                        dorm_guests       1.00      1.00      1.00        23\n",
            "                        dorm_living       1.00      1.00      1.00        12\n",
            "                          dorm_pets       1.00      1.00      1.00         6\n",
            "                         dorm_price       1.00      1.00      1.00         6\n",
            "                      dormcard_lost       1.00      1.00      1.00        11\n",
            "      enter_university_without_pass       1.00      1.00      1.00        35\n",
            "                      events_define       1.00      1.00      1.00         9\n",
            "                        exam_define       1.00      0.80      0.89         5\n",
            "                          finassist       1.00      1.00      1.00        37\n",
            "                       find_friends       1.00      1.00      1.00        10\n",
            "                      grade_improve       1.00      1.00      1.00        16\n",
            "                      grade_mistake       1.00      1.00      1.00         4\n",
            "                    highscholarship       1.00      1.00      1.00        32\n",
            "                       holidays_def       1.00      1.00      1.00         8\n",
            "                         incomestat       1.00      1.00      1.00         7\n",
            "                      library_books       1.00      1.00      1.00         4\n",
            "                        list_orders       1.00      1.00      1.00         9\n",
            "                     loc_accounting       1.00      1.00      1.00        10\n",
            "                            loc_atm       1.00      1.00      1.00        42\n",
            "loc_automationelectrometryinstitute       0.07      0.03      0.04        32\n",
            " loc_cafeteria_new_building_1_etage       0.67      0.54      0.60        26\n",
            " loc_cafeteria_new_building_2_etage       0.89      0.52      0.65        31\n",
            " loc_cafeteria_new_building_3_etage       0.54      0.86      0.67        22\n",
            " loc_cafeteria_new_building_4_etage       0.62      0.74      0.68        27\n",
            " loc_cafeteria_new_building_general       1.00      1.00      1.00         5\n",
            "         loc_cafeteria_old_building       1.00      1.00      1.00        23\n",
            "                        loc_cashbox       1.00      1.00      1.00        19\n",
            "                  loc_chiminstitute       0.05      0.14      0.07         7\n",
            "                         loc_clinic       1.00      1.00      1.00        21\n",
            "                   loc_commissariat       1.00      1.00      1.00        14\n",
            "                     loc_compcenter       1.00      1.00      1.00        21\n",
            "                      loc_coworking       1.00      1.00      1.00         9\n",
            "      loc_cytologygeneticsinstitute       1.00      1.00      1.00         7\n",
            "                        loc_dean_ef       1.00      1.00      1.00        18\n",
            "                       loc_dean_fen       1.00      1.00      1.00         8\n",
            "                        loc_dean_ff       1.00      1.00      1.00        10\n",
            "                       loc_dean_fit       1.00      1.00      1.00        15\n",
            "                   loc_dean_general       1.00      1.00      1.00         2\n",
            "                       loc_dean_ggf       1.00      1.00      1.00        13\n",
            "                        loc_dean_hi       1.00      1.00      1.00        15\n",
            "                       loc_dean_med       1.00      1.00      1.00        12\n",
            "                       loc_dean_mmf       1.00      0.98      0.99        53\n",
            "                        loc_dean_ph       1.00      1.00      1.00         7\n",
            "                           loc_dorm       1.00      1.00      1.00        11\n",
            "                            loc_eat       1.00      1.00      1.00        15\n",
            "     loc_geologymineralogyinstitute       1.00      1.00      1.00        12\n",
            "                            loc_gym       1.00      1.00      1.00        12\n",
            "                  loc_histinstitute       0.46      0.17      0.25        63\n",
            "                   loc_lawinstitute       0.12      0.18      0.14        11\n",
            "                        loc_library       1.00      1.00      1.00        22\n",
            "                    loc_math_school       1.00      1.00      1.00        13\n",
            "                      loc_newcorpus       1.00      1.00      1.00        21\n",
            "                  loc_nsu_cafeteria       1.00      1.00      1.00         2\n",
            "         loc_nsu_commisariat_office       1.00      1.00      1.00         6\n",
            "              loc_nuclphysinstitute       1.00      1.00      1.00        10\n",
            "                      loc_oldcorpus       1.00      1.00      1.00         9\n",
            "                    loc_pass_office       1.00      1.00      1.00        29\n",
            "                loc_passport_office       1.00      1.00      1.00         9\n",
            "                          loc_pharm       1.00      1.00      1.00        22\n",
            "             loc_philologyinstitute       0.00      0.00      0.00         0\n",
            "                     loc_print_docs       1.00      1.00      1.00         3\n",
            "                           loc_shop       1.00      1.00      1.00        45\n",
            "              loc_sobolev_institute       1.00      1.00      1.00        29\n",
            "                     loc_stationery       1.00      1.00      1.00         6\n",
            "             loc_termophysinstitute       0.00      0.00      0.00         0\n",
            "                 loc_torgovy_center       1.00      1.00      1.00        17\n",
            "                           loc_walk       1.00      1.00      1.00         3\n",
            "                   location_general       0.43      1.00      0.60         3\n",
            "                  lost_card_general       1.00      1.00      1.00        10\n",
            "                    math_center_def       1.00      1.00      1.00        11\n",
            "                        name_rector       1.00      1.00      1.00         7\n",
            "                nsu_foundation_date       1.00      1.00      1.00         4\n",
            "                          nsu_merch       1.00      1.00      1.00         6\n",
            "                             nsunet       0.87      1.00      0.93        48\n",
            "                        nsunet_cost       1.00      1.00      1.00        32\n",
            "                officertraining_def       1.00      1.00      1.00         8\n",
            "                  pay_educ_discount       1.00      1.00      1.00        35\n",
            "                  pay_nsunet_online       1.00      1.00      1.00         8\n",
            "                   pay_offline_dorm       1.00      1.00      1.00        18\n",
            "                    pay_online_dorm       1.00      1.00      1.00        19\n",
            "                   photoclub_define       1.00      1.00      1.00         5\n",
            "                     price_recourse       1.00      1.00      1.00        10\n",
            "                         sched_exam       1.00      1.00      1.00        45\n",
            "                    sched_for_group       0.95      0.92      0.93        93\n",
            "                sched_for_group_day       1.00      0.99      0.99        74\n",
            "                      sched_general       0.82      1.00      0.90         9\n",
            "                     sched_location       0.57      0.57      0.57         7\n",
            "       sched_nsu_commisariat_office       1.00      1.00      1.00        12\n",
            "                        sched_rings       1.00      1.00      1.00         8\n",
            "                      sched_teacher       1.00      0.95      0.97       228\n",
            "                  sched_teacher_how       0.92      1.00      0.96        12\n",
            "                scholarship_general       1.00      1.00      1.00         7\n",
            "                 scholarship_payday       1.00      1.00      1.00        16\n",
            "                       site_library       1.00      1.00      1.00         8\n",
            "                           site_nsu       1.00      1.00      1.00        20\n",
            "                   site_student_cab       1.00      1.00      1.00        42\n",
            "                    smalltalk_abuse       1.00      1.00      1.00         6\n",
            "                      smalltalk_bye       0.71      1.00      0.83        15\n",
            "                  smalltalk_creator       1.00      1.00      1.00        15\n",
            "                smalltalk_greetings       1.00      0.93      0.96        14\n",
            "                     smalltalk_name       1.00      1.00      1.00        16\n",
            "                   smalltalk_skills       1.00      0.83      0.91        12\n",
            "                     smalltalk_talk       0.86      1.00      0.92         6\n",
            "                     socscholarship       1.00      1.00      1.00        33\n",
            "            staff_trade_union_enter       1.00      1.00      1.00         1\n",
            "             stat_numb_of_academics       1.00      1.00      1.00        18\n",
            "              stat_numb_of_students       1.00      1.00      1.00        39\n",
            "                  statement_general       0.86      1.00      0.92         6\n",
            "                      status_akadem       1.00      0.92      0.96        12\n",
            "                        status_free       1.00      1.00      1.00        56\n",
            "                     status_kickout       1.00      1.00      1.00        11\n",
            "                       status_leave       1.00      1.00      1.00         5\n",
            "                     stdscholarship       1.00      1.00      1.00        12\n",
            "          student_trade_union_enter       1.00      1.00      1.00         9\n",
            "               student_union_chorus       1.00      1.00      1.00         3\n",
            "               student_union_create       1.00      1.00      1.00        26\n",
            "            student_union_equipment       1.00      1.00      1.00        17\n",
            "         student_union_event_guests       1.00      1.00      1.00        38\n",
            "           student_union_event_room       1.00      1.00      1.00        12\n",
            "                student_union_print       1.00      1.00      1.00         5\n",
            "                 student_union_room       1.00      1.00      1.00         7\n",
            "                 student_union_zoom       1.00      1.00      1.00        11\n",
            "                   studentcard_lost       1.00      1.00      1.00         5\n",
            "                 studentorgs_define       0.83      1.00      0.90        19\n",
            "                        studentpass       1.00      1.00      1.00        18\n",
            "            studentpsychhelp_define       1.00      1.00      1.00        21\n",
            "              superadviser_find_mmf       1.00      1.00      1.00         4\n",
            "                trade_union_general       1.00      0.86      0.92         7\n",
            "                         transcript       1.00      1.00      1.00         9\n",
            "                   travelfinaid_def       1.00      1.00      1.00        15\n",
            "                   travelfinaid_get       1.00      1.00      1.00        30\n",
            "                        tuition_fee       1.00      1.00      1.00        19\n",
            "                   volunteer_become       1.00      1.00      1.00        10\n",
            "                            weather       0.94      0.94      0.94        17\n",
            "                               wifi       1.00      1.00      1.00        50\n",
            "\n",
            "                           accuracy                           0.94      2646\n",
            "                          macro avg       0.94      0.94      0.94      2646\n",
            "                       weighted avg       0.95      0.94      0.94      2646\n",
            "\n"
          ]
        },
        {
          "output_type": "stream",
          "name": "stderr",
          "text": [
            "/usr/local/lib/python3.7/dist-packages/sklearn/metrics/_classification.py:1272: UndefinedMetricWarning:\n",
            "\n",
            "Recall and F-score are ill-defined and being set to 0.0 in labels with no true samples. Use `zero_division` parameter to control this behavior.\n",
            "\n"
          ]
        }
      ]
    },
    {
      "cell_type": "code",
      "metadata": {
        "id": "ibswPvOdnwK_"
      },
      "source": [
        ""
      ],
      "execution_count": null,
      "outputs": []
    },
    {
      "cell_type": "markdown",
      "metadata": {
        "id": "NWqBedevyUj5"
      },
      "source": [
        "# 5. Деплой классификатора на хостинге Heroku с интерфейсом в Телеграм"
      ]
    },
    {
      "cell_type": "markdown",
      "metadata": {
        "id": "9W1AgsBkymMa"
      },
      "source": [
        "На этом шаге мы хотим сделать телеграм бота, который будет классифицировать обращения и возвращать описание интента."
      ]
    },
    {
      "cell_type": "markdown",
      "metadata": {
        "id": "23FmntYwy17H"
      },
      "source": [
        "## 5.1 Научимся сохранять обученные модели sklearn"
      ]
    },
    {
      "cell_type": "code",
      "metadata": {
        "id": "jU0NxVbgyOti"
      },
      "source": [
        "import _pickle as cPickle\n",
        "\n",
        "def save_model(model, filename):\n",
        "    with open(filename, 'wb') as fid:\n",
        "        cPickle.dump(model, fid)\n",
        "\n",
        "def load_model(filename):\n",
        "    with open(filename, 'rb') as fid:\n",
        "        model = cPickle.load(fid)\n",
        "    return model"
      ],
      "execution_count": null,
      "outputs": []
    },
    {
      "cell_type": "code",
      "metadata": {
        "id": "wGi2nI8hzAKo"
      },
      "source": [
        "# Сохраняем:\n",
        "\n",
        "save_model(clf, './classifier.pkl')\n",
        "save_model(vectorizer, './vectorizer.pkl')\n",
        "save_model(le, './le.pkl')"
      ],
      "execution_count": null,
      "outputs": []
    },
    {
      "cell_type": "code",
      "metadata": {
        "colab": {
          "base_uri": "https://localhost:8080/"
        },
        "id": "O2W05lroroRA",
        "outputId": "e5d578c8-1fbd-4d8f-e03f-0f87d2838095"
      },
      "source": [
        "from sklearn.externals import joblib\n",
        "joblib.dump(model.best_estimator_, 'pipeline.pkl')"
      ],
      "execution_count": null,
      "outputs": [
        {
          "output_type": "stream",
          "name": "stderr",
          "text": [
            "/usr/local/lib/python3.7/dist-packages/sklearn/externals/joblib/__init__.py:15: FutureWarning:\n",
            "\n",
            "sklearn.externals.joblib is deprecated in 0.21 and will be removed in 0.23. Please import this functionality directly from joblib, which can be installed with: pip install joblib. If this warning is raised when loading pickled models, you may need to re-serialize those models with scikit-learn 0.21+.\n",
            "\n"
          ]
        },
        {
          "output_type": "execute_result",
          "data": {
            "text/plain": [
              "['pipeline.pkl']"
            ]
          },
          "metadata": {},
          "execution_count": 63
        }
      ]
    },
    {
      "cell_type": "code",
      "metadata": {
        "id": "KPD2mhmpzCkx"
      },
      "source": [
        "# Загружаем:\n",
        "\n",
        "clf = load_model('./classifier.pkl')\n",
        "vectorizer = load_model('./vectorizer.pkl')\n",
        "le = load_model('./le.pkl')"
      ],
      "execution_count": null,
      "outputs": []
    },
    {
      "cell_type": "code",
      "metadata": {
        "id": "WT0n5Rj4u44e"
      },
      "source": [
        "l_model = joblib.load('pipeline.pkl')\n"
      ],
      "execution_count": null,
      "outputs": []
    },
    {
      "cell_type": "code",
      "metadata": {
        "colab": {
          "base_uri": "https://localhost:8080/"
        },
        "id": "2QuxAjqa0VRs",
        "outputId": "e1dfa5ba-1f17-4d9a-d732-5c6b3c9aeca3"
      },
      "source": [
        "# Делаем предсказание:\n",
        "\n",
        "my_test_data  = [\n",
        "                 'расписание ммф',\n",
        "                 'оформить мат помощь',\n",
        "                 'где находится мед пункт',\n",
        "                 'ближайший банкомат'\n",
        "]\n",
        "\n",
        "my_test_data = vectorizer.transform(my_test_data)\n",
        "predict_labels = clf.predict(my_test_data)\n",
        "le.inverse_transform(predict_labels)"
      ],
      "execution_count": null,
      "outputs": [
        {
          "output_type": "execute_result",
          "data": {
            "text/plain": [
              "array(['loc_dean_mmf', 'finassist', 'loc_commissariat', 'loc_atm'],\n",
              "      dtype=object)"
            ]
          },
          "metadata": {},
          "execution_count": 66
        }
      ]
    },
    {
      "cell_type": "code",
      "metadata": {
        "id": "7dcmSEvnvyrY"
      },
      "source": [
        "my_test_data  = [\n",
        "                 'расписание ммф',\n",
        "                 'оформить мат помощь',\n",
        "                 'где находится мед пункт',\n",
        "                 'ближайший банкомат'\n",
        "]\n",
        "\n",
        "predicted = l_model.predict(my_test_data)"
      ],
      "execution_count": null,
      "outputs": []
    },
    {
      "cell_type": "code",
      "metadata": {
        "colab": {
          "base_uri": "https://localhost:8080/"
        },
        "id": "teO-1RV0wMgS",
        "outputId": "39b15e22-833f-488b-ab8b-00cc234d4df9"
      },
      "source": [
        "predicted"
      ],
      "execution_count": null,
      "outputs": [
        {
          "output_type": "execute_result",
          "data": {
            "text/plain": [
              "array(['loc_dean_mmf', 'finassist', 'loc_commissariat', 'loc_atm'],\n",
              "      dtype='<U35')"
            ]
          },
          "metadata": {},
          "execution_count": 68
        }
      ]
    },
    {
      "cell_type": "markdown",
      "metadata": {
        "id": "eW1tQAHYzPBz"
      },
      "source": [
        "## 5.2 Создание Телеграм бота на Python"
      ]
    },
    {
      "cell_type": "markdown",
      "metadata": {
        "id": "wpMgmGuXzcCI"
      },
      "source": [
        "Туториал - как создать телеграм бота\n",
        "\n",
        "https://www.codementor.io/@karandeepbatra/part-1-how-to-create-a-telegram-bot-in-python-in-under-10-minutes-19yfdv4wrq"
      ]
    },
    {
      "cell_type": "markdown",
      "metadata": {
        "id": "YOZTQkDTzeAg"
      },
      "source": [
        "## 5.3 Деплой приложения на Heroku"
      ]
    },
    {
      "cell_type": "markdown",
      "metadata": {
        "id": "g5cJRciuzmOe"
      },
      "source": [
        "Туториал - как задеплоить приложение на heroku\n",
        "\n",
        "https://towardsdatascience.com/how-to-create-and-deploy-a-machine-learning-app-to-heroku-d6965aa4f627"
      ]
    },
    {
      "cell_type": "markdown",
      "metadata": {
        "id": "rMBJVrSYHURv"
      },
      "source": [
        "# Контакты:"
      ]
    },
    {
      "cell_type": "markdown",
      "metadata": {
        "id": "DYaBbNX7HtNv"
      },
      "source": [
        "По всем возникающим вопросам писать в Телеграм @Evgeniy_Kurochkin, @kotinigor"
      ]
    }
  ]
}