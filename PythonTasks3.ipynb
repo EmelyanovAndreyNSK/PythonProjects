{
  "nbformat": 4,
  "nbformat_minor": 0,
  "metadata": {
    "colab": {
      "name": "PythonTasks3.ipynb",
      "provenance": [],
      "collapsed_sections": [],
      "authorship_tag": "ABX9TyMoP15mh3mUQQN+HvYqT5cX",
      "include_colab_link": true
    },
    "kernelspec": {
      "name": "python3",
      "display_name": "Python 3"
    }
  },
  "cells": [
    {
      "cell_type": "markdown",
      "metadata": {
        "id": "view-in-github",
        "colab_type": "text"
      },
      "source": [
        "<a href=\"https://colab.research.google.com/github/EmelyanovAndreyNSK/PythonTasks/blob/master/PythonTasks3.ipynb\" target=\"_parent\"><img src=\"https://colab.research.google.com/assets/colab-badge.svg\" alt=\"Open In Colab\"/></a>"
      ]
    },
    {
      "cell_type": "code",
      "metadata": {
        "id": "vxozblmfQkEM",
        "colab_type": "code",
        "colab": {}
      },
      "source": [
        "#String operations and manipulations"
      ],
      "execution_count": 0,
      "outputs": []
    },
    {
      "cell_type": "code",
      "metadata": {
        "id": "Qaj_x5XXQu-h",
        "colab_type": "code",
        "outputId": "3c10828e-484d-4d67-923c-5a2e6ee6c39a",
        "colab": {
          "base_uri": "https://localhost:8080/",
          "height": 50
        }
      },
      "source": [
        "str = input() #Given a string of odd length\n",
        "\n",
        "print(str[int(len(str)/2-1)],str[int(len(str)/2)],str[int(len(str)/2+1)]) #return a string made of the middle three chars of a given String"
      ],
      "execution_count": 0,
      "outputs": [
        {
          "output_type": "stream",
          "text": [
            "123456789\n",
            "4 5 6\n"
          ],
          "name": "stdout"
        }
      ]
    },
    {
      "cell_type": "code",
      "metadata": {
        "id": "iDq0MQrxSdMX",
        "colab_type": "code",
        "outputId": "a1c6af65-4cf4-4232-a9c1-57c88577454b",
        "colab": {
          "base_uri": "https://localhost:8080/",
          "height": 67
        }
      },
      "source": [
        "s1 = input()\n",
        "s2 = input()\n",
        "\n",
        "s3 = (s1[:int(len(s1)/2)]+s2+s1[int(len(s1)/2):]) #new string by appending s2 in the middle of s1\n",
        "\n",
        "print (s3)"
      ],
      "execution_count": 0,
      "outputs": [
        {
          "output_type": "stream",
          "text": [
            "1234567654324567876543\n",
            "zzzzzzzz\n",
            "12345676543zzzzzzzz24567876543\n"
          ],
          "name": "stdout"
        }
      ]
    },
    {
      "cell_type": "code",
      "metadata": {
        "id": "xY1UmRFeYiC_",
        "colab_type": "code",
        "outputId": "c79e164e-9f59-40c3-c42e-aeb95d302037",
        "colab": {
          "base_uri": "https://localhost:8080/",
          "height": 50
        }
      },
      "source": [
        "s1 = input()\n",
        "\n",
        "sl = \"\"\n",
        "su = \"\"\n",
        "\n",
        "for i in range (len(s1)): #Arrange String characters such that lowercase letters should come first\n",
        "  \n",
        "  if((ord(s1[i])>=ord(\"a\"))&(ord(s1[i])<=ord(\"z\"))):\n",
        "    sl=sl+s1[i]\n",
        "  else:\n",
        "    su=su+s1[i]\n",
        "\n",
        "print(sl+su)\n"
      ],
      "execution_count": 0,
      "outputs": [
        {
          "output_type": "stream",
          "text": [
            "lowUPlowUP\n",
            "lowlowUPUP\n"
          ],
          "name": "stdout"
        }
      ]
    },
    {
      "cell_type": "code",
      "metadata": {
        "id": "VyRQZGsEagg3",
        "colab_type": "code",
        "outputId": "0286db41-a534-4b98-f7ba-d43a1f86c78e",
        "colab": {
          "base_uri": "https://localhost:8080/",
          "height": 50
        }
      },
      "source": [
        "s1 = input()\n",
        "low=0\n",
        "up=0\n",
        "sim=0\n",
        "digit=0\n",
        "\n",
        "for i in range (len(s1)): #Count all lower case, upper case, digits, and special symbols\n",
        "  \n",
        "  if((ord(s1[i])>=ord(\"a\"))&(ord(s1[i])<=ord(\"z\"))):\n",
        "    low=low+1\n",
        "  elif((ord(s1[i])>=ord(\"A\"))&(ord(s1[i])<=ord(\"Z\"))):\n",
        "    up=up+1\n",
        "  elif((ord(s1[i])>=ord(\"0\"))&(ord(s1[i])<=ord(\"9\"))):\n",
        "    digit=digit+1\n",
        "  else:\n",
        "    sim=sim+1\n",
        "\n",
        "print(low,up,digit,sim)\n",
        "    \n"
      ],
      "execution_count": 0,
      "outputs": [
        {
          "output_type": "stream",
          "text": [
            "lowUP1234;;;;;\n",
            "3 2 4 5\n"
          ],
          "name": "stdout"
        }
      ]
    },
    {
      "cell_type": "code",
      "metadata": {
        "id": "cNseOk77ks8w",
        "colab_type": "code",
        "outputId": "6398d17a-04b0-495b-cc4e-76bb2cc0c1c8",
        "colab": {
          "base_uri": "https://localhost:8080/",
          "height": 50
        }
      },
      "source": [
        "s1 = input()\n",
        "position = []\n",
        "num = 0\n",
        "for i in range (len(s1)):\n",
        "  S = s1[i:i+6]\n",
        "  if (S.lower()==\"python\"): #Find all occurrences of \"Python\" in given string ignoring the case\n",
        "    num = num + 1\n",
        "    position.append(i)\n",
        "print (\"There are\", num, \"occurrences\", \"in positions\", position)"
      ],
      "execution_count": 0,
      "outputs": [
        {
          "output_type": "stream",
          "text": [
            "PythonpythonjkdflgdljgPyThon\n",
            "There are 3 occurrences in positions [0, 6, 22]\n"
          ],
          "name": "stdout"
        }
      ]
    },
    {
      "cell_type": "code",
      "metadata": {
        "id": "mvoWOpc_rmB6",
        "colab_type": "code",
        "outputId": "eca87540-df78-4e37-f7b7-aa2b819bb523",
        "colab": {
          "base_uri": "https://localhost:8080/",
          "height": 50
        }
      },
      "source": [
        "def summa(a): #return the sum\n",
        "    a = a.split()\n",
        "    b = []\n",
        "    for i in a:\n",
        "      if((i[0]>=\"0\")&(i[0]<=\"9\")):\n",
        "        b.append(int(i))\n",
        "    return sum(b)\n",
        " \n",
        "s = 0\n",
        "\n",
        "a = input()\n",
        "s += summa(a)\n",
        "print('Summa:',s)"
      ],
      "execution_count": 0,
      "outputs": [
        {
          "output_type": "stream",
          "text": [
            "123 qwe 123 qwe\n",
            "Summa: 246\n"
          ],
          "name": "stdout"
        }
      ]
    },
    {
      "cell_type": "code",
      "metadata": {
        "id": "QPe4x5LVwAi0",
        "colab_type": "code",
        "outputId": "d999c2fd-ab01-4a23-b9a5-1b74e3c1dc6a",
        "colab": {
          "base_uri": "https://localhost:8080/",
          "height": 50
        }
      },
      "source": [
        "s = input()\n",
        "slov = {}\n",
        "for i in range(len(s)): #count occurrences of all characters within a string \n",
        "  if (slov.get(s[i])==None):\n",
        "    slov[s[i]] = 1\n",
        "  else:\n",
        "    slov[s[i]] = slov[s[i]] + 1\n",
        "\n",
        "print(slov)\n"
      ],
      "execution_count": 0,
      "outputs": [
        {
          "output_type": "stream",
          "text": [
            "abbcccdddd\n",
            "{'a': 1, 'b': 2, 'c': 3, 'd': 4}\n"
          ],
          "name": "stdout"
        }
      ]
    },
    {
      "cell_type": "code",
      "metadata": {
        "id": "QMmnNvH7lqxH",
        "colab_type": "code",
        "colab": {}
      },
      "source": [
        "\n"
      ],
      "execution_count": 0,
      "outputs": []
    }
  ]
}