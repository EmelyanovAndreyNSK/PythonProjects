{
  "nbformat": 4,
  "nbformat_minor": 0,
  "metadata": {
    "colab": {
      "name": "PyPractice2_3.ipynb",
      "provenance": [],
      "collapsed_sections": [],
      "authorship_tag": "ABX9TyM/sJbHZaf79L1bURaKaBoh",
      "include_colab_link": true
    },
    "kernelspec": {
      "name": "python3",
      "display_name": "Python 3"
    }
  },
  "cells": [
    {
      "cell_type": "markdown",
      "metadata": {
        "id": "view-in-github",
        "colab_type": "text"
      },
      "source": [
        "<a href=\"https://colab.research.google.com/github/EmelyanovAndreyNSK/PythonTasks/blob/master/PyPractice2_3.ipynb\" target=\"_parent\"><img src=\"https://colab.research.google.com/assets/colab-badge.svg\" alt=\"Open In Colab\"/></a>"
      ]
    },
    {
      "cell_type": "code",
      "metadata": {
        "id": "BlrS4iahzL6T",
        "colab_type": "code",
        "colab": {
          "base_uri": "https://localhost:8080/",
          "height": 34
        },
        "outputId": "43ec150c-cb8a-48fc-fd0d-6e36901f8da9"
      },
      "source": [
        "sampleSet = {\"Yellow\", \"Orange\", \"Black\"}\n",
        "sampleListtoAdd = [\"Blue\", \"Green\", \"Red\"]\n",
        "\n",
        "print(sampleSet.update(sampleListtoAdd)) #Add a list of elements to a given set"
      ],
      "execution_count": 3,
      "outputs": [
        {
          "output_type": "stream",
          "text": [
            "{'Red', 'Orange', 'Black', 'Yellow', 'Green', 'Blue'}\n"
          ],
          "name": "stdout"
        }
      ]
    },
    {
      "cell_type": "code",
      "metadata": {
        "id": "2vke0HGym1RN",
        "colab_type": "code",
        "colab": {
          "base_uri": "https://localhost:8080/",
          "height": 34
        },
        "outputId": "26cdb197-8c3a-40be-8aec-8e40c19a1bea"
      },
      "source": [
        "set1 = {10,20,30,40,50}\n",
        "set2 = {30,40,50,60,70}\n",
        "\n",
        "print(set1.intersection(set2)) #Return a set of identical items from a given two Python set"
      ],
      "execution_count": 5,
      "outputs": [
        {
          "output_type": "stream",
          "text": [
            "{40, 50, 30}\n"
          ],
          "name": "stdout"
        }
      ]
    },
    {
      "cell_type": "code",
      "metadata": {
        "id": "0edfiqvFoP2U",
        "colab_type": "code",
        "colab": {
          "base_uri": "https://localhost:8080/",
          "height": 34
        },
        "outputId": "bf367ec8-d42f-4bde-c0a5-5b6425a91051"
      },
      "source": [
        "set1 = {10,20,30,40,50}\n",
        "set2 = {30,40,50,60,70}\n",
        "print(set1.union(set2)) #Returns a new set with all items from both sets by removing duplicates"
      ],
      "execution_count": 11,
      "outputs": [
        {
          "output_type": "stream",
          "text": [
            "{70, 40, 10, 50, 20, 60, 30}\n"
          ],
          "name": "stdout"
        }
      ]
    },
    {
      "cell_type": "code",
      "metadata": {
        "id": "BSV0TrL1pkPF",
        "colab_type": "code",
        "colab": {
          "base_uri": "https://localhost:8080/",
          "height": 34
        },
        "outputId": "02fbc015-6229-411d-a0be-fb5b1abf986b"
      },
      "source": [
        "set1 = {10,20,30}\n",
        "set2 = {20,40,50}\n",
        "print(set1.difference(set2)) #update first set with items that exist only in the first set and not in the second set"
      ],
      "execution_count": 12,
      "outputs": [
        {
          "output_type": "stream",
          "text": [
            "{10, 30}\n"
          ],
          "name": "stdout"
        }
      ]
    },
    {
      "cell_type": "code",
      "metadata": {
        "id": "LGThGY2EqHRB",
        "colab_type": "code",
        "colab": {
          "base_uri": "https://localhost:8080/",
          "height": 34
        },
        "outputId": "6db0b135-8977-4bf2-d6cd-fb4872415c9b"
      },
      "source": [
        "set1 = {10,20,30,40,50}\n",
        "print(set1 - {10, 20, 30}) #Remove 10, 20, 30 elements from a following set at once"
      ],
      "execution_count": 14,
      "outputs": [
        {
          "output_type": "stream",
          "text": [
            "{40, 50}\n"
          ],
          "name": "stdout"
        }
      ]
    },
    {
      "cell_type": "code",
      "metadata": {
        "id": "cc1FZe4Rrch6",
        "colab_type": "code",
        "colab": {
          "base_uri": "https://localhost:8080/",
          "height": 34
        },
        "outputId": "41d3029e-2e35-457a-b1c0-52967a99b677"
      },
      "source": [
        "set1 = {10,20,30,40,50}\n",
        "set2 = {30,40,50,60,70}\n",
        "\n",
        "print(set1.symmetric_difference(set2)) #Return a set of all elements in either A or B, but not both"
      ],
      "execution_count": 18,
      "outputs": [
        {
          "output_type": "stream",
          "text": [
            "{20, 70, 10, 60}\n"
          ],
          "name": "stdout"
        }
      ]
    },
    {
      "cell_type": "code",
      "metadata": {
        "id": "HuKy_0nltHrR",
        "colab_type": "code",
        "colab": {
          "base_uri": "https://localhost:8080/",
          "height": 50
        },
        "outputId": "b658e451-281e-43cb-f33d-76dcf2e677ae"
      },
      "source": [
        "set1 = {10,20,30,40,50}\n",
        "set2 = {60,70,80,90,10}\n",
        "set3 = set()\n",
        "set3 = set1.intersection(set2) #Determines whether or not the following two sets have any elements in common.\n",
        "if (len(set3)>0):\n",
        "  print(\"Two sets have items in common\")\n",
        "  print(set3) \n",
        "else:\n",
        "  print(\"Two sets have not items in common\")"
      ],
      "execution_count": 26,
      "outputs": [
        {
          "output_type": "stream",
          "text": [
            "Two sets have items in common\n",
            "{10}\n"
          ],
          "name": "stdout"
        }
      ]
    },
    {
      "cell_type": "code",
      "metadata": {
        "id": "lZOFJHlavIb9",
        "colab_type": "code",
        "colab": {
          "base_uri": "https://localhost:8080/",
          "height": 34
        },
        "outputId": "b2f8d018-be92-44e5-c3fd-64ef8363dced"
      },
      "source": [
        "set1 = {10,20,30,40,50}\n",
        "set2 = {30,40,50,60,70}\n",
        "set1.symmetric_difference_update(set2) #Update set1 by adding items from set2, except common items\n",
        "print(set1)"
      ],
      "execution_count": 36,
      "outputs": [
        {
          "output_type": "stream",
          "text": [
            "{70, 10, 20, 60}\n"
          ],
          "name": "stdout"
        }
      ]
    },
    {
      "cell_type": "code",
      "metadata": {
        "id": "vk9hIEe4xv4p",
        "colab_type": "code",
        "colab": {
          "base_uri": "https://localhost:8080/",
          "height": 34
        },
        "outputId": "7aefcff0-a2ce-40c3-b840-b921c06e164c"
      },
      "source": [
        "set1 = {10,20,30,40,50}\n",
        "set2 = {30,40,50,60,70}\n",
        "set2.symmetric_difference_update(set1) #Remove items from set1 that are not common to both set1 and set2\n",
        "print (set1 - set2)"
      ],
      "execution_count": 37,
      "outputs": [
        {
          "output_type": "stream",
          "text": [
            "{40, 50, 30}\n"
          ],
          "name": "stdout"
        }
      ]
    }
  ]
}