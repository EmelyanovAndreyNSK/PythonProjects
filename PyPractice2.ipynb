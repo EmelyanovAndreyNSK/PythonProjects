{
  "nbformat": 4,
  "nbformat_minor": 0,
  "metadata": {
    "colab": {
      "name": "PyPractice2.ipynb",
      "provenance": [],
      "collapsed_sections": [],
      "authorship_tag": "ABX9TyPzIsq8Bqj+9oTjs59M8wLu",
      "include_colab_link": true
    },
    "kernelspec": {
      "name": "python3",
      "display_name": "Python 3"
    }
  },
  "cells": [
    {
      "cell_type": "markdown",
      "metadata": {
        "id": "view-in-github",
        "colab_type": "text"
      },
      "source": [
        "<a href=\"https://colab.research.google.com/github/EmelyanovAndreyNSK/PythonTasks/blob/master/PyPractice2.ipynb\" target=\"_parent\"><img src=\"https://colab.research.google.com/assets/colab-badge.svg\" alt=\"Open In Colab\"/></a>"
      ]
    },
    {
      "cell_type": "code",
      "metadata": {
        "id": "CWH6p2NOYc-d",
        "colab_type": "code",
        "colab": {}
      },
      "source": [
        "#Functions arguments, built-in functions"
      ],
      "execution_count": 0,
      "outputs": []
    },
    {
      "cell_type": "code",
      "metadata": {
        "id": "c87uBpMbYu9y",
        "colab_type": "code",
        "outputId": "f5197eaa-e3ef-4916-a528-be4235ec64f0",
        "colab": {
          "base_uri": "https://localhost:8080/",
          "height": 67
        }
      },
      "source": [
        "def calculation(a,b):#calculate the addition and subtraction\n",
        "  res = []\n",
        "  res.append(a+b)\n",
        "  res.append(a-b)\n",
        "  return res\n",
        "\n",
        "a = int(input())\n",
        "b = int(input())\n",
        "\n",
        "print (calculation(a,b))\n",
        "\n"
      ],
      "execution_count": 0,
      "outputs": [
        {
          "output_type": "stream",
          "text": [
            "5\n",
            "3\n",
            "[8, 2]\n"
          ],
          "name": "stdout"
        }
      ]
    },
    {
      "cell_type": "code",
      "metadata": {
        "id": "n4HnIvEpb5zr",
        "colab_type": "code",
        "outputId": "ce77a0ba-abef-4893-8d13-cd7199be9f3f",
        "colab": {
          "base_uri": "https://localhost:8080/",
          "height": 67
        }
      },
      "source": [
        "def showEmployee(name,salary = 9000):#accept employee name, and it’s salary and display both\n",
        "  print (name, salary, sep = 's salary is ')\n",
        "\n",
        "name = str(input())\n",
        "salary = str(input())\n",
        "\n",
        "showEmployee(name,salary)\n",
        "\n"
      ],
      "execution_count": 0,
      "outputs": [
        {
          "output_type": "stream",
          "text": [
            "Jim\n",
            "\n",
            "Jims salary is 9000\n"
          ],
          "name": "stdout"
        }
      ]
    },
    {
      "cell_type": "code",
      "metadata": {
        "id": "g4RsIVZmh3pu",
        "colab_type": "code",
        "outputId": "ab07214c-3ff1-4b07-e9c0-e10be9138dcc",
        "colab": {
          "base_uri": "https://localhost:8080/",
          "height": 34
        }
      },
      "source": [
        "def recsum(n=10):# calculate the sum of numbers from 0 to 10\n",
        "  if (n >= 1):\n",
        "    return recsum(n-1)+n\n",
        "  else:\n",
        "    return 0\n",
        "\n",
        "print (recsum())\n"
      ],
      "execution_count": 0,
      "outputs": [
        {
          "output_type": "stream",
          "text": [
            "55\n"
          ],
          "name": "stdout"
        }
      ]
    },
    {
      "cell_type": "code",
      "metadata": {
        "id": "aYJP8U7bi_Vc",
        "colab_type": "code",
        "outputId": "0e81a648-0fa6-4a6f-d18e-e4e87560687a",
        "colab": {
          "base_uri": "https://localhost:8080/",
          "height": 34
        }
      },
      "source": [
        "def many(*args):#print all arguments value\n",
        "  print (args)\n",
        "\n",
        "many (1 , 2, 3, 4, 45)"
      ],
      "execution_count": 0,
      "outputs": [
        {
          "output_type": "stream",
          "text": [
            "(1, 2, 3, 4, 45)\n"
          ],
          "name": "stdout"
        }
      ]
    },
    {
      "cell_type": "code",
      "metadata": {
        "id": "rjriDCH1B4_f",
        "colab_type": "code",
        "outputId": "2a73112c-15fd-4618-9562-2fd0fed70290",
        "colab": {
          "base_uri": "https://localhost:8080/",
          "height": 50
        }
      },
      "source": [
        " def print_yes():\n",
        "        print('yes')\n",
        "\n",
        "\n",
        "print_yes() \n",
        "\n",
        "print_yes_alias = print_yes #Assign a different name to function\n",
        "\n",
        "print_yes_alias() #call it through the new name"
      ],
      "execution_count": 0,
      "outputs": [
        {
          "output_type": "stream",
          "text": [
            "yes\n",
            "yes\n"
          ],
          "name": "stdout"
        }
      ]
    },
    {
      "cell_type": "code",
      "metadata": {
        "id": "lFO792EdDFnV",
        "colab_type": "code",
        "outputId": "6ebda17e-7ddb-49bb-dd6d-cddc7ed96de2",
        "colab": {
          "base_uri": "https://localhost:8080/",
          "height": 34
        }
      },
      "source": [
        "a = []\n",
        "\n",
        "for i in range(4,40):  #Generate a Python list of all the even numbers\n",
        "  if(i%2==0):\n",
        "    a.append(i)\n",
        "print(a)"
      ],
      "execution_count": 0,
      "outputs": [
        {
          "output_type": "stream",
          "text": [
            "[4, 6, 8, 10, 12, 14, 16, 18, 20, 22, 24, 26, 28, 30, 32, 34, 36, 38]\n"
          ],
          "name": "stdout"
        }
      ]
    },
    {
      "cell_type": "code",
      "metadata": {
        "id": "fnnp3ApmkfmW",
        "colab_type": "code",
        "outputId": "158e85d3-c88c-41f2-f529-7df7a9098828",
        "colab": {
          "base_uri": "https://localhost:8080/",
          "height": 34
        }
      },
      "source": [
        "a = [11,8,18,0] \n",
        "max(a) "
      ],
      "execution_count": 0,
      "outputs": [
        {
          "output_type": "execute_result",
          "data": {
            "text/plain": [
              "18"
            ]
          },
          "metadata": {
            "tags": []
          },
          "execution_count": 5
        }
      ]
    }
  ]
}