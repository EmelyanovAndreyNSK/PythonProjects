{
  "nbformat": 4,
  "nbformat_minor": 0,
  "metadata": {
    "colab": {
      "name": "Image_resize.ipynb",
      "provenance": [],
      "collapsed_sections": [],
      "include_colab_link": true
    },
    "kernelspec": {
      "name": "python3",
      "display_name": "Python 3"
    },
    "language_info": {
      "name": "python"
    }
  },
  "cells": [
    {
      "cell_type": "markdown",
      "metadata": {
        "id": "view-in-github",
        "colab_type": "text"
      },
      "source": [
        "<a href=\"https://colab.research.google.com/github/EmelyanovAndreyNSK/PythonTasks/blob/master/Image_resize.ipynb\" target=\"_parent\"><img src=\"https://colab.research.google.com/assets/colab-badge.svg\" alt=\"Open In Colab\"/></a>"
      ]
    },
    {
      "cell_type": "code",
      "metadata": {
        "colab": {
          "base_uri": "https://localhost:8080/"
        },
        "id": "6G4PoqkWoTha",
        "outputId": "f618f8da-b789-4321-b6ec-f105bceb13b3"
      },
      "source": [
        "pip install Pillow"
      ],
      "execution_count": 2,
      "outputs": [
        {
          "output_type": "stream",
          "text": [
            "Requirement already satisfied: Pillow in /usr/local/lib/python3.7/dist-packages (7.1.2)\n"
          ],
          "name": "stdout"
        }
      ]
    },
    {
      "cell_type": "code",
      "metadata": {
        "id": "lpGPgqHhv5iG"
      },
      "source": [
        "from PIL import Image\n"
      ],
      "execution_count": 3,
      "outputs": []
    },
    {
      "cell_type": "code",
      "metadata": {
        "id": "BO-T0z1shhtl"
      },
      "source": [
        "def resize_image(input_image_path, output_image_path, maxsize = 572, format = 32):\n",
        "    x_size = 0\n",
        "    y_size = 0\n",
        "    size_max = 0\n",
        "    second_size = 0\n",
        "    f = '0'\n",
        "    k = 1.0\n",
        "    original_image = Image.open(input_image_path)\n",
        "    width, height = original_image.size\n",
        "\n",
        "    if (width > height):\n",
        "      f = 'x'\n",
        "      size_max = width\n",
        "    else: \n",
        "      f = 'y'\n",
        "      size_max = height\n",
        "\n",
        "    if (size_max > maxsize):\n",
        "      size_max = maxsize\n",
        "    else: \n",
        "      size_max = format*(size_max//format)\n",
        "\n",
        "    if (f == 'x'):\n",
        "      k = size_max/width\n",
        "    else: \n",
        "      k = size_max/height\n",
        "\n",
        "    if (f == 'x'):\n",
        "      second_size = round(k*height)\n",
        "    else: \n",
        "      second_size = round(k*width)\n",
        "\n",
        "    second_size = format*(second_size//format)\n",
        "    \n",
        "    if (f == 'x'):\n",
        "      x_size = size_max\n",
        "      y_size = second_size\n",
        "    else: \n",
        "      x_size = second_size\n",
        "      y_size = size_max\n",
        "    \n",
        "    size = (x_size, y_size)\n",
        " \n",
        "    resized_image = original_image.resize(size)\n",
        "    width, height = resized_image.size\n",
        "    resized_image.show()\n",
        "    resized_image.save(output_image_path)"
      ],
      "execution_count": 6,
      "outputs": []
    },
    {
      "cell_type": "code",
      "metadata": {
        "id": "w86dSKt82GvB"
      },
      "source": [
        "resize_image('J3jgM1xXhFY.jpg', '1.jpg')"
      ],
      "execution_count": 7,
      "outputs": []
    }
  ]
}