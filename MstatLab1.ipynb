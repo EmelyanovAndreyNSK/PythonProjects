{
  "nbformat": 4,
  "nbformat_minor": 0,
  "metadata": {
    "colab": {
      "name": "MstatLab1.ipynb",
      "provenance": [],
      "collapsed_sections": [],
      "authorship_tag": "ABX9TyNnzQG4EhexnFJV96iEMVA0",
      "include_colab_link": true
    },
    "kernelspec": {
      "display_name": "Python 3",
      "name": "python3"
    }
  },
  "cells": [
    {
      "cell_type": "markdown",
      "metadata": {
        "id": "view-in-github",
        "colab_type": "text"
      },
      "source": [
        "<a href=\"https://colab.research.google.com/github/EmelyanovAndreyNSK/PythonTasks/blob/master/MstatLab1.ipynb\" target=\"_parent\"><img src=\"https://colab.research.google.com/assets/colab-badge.svg\" alt=\"Open In Colab\"/></a>"
      ]
    },
    {
      "cell_type": "code",
      "metadata": {
        "id": "qLzJAuXDIjmL"
      },
      "source": [
        "import matplotlib.pyplot as plt\n",
        "import numpy as np\n",
        "import scipy.stats as stats \n",
        "from scipy.stats import gamma\n",
        "import random\n",
        "import math"
      ],
      "execution_count": null,
      "outputs": []
    },
    {
      "cell_type": "code",
      "metadata": {
        "id": "KtNDOMeRcClu"
      },
      "source": [
        "# 1\n",
        "\n",
        "N = 50000\n",
        "a, b = 10., 1.5\n",
        "\n",
        "n = 100\n",
        "div = np.zeros(N)\n",
        "\n",
        "for i in range(n):\n",
        "  s = gamma.rvs(b, scale = 1/a, size = N)\n",
        "  for i in range(1,N):\n",
        "    s[i] = s[i] + s[i - 1]\n",
        "  for i in range(1,N):\n",
        "    s[i] = s[i]/i \n",
        "  for i in range(N):\n",
        "    div[i] += abs(b / a - s[i])\n",
        "\n",
        "for i in range(1, N):\n",
        "    div[i] = div[i] / n\n",
        "    div[i] = abs(div[i] - 1/(i**(1 / 2)))"
      ],
      "execution_count": null,
      "outputs": []
    },
    {
      "cell_type": "code",
      "metadata": {
        "colab": {
          "base_uri": "https://localhost:8080/",
          "height": 269
        },
        "id": "CeHgdtERtL8s",
        "outputId": "854b8c57-0ec7-48ab-b6bb-c2f2ea7b24a4"
      },
      "source": [
        "fig = plt.figure()\n",
        "ax = fig.add_subplot(111)\n",
        "\n",
        "ax.set_ylim([0.0, 0.1])\n",
        "\n",
        "plt.plot(range(100,N), div[100:N])\n",
        "plt.show() #сходимость к 0 разницы усредненной погрешности \n",
        "           #и 1/sqrt(n)"
      ],
      "execution_count": null,
      "outputs": [
        {
          "output_type": "display_data",
          "data": {
            "image/png": "[encoded data removed]",
            "text/plain": [
              "<Figure size 432x288 with 1 Axes>"
            ]
          },
          "metadata": {
            "tags": [],
            "needs_background": "light"
          }
        }
      ]
    },
    {
      "cell_type": "code",
      "metadata": {
        "id": "q2SKbWXz7KRy"
      },
      "source": [
        "# 2\n",
        "\n",
        "from scipy.stats import norm\n",
        "\n",
        "N = 2000\n",
        "numbers_in_formula = list()\n",
        " \n",
        "for i in range(N):\n",
        "  random_numbers = list()\n",
        "  for i in range(N):\n",
        "    random_numbers.append(gamma.rvs(b, scale = 1/a))\n",
        " \n",
        "  expected_value = b / a\n",
        "  variance = b / a / a\n",
        "  numbers_in_formula.append((sum(random_numbers) \n",
        "  - N * expected_value) / math.sqrt(N * variance))\n",
        "\n"
      ],
      "execution_count": null,
      "outputs": []
    },
    {
      "cell_type": "code",
      "metadata": {
        "colab": {
          "base_uri": "https://localhost:8080/",
          "height": 283
        },
        "id": "7sg1uS1FUYAU",
        "outputId": "0f39ad7a-478a-4385-f024-3d41510cd5e3"
      },
      "source": [
        "sr_otkl = 0\n",
        "\n",
        "for i in range(1, N):\n",
        "  sr_otkl = sr_otkl + (numbers_in_formula[i] - 1/( np.sqrt(2 * np.pi)) *np.exp( - (i)**2 / 2))\n",
        "\n",
        "sr_otkl = sr_otkl / (N - 1)\n",
        "print('Среднее отклонение: ', sr_otkl)\n",
        "\n",
        "count, bins, ignored = plt.hist(numbers_in_formula, 100, density=True)\n",
        "plt.plot(bins, 1/( np.sqrt(2 * np.pi)) *\n",
        "np.exp( - (bins)**2 / 2 ),\n",
        "linewidth=2, color='r')\n",
        "plt.show()"
      ],
      "execution_count": null,
      "outputs": [
        {
          "output_type": "stream",
          "text": [
            "Среднее отклонение:  0.01265029167264178\n"
          ],
          "name": "stdout"
        },
        {
          "output_type": "display_data",
          "data": {
            "image/png": "[encoded data removed]",
            "text/plain": [
              "<Figure size 432x288 with 1 Axes>"
            ]
          },
          "metadata": {
            "tags": [],
            "needs_background": "light"
          }
        }
      ]
    },
    {
      "cell_type": "code",
      "metadata": {
        "id": "di1IzP7oKHC1"
      },
      "source": [
        "!pip install tick"
      ],
      "execution_count": null,
      "outputs": []
    },
    {
      "cell_type": "code",
      "metadata": {
        "id": "tPupJE4gci1y"
      },
      "source": [
        "#3\n",
        "\n",
        "from tick.hawkes import SimuPoissonProcess\n",
        "from tick.plot import plot_point_process \n",
        "from numpy import arange\n",
        "import statistics \n",
        "\n",
        "time_from_int = list()\n",
        "split = np.arange(0.001, 5, 0.1)\n",
        "\n",
        "for intensity in split:\n",
        "  waiting_time = list()\n",
        "  count = 0\n",
        "  poi = SimuPoissonProcess(intensity, verbose = False, max_jumps = 2)\n",
        "  \n",
        "  while (count < 500):\n",
        "    poi.track_intensity(100)\n",
        "    poi.simulate()\n",
        "    arr = poi.intensity_tracked_times    \n",
        "    poi.reset()\n",
        "\n",
        "    if (len(arr) > 1 and arr[1] < 0.5 and arr[2] > 0.5):\n",
        "      count += 1\n",
        "      waiting_time.append(arr[2] - arr[1])\n",
        "\n",
        "  time_from_int.append(sum(waiting_time) / count)\n"
      ],
      "execution_count": 87,
      "outputs": []
    },
    {
      "cell_type": "code",
      "metadata": {
        "colab": {
          "base_uri": "https://localhost:8080/",
          "height": 265
        },
        "id": "KUpAIAvHK35e",
        "outputId": "2f04635f-6be9-442f-ee3f-84853ee90ae9"
      },
      "source": [
        "fig = plt.figure()\n",
        "ax = fig.add_subplot(111)\n",
        "\n",
        "plt.plot(split, time_from_int)\n",
        "plt.plot(split, (1 / 4 + 1 / split))\n",
        "plt.show()"
      ],
      "execution_count": 84,
      "outputs": [
        {
          "output_type": "display_data",
          "data": {
            "image/png": "[encoded data removed]",
            "text/plain": [
              "<Figure size 432x288 with 1 Axes>"
            ]
          },
          "metadata": {
            "tags": [],
            "needs_background": "light"
          }
        }
      ]
    }
  ]
}