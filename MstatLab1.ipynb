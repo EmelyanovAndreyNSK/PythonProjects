{
  "nbformat": 4,
  "nbformat_minor": 0,
  "metadata": {
    "colab": {
      "name": "MstatLab1.ipynb",
      "provenance": [],
      "collapsed_sections": [],
      "authorship_tag": "ABX9TyMAjOcIGKsYE8b1AAYzgXK5",
      "include_colab_link": true
    },
    "kernelspec": {
      "display_name": "Python 3",
      "name": "python3"
    }
  },
  "cells": [
    {
      "cell_type": "markdown",
      "metadata": {
        "id": "view-in-github",
        "colab_type": "text"
      },
      "source": [
        "<a href=\"https://colab.research.google.com/github/EmelyanovAndreyNSK/PythonTasks/blob/master/MstatLab1.ipynb\" target=\"_parent\"><img src=\"https://colab.research.google.com/assets/colab-badge.svg\" alt=\"Open In Colab\"/></a>"
      ]
    },
    {
      "cell_type": "code",
      "metadata": {
        "id": "qLzJAuXDIjmL"
      },
      "source": [
        "import matplotlib.pyplot as plt\r\n",
        "import numpy as np\r\n",
        "import scipy.stats as stats \r\n",
        "from scipy.stats import gamma\r\n",
        "import random\r\n",
        "import math"
      ],
      "execution_count": 1,
      "outputs": []
    },
    {
      "cell_type": "code",
      "metadata": {
        "colab": {
          "base_uri": "https://localhost:8080/",
          "height": 269
        },
        "id": "KtNDOMeRcClu",
        "outputId": "e6c23c08-c945-4242-a74c-09a9998ee6cc"
      },
      "source": [
        "# 1\r\n",
        "N = 5000\r\n",
        "k, Q = 10., 1.5\r\n",
        "s = np.random.gamma(k, Q, N)\r\n",
        "\r\n",
        "for i in range(1,N):\r\n",
        "  s[i] = s[i] + s[i - 1]\r\n",
        "for i in range(1,N):\r\n",
        "  s[i] = s[i]/i  \r\n",
        "\r\n",
        "fig = plt.figure()\r\n",
        "ax = fig.add_subplot(111)\r\n",
        "ax.set_ylim([10, 20])\r\n",
        "\r\n",
        "plt.plot(range(500,5000), s[500:5000])\r\n",
        "plt.show()"
      ],
      "execution_count": 8,
      "outputs": [
        {
          "output_type": "display_data",
          "data": {
            "image/png": "[encoded data removed]",
            "text/plain": [
              "<Figure size 432x288 with 1 Axes>"
            ]
          },
          "metadata": {
            "tags": [],
            "needs_background": "light"
          }
        }
      ]
    },
    {
      "cell_type": "code",
      "metadata": {
        "id": "q2SKbWXz7KRy",
        "colab": {
          "base_uri": "https://localhost:8080/",
          "height": 267
        },
        "outputId": "6a861bbb-a0ec-486e-88c2-2e8cb7684c02"
      },
      "source": [
        "# 2\r\n",
        "from scipy.stats import norm\r\n",
        "%matplotlib inline\r\n",
        "\r\n",
        "numbers_in_formula = list()\r\n",
        " \r\n",
        "for i in range(N):\r\n",
        "  random_numbers = list()\r\n",
        "  for i in range(N):\r\n",
        "    random_numbers.append(np.random.gamma(k, Q))\r\n",
        " \r\n",
        "  expected_value = k*Q\r\n",
        "  variance = k*Q*Q\r\n",
        "  numbers_in_formula.append((sum(random_numbers) \r\n",
        "  - N * expected_value) / math.sqrt(N * variance))\r\n",
        "\r\n",
        "fig = plt.figure()\r\n",
        "ax = fig.add_subplot(111) \r\n",
        "\r\n",
        "x_axis = np.arange(0, N - 1)\r\n",
        "\r\n",
        "plt.hist(numbers_in_formula, bins=100, density=False)\r\n",
        "plt.show()"
      ],
      "execution_count": 20,
      "outputs": [
        {
          "output_type": "display_data",
          "data": {
            "image/png": "[encoded data removed]",
            "text/plain": [
              "<Figure size 432x288 with 1 Axes>"
            ]
          },
          "metadata": {
            "tags": [],
            "needs_background": "light"
          }
        }
      ]
    },
    {
      "cell_type": "code",
      "metadata": {
        "colab": {
          "base_uri": "https://localhost:8080/",
          "height": 265
        },
        "id": "YK9p1IdwEnSw",
        "outputId": "f7607293-0b7a-435b-bc25-9a37039d0b58"
      },
      "source": [
        "%matplotlib inline\r\n",
        "\r\n",
        "def Poisson(Lambda, num_events):  \r\n",
        "  inter_event_time = np.zeros(num_events)\r\n",
        "  for i in range(num_events):\r\n",
        "    #Get the next probability value from Uniform(0,1)\r\n",
        "    p = random.random()\r\n",
        "    #Plug it into the inverse of the CDF of Exponential(Lambda)\r\n",
        "    inter_event_time[i] = -math.log(1.0 - p)/Lambda  \r\n",
        "  return inter_event_time  \r\n",
        "\r\n",
        "def ExpectedTime(Lmbd):\r\n",
        "  N = 5000\r\n",
        "  time_lambda = 0\r\n",
        "  j = 0\r\n",
        "  while (j < N):\r\n",
        "    temp = Poisson(Lmbd,2)\r\n",
        "    if(temp[0]<=1):\r\n",
        "      time_lambda += temp[1]\r\n",
        "      j += 1\r\n",
        "  return time_lambda / N\r\n",
        "\r\n",
        "Lmax = 100\r\n",
        "interval = 1\r\n",
        "expected_time = np.zeros(int(round(Lmax / interval)))\r\n",
        "\r\n",
        "L = interval\r\n",
        "i = 0\r\n",
        "while (L < Lmax):\r\n",
        "  expected_time[i] = ExpectedTime(L)\r\n",
        "  L += interval\r\n",
        "  i += 1\r\n",
        "\r\n",
        "fig = plt.figure()\r\n",
        "ax = fig.add_subplot(111) \r\n",
        "\r\n",
        "plt.plot(expected_time)\r\n",
        "plt.show()\r\n"
      ],
      "execution_count": 27,
      "outputs": [
        {
          "output_type": "display_data",
          "data": {
            "image/png": "[encoded data removed]",
            "text/plain": [
              "<Figure size 432x288 with 1 Axes>"
            ]
          },
          "metadata": {
            "tags": [],
            "needs_background": "light"
          }
        }
      ]
    }
  ]
}