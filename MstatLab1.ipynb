{
  "nbformat": 4,
  "nbformat_minor": 0,
  "metadata": {
    "colab": {
      "name": "MstatLab1.ipynb",
      "provenance": [],
      "collapsed_sections": [],
      "authorship_tag": "ABX9TyNl87+QtKgAP1ORJBr00T5Y",
      "include_colab_link": true
    },
    "kernelspec": {
      "display_name": "Python 3",
      "name": "python3"
    }
  },
  "cells": [
    {
      "cell_type": "markdown",
      "metadata": {
        "id": "view-in-github",
        "colab_type": "text"
      },
      "source": [
        "<a href=\"https://colab.research.google.com/github/EmelyanovAndreyNSK/PythonTasks/blob/master/MstatLab1.ipynb\" target=\"_parent\"><img src=\"https://colab.research.google.com/assets/colab-badge.svg\" alt=\"Open In Colab\"/></a>"
      ]
    },
    {
      "cell_type": "code",
      "metadata": {
        "id": "qLzJAuXDIjmL"
      },
      "source": [
        "import matplotlib.pyplot as plt\n",
        "import numpy as np\n",
        "import scipy.stats as stats \n",
        "from scipy.stats import gamma\n",
        "import random\n",
        "import math"
      ],
      "execution_count": 2,
      "outputs": []
    },
    {
      "cell_type": "code",
      "metadata": {
        "id": "KtNDOMeRcClu"
      },
      "source": [
        "# 1\n",
        "\n",
        "N = 50000\n",
        "a, b = 10., 1.5\n",
        "\n",
        "n = 100\n",
        "div = np.zeros(N)\n",
        "\n",
        "for i in range(n):\n",
        "  s = gamma.rvs(b, scale = 1/a, size = N)\n",
        "  for i in range(1,N):\n",
        "    s[i] = s[i] + s[i - 1]\n",
        "  for i in range(1,N):\n",
        "    s[i] = s[i]/i \n",
        "  for i in range(N):\n",
        "    div[i] += abs(b / a - s[i])\n",
        "\n",
        "for i in range(1, N):\n",
        "    div[i] = div[i] / n\n",
        "    div[i] = abs(div[i] - 1/(i**(1 / 2)))"
      ],
      "execution_count": 63,
      "outputs": []
    },
    {
      "cell_type": "code",
      "metadata": {
        "colab": {
          "base_uri": "https://localhost:8080/",
          "height": 269
        },
        "id": "CeHgdtERtL8s",
        "outputId": "8aec3409-7676-4a18-a3c9-0a2dd8f60364"
      },
      "source": [
        "fig = plt.figure()\n",
        "ax = fig.add_subplot(111)\n",
        "\n",
        "ax.set_ylim([0.0, 0.1])\n",
        "\n",
        "plt.plot(range(100,N), div[100:N])\n",
        "plt.show() #сходимость к 0 разницы усредненной погрешности \n",
        "           #и 1/sqrt(n)"
      ],
      "execution_count": 64,
      "outputs": [
        {
          "output_type": "display_data",
          "data": {
            "image/png": "[encoded data removed]",
            "text/plain": [
              "<Figure size 432x288 with 1 Axes>"
            ]
          },
          "metadata": {
            "tags": [],
            "needs_background": "light"
          }
        }
      ]
    },
    {
      "cell_type": "code",
      "metadata": {
        "id": "q2SKbWXz7KRy"
      },
      "source": [
        "# 2\n",
        "\n",
        "from scipy.stats import norm\n",
        "\n",
        "N = 2000\n",
        "numbers_in_formula = list()\n",
        " \n",
        "for i in range(N):\n",
        "  random_numbers = list()\n",
        "  for i in range(N):\n",
        "    random_numbers.append(gamma.rvs(b, scale = 1/a))\n",
        " \n",
        "  expected_value = b / a\n",
        "  variance = b / a / a\n",
        "  numbers_in_formula.append((sum(random_numbers) \n",
        "  - N * expected_value) / math.sqrt(N * variance))\n",
        "\n"
      ],
      "execution_count": 65,
      "outputs": []
    },
    {
      "cell_type": "code",
      "metadata": {
        "colab": {
          "base_uri": "https://localhost:8080/",
          "height": 283
        },
        "id": "7sg1uS1FUYAU",
        "outputId": "0f39ad7a-478a-4385-f024-3d41510cd5e3"
      },
      "source": [
        "sr_otkl = 0\n",
        "\n",
        "for i in range(1, N):\n",
        "  sr_otkl = sr_otkl + (numbers_in_formula[i] - 1/( np.sqrt(2 * np.pi)) *np.exp( - (i)**2 / 2))\n",
        "\n",
        "sr_otkl = sr_otkl / (N - 1)\n",
        "print('Среднее отклонение: ', sr_otkl)\n",
        "\n",
        "count, bins, ignored = plt.hist(numbers_in_formula, 100, density=True)\n",
        "plt.plot(bins, 1/( np.sqrt(2 * np.pi)) *\n",
        "np.exp( - (bins)**2 / 2 ),\n",
        "linewidth=2, color='r')\n",
        "plt.show()"
      ],
      "execution_count": 79,
      "outputs": [
        {
          "output_type": "stream",
          "text": [
            "Среднее отклонение:  0.01265029167264178\n"
          ],
          "name": "stdout"
        },
        {
          "output_type": "display_data",
          "data": {
            "image/png": "[encoded data removed]",
            "text/plain": [
              "<Figure size 432x288 with 1 Axes>"
            ]
          },
          "metadata": {
            "tags": [],
            "needs_background": "light"
          }
        }
      ]
    },
    {
      "cell_type": "code",
      "metadata": {
        "colab": {
          "base_uri": "https://localhost:8080/",
          "height": 283
        },
        "id": "tPupJE4gci1y",
        "outputId": "0a67acfc-4c23-4296-a405-58b3d60542c0"
      },
      "source": [
        "#3\n",
        "from scipy.stats import poisson \n",
        "from scipy.stats import uniform\n",
        "from numpy import arange\n",
        "import statistics \n",
        "\n",
        "def exp_Func(l):\n",
        "  return 1/4 + 1/l\n",
        "\n",
        "def GenerateStats(l, n):\n",
        "  new = []\n",
        "  for i in range(n):\n",
        "    N = poisson.rvs(l*10)\n",
        "    lst = []\n",
        "    for j in range(N):\n",
        "      lst.append(uniform.rvs(loc = 0, scale = 10))\n",
        "    lst = np.sort(lst)\n",
        "    if lst[0] < 0.5 and lst[1] >= 0.5:\n",
        "      new.append(lst[1] - lst[0])\n",
        "  return new\n",
        "\n",
        "a, b, n = 1, 7.5, 100\n",
        "x = []\n",
        "y = []\n",
        "exp_value = []\n",
        "for l in arange(a, b, 0.1):\n",
        "  x.append(l)\n",
        "  lst = GenerateStats(l, n)\n",
        "  exp_value.append(statistics.mean(lst))\n",
        "  y.append(exp_Func(l))\n",
        "\n",
        "fig, ax = plt.subplots()\n",
        "ax.plot(x, exp_value)\n",
        "ax.plot(x, y)"
      ],
      "execution_count": 85,
      "outputs": [
        {
          "output_type": "execute_result",
          "data": {
            "text/plain": [
              "[<matplotlib.lines.Line2D at 0x7f58426e89d0>]"
            ]
          },
          "metadata": {
            "tags": []
          },
          "execution_count": 85
        },
        {
          "output_type": "display_data",
          "data": {
            "image/png": "[encoded data removed]",
            "text/plain": [
              "<Figure size 432x288 with 1 Axes>"
            ]
          },
          "metadata": {
            "tags": [],
            "needs_background": "light"
          }
        }
      ]
    }
  ]
}