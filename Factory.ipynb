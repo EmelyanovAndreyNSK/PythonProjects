{
  "nbformat": 4,
  "nbformat_minor": 0,
  "metadata": {
    "colab": {
      "name": "Factory.ipynb",
      "provenance": [],
      "authorship_tag": "ABX9TyMFuj5k1lzJYl9FBurdMHOR",
      "include_colab_link": true
    },
    "kernelspec": {
      "name": "python3",
      "display_name": "Python 3"
    }
  },
  "cells": [
    {
      "cell_type": "markdown",
      "metadata": {
        "id": "view-in-github",
        "colab_type": "text"
      },
      "source": [
        "<a href=\"https://colab.research.google.com/github/EmelyanovAndreyNSK/PythonTasks/blob/master/Factory.ipynb\" target=\"_parent\"><img src=\"https://colab.research.google.com/assets/colab-badge.svg\" alt=\"Open In Colab\"/></a>"
      ]
    },
    {
      "cell_type": "markdown",
      "metadata": {
        "id": "KPHh2OUBImY6",
        "colab_type": "text"
      },
      "source": [
        "Задача о ранце. \n",
        "\n",
        "Есть некоторый рюкзак с объемом $B$, есть предметы $i \\in SUBJECT$ с различной стоимостью $c_i$ и весом $b_i$. Требуется найти оптимальное с точки зрения максимизации итоговой стоимости рюкзака решение, какие предметы взять.\n",
        "\n",
        "Запишем математическую модель.\n",
        "\n",
        "Введем переменные:\n",
        "\n",
        "$ x_{i} = \\left\\{\n",
        "\\begin{array}{ll}\n",
        "          1, & \\mbox { если берем $i$ предмет в рюкзак,}\\\\\n",
        "          0, & \\mbox { в противном случае. } \\\\\n",
        "\\end{array} \\right. $\n",
        "\n",
        "Договоримся о входных данных:\n",
        "\n",
        "$I$ - множество предметов;\n",
        "\n",
        "$b_i$ - вес $i$ предмета;\n",
        "\n",
        "$c_i$ - стоимость $i$ предмета.\n",
        "\n",
        "Математическая модель:\n",
        "\n",
        "Целевая функция:\n",
        "\n",
        "$$\\sum\\limits_{i = 0}^{I} c_i x_i \\to \\max_{x}$$\n",
        "\n",
        "Ограничения:\n",
        "\n",
        "$$x_i \\in \\mathbb B, \\forall i \\in I $$\n",
        "\n",
        "$$\\sum\\limits_{i = 0}^{I} b_i x_i \\leqslant B $$"
      ]
    },
    {
      "cell_type": "code",
      "metadata": {
        "id": "9YgKLVtHItOG",
        "colab_type": "code",
        "colab": {
          "base_uri": "https://localhost:8080/",
          "height": 386
        },
        "outputId": "6ee3c1f9-48f9-445f-9353-997cec4654a1"
      },
      "source": [
        "!pip install pulp\n",
        "!pip install cplex"
      ],
      "execution_count": 1,
      "outputs": [
        {
          "output_type": "stream",
          "text": [
            "Collecting pulp\n",
            "\u001b[?25l  Downloading https://files.pythonhosted.org/packages/c3/22/5743d7b5d69f84fb63a0b4925862522dbf80e82defcd0c447afb694f3fd0/PuLP-2.3-py3-none-any.whl (40.6MB)\n",
            "\u001b[K     |████████████████████████████████| 40.6MB 116kB/s \n",
            "\u001b[?25hCollecting amply>=0.1.2\n",
            "  Downloading https://files.pythonhosted.org/packages/7f/11/33cb09557ac838d9488779b79e05a2a3c1f3ce9747cd242ba68332736778/amply-0.1.2.tar.gz\n",
            "  Installing build dependencies ... \u001b[?25l\u001b[?25hdone\n",
            "  Getting requirements to build wheel ... \u001b[?25l\u001b[?25hdone\n",
            "    Preparing wheel metadata ... \u001b[?25l\u001b[?25hdone\n",
            "Requirement already satisfied: pyparsing in /usr/local/lib/python3.6/dist-packages (from amply>=0.1.2->pulp) (2.4.7)\n",
            "Requirement already satisfied: docutils>=0.3 in /usr/local/lib/python3.6/dist-packages (from amply>=0.1.2->pulp) (0.15.2)\n",
            "Building wheels for collected packages: amply\n",
            "  Building wheel for amply (PEP 517) ... \u001b[?25l\u001b[?25hdone\n",
            "  Created wheel for amply: filename=amply-0.1.2-cp36-none-any.whl size=16573 sha256=eab5393370f60bdddc21eefb3b51eb3f7ac78c07fd0db2bc959d16f7de79edfe\n",
            "  Stored in directory: /root/.cache/pip/wheels/84/18/f7/e5c3ed13ed5bb721763f77d4a924331d59ef115ce61c9d26eb\n",
            "Successfully built amply\n",
            "Installing collected packages: amply, pulp\n",
            "Successfully installed amply-0.1.2 pulp-2.3\n",
            "Collecting cplex\n",
            "\u001b[?25l  Downloading https://files.pythonhosted.org/packages/69/65/75bc076bec7a29ac65c9a8049d66effbf84db40d6f4f8e8137e9c9eaeb15/cplex-12.10.0.3-cp36-cp36m-manylinux1_x86_64.whl (31.0MB)\n",
            "\u001b[K     |████████████████████████████████| 31.0MB 102kB/s \n",
            "\u001b[?25hInstalling collected packages: cplex\n",
            "Successfully installed cplex-12.10.0.3\n"
          ],
          "name": "stdout"
        }
      ]
    },
    {
      "cell_type": "code",
      "metadata": {
        "id": "8yoydxkOIw4k",
        "colab_type": "code",
        "colab": {}
      },
      "source": [
        "import numpy as np\n",
        "import time\n",
        "from random import randrange\n",
        "import pulp as plp"
      ],
      "execution_count": 2,
      "outputs": []
    },
    {
      "cell_type": "code",
      "metadata": {
        "id": "tPzXYwb5Izyk",
        "colab_type": "code",
        "colab": {}
      },
      "source": [
        "I = 50\n",
        "B = 100\n",
        "c = np.random.randint(50, 70, I)\n",
        "b = np.random.randint(1, 10, I)"
      ],
      "execution_count": 3,
      "outputs": []
    },
    {
      "cell_type": "code",
      "metadata": {
        "id": "HFUkWI50I18x",
        "colab_type": "code",
        "colab": {
          "base_uri": "https://localhost:8080/",
          "height": 1000
        },
        "outputId": "5c5eab70-6b69-45ed-b74d-b47191cc3392"
      },
      "source": [
        "problem = plp.LpProblem(name='BagProblem', sense=plp.LpMaximize)\n",
        "x  = {i : plp.LpVariable(cat=plp.LpBinary, name=\"x\"+str(i)) for i in range(I)}\n",
        "\n",
        "problem.addConstraint(plp.LpConstraint(\n",
        "                     e=plp.lpSum(b[i] * x[i] for i in range(I)),\n",
        "                     sense=plp.LpConstraintLE,\n",
        "                     rhs=B ,\n",
        "                     name=\"constraint_{1}\"))\n",
        "\n",
        "problem.setObjective(plp.lpSum(c[i] * x[i] for i in range(I)))\n",
        "print(problem)"
      ],
      "execution_count": 4,
      "outputs": [
        {
          "output_type": "stream",
          "text": [
            "BagProblem:\n",
            "MAXIMIZE\n",
            "56*x0 + 60*x1 + 61*x10 + 64*x11 + 60*x12 + 60*x13 + 57*x14 + 55*x15 + 57*x16 + 60*x17 + 54*x18 + 65*x19 + 68*x2 + 56*x20 + 68*x21 + 69*x22 + 54*x23 + 55*x24 + 69*x25 + 50*x26 + 56*x27 + 65*x28 + 67*x29 + 66*x3 + 56*x30 + 68*x31 + 55*x32 + 51*x33 + 62*x34 + 63*x35 + 69*x36 + 58*x37 + 65*x38 + 60*x39 + 68*x4 + 61*x40 + 65*x41 + 58*x42 + 65*x43 + 54*x44 + 65*x45 + 66*x46 + 69*x47 + 59*x48 + 67*x49 + 51*x5 + 66*x6 + 67*x7 + 68*x8 + 57*x9 + 0\n",
            "SUBJECT TO\n",
            "constraint_{1}: x0 + 4 x1 + 6 x10 + 2 x11 + 3 x12 + 9 x13 + 4 x14 + 3 x15\n",
            " + 9 x16 + x17 + 8 x18 + 4 x19 + 4 x2 + 5 x20 + 9 x21 + 2 x22 + 3 x23 + 3 x24\n",
            " + 5 x25 + 2 x26 + 4 x27 + 4 x28 + 5 x29 + x3 + 7 x30 + x31 + 2 x32 + 8 x33\n",
            " + 6 x34 + 6 x35 + 5 x36 + x37 + 9 x38 + 8 x39 + 4 x4 + 3 x40 + 5 x41 + 6 x42\n",
            " + 9 x43 + 5 x44 + 7 x45 + 5 x46 + 7 x47 + 8 x48 + 7 x49 + 8 x5 + 5 x6 + 9 x7\n",
            " + 3 x8 + 3 x9 <= 100\n",
            "\n",
            "VARIABLES\n",
            "0 <= x0 <= 1 Integer\n",
            "0 <= x1 <= 1 Integer\n",
            "0 <= x10 <= 1 Integer\n",
            "0 <= x11 <= 1 Integer\n",
            "0 <= x12 <= 1 Integer\n",
            "0 <= x13 <= 1 Integer\n",
            "0 <= x14 <= 1 Integer\n",
            "0 <= x15 <= 1 Integer\n",
            "0 <= x16 <= 1 Integer\n",
            "0 <= x17 <= 1 Integer\n",
            "0 <= x18 <= 1 Integer\n",
            "0 <= x19 <= 1 Integer\n",
            "0 <= x2 <= 1 Integer\n",
            "0 <= x20 <= 1 Integer\n",
            "0 <= x21 <= 1 Integer\n",
            "0 <= x22 <= 1 Integer\n",
            "0 <= x23 <= 1 Integer\n",
            "0 <= x24 <= 1 Integer\n",
            "0 <= x25 <= 1 Integer\n",
            "0 <= x26 <= 1 Integer\n",
            "0 <= x27 <= 1 Integer\n",
            "0 <= x28 <= 1 Integer\n",
            "0 <= x29 <= 1 Integer\n",
            "0 <= x3 <= 1 Integer\n",
            "0 <= x30 <= 1 Integer\n",
            "0 <= x31 <= 1 Integer\n",
            "0 <= x32 <= 1 Integer\n",
            "0 <= x33 <= 1 Integer\n",
            "0 <= x34 <= 1 Integer\n",
            "0 <= x35 <= 1 Integer\n",
            "0 <= x36 <= 1 Integer\n",
            "0 <= x37 <= 1 Integer\n",
            "0 <= x38 <= 1 Integer\n",
            "0 <= x39 <= 1 Integer\n",
            "0 <= x4 <= 1 Integer\n",
            "0 <= x40 <= 1 Integer\n",
            "0 <= x41 <= 1 Integer\n",
            "0 <= x42 <= 1 Integer\n",
            "0 <= x43 <= 1 Integer\n",
            "0 <= x44 <= 1 Integer\n",
            "0 <= x45 <= 1 Integer\n",
            "0 <= x46 <= 1 Integer\n",
            "0 <= x47 <= 1 Integer\n",
            "0 <= x48 <= 1 Integer\n",
            "0 <= x49 <= 1 Integer\n",
            "0 <= x5 <= 1 Integer\n",
            "0 <= x6 <= 1 Integer\n",
            "0 <= x7 <= 1 Integer\n",
            "0 <= x8 <= 1 Integer\n",
            "0 <= x9 <= 1 Integer\n",
            "\n"
          ],
          "name": "stdout"
        }
      ]
    },
    {
      "cell_type": "code",
      "metadata": {
        "id": "2rGK5Q78I4iY",
        "colab_type": "code",
        "colab": {
          "base_uri": "https://localhost:8080/",
          "height": 54
        },
        "outputId": "91804f36-48ff-42de-ba09-7e18fa414b83"
      },
      "source": [
        "solver_list = plp.list_solvers()\n",
        "print(solver_list)"
      ],
      "execution_count": 5,
      "outputs": [
        {
          "output_type": "stream",
          "text": [
            "['GLPK_CMD', 'PYGLPK', 'CPLEX_CMD', 'CPLEX_PY', 'CPLEX_DLL', 'GUROBI', 'GUROBI_CMD', 'MOSEK', 'XPRESS', 'PULP_CBC_CMD', 'COIN_CMD', 'COINMP_DLL', 'CHOCO_CMD', 'PULP_CHOCO_CMD', 'MIPCL_CMD', 'SCIP_CMD']\n"
          ],
          "name": "stdout"
        }
      ]
    },
    {
      "cell_type": "code",
      "metadata": {
        "id": "sfcOAgCsI8_5",
        "colab_type": "code",
        "colab": {
          "base_uri": "https://localhost:8080/",
          "height": 50
        },
        "outputId": "40cff14f-74be-43c5-a1f5-b683cee4f212"
      },
      "source": [
        "def experiment(name, solver):\n",
        "    start = time.time()\n",
        "    problem.solve(solver)\n",
        "    answer = plp.value(problem.objective)\n",
        "    print(f\"{name} solved {time.time() - start}  answer : {answer}\")\n",
        "    \n",
        "#experiment('Gurobi', plp.get_solver('GUROBI', msg=False))\n",
        "experiment('CPLEX', plp.get_solver('CPLEX_PY', msg=False))\n",
        "#experiment('GLPK', plp.get_solver('GLPK_CMD', path=\"C:\\GRB\\winglpk-4.65\\glpk-4.65\\w64\\glpsol.exe\", msg=False))\n",
        "experiment('PULP', plp.get_solver('PULP_CBC_CMD', msg=False))"
      ],
      "execution_count": 6,
      "outputs": [
        {
          "output_type": "stream",
          "text": [
            "CPLEX solved 0.030451536178588867  answer : 1866.0\n",
            "PULP solved 0.022623777389526367  answer : 1866.0\n"
          ],
          "name": "stdout"
        }
      ]
    },
    {
      "cell_type": "code",
      "metadata": {
        "id": "l2fWxHMvI_Kk",
        "colab_type": "code",
        "colab": {
          "base_uri": "https://localhost:8080/",
          "height": 857
        },
        "outputId": "32ccf368-08bf-417d-d342-5367804656a8"
      },
      "source": [
        "for v in problem.variables():\n",
        "            print(v.name, \"=\", v.varValue)"
      ],
      "execution_count": 7,
      "outputs": [
        {
          "output_type": "stream",
          "text": [
            "x0 = 1.0\n",
            "x1 = 1.0\n",
            "x10 = 0.0\n",
            "x11 = 1.0\n",
            "x12 = 1.0\n",
            "x13 = 0.0\n",
            "x14 = 1.0\n",
            "x15 = 1.0\n",
            "x16 = 0.0\n",
            "x17 = 1.0\n",
            "x18 = 0.0\n",
            "x19 = 1.0\n",
            "x2 = 1.0\n",
            "x20 = 0.0\n",
            "x21 = 0.0\n",
            "x22 = 1.0\n",
            "x23 = 1.0\n",
            "x24 = 1.0\n",
            "x25 = 1.0\n",
            "x26 = 1.0\n",
            "x27 = 1.0\n",
            "x28 = 1.0\n",
            "x29 = 1.0\n",
            "x3 = 1.0\n",
            "x30 = 0.0\n",
            "x31 = 1.0\n",
            "x32 = 1.0\n",
            "x33 = 0.0\n",
            "x34 = 0.0\n",
            "x35 = 0.0\n",
            "x36 = 1.0\n",
            "x37 = 1.0\n",
            "x38 = 0.0\n",
            "x39 = 0.0\n",
            "x4 = 1.0\n",
            "x40 = 1.0\n",
            "x41 = 1.0\n",
            "x42 = 0.0\n",
            "x43 = 0.0\n",
            "x44 = 0.0\n",
            "x45 = 0.0\n",
            "x46 = 1.0\n",
            "x47 = 1.0\n",
            "x48 = 0.0\n",
            "x49 = 0.0\n",
            "x5 = 0.0\n",
            "x6 = 1.0\n",
            "x7 = 0.0\n",
            "x8 = 1.0\n",
            "x9 = 1.0\n"
          ],
          "name": "stdout"
        }
      ]
    },
    {
      "cell_type": "code",
      "metadata": {
        "id": "6gqNhNA5JBaH",
        "colab_type": "code",
        "colab": {
          "base_uri": "https://localhost:8080/",
          "height": 50
        },
        "outputId": "7aed979f-fa49-4495-dbb1-ec677717122d"
      },
      "source": [
        "def experiment(name, solver, timeLimit):\n",
        "    times = []\n",
        "    start = time.time()\n",
        "    current = start\n",
        "    while current - start <= timeLimit:\n",
        "        problem.solve(solver)\n",
        "        startIter, current = current, time.time()\n",
        "        times.append(current - startIter)\n",
        "    \n",
        "    answer = plp.value(problem.objective)\n",
        "    print(f\"{name} solved {len(times) - 1} instances \"\n",
        "          f\"in {timeLimit} seconds answer : {answer}\")\n",
        "\n",
        "    \n",
        "#experiment('Gurobi', plp.get_solver('GUROBI', msg=False), 120)\n",
        "experiment('CPLEX', plp.get_solver('CPLEX_PY', msg=False), 120)\n",
        "#experiment('GLPK', plp.get_solver('GLPK_CMD', path=\"C:\\GRB\\winglpk-4.65\\glpk-4.65\\w64\\glpsol.exe\", msg=False), 120)\n",
        "experiment('PULP', plp.get_solver('PULP_CBC_CMD', msg=False), 120)"
      ],
      "execution_count": 8,
      "outputs": [
        {
          "output_type": "stream",
          "text": [
            "CPLEX solved 12023 instances in 120 seconds answer : 1866.0\n",
            "PULP solved 5249 instances in 120 seconds answer : 1866.0\n"
          ],
          "name": "stdout"
        }
      ]
    }
  ]
}