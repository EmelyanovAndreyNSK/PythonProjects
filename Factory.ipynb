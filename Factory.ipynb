{
  "nbformat": 4,
  "nbformat_minor": 0,
  "metadata": {
    "colab": {
      "name": "BAG_PULP_2.ipynb",
      "provenance": [],
      "authorship_tag": "ABX9TyNHutrS0zMP3+7c3KM2O1ua",
      "include_colab_link": true
    },
    "kernelspec": {
      "name": "python3",
      "display_name": "Python 3"
    }
  },
  "cells": [
    {
      "cell_type": "markdown",
      "metadata": {
        "id": "view-in-github",
        "colab_type": "text"
      },
      "source": [
        "<a href=\"https://colab.research.google.com/github/EmelyanovAndreyNSK/PythonTasks/blob/master/BAG_PULP_2.ipynb\" target=\"_parent\"><img src=\"https://colab.research.google.com/assets/colab-badge.svg\" alt=\"Open In Colab\"/></a>"
      ]
    },
    {
      "cell_type": "markdown",
      "metadata": {
        "id": "7PzMUXetj6lM",
        "colab_type": "text"
      },
      "source": [
        "Задача о ранце. \n",
        "\n",
        "Есть некоторый рюкзак с объемом $B$, есть предметы $i \\in SUBJECT$ с различной стоимостью $c_i$ и весом $b_i$. Требуется найти оптимальное с точки зрения максимизации итоговой стоимости рюкзака решение, какие предметы взять.\n",
        "\n",
        "Запишем математическую модель.\n",
        "\n",
        "Введем переменные:\n",
        "\n",
        "$ x_{i} = \\left\\{\n",
        "\\begin{array}{ll}\n",
        "          1, & \\mbox { если берем $i$ предмет в рюкзак,}\\\\\n",
        "          0, & \\mbox { в противном случае. } \\\\\n",
        "\\end{array} \\right. $\n",
        "\n",
        "Договоримся о входных данных:\n",
        "\n",
        "$I$ - множество предметов;\n",
        "\n",
        "$b_i$ - вес $i$ предмета;\n",
        "\n",
        "$c_i$ - стоимость $i$ предмета.\n",
        "\n",
        "Математическая модель:\n",
        "\n",
        "Целевая функция:\n",
        "\n",
        "$$\\sum\\limits_{i = 0}^{I} c_i x_i \\to \\max_{x}$$\n",
        "\n",
        "Ограничения:\n",
        "\n",
        "$$x_i \\in \\mathbb B, \\forall i \\in I $$\n",
        "\n",
        "$$\\sum\\limits_{i = 0}^{I} b_i x_i \\leqslant B $$"
      ]
    },
    {
      "cell_type": "code",
      "metadata": {
        "id": "P26SMvv1j-ZC",
        "colab_type": "code",
        "colab": {
          "base_uri": "https://localhost:8080/",
          "height": 386
        },
        "outputId": "fe91ca44-2b47-47ab-dce0-44ef8b1b0a74"
      },
      "source": [
        "!pip install pulp\n",
        "!pip install cplex"
      ],
      "execution_count": 1,
      "outputs": [
        {
          "output_type": "stream",
          "text": [
            "Collecting pulp\n",
            "\u001b[?25l  Downloading https://files.pythonhosted.org/packages/c3/22/5743d7b5d69f84fb63a0b4925862522dbf80e82defcd0c447afb694f3fd0/PuLP-2.3-py3-none-any.whl (40.6MB)\n",
            "\u001b[K     |████████████████████████████████| 40.6MB 101kB/s \n",
            "\u001b[?25hCollecting amply>=0.1.2\n",
            "  Downloading https://files.pythonhosted.org/packages/7f/11/33cb09557ac838d9488779b79e05a2a3c1f3ce9747cd242ba68332736778/amply-0.1.2.tar.gz\n",
            "  Installing build dependencies ... \u001b[?25l\u001b[?25hdone\n",
            "  Getting requirements to build wheel ... \u001b[?25l\u001b[?25hdone\n",
            "    Preparing wheel metadata ... \u001b[?25l\u001b[?25hdone\n",
            "Requirement already satisfied: pyparsing in /usr/local/lib/python3.6/dist-packages (from amply>=0.1.2->pulp) (2.4.7)\n",
            "Requirement already satisfied: docutils>=0.3 in /usr/local/lib/python3.6/dist-packages (from amply>=0.1.2->pulp) (0.15.2)\n",
            "Building wheels for collected packages: amply\n",
            "  Building wheel for amply (PEP 517) ... \u001b[?25l\u001b[?25hdone\n",
            "  Created wheel for amply: filename=amply-0.1.2-cp36-none-any.whl size=16573 sha256=3777bf9af5353235fb38d7cc794c2c823969c219bef3c8be54743fcad6b10deb\n",
            "  Stored in directory: /root/.cache/pip/wheels/84/18/f7/e5c3ed13ed5bb721763f77d4a924331d59ef115ce61c9d26eb\n",
            "Successfully built amply\n",
            "Installing collected packages: amply, pulp\n",
            "Successfully installed amply-0.1.2 pulp-2.3\n",
            "Collecting cplex\n",
            "\u001b[?25l  Downloading https://files.pythonhosted.org/packages/69/65/75bc076bec7a29ac65c9a8049d66effbf84db40d6f4f8e8137e9c9eaeb15/cplex-12.10.0.3-cp36-cp36m-manylinux1_x86_64.whl (31.0MB)\n",
            "\u001b[K     |████████████████████████████████| 31.0MB 154kB/s \n",
            "\u001b[?25hInstalling collected packages: cplex\n",
            "Successfully installed cplex-12.10.0.3\n"
          ],
          "name": "stdout"
        }
      ]
    },
    {
      "cell_type": "code",
      "metadata": {
        "id": "u97zcvs9kEAN",
        "colab_type": "code",
        "colab": {}
      },
      "source": [
        "#import gurobipy as gp\n",
        "#from gurobipy import GRB\n",
        "import numpy as np\n",
        "import time\n",
        "from random import randrange\n",
        "import pulp as plp"
      ],
      "execution_count": 2,
      "outputs": []
    },
    {
      "cell_type": "code",
      "metadata": {
        "id": "yO8jj6CpkHMb",
        "colab_type": "code",
        "colab": {}
      },
      "source": [
        "I = 50\n",
        "B = 100\n",
        "c = np.random.randint(50, 70, I)\n",
        "b = np.random.randint(1, 10, I)"
      ],
      "execution_count": 3,
      "outputs": []
    },
    {
      "cell_type": "code",
      "metadata": {
        "id": "Voq61oxjkLzP",
        "colab_type": "code",
        "colab": {
          "base_uri": "https://localhost:8080/",
          "height": 1000
        },
        "outputId": "eb61f599-6f28-4f93-8d10-2d0eddbc55b5"
      },
      "source": [
        "problem = plp.LpProblem(name='BagProblem', sense=plp.LpMaximize)\n",
        "x  = {i : plp.LpVariable(cat=plp.LpBinary, name=\"x\"+str(i)) for i in range(I)}\n",
        "\n",
        "problem.addConstraint(plp.LpConstraint(\n",
        "                     e=plp.lpSum(b[i] * x[i] for i in range(I)),\n",
        "                     sense=plp.LpConstraintLE,\n",
        "                     rhs=B ,\n",
        "                     name=\"constraint_{1}\"))\n",
        "\n",
        "problem.setObjective(plp.lpSum(c[i] * x[i] for i in range(I)))\n",
        "print(problem)"
      ],
      "execution_count": 4,
      "outputs": [
        {
          "output_type": "stream",
          "text": [
            "BagProblem:\n",
            "MAXIMIZE\n",
            "53*x0 + 63*x1 + 57*x10 + 51*x11 + 66*x12 + 66*x13 + 58*x14 + 67*x15 + 52*x16 + 63*x17 + 55*x18 + 55*x19 + 61*x2 + 68*x20 + 57*x21 + 51*x22 + 69*x23 + 56*x24 + 55*x25 + 64*x26 + 65*x27 + 62*x28 + 67*x29 + 57*x3 + 65*x30 + 60*x31 + 64*x32 + 56*x33 + 54*x34 + 55*x35 + 50*x36 + 53*x37 + 53*x38 + 50*x39 + 68*x4 + 60*x40 + 60*x41 + 55*x42 + 63*x43 + 60*x44 + 59*x45 + 51*x46 + 52*x47 + 56*x48 + 64*x49 + 62*x5 + 65*x6 + 58*x7 + 59*x8 + 54*x9 + 0\n",
            "SUBJECT TO\n",
            "constraint_{1}: 6 x0 + 6 x1 + x10 + 4 x11 + 6 x12 + 4 x13 + x14 + 9 x15\n",
            " + 5 x16 + 5 x17 + 3 x18 + x19 + 6 x2 + x20 + 6 x21 + 5 x22 + 5 x23 + x24\n",
            " + 3 x25 + 6 x26 + 8 x27 + x28 + 9 x29 + 3 x3 + 2 x30 + 9 x31 + 6 x32 + 5 x33\n",
            " + 6 x34 + x35 + 7 x36 + 7 x37 + 3 x38 + 4 x39 + x4 + 8 x40 + x41 + 7 x42\n",
            " + 3 x43 + 3 x44 + 7 x45 + 6 x46 + 3 x47 + x48 + 8 x49 + 7 x5 + 4 x6 + 3 x7\n",
            " + 6 x8 + 9 x9 <= 100\n",
            "\n",
            "VARIABLES\n",
            "0 <= x0 <= 1 Integer\n",
            "0 <= x1 <= 1 Integer\n",
            "0 <= x10 <= 1 Integer\n",
            "0 <= x11 <= 1 Integer\n",
            "0 <= x12 <= 1 Integer\n",
            "0 <= x13 <= 1 Integer\n",
            "0 <= x14 <= 1 Integer\n",
            "0 <= x15 <= 1 Integer\n",
            "0 <= x16 <= 1 Integer\n",
            "0 <= x17 <= 1 Integer\n",
            "0 <= x18 <= 1 Integer\n",
            "0 <= x19 <= 1 Integer\n",
            "0 <= x2 <= 1 Integer\n",
            "0 <= x20 <= 1 Integer\n",
            "0 <= x21 <= 1 Integer\n",
            "0 <= x22 <= 1 Integer\n",
            "0 <= x23 <= 1 Integer\n",
            "0 <= x24 <= 1 Integer\n",
            "0 <= x25 <= 1 Integer\n",
            "0 <= x26 <= 1 Integer\n",
            "0 <= x27 <= 1 Integer\n",
            "0 <= x28 <= 1 Integer\n",
            "0 <= x29 <= 1 Integer\n",
            "0 <= x3 <= 1 Integer\n",
            "0 <= x30 <= 1 Integer\n",
            "0 <= x31 <= 1 Integer\n",
            "0 <= x32 <= 1 Integer\n",
            "0 <= x33 <= 1 Integer\n",
            "0 <= x34 <= 1 Integer\n",
            "0 <= x35 <= 1 Integer\n",
            "0 <= x36 <= 1 Integer\n",
            "0 <= x37 <= 1 Integer\n",
            "0 <= x38 <= 1 Integer\n",
            "0 <= x39 <= 1 Integer\n",
            "0 <= x4 <= 1 Integer\n",
            "0 <= x40 <= 1 Integer\n",
            "0 <= x41 <= 1 Integer\n",
            "0 <= x42 <= 1 Integer\n",
            "0 <= x43 <= 1 Integer\n",
            "0 <= x44 <= 1 Integer\n",
            "0 <= x45 <= 1 Integer\n",
            "0 <= x46 <= 1 Integer\n",
            "0 <= x47 <= 1 Integer\n",
            "0 <= x48 <= 1 Integer\n",
            "0 <= x49 <= 1 Integer\n",
            "0 <= x5 <= 1 Integer\n",
            "0 <= x6 <= 1 Integer\n",
            "0 <= x7 <= 1 Integer\n",
            "0 <= x8 <= 1 Integer\n",
            "0 <= x9 <= 1 Integer\n",
            "\n"
          ],
          "name": "stdout"
        }
      ]
    },
    {
      "cell_type": "code",
      "metadata": {
        "id": "vpoy7InIkP92",
        "colab_type": "code",
        "colab": {
          "base_uri": "https://localhost:8080/",
          "height": 54
        },
        "outputId": "c3701a37-4ee2-4606-9501-637748141d39"
      },
      "source": [
        "solver_list = plp.list_solvers()\n",
        "print(solver_list)"
      ],
      "execution_count": 5,
      "outputs": [
        {
          "output_type": "stream",
          "text": [
            "['GLPK_CMD', 'PYGLPK', 'CPLEX_CMD', 'CPLEX_PY', 'CPLEX_DLL', 'GUROBI', 'GUROBI_CMD', 'MOSEK', 'XPRESS', 'PULP_CBC_CMD', 'COIN_CMD', 'COINMP_DLL', 'CHOCO_CMD', 'PULP_CHOCO_CMD', 'MIPCL_CMD', 'SCIP_CMD']\n"
          ],
          "name": "stdout"
        }
      ]
    },
    {
      "cell_type": "code",
      "metadata": {
        "id": "KdI7KrXbkVWh",
        "colab_type": "code",
        "colab": {
          "base_uri": "https://localhost:8080/",
          "height": 50
        },
        "outputId": "dc908d19-9f44-4d8f-8943-273b1256ece9"
      },
      "source": [
        "def experiment(name, solver):\n",
        "    start = time.time()\n",
        "    problem.solve(solver)\n",
        "    answer = plp.value(problem.objective)\n",
        "    print(f\"{name} solved {time.time() - start}  answer : {answer}\")\n",
        "    \n",
        "#experiment('Gurobi', plp.get_solver('GUROBI', msg=False))\n",
        "experiment('CPLEX', plp.get_solver('CPLEX_PY', msg=False))\n",
        "#experiment('GLPK', plp.get_solver('GLPK_CMD', path=\"C:\\GRB\\winglpk-4.65\\glpk-4.65\\w64\\glpsol.exe\", msg=False))\n",
        "experiment('PULP', plp.get_solver('PULP_CBC_CMD', msg=False))"
      ],
      "execution_count": 6,
      "outputs": [
        {
          "output_type": "stream",
          "text": [
            "CPLEX solved 0.02319645881652832  answer : 1863.0\n",
            "PULP solved 0.02303767204284668  answer : 1863.0\n"
          ],
          "name": "stdout"
        }
      ]
    },
    {
      "cell_type": "code",
      "metadata": {
        "id": "xBZCoIoEkZyl",
        "colab_type": "code",
        "colab": {
          "base_uri": "https://localhost:8080/",
          "height": 857
        },
        "outputId": "3ce04ce1-53ff-407d-ee87-00cf98a4edc8"
      },
      "source": [
        "for v in problem.variables():\n",
        "            print(v.name, \"=\", v.varValue)"
      ],
      "execution_count": 7,
      "outputs": [
        {
          "output_type": "stream",
          "text": [
            "x0 = 0.0\n",
            "x1 = 1.0\n",
            "x10 = 1.0\n",
            "x11 = 1.0\n",
            "x12 = 1.0\n",
            "x13 = 1.0\n",
            "x14 = 1.0\n",
            "x15 = 0.0\n",
            "x16 = 0.0\n",
            "x17 = 1.0\n",
            "x18 = 1.0\n",
            "x19 = 1.0\n",
            "x2 = 1.0\n",
            "x20 = 1.0\n",
            "x21 = 0.0\n",
            "x22 = 0.0\n",
            "x23 = 1.0\n",
            "x24 = 1.0\n",
            "x25 = 1.0\n",
            "x26 = 1.0\n",
            "x27 = 0.0\n",
            "x28 = 1.0\n",
            "x29 = 0.0\n",
            "x3 = 1.0\n",
            "x30 = 1.0\n",
            "x31 = 0.0\n",
            "x32 = 1.0\n",
            "x33 = 1.0\n",
            "x34 = 0.0\n",
            "x35 = 1.0\n",
            "x36 = 0.0\n",
            "x37 = 0.0\n",
            "x38 = 1.0\n",
            "x39 = 0.0\n",
            "x4 = 1.0\n",
            "x40 = 0.0\n",
            "x41 = 1.0\n",
            "x42 = 0.0\n",
            "x43 = 1.0\n",
            "x44 = 1.0\n",
            "x45 = 0.0\n",
            "x46 = 0.0\n",
            "x47 = 1.0\n",
            "x48 = 1.0\n",
            "x49 = 0.0\n",
            "x5 = 1.0\n",
            "x6 = 1.0\n",
            "x7 = 1.0\n",
            "x8 = 0.0\n",
            "x9 = 0.0\n"
          ],
          "name": "stdout"
        }
      ]
    },
    {
      "cell_type": "code",
      "metadata": {
        "id": "FV7oPva0kc1D",
        "colab_type": "code",
        "colab": {
          "base_uri": "https://localhost:8080/",
          "height": 34
        },
        "outputId": "ae66ab6d-9056-4100-ab8e-2a7ebf612f4b"
      },
      "source": [
        "def experiment(name, solver, timeLimit):\n",
        "    times = []\n",
        "    start = time.time()\n",
        "    current = start\n",
        "    while current - start <= timeLimit:\n",
        "        problem.solve(solver)\n",
        "        startIter, current = current, time.time()\n",
        "        times.append(current - startIter)\n",
        "    \n",
        "    answer = plp.value(problem.objective)\n",
        "    print(f\"{name} solved {len(times) - 1} instances \"\n",
        "          f\"in {timeLimit} seconds answer : {answer}\")\n",
        "\n",
        "    \n",
        "#experiment('Gurobi', plp.get_solver('GUROBI', msg=False), 120)\n",
        "#experiment('CPLEX', plp.get_solver('CPLEX_PY', msg=False), 120)\n",
        "#experiment('GLPK', plp.get_solver('GLPK_CMD', path=\"C:\\GRB\\winglpk-4.65\\glpk-4.65\\w64\\glpsol.exe\", msg=False), 120)\n",
        "experiment('PULP', plp.get_solver('PULP_CBC_CMD', msg=False), 120)"
      ],
      "execution_count": 8,
      "outputs": [
        {
          "output_type": "stream",
          "text": [
            "PULP solved 7306 instances in 120 seconds answer : 1863.0\n"
          ],
          "name": "stdout"
        }
      ]
    }
  ]
}
