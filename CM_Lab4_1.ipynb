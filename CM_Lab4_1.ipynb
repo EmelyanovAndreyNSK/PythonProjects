{
  "nbformat": 4,
  "nbformat_minor": 0,
  "metadata": {
    "colab": {
      "name": "CM_Lab4_1.ipynb",
      "provenance": [],
      "collapsed_sections": [],
      "authorship_tag": "ABX9TyNgqgoBErs+ynEZ4dCP7+P7",
      "include_colab_link": true
    },
    "kernelspec": {
      "name": "python3",
      "display_name": "Python 3"
    },
    "language_info": {
      "name": "python"
    }
  },
  "cells": [
    {
      "cell_type": "markdown",
      "metadata": {
        "id": "view-in-github",
        "colab_type": "text"
      },
      "source": [
        "<a href=\"https://colab.research.google.com/github/EmelyanovAndreyNSK/PythonTasks/blob/master/CM_Lab4_1.ipynb\" target=\"_parent\"><img src=\"https://colab.research.google.com/assets/colab-badge.svg\" alt=\"Open In Colab\"/></a>"
      ]
    },
    {
      "cell_type": "code",
      "metadata": {
        "id": "5ev9hsezzK-s"
      },
      "source": [
        "import scipy.linalg\n",
        "import numpy as np\n",
        "import pandas as pd\n",
        "import matplotlib.pyplot as plt\n",
        "import math\n",
        "import tqdm"
      ],
      "execution_count": null,
      "outputs": []
    },
    {
      "cell_type": "code",
      "metadata": {
        "id": "Wt-drqRpzQWH"
      },
      "source": [
        "A = np.array([[998,1998], [-999, -1999]])"
      ],
      "execution_count": null,
      "outputs": []
    },
    {
      "cell_type": "code",
      "metadata": {
        "id": "338VKtx4zR4O"
      },
      "source": [
        "vals, vectors = scipy.linalg.eig(A)"
      ],
      "execution_count": null,
      "outputs": []
    },
    {
      "cell_type": "code",
      "metadata": {
        "colab": {
          "base_uri": "https://localhost:8080/"
        },
        "id": "ev3Dq8s1zToh",
        "outputId": "80fcecb5-31e8-472e-f7d2-fe3c53cb0b54"
      },
      "source": [
        "print(vals)"
      ],
      "execution_count": null,
      "outputs": [
        {
          "output_type": "stream",
          "text": [
            "[   -1.+0.j -1000.+0.j]\n"
          ],
          "name": "stdout"
        }
      ]
    },
    {
      "cell_type": "code",
      "metadata": {
        "id": "l258PI7z9mdH",
        "colab": {
          "base_uri": "https://localhost:8080/"
        },
        "outputId": "70b93bf7-406f-4788-ecb3-a0acf77b3b12"
      },
      "source": [
        "# Система жесткая\n",
        "vals[1]/vals[0]"
      ],
      "execution_count": null,
      "outputs": [
        {
          "output_type": "execute_result",
          "data": {
            "text/plain": [
              "(1000-0j)"
            ]
          },
          "metadata": {
            "tags": []
          },
          "execution_count": 7
        }
      ]
    },
    {
      "cell_type": "code",
      "metadata": {
        "id": "FBkkFg9x9mdI"
      },
      "source": [
        "def u(x,a,b):\n",
        "    return 2*a*math.exp(-x) + b*math.exp(-1000*x)\n",
        "\n",
        "def v(x,a,b):\n",
        "    return (-a)*math.exp(-x) + (-b)*math.exp(-1000*x)"
      ],
      "execution_count": null,
      "outputs": []
    },
    {
      "cell_type": "code",
      "metadata": {
        "id": "MyFDLv6j9mdJ"
      },
      "source": [
        "def get_constants_a_b(u_x, v_x, x):\n",
        "    a = (u_x + v_x)/math.exp(-x)\n",
        "    b = - (u_x + 2*v_x)/math.exp(-1000*x)\n",
        "    return a, b"
      ],
      "execution_count": null,
      "outputs": []
    },
    {
      "cell_type": "code",
      "metadata": {
        "id": "aonPK1wc9mdJ"
      },
      "source": [
        "u_x = 1\n",
        "v_x = 1\n",
        "x = 0\n",
        "x_final = 0.5\n",
        "\n",
        "a, b = get_constants_a_b(u_x, v_x, x)"
      ],
      "execution_count": null,
      "outputs": []
    },
    {
      "cell_type": "code",
      "metadata": {
        "id": "w-BiMxPM9mdK"
      },
      "source": [
        "def explicit_solution(h, x, u_begin, v_begin, n, a, b):\n",
        "    u = []\n",
        "    v = []\n",
        "    u.append(u_begin)\n",
        "    v.append(v_begin)\n",
        "    \n",
        "    for i in range(0, n + 1):\n",
        "        res1 = u[i] + h * (998 * u[i] + 1998 * v[i])\n",
        "        u.append(res1)\n",
        "        res2 = v[i] + h * (-999 * u[i] - 1999 * v[i])\n",
        "        v.append(res2)\n",
        "    return u,v"
      ],
      "execution_count": null,
      "outputs": []
    },
    {
      "cell_type": "code",
      "metadata": {
        "id": "SQ_Vkuzq9mdK",
        "colab": {
          "base_uri": "https://localhost:8080/"
        },
        "outputId": "97bda77d-be57-4371-900d-b3c7b6161f53"
      },
      "source": [
        "h = 0.001\n",
        "n = 500\n",
        "res_u, res_v = explicit_solution(h, x, u_x, v_x, n, a, b)\n",
        "min(res_v)"
      ],
      "execution_count": null,
      "outputs": [
        {
          "output_type": "execute_result",
          "data": {
            "text/plain": [
              "-1.9980000000000002"
            ]
          },
          "metadata": {
            "tags": []
          },
          "execution_count": 42
        }
      ]
    },
    {
      "cell_type": "code",
      "metadata": {
        "id": "Z1AFC1kQ9mdL"
      },
      "source": [
        "def implicit_solution(h, x, u_begin, v_begin, n, a, b):\n",
        "    u = []\n",
        "    v = []\n",
        "    u.append(u_begin)\n",
        "    v.append(v_begin)\n",
        "    for i in tqdm.tqdm(range(0, n+1)):\n",
        "        A = (u[i] + v[i]) * (1-h/2)/(1+h/2)\n",
        "        res_1 = (u[i] + (h/2)*(998* u[i] + 1998 * v[i]) + (h/2) * 1998 * A)/(1+ 500 * h)\n",
        "        u.append(res_1)\n",
        "        res_2 = (v[i] + (h/2)*(-999 * u[i] - 1999 * v[i]) - (h/2) * 999 * A)/(1+ 500 * h)\n",
        "        v.append(res_2)\n",
        "    return u,v"
      ],
      "execution_count": null,
      "outputs": []
    },
    {
      "cell_type": "code",
      "metadata": {
        "id": "osu0Wypt9mdL",
        "colab": {
          "base_uri": "https://localhost:8080/"
        },
        "outputId": "4b90c444-86bb-4cde-e9fc-b22ce0928ebc"
      },
      "source": [
        "h = 0.001\n",
        "n = 500\n",
        "lst_u, lst_v = implicit_solution(h, x, u_x, v_x, n, a, b)\n",
        "min(lst_v)"
      ],
      "execution_count": null,
      "outputs": [
        {
          "output_type": "stream",
          "text": [
            "100%|██████████| 501/501 [00:00<00:00, 185614.90it/s]\n"
          ],
          "name": "stderr"
        },
        {
          "output_type": "execute_result",
          "data": {
            "text/plain": [
              "-1.9846771425954597"
            ]
          },
          "metadata": {
            "tags": []
          },
          "execution_count": 44
        }
      ]
    },
    {
      "cell_type": "code",
      "metadata": {
        "id": "4J4loWv-9ehR"
      },
      "source": [
        "def plot_exp_u(res_u, res_v):\n",
        "    plt.subplot(111)\n",
        "    plt.plot(np.linspace(x, x_final, 5000), [2*a*math.exp(-i) + b*math.exp(-1000*i) for i in np.linspace(x, x_final, 5000)])\n",
        "    plt.plot(np.linspace(x, x_final, len(res_u)), res_u)\n",
        "\n",
        "def plot_exp_v(res_u, res_v):\n",
        "    plt.subplot(111)\n",
        "    plt.plot(np.linspace(x, x_final, 5000), [(-a)*math.exp(-i) + (-b)*math.exp(-1000*i) for i in np.linspace(x, x_final, 5000)])\n",
        "    plt.plot(np.linspace(x, x_final, len(res_v)), res_v)\n",
        "\n",
        "def plot_imp_u(lst_u, lst_v):\n",
        "    plt.subplot(111)\n",
        "    plt.plot(np.linspace(x, x_final, 5000), [2*a*math.exp(-i) + b*math.exp(-1000*i) for i in np.linspace(x, x_final, 5000)])\n",
        "    plt.plot(np.linspace(x, x_final, len(lst_u)), lst_u)\n",
        "\n",
        "def plot_imp_v(lst_u, lst_v):\n",
        "    plt.subplot(111)\n",
        "    plt.plot(np.linspace(x, x_final, 5000), [(-a)*math.exp(-i) + (-b)*math.exp(-1000*i) for i in np.linspace(x, x_final, 5000)])\n",
        "    plt.plot(np.linspace(x, x_final, len(lst_v)), lst_v)"
      ],
      "execution_count": null,
      "outputs": []
    },
    {
      "cell_type": "code",
      "metadata": {
        "id": "_mc7PHRV9mdM",
        "colab": {
          "base_uri": "https://localhost:8080/",
          "height": 265
        },
        "outputId": "4f9d72e0-8f44-4021-f339-0b7b0046705e"
      },
      "source": [
        "plot_exp_u(res_u, res_v)\n"
      ],
      "execution_count": null,
      "outputs": [
        {
          "output_type": "display_data",
          "data": {
            "image/png": "[encoded data removed]",
            "text/plain": [
              "<Figure size 432x288 with 1 Axes>"
            ]
          },
          "metadata": {
            "tags": [],
            "needs_background": "light"
          }
        }
      ]
    },
    {
      "cell_type": "code",
      "metadata": {
        "colab": {
          "base_uri": "https://localhost:8080/",
          "height": 265
        },
        "id": "2D4H_-zb-1ER",
        "outputId": "b4611451-0c6b-475b-c0c0-079bb8658b89"
      },
      "source": [
        "plot_exp_v(res_u, res_v)\n"
      ],
      "execution_count": null,
      "outputs": [
        {
          "output_type": "display_data",
          "data": {
            "image/png": "[encoded data removed]",
            "text/plain": [
              "<Figure size 432x288 with 1 Axes>"
            ]
          },
          "metadata": {
            "tags": [],
            "needs_background": "light"
          }
        }
      ]
    },
    {
      "cell_type": "code",
      "metadata": {
        "colab": {
          "base_uri": "https://localhost:8080/",
          "height": 265
        },
        "id": "SpsaZgJ--2-F",
        "outputId": "46454b30-7d6d-439f-9fbe-8ef991269dba"
      },
      "source": [
        "plot_imp_u(lst_u, lst_v)\n"
      ],
      "execution_count": null,
      "outputs": [
        {
          "output_type": "display_data",
          "data": {
            "image/png": "[encoded data removed]",
            "text/plain": [
              "<Figure size 432x288 with 1 Axes>"
            ]
          },
          "metadata": {
            "tags": [],
            "needs_background": "light"
          }
        }
      ]
    },
    {
      "cell_type": "code",
      "metadata": {
        "colab": {
          "base_uri": "https://localhost:8080/",
          "height": 265
        },
        "id": "Eb18p2KQ-41t",
        "outputId": "1839c13f-2002-4099-f574-cfa0d54a48f0"
      },
      "source": [
        "plot_imp_v(lst_u, lst_v)"
      ],
      "execution_count": null,
      "outputs": [
        {
          "output_type": "display_data",
          "data": {
            "image/png": "[encoded data removed]",
            "text/plain": [
              "<Figure size 432x288 with 1 Axes>"
            ]
          },
          "metadata": {
            "tags": [],
            "needs_background": "light"
          }
        }
      ]
    },
    {
      "cell_type": "code",
      "metadata": {
        "colab": {
          "base_uri": "https://localhost:8080/"
        },
        "id": "t8SO79mZGQyO",
        "outputId": "bbc6abd1-93b3-4853-e200-3a0ee0792e85"
      },
      "source": [
        "h = 0.005\n",
        "n = 100\n",
        "res_u, res_v = explicit_solution(h, x, u_x, v_x, n, a, b)\n",
        "min(res_v)"
      ],
      "execution_count": null,
      "outputs": [
        {
          "output_type": "execute_result",
          "data": {
            "text/plain": [
              "-1.9283256531107903e+61"
            ]
          },
          "metadata": {
            "tags": []
          },
          "execution_count": 55
        }
      ]
    },
    {
      "cell_type": "code",
      "metadata": {
        "colab": {
          "base_uri": "https://localhost:8080/"
        },
        "id": "4ogaALhPGvJ3",
        "outputId": "fdf220bf-c39f-4b89-e277-b4cbec6ec0df"
      },
      "source": [
        "h = 0.005\n",
        "n = 100\n",
        "lst_u, lst_v = implicit_solution(h, x, u_x, v_x, n, a, b)\n",
        "min(lst_v)"
      ],
      "execution_count": null,
      "outputs": [
        {
          "output_type": "stream",
          "text": [
            "100%|██████████| 101/101 [00:00<00:00, 27357.10it/s]\n"
          ],
          "name": "stderr"
        },
        {
          "output_type": "execute_result",
          "data": {
            "text/plain": [
              "-3.275739223370146"
            ]
          },
          "metadata": {
            "tags": []
          },
          "execution_count": 56
        }
      ]
    },
    {
      "cell_type": "code",
      "metadata": {
        "colab": {
          "base_uri": "https://localhost:8080/",
          "height": 276
        },
        "id": "CdHF_gH0G1Ui",
        "outputId": "20303968-a974-42bf-aaa8-90948f09e457"
      },
      "source": [
        "plot_exp_u(res_u, res_v)\n"
      ],
      "execution_count": null,
      "outputs": [
        {
          "output_type": "display_data",
          "data": {
            "image/png": "[encoded data removed]",
            "text/plain": [
              "<Figure size 432x288 with 1 Axes>"
            ]
          },
          "metadata": {
            "tags": [],
            "needs_background": "light"
          }
        }
      ]
    },
    {
      "cell_type": "code",
      "metadata": {
        "colab": {
          "base_uri": "https://localhost:8080/",
          "height": 276
        },
        "id": "5ZAv4uP5G1Uj",
        "outputId": "41757de6-f3bc-4a09-f2bb-5e470d7a07f2"
      },
      "source": [
        "plot_exp_v(res_u, res_v)\n"
      ],
      "execution_count": null,
      "outputs": [
        {
          "output_type": "display_data",
          "data": {
            "image/png": "[encoded data removed]",
            "text/plain": [
              "<Figure size 432x288 with 1 Axes>"
            ]
          },
          "metadata": {
            "tags": [],
            "needs_background": "light"
          }
        }
      ]
    },
    {
      "cell_type": "code",
      "metadata": {
        "colab": {
          "base_uri": "https://localhost:8080/",
          "height": 265
        },
        "id": "TRn0agOIG1Uk",
        "outputId": "42d2cf91-b705-47ea-c555-eeba45c0d6d3"
      },
      "source": [
        "plot_imp_u(lst_u, lst_v)\n"
      ],
      "execution_count": null,
      "outputs": [
        {
          "output_type": "display_data",
          "data": {
            "image/png": "[encoded data removed]",
            "text/plain": [
              "<Figure size 432x288 with 1 Axes>"
            ]
          },
          "metadata": {
            "tags": [],
            "needs_background": "light"
          }
        }
      ]
    },
    {
      "cell_type": "code",
      "metadata": {
        "colab": {
          "base_uri": "https://localhost:8080/",
          "height": 265
        },
        "id": "NNv9x86LG1Uk",
        "outputId": "02f12ade-1881-4de3-a616-0da1fcaa9a17"
      },
      "source": [
        "plot_imp_v(lst_u, lst_v)"
      ],
      "execution_count": null,
      "outputs": [
        {
          "output_type": "display_data",
          "data": {
            "image/png": "[encoded data removed]",
            "text/plain": [
              "<Figure size 432x288 with 1 Axes>"
            ]
          },
          "metadata": {
            "tags": [],
            "needs_background": "light"
          }
        }
      ]
    },
    {
      "cell_type": "code",
      "metadata": {
        "id": "RrITzi4PKXAJ"
      },
      "source": [
        "def all_solution(u_x, v_x, h, x, x_final, n):\n",
        "    a, b = get_constants_a_b(u_x, v_x, x)\n",
        "    res_u, res_v = explicit_solution(h, x, u_x, v_x, n, a, b)\n",
        "    lst_u, lst_v = implicit_solution(h, x, u_x, v_x, n, a, b)\n",
        "    t = []\n",
        "    r = []\n",
        "    maks, mas = get_difference(res_u, u, a, b, u_x, v_x, h, x, x_final)\n",
        "    t.append(maks)\n",
        "    r.append(mas)\n",
        "    maks, mas = get_difference(res_v, v, a, b, u_x, v_x, h, x, x_final)\n",
        "    t.append(maks)\n",
        "    r.append(mas)\n",
        "    maks, mas = get_difference(lst_u, u, a, b, u_x, v_x, h, x, x_final)\n",
        "    t.append(maks)\n",
        "    r.append(mas)\n",
        "    maks, mas = get_difference(lst_v, v, a, b, u_x, v_x, h, x, x_final)\n",
        "    t.append(maks)\n",
        "    r.append(mas)\n",
        "    return t, r"
      ],
      "execution_count": null,
      "outputs": []
    },
    {
      "cell_type": "code",
      "metadata": {
        "id": "_2Sc3lRyKfaA"
      },
      "source": [
        "def get_difference(res, f, a, b, u_x, v_x, h, x, x_final):\n",
        "    k = [x+ i*h for i in range(len(res))]\n",
        "    return np.max([abs(res[i] - f(k[i],a,b)) for i in range(len(k))]), np.array([abs(res[i] - f(k[i],a,b)) for i in range(len(k))])"
      ],
      "execution_count": null,
      "outputs": []
    },
    {
      "cell_type": "code",
      "metadata": {
        "id": "DnLMNuG49mdS",
        "colab": {
          "base_uri": "https://localhost:8080/"
        },
        "outputId": "3e4052c8-4b79-41fb-db79-2b5db8949c25"
      },
      "source": [
        "r1, arr1 = all_solution(1,1,0.00005,0,0.5, int((x_final - x)/0.00005))"
      ],
      "execution_count": null,
      "outputs": [
        {
          "output_type": "stream",
          "text": [
            "100%|██████████| 10001/10001 [00:00<00:00, 510853.89it/s]\n"
          ],
          "name": "stderr"
        }
      ]
    },
    {
      "cell_type": "code",
      "metadata": {
        "id": "98EM-CKp9mdS",
        "colab": {
          "base_uri": "https://localhost:8080/"
        },
        "outputId": "0188aebf-1415-4082-db7d-f7c5e8208873"
      },
      "source": [
        "r2, arr2 = all_solution(1,1,0.000025,0,0.5, int((x_final - x)/0.000025))"
      ],
      "execution_count": null,
      "outputs": [
        {
          "output_type": "stream",
          "text": [
            "100%|██████████| 20001/20001 [00:00<00:00, 474771.78it/s]\n"
          ],
          "name": "stderr"
        }
      ]
    },
    {
      "cell_type": "code",
      "metadata": {
        "id": "cKHIt6fw9mdU",
        "colab": {
          "base_uri": "https://localhost:8080/"
        },
        "outputId": "9440303d-8309-4a77-fb41-4eaeff2a5551"
      },
      "source": [
        "for i in range(len(r1)):\n",
        "    print(r1[i]/r2[i])"
      ],
      "execution_count": null,
      "outputs": [
        {
          "output_type": "stream",
          "text": [
            "2.0214152193466672\n",
            "2.0214151810406724\n",
            "4.00081280681826\n",
            "4.000812806975202\n"
          ],
          "name": "stdout"
        }
      ]
    }
  ]
}