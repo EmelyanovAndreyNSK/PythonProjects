{
  "nbformat": 4,
  "nbformat_minor": 0,
  "metadata": {
    "colab": {
      "name": "смвм2.ipynb",
      "provenance": [],
      "include_colab_link": true
    },
    "kernelspec": {
      "name": "python3",
      "display_name": "Python 3"
    }
  },
  "cells": [
    {
      "cell_type": "markdown",
      "metadata": {
        "id": "view-in-github",
        "colab_type": "text"
      },
      "source": [
        "<a href=\"https://colab.research.google.com/github/EmelyanovAndreyNSK/PythonTasks/blob/master/%D1%81%D0%BC%D0%B2%D0%BC2.ipynb\" target=\"_parent\"><img src=\"https://colab.research.google.com/assets/colab-badge.svg\" alt=\"Open In Colab\"/></a>"
      ]
    },
    {
      "cell_type": "markdown",
      "metadata": {
        "id": "DhXh9tIaXdCQ"
      },
      "source": [
        "**Провести:**\n",
        "P<sub>n</sub>(x), \n",
        "\n",
        "x<sub>k</sub> = 1 + k/n, \n",
        "\n",
        "y<sub>k</sub> = y(x), \n",
        "\n",
        "k = 0, ..., n\n",
        "\n",
        "**Графики:**\n",
        "\n",
        "1) P<sub>n</sub>(x) - y(x)\n",
        "\n",
        "2) max |P<sub>n</sub>(x) - y(x)| для любого n\n",
        "\n",
        "3) **N + sin(x)**\n"
      ]
    },
    {
      "cell_type": "code",
      "metadata": {
        "id": "ytslVxHaXZmb"
      },
      "source": [
        "import numpy as np\n",
        "import pandas as pd\n",
        "import matplotlib.pyplot as plt\n",
        "import math\n",
        "import random"
      ],
      "execution_count": null,
      "outputs": []
    },
    {
      "cell_type": "code",
      "metadata": {
        "colab": {
          "base_uri": "https://localhost:8080/",
          "height": 355
        },
        "id": "uZQqrFiQODDA",
        "outputId": "c740b419-2cd2-405d-a43f-34c3c9548f4a"
      },
      "source": [
        "#таблица абсцисс и ординат\n",
        "def f(x):\n",
        "    return math.cos(x)\n",
        "  \n",
        "n = 10\n",
        "k = np.arange(n)\n",
        "x = np.zeros(n)\n",
        "y = np.zeros(n)\n",
        "for i in k:\n",
        "  x[i] = 1+i/n\n",
        "  y[i] = f(x[i])\n",
        "table = pd.DataFrame(data={'k': k, 'x': x, 'y': y})\n",
        "table"
      ],
      "execution_count": null,
      "outputs": [
        {
          "output_type": "execute_result",
          "data": {
            "text/html": [
              "<div>\n",
              "<style scoped>\n",
              "    .dataframe tbody tr th:only-of-type {\n",
              "        vertical-align: middle;\n",
              "    }\n",
              "\n",
              "    .dataframe tbody tr th {\n",
              "        vertical-align: top;\n",
              "    }\n",
              "\n",
              "    .dataframe thead th {\n",
              "        text-align: right;\n",
              "    }\n",
              "</style>\n",
              "<table border=\"1\" class=\"dataframe\">\n",
              "  <thead>\n",
              "    <tr style=\"text-align: right;\">\n",
              "      <th></th>\n",
              "      <th>k</th>\n",
              "      <th>x</th>\n",
              "      <th>y</th>\n",
              "    </tr>\n",
              "  </thead>\n",
              "  <tbody>\n",
              "    <tr>\n",
              "      <th>0</th>\n",
              "      <td>0</td>\n",
              "      <td>1.0</td>\n",
              "      <td>0.540302</td>\n",
              "    </tr>\n",
              "    <tr>\n",
              "      <th>1</th>\n",
              "      <td>1</td>\n",
              "      <td>1.1</td>\n",
              "      <td>0.453596</td>\n",
              "    </tr>\n",
              "    <tr>\n",
              "      <th>2</th>\n",
              "      <td>2</td>\n",
              "      <td>1.2</td>\n",
              "      <td>0.362358</td>\n",
              "    </tr>\n",
              "    <tr>\n",
              "      <th>3</th>\n",
              "      <td>3</td>\n",
              "      <td>1.3</td>\n",
              "      <td>0.267499</td>\n",
              "    </tr>\n",
              "    <tr>\n",
              "      <th>4</th>\n",
              "      <td>4</td>\n",
              "      <td>1.4</td>\n",
              "      <td>0.169967</td>\n",
              "    </tr>\n",
              "    <tr>\n",
              "      <th>5</th>\n",
              "      <td>5</td>\n",
              "      <td>1.5</td>\n",
              "      <td>0.070737</td>\n",
              "    </tr>\n",
              "    <tr>\n",
              "      <th>6</th>\n",
              "      <td>6</td>\n",
              "      <td>1.6</td>\n",
              "      <td>-0.029200</td>\n",
              "    </tr>\n",
              "    <tr>\n",
              "      <th>7</th>\n",
              "      <td>7</td>\n",
              "      <td>1.7</td>\n",
              "      <td>-0.128844</td>\n",
              "    </tr>\n",
              "    <tr>\n",
              "      <th>8</th>\n",
              "      <td>8</td>\n",
              "      <td>1.8</td>\n",
              "      <td>-0.227202</td>\n",
              "    </tr>\n",
              "    <tr>\n",
              "      <th>9</th>\n",
              "      <td>9</td>\n",
              "      <td>1.9</td>\n",
              "      <td>-0.323290</td>\n",
              "    </tr>\n",
              "  </tbody>\n",
              "</table>\n",
              "</div>"
            ],
            "text/plain": [
              "   k    x         y\n",
              "0  0  1.0  0.540302\n",
              "1  1  1.1  0.453596\n",
              "2  2  1.2  0.362358\n",
              "3  3  1.3  0.267499\n",
              "4  4  1.4  0.169967\n",
              "5  5  1.5  0.070737\n",
              "6  6  1.6 -0.029200\n",
              "7  7  1.7 -0.128844\n",
              "8  8  1.8 -0.227202\n",
              "9  9  1.9 -0.323290"
            ]
          },
          "metadata": {
            "tags": []
          },
          "execution_count": 118
        }
      ]
    },
    {
      "cell_type": "code",
      "metadata": {
        "colab": {
          "base_uri": "https://localhost:8080/",
          "height": 355
        },
        "id": "4j88sSoQ2i0N",
        "outputId": "d02e2899-2a18-44bf-eb0e-d6d425c797db"
      },
      "source": [
        "def coef(x, y):\n",
        "    n = len(x)\n",
        "    a = []\n",
        "    for i in range(n):\n",
        "        a.append(y[i])\n",
        "    for j in range(1, n):\n",
        "        for i in range(n-1, j-1, -1):\n",
        "            a[i] = float(a[i]-a[i-1])/float(x[i]-x[i-j])\n",
        "    return np.array(a) # массив с коэффициентами\n",
        "\n",
        "#x = [0, 1, 4, 5, 7]\n",
        "#y = [-1, 1, 1, 6, 5]# значения, которые легко проверить\n",
        "table = pd.DataFrame(data={'coefficients': coef(x, y)})\n",
        "table"
      ],
      "execution_count": null,
      "outputs": [
        {
          "output_type": "execute_result",
          "data": {
            "text/html": [
              "<div>\n",
              "<style scoped>\n",
              "    .dataframe tbody tr th:only-of-type {\n",
              "        vertical-align: middle;\n",
              "    }\n",
              "\n",
              "    .dataframe tbody tr th {\n",
              "        vertical-align: top;\n",
              "    }\n",
              "\n",
              "    .dataframe thead th {\n",
              "        text-align: right;\n",
              "    }\n",
              "</style>\n",
              "<table border=\"1\" class=\"dataframe\">\n",
              "  <thead>\n",
              "    <tr style=\"text-align: right;\">\n",
              "      <th></th>\n",
              "      <th>coefficients</th>\n",
              "    </tr>\n",
              "  </thead>\n",
              "  <tbody>\n",
              "    <tr>\n",
              "      <th>0</th>\n",
              "      <td>0.540302</td>\n",
              "    </tr>\n",
              "    <tr>\n",
              "      <th>1</th>\n",
              "      <td>-0.867062</td>\n",
              "    </tr>\n",
              "    <tr>\n",
              "      <th>2</th>\n",
              "      <td>-0.226609</td>\n",
              "    </tr>\n",
              "    <tr>\n",
              "      <th>3</th>\n",
              "      <td>0.151937</td>\n",
              "    </tr>\n",
              "    <tr>\n",
              "      <th>4</th>\n",
              "      <td>0.015073</td>\n",
              "    </tr>\n",
              "    <tr>\n",
              "      <th>5</th>\n",
              "      <td>-0.007892</td>\n",
              "    </tr>\n",
              "    <tr>\n",
              "      <th>6</th>\n",
              "      <td>-0.000371</td>\n",
              "    </tr>\n",
              "    <tr>\n",
              "      <th>7</th>\n",
              "      <td>0.000193</td>\n",
              "    </tr>\n",
              "    <tr>\n",
              "      <th>8</th>\n",
              "      <td>0.000004</td>\n",
              "    </tr>\n",
              "    <tr>\n",
              "      <th>9</th>\n",
              "      <td>-0.000003</td>\n",
              "    </tr>\n",
              "  </tbody>\n",
              "</table>\n",
              "</div>"
            ],
            "text/plain": [
              "   coefficients\n",
              "0      0.540302\n",
              "1     -0.867062\n",
              "2     -0.226609\n",
              "3      0.151937\n",
              "4      0.015073\n",
              "5     -0.007892\n",
              "6     -0.000371\n",
              "7      0.000193\n",
              "8      0.000004\n",
              "9     -0.000003"
            ]
          },
          "metadata": {
            "tags": []
          },
          "execution_count": 119
        }
      ]
    },
    {
      "cell_type": "code",
      "metadata": {
        "colab": {
          "base_uri": "https://localhost:8080/",
          "height": 320
        },
        "id": "Oc7zpuuhVZyf",
        "outputId": "b59efc6c-540c-494a-e0a3-790e41764d0e"
      },
      "source": [
        "def newton_polynomial(x, y, x0):# x0 - точка для интерполяции\n",
        "    a = coef(x, y)\n",
        "    n = len(x) - 1 #степень полинома\n",
        "    p = a[n]\n",
        "    for k in range(1, n + 1):\n",
        "        p = a[n - k] + (x0 - x[n - k])*p\n",
        "    return p\n",
        "  \n",
        "#print(newton_polynomial(x, y, 3)) # - печатает интерполированное значение в точке x0\n",
        "\n",
        "N = []\n",
        "to_interpolate = np.arange(0, 1, 0.1)\n",
        "for i in to_interpolate:\n",
        "    N.append(newton_polynomial(x, y, i))\n",
        "print(N, '- интерполированые значения')\n",
        "plt.plot(x, N)\n",
        "plt.show"
      ],
      "execution_count": null,
      "outputs": [
        {
          "output_type": "stream",
          "text": [
            "[1.0000022819627215, 0.9950052093848878, 0.980067025401931, 0.95533666657926, 0.921061057967697, 0.8775825823466092, 0.8253356205056648, 0.764842188518189, 0.6967067095431234, 0.6216099682875972] - интерполированые значения\n"
          ],
          "name": "stdout"
        },
        {
          "output_type": "execute_result",
          "data": {
            "text/plain": [
              "<function matplotlib.pyplot.show>"
            ]
          },
          "metadata": {
            "tags": []
          },
          "execution_count": 138
        },
        {
          "output_type": "display_data",
          "data": {
            "image/png": "[encoded data removed]",
            "text/plain": [
              "<Figure size 432x288 with 1 Axes>"
            ]
          },
          "metadata": {
            "tags": [],
            "needs_background": "light"
          }
        }
      ]
    },
    {
      "cell_type": "code",
      "metadata": {
        "colab": {
          "base_uri": "https://localhost:8080/",
          "height": 283
        },
        "id": "6sTXBN1MDv9C",
        "outputId": "647e0184-e3bc-4556-fb19-135e0cd0cbed"
      },
      "source": [
        "#1\n",
        "P = np.zeros(len(x))\n",
        "for i in range (len(P)):\n",
        "    P[i] = N[i]- y[i]\n",
        "plt.plot(x, y, label = 'функция')\n",
        "plt.plot(x, N, label = 'полином')\n",
        "plt.plot(x, P, label = 'расхождение')\n",
        "plt.legend()\n",
        "plt.show"
      ],
      "execution_count": null,
      "outputs": [
        {
          "output_type": "execute_result",
          "data": {
            "text/plain": [
              "<function matplotlib.pyplot.show>"
            ]
          },
          "metadata": {
            "tags": []
          },
          "execution_count": 139
        },
        {
          "output_type": "display_data",
          "data": {
            "image/png": "[encoded data removed]",
            "text/plain": [
              "<Figure size 432x288 with 1 Axes>"
            ]
          },
          "metadata": {
            "tags": [],
            "needs_background": "light"
          }
        }
      ]
    },
    {
      "cell_type": "code",
      "metadata": {
        "colab": {
          "base_uri": "https://localhost:8080/",
          "height": 283
        },
        "id": "R_lnn4v2Ckm7",
        "outputId": "7c6c10ef-8bca-4e38-fb3a-1e2959a1317a"
      },
      "source": [
        "#2\n",
        "P = np.zeros(len(x))\n",
        "for i in range (len(P)):\n",
        "    P[i] = N[i]- y[i]\n",
        "plt.plot(x, abs(P))\n",
        "plt.show"
      ],
      "execution_count": null,
      "outputs": [
        {
          "output_type": "execute_result",
          "data": {
            "text/plain": [
              "<function matplotlib.pyplot.show>"
            ]
          },
          "metadata": {
            "tags": []
          },
          "execution_count": 134
        },
        {
          "output_type": "display_data",
          "data": {
            "image/png": "[encoded data removed]",
            "text/plain": [
              "<Figure size 432x288 with 1 Axes>"
            ]
          },
          "metadata": {
            "tags": [],
            "needs_background": "light"
          }
        }
      ]
    },
    {
      "cell_type": "code",
      "metadata": {
        "colab": {
          "base_uri": "https://localhost:8080/",
          "height": 283
        },
        "id": "1LEZmpZKC-9-",
        "outputId": "d501bf61-a109-4339-9f3a-73864b716495"
      },
      "source": [
        "#3\n",
        "def fun(x):\n",
        "  return math.sin(x)\n",
        "\n",
        "y_sin = np.zeros(len(x))\n",
        "P = np.zeros(len(x))\n",
        "for i in x:\n",
        "  for j in range(len(x)):\n",
        "    y_sin[j] = fun(i)\n",
        "for k in range(len(P)):\n",
        "    P[k] = N[k] + y_sin[k]\n",
        "plt.plot(x, P)\n",
        "plt.show"
      ],
      "execution_count": null,
      "outputs": [
        {
          "output_type": "execute_result",
          "data": {
            "text/plain": [
              "<function matplotlib.pyplot.show>"
            ]
          },
          "metadata": {
            "tags": []
          },
          "execution_count": 135
        },
        {
          "output_type": "display_data",
          "data": {
            "image/png": "[encoded data removed]",
            "text/plain": [
              "<Figure size 432x288 with 1 Axes>"
            ]
          },
          "metadata": {
            "tags": [],
            "needs_background": "light"
          }
        }
      ]
    }
  ]
}