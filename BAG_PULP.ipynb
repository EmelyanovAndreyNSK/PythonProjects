{
  "nbformat": 4,
  "nbformat_minor": 0,
  "metadata": {
    "kernelspec": {
      "display_name": "Python 3",
      "language": "python",
      "name": "python3"
    },
    "language_info": {
      "codemirror_mode": {
        "name": "ipython",
        "version": 3
      },
      "file_extension": ".py",
      "mimetype": "text/x-python",
      "name": "python",
      "nbconvert_exporter": "python",
      "pygments_lexer": "ipython3",
      "version": "3.7.3"
    },
    "colab": {
      "name": "BAG_PULP.ipynb",
      "provenance": [],
      "include_colab_link": true
    }
  },
  "cells": [
    {
      "cell_type": "markdown",
      "metadata": {
        "id": "view-in-github",
        "colab_type": "text"
      },
      "source": [
        "<a href=\"https://colab.research.google.com/github/EmelyanovAndreyNSK/PythonTasks/blob/master/BAG_PULP.ipynb\" target=\"_parent\"><img src=\"https://colab.research.google.com/assets/colab-badge.svg\" alt=\"Open In Colab\"/></a>"
      ]
    },
    {
      "cell_type": "markdown",
      "metadata": {
        "id": "cyfbwDvVJHpz",
        "colab_type": "text"
      },
      "source": [
        "Задача о ранце. \n",
        "\n",
        "Есть некоторый рюкзак с объемом $B$, есть предметы $i \\in SUBJECT$ с различной стоимостью $c_i$ и весом $b_i$. Требуется найти оптимальное с точки зрения максимизации итоговой стоимости рюкзака решение, какие предметы взять.\n",
        "\n",
        "Запишем математическую модель.\n",
        "\n",
        "Введем переменные:\n",
        "\n",
        "$ x_{i} = \\left\\{\n",
        "\\begin{array}{ll}\n",
        "          1, & \\mbox { если берем $i$ предмет в рюкзак,}\\\\\n",
        "          0, & \\mbox { в противном случае. } \\\\\n",
        "\\end{array} \\right. $\n",
        "\n",
        "Договоримся о входных данных:\n",
        "\n",
        "$I$ - множество предметов;\n",
        "\n",
        "$b_i$ - вес $i$ предмета;\n",
        "\n",
        "$c_i$ - стоимость $i$ предмета.\n",
        "\n",
        "Математическая модель:\n",
        "\n",
        "Целевая функция:\n",
        "\n",
        "$$\\sum\\limits_{i = 0}^{I} c_i x_i \\to \\max_{x}$$\n",
        "\n",
        "Ограничения:\n",
        "\n",
        "$$x_i \\in \\mathbb B, \\forall i \\in I $$\n",
        "\n",
        "$$\\sum\\limits_{i = 0}^{I} b_i x_i \\leqslant B $$"
      ]
    },
    {
      "cell_type": "code",
      "metadata": {
        "id": "dNGfs33uJ0Vf",
        "colab_type": "code",
        "colab": {
          "base_uri": "https://localhost:8080/",
          "height": 441
        },
        "outputId": "481cca47-49d6-49ea-dd18-335ad89d4f71"
      },
      "source": [
        "!pip install pulp\n",
        "!pip install cplex"
      ],
      "execution_count": null,
      "outputs": [
        {
          "output_type": "stream",
          "text": [
            "Collecting pulp\n",
            "\u001b[?25l  Downloading https://files.pythonhosted.org/packages/c3/22/5743d7b5d69f84fb63a0b4925862522dbf80e82defcd0c447afb694f3fd0/PuLP-2.3-py3-none-any.whl (40.6MB)\n",
            "\u001b[K     |████████████████████████████████| 40.6MB 99kB/s \n",
            "\u001b[?25hCollecting amply>=0.1.2\n",
            "  Downloading https://files.pythonhosted.org/packages/7f/11/33cb09557ac838d9488779b79e05a2a3c1f3ce9747cd242ba68332736778/amply-0.1.2.tar.gz\n",
            "  Installing build dependencies ... \u001b[?25l\u001b[?25hdone\n",
            "  Getting requirements to build wheel ... \u001b[?25l\u001b[?25hdone\n",
            "    Preparing wheel metadata ... \u001b[?25l\u001b[?25hdone\n",
            "Requirement already satisfied: docutils>=0.3 in /usr/local/lib/python3.6/dist-packages (from amply>=0.1.2->pulp) (0.15.2)\n",
            "Requirement already satisfied: pyparsing in /usr/local/lib/python3.6/dist-packages (from amply>=0.1.2->pulp) (2.4.7)\n",
            "Building wheels for collected packages: amply\n",
            "  Building wheel for amply (PEP 517) ... \u001b[?25l\u001b[?25hdone\n",
            "  Created wheel for amply: filename=amply-0.1.2-cp36-none-any.whl size=16573 sha256=1761345e11c14874d34e7735b4b3bcbb09116766a0dee82271056bc05511c62c\n",
            "  Stored in directory: /root/.cache/pip/wheels/84/18/f7/e5c3ed13ed5bb721763f77d4a924331d59ef115ce61c9d26eb\n",
            "Successfully built amply\n",
            "Installing collected packages: amply, pulp\n",
            "Successfully installed amply-0.1.2 pulp-2.3\n",
            "Collecting cplex\n",
            "\u001b[?25l  Downloading https://files.pythonhosted.org/packages/69/65/75bc076bec7a29ac65c9a8049d66effbf84db40d6f4f8e8137e9c9eaeb15/cplex-12.10.0.3-cp36-cp36m-manylinux1_x86_64.whl (31.0MB)\n",
            "\u001b[K     |████████████████████████████████| 31.0MB 101kB/s \n",
            "\u001b[?25hInstalling collected packages: cplex\n",
            "Successfully installed cplex-12.10.0.3\n"
          ],
          "name": "stdout"
        }
      ]
    },
    {
      "cell_type": "code",
      "metadata": {
        "id": "Wq2l37mGJHp3",
        "colab_type": "code",
        "colab": {}
      },
      "source": [
        "#import gurobipy as gp\n",
        "#from gurobipy import GRB\n",
        "import numpy as np\n",
        "import time\n",
        "from random import randrange\n",
        "import pulp as plp"
      ],
      "execution_count": null,
      "outputs": []
    },
    {
      "cell_type": "code",
      "metadata": {
        "id": "Xt0QMLI5JHqG",
        "colab_type": "code",
        "colab": {}
      },
      "source": [
        "I = 50\n",
        "B = 100\n",
        "c = np.random.randint(50, 70, I)\n",
        "b = np.random.randint(1, 10, I)"
      ],
      "execution_count": null,
      "outputs": []
    },
    {
      "cell_type": "code",
      "metadata": {
        "id": "nWvlA8oWJHqT",
        "colab_type": "code",
        "colab": {
          "base_uri": "https://localhost:8080/",
          "height": 1000
        },
        "outputId": "aed1b3d5-9194-411f-dee9-94ab10a2c503"
      },
      "source": [
        "problem = plp.LpProblem(name='BagProblem', sense=plp.LpMaximize)\n",
        "x  = {i : plp.LpVariable(cat=plp.LpBinary, name=\"x\"+str(i)) for i in range(I)}\n",
        "\n",
        "problem.addConstraint(plp.LpConstraint(\n",
        "                     e=plp.lpSum(b[i] * x[i] for i in range(I)),\n",
        "                     sense=plp.LpConstraintLE,\n",
        "                     rhs=B ,\n",
        "                     name=\"constraint_{1}\"))\n",
        "\n",
        "problem.setObjective(plp.lpSum(c[i] * x[i] for i in range(I)))\n",
        "print(problem)"
      ],
      "execution_count": null,
      "outputs": [
        {
          "output_type": "stream",
          "text": [
            "BagProblem:\n",
            "MAXIMIZE\n",
            "67*x0 + 59*x1 + 66*x10 + 54*x11 + 58*x12 + 50*x13 + 68*x14 + 50*x15 + 64*x16 + 66*x17 + 66*x18 + 58*x19 + 60*x2 + 52*x20 + 60*x21 + 60*x22 + 61*x23 + 54*x24 + 50*x25 + 64*x26 + 55*x27 + 60*x28 + 65*x29 + 57*x3 + 53*x30 + 65*x31 + 51*x32 + 52*x33 + 57*x34 + 68*x35 + 63*x36 + 58*x37 + 67*x38 + 55*x39 + 51*x4 + 57*x40 + 52*x41 + 69*x42 + 69*x43 + 51*x44 + 55*x45 + 53*x46 + 64*x47 + 50*x48 + 66*x49 + 54*x5 + 59*x6 + 55*x7 + 56*x8 + 60*x9 + 0\n",
            "SUBJECT TO\n",
            "constraint_{1}: 5 x0 + 2 x1 + 8 x10 + 3 x11 + 5 x12 + x13 + 2 x14 + 7 x15\n",
            " + 7 x16 + 3 x17 + 7 x18 + x19 + 3 x2 + 4 x20 + 2 x21 + 2 x22 + 7 x23 + x24\n",
            " + x25 + 4 x26 + 2 x27 + 7 x28 + 9 x29 + 7 x3 + 4 x30 + 4 x31 + 4 x32 + 3 x33\n",
            " + 7 x34 + 6 x35 + x36 + 2 x37 + 6 x38 + x39 + x4 + 8 x40 + x41 + 3 x42\n",
            " + 2 x43 + x44 + 4 x45 + 8 x46 + 5 x47 + 3 x48 + 6 x49 + 4 x5 + 3 x6 + 4 x7\n",
            " + 2 x8 + x9 <= 100\n",
            "\n",
            "VARIABLES\n",
            "0 <= x0 <= 1 Integer\n",
            "0 <= x1 <= 1 Integer\n",
            "0 <= x10 <= 1 Integer\n",
            "0 <= x11 <= 1 Integer\n",
            "0 <= x12 <= 1 Integer\n",
            "0 <= x13 <= 1 Integer\n",
            "0 <= x14 <= 1 Integer\n",
            "0 <= x15 <= 1 Integer\n",
            "0 <= x16 <= 1 Integer\n",
            "0 <= x17 <= 1 Integer\n",
            "0 <= x18 <= 1 Integer\n",
            "0 <= x19 <= 1 Integer\n",
            "0 <= x2 <= 1 Integer\n",
            "0 <= x20 <= 1 Integer\n",
            "0 <= x21 <= 1 Integer\n",
            "0 <= x22 <= 1 Integer\n",
            "0 <= x23 <= 1 Integer\n",
            "0 <= x24 <= 1 Integer\n",
            "0 <= x25 <= 1 Integer\n",
            "0 <= x26 <= 1 Integer\n",
            "0 <= x27 <= 1 Integer\n",
            "0 <= x28 <= 1 Integer\n",
            "0 <= x29 <= 1 Integer\n",
            "0 <= x3 <= 1 Integer\n",
            "0 <= x30 <= 1 Integer\n",
            "0 <= x31 <= 1 Integer\n",
            "0 <= x32 <= 1 Integer\n",
            "0 <= x33 <= 1 Integer\n",
            "0 <= x34 <= 1 Integer\n",
            "0 <= x35 <= 1 Integer\n",
            "0 <= x36 <= 1 Integer\n",
            "0 <= x37 <= 1 Integer\n",
            "0 <= x38 <= 1 Integer\n",
            "0 <= x39 <= 1 Integer\n",
            "0 <= x4 <= 1 Integer\n",
            "0 <= x40 <= 1 Integer\n",
            "0 <= x41 <= 1 Integer\n",
            "0 <= x42 <= 1 Integer\n",
            "0 <= x43 <= 1 Integer\n",
            "0 <= x44 <= 1 Integer\n",
            "0 <= x45 <= 1 Integer\n",
            "0 <= x46 <= 1 Integer\n",
            "0 <= x47 <= 1 Integer\n",
            "0 <= x48 <= 1 Integer\n",
            "0 <= x49 <= 1 Integer\n",
            "0 <= x5 <= 1 Integer\n",
            "0 <= x6 <= 1 Integer\n",
            "0 <= x7 <= 1 Integer\n",
            "0 <= x8 <= 1 Integer\n",
            "0 <= x9 <= 1 Integer\n",
            "\n"
          ],
          "name": "stdout"
        }
      ]
    },
    {
      "cell_type": "code",
      "metadata": {
        "id": "vfl0D0s-JHqb",
        "colab_type": "code",
        "colab": {
          "base_uri": "https://localhost:8080/",
          "height": 55
        },
        "outputId": "cdc36129-2882-42d1-80f1-d7129742c3ee"
      },
      "source": [
        "solver_list = plp.list_solvers()\n",
        "print(solver_list)"
      ],
      "execution_count": null,
      "outputs": [
        {
          "output_type": "stream",
          "text": [
            "['GLPK_CMD', 'PYGLPK', 'CPLEX_CMD', 'CPLEX_PY', 'CPLEX_DLL', 'GUROBI', 'GUROBI_CMD', 'MOSEK', 'XPRESS', 'PULP_CBC_CMD', 'COIN_CMD', 'COINMP_DLL', 'CHOCO_CMD', 'PULP_CHOCO_CMD', 'MIPCL_CMD', 'SCIP_CMD']\n"
          ],
          "name": "stdout"
        }
      ]
    },
    {
      "cell_type": "code",
      "metadata": {
        "id": "o3i2rtRsJHql",
        "colab_type": "code",
        "colab": {
          "base_uri": "https://localhost:8080/",
          "height": 54
        },
        "outputId": "285dc45a-cb10-4492-b88e-8052e18f9460"
      },
      "source": [
        "def experiment(name, solver):\n",
        "    start = time.time()\n",
        "    problem.solve(solver)\n",
        "    answer = plp.value(problem.objective)\n",
        "    print(f\"{name} solved {time.time() - start}  answer : {answer}\")\n",
        "    \n",
        "#experiment('Gurobi', plp.get_solver('GUROBI', msg=False))\n",
        "experiment('CPLEX', plp.get_solver('CPLEX_PY', msg=False))\n",
        "#experiment('GLPK', plp.get_solver('GLPK_CMD', path=\"C:\\GRB\\winglpk-4.65\\glpk-4.65\\w64\\glpsol.exe\", msg=False))\n",
        "experiment('PULP', plp.get_solver('PULP_CBC_CMD', msg=False))"
      ],
      "execution_count": null,
      "outputs": [
        {
          "output_type": "stream",
          "text": [
            "CPLEX solved 0.028099536895751953  answer : 2145.0\n",
            "PULP solved 0.10822176933288574  answer : 2145.0\n"
          ],
          "name": "stdout"
        }
      ]
    },
    {
      "cell_type": "code",
      "metadata": {
        "id": "gf_3gEg9LXcV",
        "colab_type": "code",
        "colab": {
          "base_uri": "https://localhost:8080/",
          "height": 935
        },
        "outputId": "d3968c1f-b5f9-4186-e500-6a9fa2440dc6"
      },
      "source": [
        " for v in problem.variables():\n",
        "            print(v.name, \"=\", v.varValue)"
      ],
      "execution_count": null,
      "outputs": [
        {
          "output_type": "stream",
          "text": [
            "x0 = 1.0\n",
            "x1 = 1.0\n",
            "x10 = 0.0\n",
            "x11 = 1.0\n",
            "x12 = 1.0\n",
            "x13 = 1.0\n",
            "x14 = 1.0\n",
            "x15 = 0.0\n",
            "x16 = 0.0\n",
            "x17 = 1.0\n",
            "x18 = 0.0\n",
            "x19 = 1.0\n",
            "x2 = 1.0\n",
            "x20 = 1.0\n",
            "x21 = 1.0\n",
            "x22 = 1.0\n",
            "x23 = 0.0\n",
            "x24 = 1.0\n",
            "x25 = 1.0\n",
            "x26 = 1.0\n",
            "x27 = 1.0\n",
            "x28 = 0.0\n",
            "x29 = 0.0\n",
            "x3 = 0.0\n",
            "x30 = 1.0\n",
            "x31 = 1.0\n",
            "x32 = 1.0\n",
            "x33 = 1.0\n",
            "x34 = 0.0\n",
            "x35 = 1.0\n",
            "x36 = 1.0\n",
            "x37 = 1.0\n",
            "x38 = 0.0\n",
            "x39 = 1.0\n",
            "x4 = 1.0\n",
            "x40 = 0.0\n",
            "x41 = 1.0\n",
            "x42 = 1.0\n",
            "x43 = 1.0\n",
            "x44 = 1.0\n",
            "x45 = 1.0\n",
            "x46 = 0.0\n",
            "x47 = 1.0\n",
            "x48 = 1.0\n",
            "x49 = 0.0\n",
            "x5 = 1.0\n",
            "x6 = 1.0\n",
            "x7 = 1.0\n",
            "x8 = 1.0\n",
            "x9 = 1.0\n"
          ],
          "name": "stdout"
        }
      ]
    },
    {
      "cell_type": "code",
      "metadata": {
        "id": "jsSBb_caJHqs",
        "colab_type": "code",
        "colab": {},
        "outputId": "c87cc156-8776-4b48-db27-9a70a0a098c5"
      },
      "source": [
        "def experiment(name, solver, timeLimit):\n",
        "    times = []\n",
        "    start = time.time()\n",
        "    current = start\n",
        "    while current - start <= timeLimit:\n",
        "        problem.solve(solver)\n",
        "        startIter, current = current, time.time()\n",
        "        times.append(current - startIter)\n",
        "    \n",
        "    answer = plp.value(problem.objective)\n",
        "    print(f\"{name} solved {len(times) - 1} instances \"\n",
        "          f\"in {timeLimit} seconds answer : {answer}\")\n",
        "\n",
        "    \n",
        "experiment('Gurobi', plp.get_solver('GUROBI', msg=False), 120)\n",
        "experiment('CPLEX', plp.get_solver('CPLEX_PY', msg=False), 120)\n",
        "experiment('GLPK', plp.get_solver('GLPK_CMD', path=\"C:\\GRB\\winglpk-4.65\\glpk-4.65\\w64\\glpsol.exe\", msg=False), 120)\n",
        "experiment('PULP', plp.get_solver('PULP_CBC_CMD', msg=False), 120)"
      ],
      "execution_count": null,
      "outputs": [
        {
          "output_type": "stream",
          "text": [
            "Gurobi solved 101101 instances in 120 seconds answer : 1903.0\n",
            "CPLEX solved 5831 instances in 120 seconds answer : 1903.0\n",
            "GLPK solved 820 instances in 120 seconds answer : 1903\n",
            "PULP solved 1757 instances in 120 seconds answer : 1903.0\n"
          ],
          "name": "stdout"
        }
      ]
    },
    {
      "cell_type": "code",
      "metadata": {
        "id": "Bd7poInMJHq2",
        "colab_type": "code",
        "colab": {}
      },
      "source": [
        ""
      ],
      "execution_count": null,
      "outputs": []
    }
  ]
}