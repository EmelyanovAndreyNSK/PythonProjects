{
  "nbformat": 4,
  "nbformat_minor": 0,
  "metadata": {
    "colab": {
      "name": "CM_Lab2.ipynb",
      "provenance": [],
      "collapsed_sections": [],
      "include_colab_link": true
    },
    "kernelspec": {
      "name": "python3",
      "display_name": "Python 3"
    }
  },
  "cells": [
    {
      "cell_type": "markdown",
      "metadata": {
        "id": "view-in-github",
        "colab_type": "text"
      },
      "source": [
        "<a href=\"https://colab.research.google.com/github/EmelyanovAndreyNSK/PythonTasks/blob/master/CM_Lab2.ipynb\" target=\"_parent\"><img src=\"https://colab.research.google.com/assets/colab-badge.svg\" alt=\"Open In Colab\"/></a>"
      ]
    },
    {
      "cell_type": "markdown",
      "metadata": {
        "id": "DhXh9tIaXdCQ"
      },
      "source": [
        "**Провести:**\n",
        "P<sub>n</sub>(x), \n",
        "\n",
        "x<sub>k</sub> = 1 + k/n, \n",
        "\n",
        "y<sub>k</sub> = y(x), \n",
        "\n",
        "k = 0, ..., n\n",
        "\n",
        "**Графики:**\n",
        "\n",
        "1) P<sub>n</sub>(x) - y(x)\n",
        "\n",
        "2) max |P<sub>n</sub>(x) - y(x)| для любого n\n",
        "\n",
        "3) **N + sin(x)**\n"
      ]
    },
    {
      "cell_type": "code",
      "metadata": {
        "id": "ytslVxHaXZmb"
      },
      "source": [
        "import numpy as np\n",
        "import pandas as pd\n",
        "import matplotlib.pyplot as plt\n",
        "import math\n",
        "import random"
      ],
      "execution_count": null,
      "outputs": []
    },
    {
      "cell_type": "code",
      "metadata": {
        "id": "uZQqrFiQODDA"
      },
      "source": [
        "#таблица абсцисс и ординат\n",
        "def f(x):\n",
        "    return math.cos(x)\n",
        "\n",
        "a = 0\n",
        "b = 2\n",
        "n = 10\n",
        "k = np.arange(n)\n",
        "x = np.arange(start = a, stop = b, step = (b-a)/n)\n",
        "y = np.zeros(n)\n",
        "for i in k:\n",
        "  x[i] = 1 + i/n\n",
        "  y[i] = f(x[i])\n",
        "table = pd.DataFrame(data={'k': k, 'x': x, 'y': y})"
      ],
      "execution_count": null,
      "outputs": []
    },
    {
      "cell_type": "code",
      "metadata": {
        "id": "4j88sSoQ2i0N"
      },
      "source": [
        "def coef(x, y):\n",
        "    n = len(x)\n",
        "    a = []\n",
        "    for i in range(n):\n",
        "        a.append(y[i])\n",
        "    for j in range(1, n):\n",
        "        for i in range(n-1, j-1, -1):\n",
        "            a[i] = float(a[i]-a[i-1])/float(x[i]-x[i-j])\n",
        "    return np.array(a) # массив с коэффициентами\n",
        "\n",
        "#x = [0, 1, 4, 5, 7]\n",
        "#y = [-1, 1, 1, 6, 5]# значения, которые легко проверить\n",
        "table = pd.DataFrame(data={'coefficients': coef(x, y)})"
      ],
      "execution_count": null,
      "outputs": []
    },
    {
      "cell_type": "code",
      "metadata": {
        "id": "qrok-Aqa5rwL"
      },
      "source": [
        "def newton_polynom(a, xk, xAxis):\n",
        "    y = []\n",
        "    for x in xAxis:\n",
        "        result = 0\n",
        "        for i in range(len(a)):\n",
        "            temp = a[i]\n",
        "            for j in range(i):\n",
        "                temp *= (x - xk[j])\n",
        "            result += temp\n",
        "        y.append(result)\n",
        "    return y\n",
        "\n",
        "def difference(x, y):\n",
        "    n = len(x)\n",
        "    for j in range(1, n):\n",
        "        for i in range(n-1, j-1, -1):\n",
        "            y[i] = (y[i]-y[i-1])/float(x[i]-x[i-j])\n",
        "    return y"
      ],
      "execution_count": null,
      "outputs": []
    },
    {
      "cell_type": "code",
      "metadata": {
        "colab": {
          "base_uri": "https://localhost:8080/",
          "height": 265
        },
        "id": "Oc7zpuuhVZyf",
        "outputId": "89190fc6-8c6e-4d2b-9bc8-260e77cc948d"
      },
      "source": [
        "x_interpolate = np.arange(a, b, (b-a)/n)\n",
        "y_interpolate = np.cos(x_interpolate)\n",
        "to_interpolate = np.arange(a, b, 0.1)\n",
        "interpolated = np.cos(to_interpolate)\n",
        "polynom = np.array(newton_polynom(difference(x_interpolate, y_interpolate), x_interpolate, to_interpolate))\n",
        "plt.scatter(to_interpolate, polynom)\n",
        "plt.plot(to_interpolate, interpolated)\n",
        "plt.show()"
      ],
      "execution_count": null,
      "outputs": [
        {
          "output_type": "display_data",
          "data": {
            "image/png": "[encoded data removed]",
            "text/plain": [
              "<Figure size 432x288 with 1 Axes>"
            ]
          },
          "metadata": {
            "tags": [],
            "needs_background": "light"
          }
        }
      ]
    },
    {
      "cell_type": "code",
      "metadata": {
        "colab": {
          "base_uri": "https://localhost:8080/",
          "height": 276
        },
        "id": "6sTXBN1MDv9C",
        "outputId": "971a3d85-c6d1-4e02-a83f-60fe94158f77"
      },
      "source": [
        "plt.plot(to_interpolate, polynom - interpolated)\n",
        "plt.show()"
      ],
      "execution_count": null,
      "outputs": [
        {
          "output_type": "display_data",
          "data": {
            "image/png": "[encoded data removed]",
            "text/plain": [
              "<Figure size 432x288 with 1 Axes>"
            ]
          },
          "metadata": {
            "tags": [],
            "needs_background": "light"
          }
        }
      ]
    },
    {
      "cell_type": "code",
      "metadata": {
        "colab": {
          "base_uri": "https://localhost:8080/",
          "height": 284
        },
        "id": "JwyVWyP_8BLt",
        "outputId": "5dc80714-ba57-49e7-8544-594d22752eb9"
      },
      "source": [
        "start = 1\n",
        "end = 30\n",
        "yMax = []\n",
        "y_interpolate = np.array([])\n",
        "to_interpolate = np.arange(a, b, 0.001)\n",
        "xaxis = np.arange(start, end)\n",
        "for n in range (start, end):\n",
        "  xk = np.linspace(a, b, n + 1)\n",
        "  y_interpolate = np.sin(xk)\n",
        "  yaxis = np.sin(to_interpolate)\n",
        "  polynom = np.array(newton_polynom(difference(xk, y_interpolate), xk, to_interpolate))\n",
        "  yMax.append(max(abs(polynom - yaxis)))\n",
        "plt.semilogy(xaxis, yMax)\n",
        "plt.show"
      ],
      "execution_count": null,
      "outputs": [
        {
          "output_type": "execute_result",
          "data": {
            "text/plain": [
              "<function matplotlib.pyplot.show>"
            ]
          },
          "metadata": {
            "tags": []
          },
          "execution_count": 33
        },
        {
          "output_type": "display_data",
          "data": {
            "image/png": "[encoded data removed]",
            "text/plain": [
              "<Figure size 432x288 with 1 Axes>"
            ]
          },
          "metadata": {
            "tags": [],
            "needs_background": "light"
          }
        }
      ]
    }
  ]
}