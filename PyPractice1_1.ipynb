{
  "nbformat": 4,
  "nbformat_minor": 0,
  "metadata": {
    "colab": {
      "name": "PyPractice1.ipynb",
      "provenance": [],
      "collapsed_sections": [],
      "authorship_tag": "ABX9TyM2RFeUNnFRVESMT6nvdcdu",
      "include_colab_link": true
    },
    "kernelspec": {
      "name": "python3",
      "display_name": "Python 3"
    }
  },
  "cells": [
    {
      "cell_type": "markdown",
      "metadata": {
        "id": "view-in-github",
        "colab_type": "text"
      },
      "source": [
        "<a href=\"https://colab.research.google.com/github/EmelyanovAndreyNSK/PythonTasks/blob/master/PyPractice1.ipynb\" target=\"_parent\"><img src=\"https://colab.research.google.com/assets/colab-badge.svg\" alt=\"Open In Colab\"/></a>"
      ]
    },
    {
      "cell_type": "code",
      "metadata": {
        "id": "v2-SwGVvjkOU",
        "colab_type": "code",
        "outputId": "ab8ae253-243c-4b26-84b8-f9eee13a9829",
        "colab": {
          "base_uri": "https://localhost:8080/",
          "height": 50
        }
      },
      "source": [
        "n = int(input())\n",
        "sum=0\n",
        "\n",
        "for i in range(n):#calculate the sum of all number between 1 and n including n\n",
        "  sum = sum+i\n",
        "print (sum)"
      ],
      "execution_count": 0,
      "outputs": [
        {
          "output_type": "stream",
          "text": [
            "5\n",
            "10\n"
          ],
          "name": "stdout"
        }
      ]
    },
    {
      "cell_type": "code",
      "metadata": {
        "id": "7TIRMnyDoKV3",
        "colab_type": "code",
        "outputId": "e9c934da-7455-420c-f486-9ea4ac644d65",
        "colab": {
          "base_uri": "https://localhost:8080/",
          "height": 168
        }
      },
      "source": [
        "for i in range(-10, -1):\n",
        "  print (i)"
      ],
      "execution_count": 0,
      "outputs": [
        {
          "output_type": "stream",
          "text": [
            "-10\n",
            "-9\n",
            "-8\n",
            "-7\n",
            "-6\n",
            "-5\n",
            "-4\n",
            "-3\n",
            "-2\n"
          ],
          "name": "stdout"
        }
      ]
    },
    {
      "cell_type": "code",
      "metadata": {
        "id": "JCDN7Ulanyh3",
        "colab_type": "code",
        "outputId": "a8150e56-693a-4975-bc4a-2ec7ae6b0c5e",
        "colab": {
          "base_uri": "https://localhost:8080/",
          "height": 50
        }
      },
      "source": [
        "L = [1, 6, 5, 15, 120, 25 ]#list\n",
        "\n",
        "\n",
        "for i in range (len(L)):\n",
        "  if(L[i]>=120):#if  number greater than 120 was found stop the loop iteration\n",
        "    break\n",
        "  if (L[i] %5 == 0):#display numbers which are divisible by 5\n",
        "    print (L[i])\n",
        " "
      ],
      "execution_count": 0,
      "outputs": [
        {
          "output_type": "stream",
          "text": [
            "5\n",
            "15\n"
          ],
          "name": "stdout"
        }
      ]
    },
    {
      "cell_type": "code",
      "metadata": {
        "id": "Q05Utt6iwtIN",
        "colab_type": "code",
        "outputId": "118fdd8e-c909-4e1b-fa2f-aac4b5ab90dc",
        "colab": {
          "base_uri": "https://localhost:8080/",
          "height": 235
        }
      },
      "source": [
        "n = int(input())\n",
        "\n",
        "for i in range(n):\n",
        "    for j in range(1,n-i):\n",
        "      print (j,sep = ' ', end = ' ')\n",
        "    print ('\\n')"
      ],
      "execution_count": 0,
      "outputs": [
        {
          "output_type": "stream",
          "text": [
            "6\n",
            "1 2 3 4 5 \n",
            "\n",
            "1 2 3 4 \n",
            "\n",
            "1 2 3 \n",
            "\n",
            "1 2 \n",
            "\n",
            "1 \n",
            "\n",
            "\n",
            "\n"
          ],
          "name": "stdout"
        }
      ]
    },
    {
      "cell_type": "code",
      "metadata": {
        "id": "Ol2Sh-F4QtZx",
        "colab_type": "code",
        "outputId": "4553b6d0-2a05-4ae1-81c2-307a90000487",
        "colab": {
          "base_uri": "https://localhost:8080/",
          "height": 50
        }
      },
      "source": [
        "n = int(input())\n",
        "\n",
        "n = str(n)\n",
        "\n",
        "print (len(n))\n",
        "  "
      ],
      "execution_count": 0,
      "outputs": [
        {
          "output_type": "stream",
          "text": [
            "1243\n",
            "4\n"
          ],
          "name": "stdout"
        }
      ]
    },
    {
      "cell_type": "code",
      "metadata": {
        "id": "ZcrmnY9nTb0I",
        "colab_type": "code",
        "outputId": "fbeda309-a244-4d4a-a8ff-3a95714073f9",
        "colab": {
          "base_uri": "https://localhost:8080/",
          "height": 118
        }
      },
      "source": [
        "L = [1, 6, 5, 15, 120, 25 ]\n",
        "\n",
        "for i in range (len(L)):#reverse\n",
        "  print(L[len(L)-i-1])"
      ],
      "execution_count": 0,
      "outputs": [
        {
          "output_type": "stream",
          "text": [
            "25\n",
            "120\n",
            "15\n",
            "5\n",
            "6\n",
            "1\n"
          ],
          "name": "stdout"
        }
      ]
    },
    {
      "cell_type": "code",
      "metadata": {
        "id": "5xFo-449T7PX",
        "colab_type": "code",
        "outputId": "f0e8ecd3-9922-49ab-b015-e198047ab341",
        "colab": {
          "base_uri": "https://localhost:8080/",
          "height": 67
        }
      },
      "source": [
        "x = int(input())\n",
        "y = int(input())\n",
        "\n",
        "for i in range (x):\n",
        "  if(i==y):#if y<x\n",
        "    break\n",
        " \n",
        "else: print('Done')#loop was successful executed\n"
      ],
      "execution_count": 0,
      "outputs": [
        {
          "output_type": "stream",
          "text": [
            "5\n",
            "6\n",
            "Done\n"
          ],
          "name": "stdout"
        }
      ]
    }
  ]
}
