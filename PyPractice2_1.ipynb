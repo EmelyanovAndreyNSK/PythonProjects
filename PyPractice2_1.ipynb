{
  "nbformat": 4,
  "nbformat_minor": 0,
  "metadata": {
    "colab": {
      "name": "PyPractice2.1.ipynb",
      "provenance": [],
      "collapsed_sections": [],
      "authorship_tag": "ABX9TyPAq56dZqiHvHz/td1z9BWv",
      "include_colab_link": true
    },
    "kernelspec": {
      "name": "python3",
      "display_name": "Python 3"
    }
  },
  "cells": [
    {
      "cell_type": "markdown",
      "metadata": {
        "id": "view-in-github",
        "colab_type": "text"
      },
      "source": [
        "<a href=\"https://colab.research.google.com/github/EmelyanovAndreyNSK/PythonTasks/blob/master/PyPractice2_1.ipynb\" target=\"_parent\"><img src=\"https://colab.research.google.com/assets/colab-badge.svg\" alt=\"Open In Colab\"/></a>"
      ]
    },
    {
      "cell_type": "code",
      "metadata": {
        "id": "U4XNcq7b9okI",
        "colab_type": "code",
        "outputId": "26a6d412-8bf3-4567-ab58-b93895f3c636",
        "colab": {
          "base_uri": "https://localhost:8080/",
          "height": 34
        }
      },
      "source": [
        "import math\n",
        "list1 = [1.0, 2.0, 3.0, 4.0, 5.5]\n",
        "for i in range(len(list1)):\n",
        "  list1[i] = math.sqrt(list1[i]) #Turn every item of a list into its square root\n",
        "\n",
        "print (list1)"
      ],
      "execution_count": 0,
      "outputs": [
        {
          "output_type": "stream",
          "text": [
            "[1.0, 1.4142135623730951, 1.7320508075688772, 2.0, 2.345207879911715]\n"
          ],
          "name": "stdout"
        }
      ]
    },
    {
      "cell_type": "code",
      "metadata": {
        "id": "DzhLh0NHH9ml",
        "colab_type": "code",
        "outputId": "cfdefe9a-f23b-42b2-d3c0-acdf096fb11a",
        "colab": {
          "base_uri": "https://localhost:8080/",
          "height": 34
        }
      },
      "source": [
        "list1 = ['M', 'na', 'i', 'Ke']\n",
        "list2 = ['y', 'me', 's', 'lly']\n",
        "list3 = []\n",
        "for i in range(len(list1)): #Concatenate two lists with string items index-wise\n",
        "  list3.append(list1[i]+list2[i])\n",
        "print(list3)"
      ],
      "execution_count": 0,
      "outputs": [
        {
          "output_type": "stream",
          "text": [
            "['My', 'name', 'is', 'Kelly']\n"
          ],
          "name": "stdout"
        }
      ]
    },
    {
      "cell_type": "code",
      "metadata": {
        "id": "x0KXG_koKn0H",
        "colab_type": "code",
        "colab": {
          "base_uri": "https://localhost:8080/",
          "height": 84
        },
        "outputId": "c128db41-161d-4f35-b6d5-eb56061c3ac3"
      },
      "source": [
        "#Given a two Python list. Iterate both lists simultaneously such that list1 should display item in original order and list2 in reverse order ?????\n",
        "list1 = ['M', 'na', 'i', 'Ke']\n",
        "list2 = ['y', 'me', 's', 'lly']\n",
        "\n",
        "for i in range(len(list1)): \n",
        "  print(list1[i],list2[len(list2)-i-1])"
      ],
      "execution_count": 1,
      "outputs": [
        {
          "output_type": "stream",
          "text": [
            "M lly\n",
            "na s\n",
            "i me\n",
            "Ke y\n"
          ],
          "name": "stdout"
        }
      ]
    },
    {
      "cell_type": "code",
      "metadata": {
        "id": "TRliJYttLHeo",
        "colab_type": "code",
        "outputId": "02748d59-720b-419b-8914-829db85c584a",
        "colab": {
          "base_uri": "https://localhost:8080/",
          "height": 50
        }
      },
      "source": [
        "list1 = ['M', '','na', 'i', '', 'Ke']\n",
        "print (list1)\n",
        "list2 = []\n",
        "for i in range(len(list1)): #scan for empty strings\n",
        "  if(len(list1[i])<1):    \n",
        "    list2.append(i)\n",
        "\n",
        "for i in range(len(list2)): #Remove empty strings from the list of strings\n",
        "  list1.pop(list2[i] - i)\n",
        "\n",
        "print (list1)\n"
      ],
      "execution_count": 15,
      "outputs": [
        {
          "output_type": "stream",
          "text": [
            "['M', '', 'na', 'i', '', 'Ke']\n",
            "['M', 'na', 'i', 'Ke']\n"
          ],
          "name": "stdout"
        }
      ]
    },
    {
      "cell_type": "code",
      "metadata": {
        "id": "BAprnQts0MGG",
        "colab_type": "code",
        "colab": {
          "base_uri": "https://localhost:8080/",
          "height": 34
        },
        "outputId": "51058f12-4580-48fe-ebc0-1b13b9566f31"
      },
      "source": [
        "list1 = [10, 20, [300, 400, [5000, 6000], 500], 30, 40]\n",
        "\n",
        "for i in list1:\n",
        "  if isinstance(i, list):\n",
        "    for j in i:\n",
        "      if isinstance(j, list):\n",
        "        for e in j:\n",
        "          if (e == 6000):\n",
        "            j.append(7000) #Add item 7000 after 6000 in the following Python List\n",
        "print (list1)"
      ],
      "execution_count": 25,
      "outputs": [
        {
          "output_type": "stream",
          "text": [
            "[10, 20, [300, 400, [5000, 6000, 7000], 500], 30, 40]\n"
          ],
          "name": "stdout"
        }
      ]
    },
    {
      "cell_type": "code",
      "metadata": {
        "id": "TN56ibOQ5-2Q",
        "colab_type": "code",
        "colab": {
          "base_uri": "https://localhost:8080/",
          "height": 50
        },
        "outputId": "2dc6decf-5b76-4aeb-eb54-cf3a651f9430"
      },
      "source": [
        "list1 = ['a', 'b', ['c', ['d', 'e', ['f', 'g'], 'k'], 'l'], 'm', 'n']\n",
        "\n",
        "print (list1)\n",
        "\n",
        "def rec(list2): #Given a nested list extend it with adding sub list [\"h\", \"i\", \"j\"] \n",
        "  f = 0\n",
        "  for i in list2:\n",
        "    if isinstance(i, list):\n",
        "      f = f + 1\n",
        "      rec(i)\n",
        "  if (f == 0):\n",
        "    list2.append([\"h\", \"i\", \"j\"])\n",
        "\n",
        "rec (list1)\n",
        "print (list1)\n"
      ],
      "execution_count": 28,
      "outputs": [
        {
          "output_type": "stream",
          "text": [
            "['a', 'b', ['c', ['d', 'e', ['f', 'g'], 'k'], 'l'], 'm', 'n']\n",
            "['a', 'b', ['c', ['d', 'e', ['f', 'g', ['h', 'i', 'j']], 'k'], 'l'], 'm', 'n']\n"
          ],
          "name": "stdout"
        }
      ]
    },
    {
      "cell_type": "code",
      "metadata": {
        "id": "mTfo6wUN-ht8",
        "colab_type": "code",
        "colab": {
          "base_uri": "https://localhost:8080/",
          "height": 34
        },
        "outputId": "70a01fc8-5943-42b1-8698-adb2b17da5bb"
      },
      "source": [
        "list1 = [1, 2, 3, 4, 20, 5, 20]\n",
        "\n",
        "for i in range(len(list1)): #find value 20 in the list, and if it is present, replace it with 200\n",
        "  if list1[i] == 20:\n",
        "    list1[i] = 200\n",
        "    break\n",
        "\n",
        "print(list1) "
      ],
      "execution_count": 32,
      "outputs": [
        {
          "output_type": "stream",
          "text": [
            "[1, 2, 3, 4, 200, 5, 20]\n"
          ],
          "name": "stdout"
        }
      ]
    },
    {
      "cell_type": "code",
      "metadata": {
        "id": "sR02g2qUA77K",
        "colab_type": "code",
        "colab": {
          "base_uri": "https://localhost:8080/",
          "height": 50
        },
        "outputId": "a1b22fe8-4189-4a44-b97a-3db52fd43a29"
      },
      "source": [
        "list1 = [1, 2, 3, 4, 20, 5, 20]\n",
        "\n",
        "print (list1)\n",
        "list2 = []\n",
        "\n",
        "for i in range(len(list1)): #scan for empty strings\n",
        "  if(list1[i] == 20):    \n",
        "    list2.append(i)\n",
        "\n",
        "for i in range(len(list2)): #Remove empty strings from the list of strings\n",
        "  list1.pop(list2[i] - i)\n",
        "\n",
        "print (list1)\n"
      ],
      "execution_count": 37,
      "outputs": [
        {
          "output_type": "stream",
          "text": [
            "[1, 2, 3, 4, 20, 5, 20]\n",
            "[1, 2, 3, 4, 5]\n"
          ],
          "name": "stdout"
        }
      ]
    }
  ]
}